{
  "nbformat": 4,
  "nbformat_minor": 0,
  "metadata": {
    "colab": {
      "provenance": [],
      "gpuType": "T4",
      "authorship_tag": "ABX9TyMIdsMAt3fzD+xHGlDMkner",
      "include_colab_link": true
    },
    "kernelspec": {
      "name": "python3",
      "display_name": "Python 3"
    },
    "language_info": {
      "name": "python"
    },
    "accelerator": "GPU"
  },
  "cells": [
    {
      "cell_type": "markdown",
      "metadata": {
        "id": "view-in-github",
        "colab_type": "text"
      },
      "source": [
        "<a href=\"https://colab.research.google.com/github/RazvanGolan/Faculty-3rd-year/blob/main/pi/test1/pi_test1.ipynb\" target=\"_parent\"><img src=\"https://colab.research.google.com/assets/colab-badge.svg\" alt=\"Open In Colab\"/></a>"
      ]
    },
    {
      "cell_type": "code",
      "execution_count": null,
      "metadata": {
        "colab": {
          "base_uri": "https://localhost:8080/"
        },
        "id": "dthBeoe5VV6M",
        "outputId": "6301c416-71d6-4cd5-b0dd-3b1098fbc020"
      },
      "outputs": [
        {
          "output_type": "execute_result",
          "data": {
            "text/plain": [
              "tensor([12, -3,  0])"
            ]
          },
          "metadata": {},
          "execution_count": 46
        }
      ],
      "source": [
        "# exercise 1\n",
        "\n",
        "import torch\n",
        "\n",
        "v = torch.tensor([[1, 12], [-3, 5], [2, 0]])\n",
        "alt_v = v[:, 1]\n",
        "alt_v[1] = v[1, 0]\n",
        "alt_v"
      ]
    },
    {
      "cell_type": "code",
      "source": [
        "# exercise 2\n",
        "import torch\n",
        "import matplotlib.pyplot as plt\n",
        "import numpy as np\n",
        "from torch import nn\n",
        "\n",
        "X = torch.rand(250).reshape(-1, 1)\n",
        "e = torch.rand(250)/4\n",
        "y = 2 * X + 3 + e\n",
        "\n",
        "true_w = torch.tensor([2.0])\n",
        "true_b = 3\n",
        "\n",
        "torch.manual_seed(42)\n",
        "np.random.seed(42)\n",
        "\n",
        "net = nn.Sequential(nn.Linear(1, 1))\n",
        "\n",
        "net[0].weight.data.fill_(1)\n",
        "net[0].bias.data.fill_(0)\n",
        "\n",
        "loss = nn.MSELoss()\n",
        "\n",
        "optimizer = torch.optim.SGD(net.parameters(), lr=0.05)\n",
        "\n",
        "def data_iter(batch_size, features, labels):\n",
        "    num_examples = len(features)\n",
        "    indices = list(range(num_examples))\n",
        "    # The examples are read at random, in no particular order\n",
        "    np.random.shuffle(indices)\n",
        "    for i in range(0, num_examples, batch_size):\n",
        "        batch_indices = torch.tensor(\n",
        "            indices[i: min(i + batch_size, num_examples)])\n",
        "        yield features[batch_indices], labels[batch_indices]\n",
        "\n",
        "def load_array(data_arrays, batch_size, is_train=True):\n",
        "    \"\"\"Construct a PyTorch data iterator.\"\"\"\n",
        "    dataset = torch.utils.data.TensorDataset(*data_arrays)\n",
        "    return torch.utils.data.DataLoader(dataset, batch_size, shuffle=is_train)\n",
        "\n",
        "batch_size = 10\n",
        "data_iter = load_array((X, y), batch_size)\n",
        "\n",
        "num_epochs=10\n",
        "for epoch in range(num_epochs):\n",
        "    for X_iter, y_iter in data_iter:\n",
        "        l = loss(net(X_iter), y_iter)\n",
        "        optimizer.zero_grad()\n",
        "        l.backward()\n",
        "        optimizer.step()\n",
        "    l = loss(net(X), y)\n",
        "    print(f'Epoch {epoch + 1}, Loss {l:f}')"
      ],
      "metadata": {
        "colab": {
          "base_uri": "https://localhost:8080/"
        },
        "id": "kny3VB4lYOP5",
        "outputId": "25ede44c-c312-488a-ade1-c3c2dba90eb7"
      },
      "execution_count": null,
      "outputs": [
        {
          "output_type": "stream",
          "name": "stdout",
          "text": [
            "Epoch 1, Loss 0.034666\n",
            "Epoch 2, Loss 0.011724\n",
            "Epoch 3, Loss 0.009746\n",
            "Epoch 4, Loss 0.008418\n",
            "Epoch 5, Loss 0.007443\n",
            "Epoch 6, Loss 0.006770\n",
            "Epoch 7, Loss 0.006292\n",
            "Epoch 8, Loss 0.005950\n",
            "Epoch 9, Loss 0.005710\n",
            "Epoch 10, Loss 0.005543\n"
          ]
        },
        {
          "output_type": "stream",
          "name": "stderr",
          "text": [
            "/usr/local/lib/python3.10/dist-packages/torch/nn/modules/loss.py:608: UserWarning: Using a target size (torch.Size([10, 250])) that is different to the input size (torch.Size([10, 1])). This will likely lead to incorrect results due to broadcasting. Please ensure they have the same size.\n",
            "  return F.mse_loss(input, target, reduction=self.reduction)\n",
            "/usr/local/lib/python3.10/dist-packages/torch/nn/modules/loss.py:608: UserWarning: Using a target size (torch.Size([250, 250])) that is different to the input size (torch.Size([250, 1])). This will likely lead to incorrect results due to broadcasting. Please ensure they have the same size.\n",
            "  return F.mse_loss(input, target, reduction=self.reduction)\n"
          ]
        }
      ]
    },
    {
      "cell_type": "code",
      "source": [
        "print(net[0].weight.data)\n",
        "print(true_w)\n",
        "print(net[0].bias.data)\n",
        "print(true_b)"
      ],
      "metadata": {
        "colab": {
          "base_uri": "https://localhost:8080/"
        },
        "id": "FJl0ixdgcMTJ",
        "outputId": "4e638497-546f-497c-df39-d2ffdba63a8a"
      },
      "execution_count": null,
      "outputs": [
        {
          "output_type": "stream",
          "name": "stdout",
          "text": [
            "tensor([[2.0684]])\n",
            "tensor([2.])\n",
            "tensor([3.0847])\n",
            "3\n"
          ]
        }
      ]
    },
    {
      "cell_type": "code",
      "source": [
        "# exercise 4\n",
        "\n",
        "import hashlib\n",
        "import os\n",
        "import requests\n",
        "import re\n",
        "import collections\n",
        "import random\n",
        "import torch\n",
        "from torch import nn\n",
        "from torch.nn import functional as F\n",
        "import math\n",
        "import matplotlib.pyplot as plt\n",
        "import zipfile\n",
        "\n",
        "def download(url, cache_dir=os.path.join('..', 'data')):\n",
        "    \"\"\"Download a file, return the local filename.\"\"\"\n",
        "    os.makedirs(cache_dir, exist_ok=True)\n",
        "    fname = os.path.join(cache_dir, url.split('/')[-1])\n",
        "    if os.path.exists(fname):\n",
        "        with open(fname, 'rb') as f:\n",
        "            while True:\n",
        "                data = f.read(1048576)\n",
        "                if not data:\n",
        "                    break\n",
        "        return fname\n",
        "    print(f'Downloading {fname} from {url}...')\n",
        "    r = requests.get(url, stream=True, verify=True)\n",
        "    with open(fname, 'wb') as f:\n",
        "        f.write(r.content)\n",
        "    return fname\n",
        "\n",
        "def read_time_machine():\n",
        "    \"\"\"Load the time machine dataset into a list of text lines.\"\"\"\n",
        "    with open(download('https://s3.amazonaws.com/text-datasets/nietzsche.txt'), 'r') as f:\n",
        "        lines = f.readlines()\n",
        "    return [re.sub('[^A-Za-z]+', ' ', line).strip().lower() for line in lines]\n",
        "\n",
        "lines = read_time_machine()\n",
        "print(f'# text lines: {len(lines)}')\n",
        "print(lines[0])\n",
        "print(lines[10])"
      ],
      "metadata": {
        "colab": {
          "base_uri": "https://localhost:8080/"
        },
        "id": "16POcvENdtsJ",
        "outputId": "1ff20415-eb1c-4fb5-bb1c-adef8b506bb0"
      },
      "execution_count": null,
      "outputs": [
        {
          "output_type": "stream",
          "name": "stdout",
          "text": [
            "# text lines: 9935\n",
            "preface\n",
            "indeed it stands at all for there are scoffers who maintain that it\n"
          ]
        }
      ]
    },
    {
      "cell_type": "code",
      "source": [
        "def tokenize(lines, token='word'):\n",
        "    \"\"\"Split text lines into word or character tokens.\"\"\"\n",
        "    if token == 'word':\n",
        "        return [line.split() for line in lines]\n",
        "    elif token == 'char':\n",
        "        return [list(line) for line in lines]\n",
        "    else:\n",
        "        print('ERROR: unknown token type: ' + token)\n",
        "\n",
        "tokens = tokenize(lines)\n",
        "for i in range(11):\n",
        "    print(tokens[i])"
      ],
      "metadata": {
        "colab": {
          "base_uri": "https://localhost:8080/"
        },
        "id": "gfTeGtseeJ3n",
        "outputId": "6493752d-b05d-4c78-c53e-8355f8994aed"
      },
      "execution_count": null,
      "outputs": [
        {
          "output_type": "stream",
          "name": "stdout",
          "text": [
            "['preface']\n",
            "[]\n",
            "[]\n",
            "['supposing', 'that', 'truth', 'is', 'a', 'woman', 'what', 'then', 'is', 'there', 'not', 'ground']\n",
            "['for', 'suspecting', 'that', 'all', 'philosophers', 'in', 'so', 'far', 'as', 'they', 'have', 'been']\n",
            "['dogmatists', 'have', 'failed', 'to', 'understand', 'women', 'that', 'the', 'terrible']\n",
            "['seriousness', 'and', 'clumsy', 'importunity', 'with', 'which', 'they', 'have', 'usually', 'paid']\n",
            "['their', 'addresses', 'to', 'truth', 'have', 'been', 'unskilled', 'and', 'unseemly', 'methods', 'for']\n",
            "['winning', 'a', 'woman', 'certainly', 'she', 'has', 'never', 'allowed', 'herself', 'to', 'be', 'won', 'and']\n",
            "['at', 'present', 'every', 'kind', 'of', 'dogma', 'stands', 'with', 'sad', 'and', 'discouraged', 'mien', 'if']\n",
            "['indeed', 'it', 'stands', 'at', 'all', 'for', 'there', 'are', 'scoffers', 'who', 'maintain', 'that', 'it']\n"
          ]
        }
      ]
    },
    {
      "cell_type": "code",
      "source": [
        "class Vocab:\n",
        "    \"\"\"Vocabulary for text.\"\"\"\n",
        "    def __init__(self, tokens=None, min_freq=0, reserved_tokens=None):\n",
        "        if tokens is None:\n",
        "            tokens = []\n",
        "        if reserved_tokens is None:\n",
        "            reserved_tokens = []\n",
        "        # Sort according to frequencies\n",
        "        counter = count_corpus(tokens)\n",
        "        self._token_freqs = sorted(counter.items(), key=lambda x: x[1],\n",
        "                                   reverse=True)\n",
        "        # The index for the unknown token is 0\n",
        "        self.idx_to_token = ['<unk>'] + reserved_tokens\n",
        "        self.token_to_idx = {token: idx\n",
        "                             for idx, token in enumerate(self.idx_to_token)}\n",
        "        for token, freq in self._token_freqs:\n",
        "            if freq < min_freq:\n",
        "                break\n",
        "            if token not in self.token_to_idx:\n",
        "                self.idx_to_token.append(token)\n",
        "                self.token_to_idx[token] = len(self.idx_to_token) - 1\n",
        "\n",
        "    def __len__(self):\n",
        "        return len(self.idx_to_token)\n",
        "\n",
        "    def __getitem__(self, tokens):\n",
        "        if not isinstance(tokens, (list, tuple)):\n",
        "            return self.token_to_idx.get(tokens, self.unk)\n",
        "        return [self.__getitem__(token) for token in tokens]\n",
        "\n",
        "    def to_tokens(self, indices):\n",
        "        if not isinstance(indices, (list, tuple)):\n",
        "            return self.idx_to_token[indices]\n",
        "        return [self.idx_to_token[index] for index in indices]\n",
        "\n",
        "    @property\n",
        "    def unk(self):  # Index for the unknown token\n",
        "        return 0\n",
        "\n",
        "    @property\n",
        "    def token_freqs(self):  # Token frequencies\n",
        "        return self._token_freqs\n",
        "\n",
        "def count_corpus(tokens):\n",
        "    \"\"\"Count token frequencies.\"\"\"\n",
        "    # Here `tokens` is a 1D list or 2D list\n",
        "    if len(tokens) == 0 or isinstance(tokens[0], list):\n",
        "        # Flatten a list of token lists into a list of tokens\n",
        "        tokens = [token for line in tokens for token in line]\n",
        "    return collections.Counter(tokens)"
      ],
      "metadata": {
        "id": "NA1Suu2weN9E"
      },
      "execution_count": null,
      "outputs": []
    },
    {
      "cell_type": "code",
      "source": [
        "vocab = Vocab(tokens)\n",
        "print(list(vocab.token_to_idx.items())[:10])"
      ],
      "metadata": {
        "colab": {
          "base_uri": "https://localhost:8080/"
        },
        "id": "CL_2QJTHeRel",
        "outputId": "7ac095c7-29dd-44d4-c867-356f0969bda0"
      },
      "execution_count": null,
      "outputs": [
        {
          "output_type": "stream",
          "name": "stdout",
          "text": [
            "[('<unk>', 0), ('the', 1), ('of', 2), ('and', 3), ('to', 4), ('in', 5), ('is', 6), ('a', 7), ('that', 8), ('it', 9)]\n"
          ]
        }
      ]
    },
    {
      "cell_type": "code",
      "source": [
        "for i in [0, 10]:\n",
        "    print('words:', tokens[i])\n",
        "    print('indices:', vocab[tokens[i]])"
      ],
      "metadata": {
        "colab": {
          "base_uri": "https://localhost:8080/"
        },
        "id": "DsjQ3ufieTnS",
        "outputId": "a1624430-bd7b-47f1-a558-b37ab0871784"
      },
      "execution_count": null,
      "outputs": [
        {
          "output_type": "stream",
          "name": "stdout",
          "text": [
            "words: ['preface']\n",
            "indices: [3523]\n",
            "words: ['indeed', 'it', 'stands', 'at', 'all', 'for', 'there', 'are', 'scoffers', 'who', 'maintain', 'that', 'it']\n",
            "indices: [188, 9, 694, 27, 17, 11, 39, 20, 5133, 31, 1017, 8, 9]\n"
          ]
        }
      ]
    },
    {
      "cell_type": "code",
      "source": [
        "def load_corpus_time_machine(max_tokens=-1):\n",
        "    \"\"\"Return token indices and the vocabulary of the time machine dataset.\"\"\"\n",
        "    lines = read_time_machine()\n",
        "    tokens = tokenize(lines, 'char')\n",
        "    vocab = Vocab(tokens)\n",
        "    # Since each text line in the time machine dataset is not necessarily a\n",
        "    # sentence or a paragraph, flatten all the text lines into a single list\n",
        "    corpus = [vocab[token] for line in tokens for token in line]\n",
        "    if max_tokens > 0:\n",
        "        corpus = corpus[:max_tokens]\n",
        "    return corpus, vocab\n",
        "\n",
        "corpus, vocab = load_corpus_time_machine()\n",
        "len(corpus), len(vocab)"
      ],
      "metadata": {
        "colab": {
          "base_uri": "https://localhost:8080/"
        },
        "id": "48N3Sk6beVaJ",
        "outputId": "d046bffb-68e5-4253-fdd7-7a3f9f5e9914"
      },
      "execution_count": null,
      "outputs": [
        {
          "output_type": "execute_result",
          "data": {
            "text/plain": [
              "(570394, 28)"
            ]
          },
          "metadata": {},
          "execution_count": 71
        }
      ]
    },
    {
      "cell_type": "code",
      "source": [
        "def seq_data_iter_sequential(corpus, batch_size, num_steps):\n",
        "    \"\"\"Generate a mini-batch of subsequences using sequential partitioning.\"\"\"\n",
        "    # Start with a random offset to partition a sequence\n",
        "    offset = random.randint(0, num_steps)\n",
        "    num_tokens = ((len(corpus) - offset - 1) // batch_size) * batch_size\n",
        "    Xs = torch.tensor(corpus[offset: offset + num_tokens])\n",
        "    Ys = torch.tensor(corpus[offset + 1: offset + 1 + num_tokens])\n",
        "    Xs, Ys = Xs.reshape(batch_size, -1), Ys.reshape(batch_size, -1)\n",
        "    num_batches = Xs.shape[1] // num_steps\n",
        "    for i in range(0, num_steps * num_batches, num_steps):\n",
        "        X = Xs[:, i: i + num_steps]\n",
        "        Y = Ys[:, i: i + num_steps]\n",
        "        yield X, Y"
      ],
      "metadata": {
        "id": "GMk1IMg9eXq7"
      },
      "execution_count": null,
      "outputs": []
    },
    {
      "cell_type": "code",
      "source": [
        "my_seq = list(range(35))\n",
        "for X, Y in seq_data_iter_sequential(my_seq, batch_size=2, num_steps=5):\n",
        "    print('X: ', X, '\\nY:', Y)"
      ],
      "metadata": {
        "colab": {
          "base_uri": "https://localhost:8080/"
        },
        "id": "1pofzG8zebuB",
        "outputId": "62769373-b646-492a-c829-3193b1a8c389"
      },
      "execution_count": null,
      "outputs": [
        {
          "output_type": "stream",
          "name": "stdout",
          "text": [
            "X:  tensor([[ 4,  5,  6,  7,  8],\n",
            "        [19, 20, 21, 22, 23]]) \n",
            "Y: tensor([[ 5,  6,  7,  8,  9],\n",
            "        [20, 21, 22, 23, 24]])\n",
            "X:  tensor([[ 9, 10, 11, 12, 13],\n",
            "        [24, 25, 26, 27, 28]]) \n",
            "Y: tensor([[10, 11, 12, 13, 14],\n",
            "        [25, 26, 27, 28, 29]])\n",
            "X:  tensor([[14, 15, 16, 17, 18],\n",
            "        [29, 30, 31, 32, 33]]) \n",
            "Y: tensor([[15, 16, 17, 18, 19],\n",
            "        [30, 31, 32, 33, 34]])\n"
          ]
        }
      ]
    },
    {
      "cell_type": "code",
      "source": [
        "class SeqDataLoader:\n",
        "    \"\"\"An iterator to load sequence data.\"\"\"\n",
        "    def __init__(self, batch_size, num_steps, max_tokens):\n",
        "        self.corpus, self.vocab = load_corpus_time_machine(max_tokens)\n",
        "        self.batch_size, self.num_steps = batch_size, num_steps\n",
        "\n",
        "    def __iter__(self):\n",
        "        return seq_data_iter_sequential(self.corpus, self.batch_size, self.num_steps)"
      ],
      "metadata": {
        "id": "ocp0k7Lbecsx"
      },
      "execution_count": null,
      "outputs": []
    },
    {
      "cell_type": "code",
      "source": [
        "def load_data_time_machine(batch_size, num_steps, max_tokens=10000):\n",
        "    \"\"\"Return the iterator and the vocabulary of the time machine dataset.\"\"\"\n",
        "    data_iter = SeqDataLoader(\n",
        "        batch_size, num_steps, max_tokens)\n",
        "    return data_iter, data_iter.vocab"
      ],
      "metadata": {
        "id": "mKJLtrCqefIf"
      },
      "execution_count": null,
      "outputs": []
    },
    {
      "cell_type": "code",
      "source": [
        "batch_size, num_steps = 64, 4\n",
        "train_iter, vocab = load_data_time_machine(batch_size, num_steps)"
      ],
      "metadata": {
        "id": "NDHMQ4ENeiGP"
      },
      "execution_count": null,
      "outputs": []
    },
    {
      "cell_type": "code",
      "source": [
        "num_hiddens = 64\n",
        "lstm_layer = nn.LSTM(len(vocab), num_hiddens, 4)\n",
        "\n",
        "state = torch.zeros((1, batch_size, num_hiddens))\n",
        "state.shape"
      ],
      "metadata": {
        "colab": {
          "base_uri": "https://localhost:8080/"
        },
        "id": "jk47B0zIelM0",
        "outputId": "77529f01-03ff-4c19-a019-a55875c59037"
      },
      "execution_count": null,
      "outputs": [
        {
          "output_type": "execute_result",
          "data": {
            "text/plain": [
              "torch.Size([1, 64, 64])"
            ]
          },
          "metadata": {},
          "execution_count": 77
        }
      ]
    },
    {
      "cell_type": "code",
      "source": [
        "class RNNModel(nn.Module):\n",
        "    \"\"\"The RNN model.\"\"\"\n",
        "    def __init__(self, rnn_layer, vocab_size, **kwargs):\n",
        "        super(RNNModel, self).__init__(**kwargs)\n",
        "        self.rnn = rnn_layer\n",
        "        self.vocab_size = vocab_size\n",
        "        self.num_hiddens = self.rnn.hidden_size\n",
        "        self.linear = nn.Linear(self.num_hiddens, self.vocab_size)\n",
        "\n",
        "    def forward(self, inputs, state):\n",
        "        X = F.one_hot(inputs.T.long(), self.vocab_size)\n",
        "        X = X.to(torch.float32)\n",
        "        Y, state = self.rnn(X, state)\n",
        "        # The fully connected layer will first change the shape of `Y` to\n",
        "        # (`num_steps` * `batch_size`, `num_hiddens`). Its output shape is\n",
        "        # (`num_steps` * `batch_size`, `vocab_size`).\n",
        "        output = self.linear(Y.reshape((-1, Y.shape[-1])))\n",
        "        return output, state\n",
        "\n",
        "    def begin_state(self, device, batch_size=1):\n",
        "        if not isinstance(self.rnn, nn.LSTM):\n",
        "            # `nn.GRU` takes a tensor as hidden state\n",
        "            return  torch.zeros((self.rnn.num_layers,\n",
        "                                 batch_size, self.num_hiddens),\n",
        "                                 device=device)\n",
        "        else:\n",
        "            # `nn.LSTM` takes a tuple of hidden states\n",
        "            return (torch.zeros((\n",
        "                self.rnn.num_layers,\n",
        "                batch_size, self.num_hiddens), device=device),\n",
        "                    torch.zeros((\n",
        "                        self.rnn.num_layers,\n",
        "                        batch_size, self.num_hiddens), device=device))"
      ],
      "metadata": {
        "id": "6vD5EMOefHSK"
      },
      "execution_count": null,
      "outputs": []
    },
    {
      "cell_type": "code",
      "source": [
        "def predict(prefix, num_preds, net, vocab, device):\n",
        "    \"\"\"Generate new characters following the `prefix`.\"\"\"\n",
        "    state = net.begin_state(batch_size=1, device=device)\n",
        "    outputs = [vocab[prefix[0]]]\n",
        "    get_input = lambda: torch.tensor([outputs[-1]], device=device).reshape((1, 1))\n",
        "    for y in prefix[1:]:  # Warm-up period\n",
        "        _, state = net(get_input(), state)\n",
        "        outputs.append(vocab[y])\n",
        "    for _ in range(num_preds):  # Predict `num_preds` steps\n",
        "        y, state = net(get_input(), state)\n",
        "        outputs.append(int(y.argmax(dim=1).reshape(1)))\n",
        "    return ''.join([vocab.idx_to_token[i] for i in outputs])"
      ],
      "metadata": {
        "id": "p_5LEm1ofJPu"
      },
      "execution_count": null,
      "outputs": []
    },
    {
      "cell_type": "code",
      "source": [
        "def try_gpu(i=0):\n",
        "    \"\"\"Return gpu(i) if exists, otherwise return cpu().\"\"\"\n",
        "    if torch.cuda.device_count() >= i + 1:\n",
        "        return torch.device(f'cuda:{i}')\n",
        "    return torch.device('cpu')"
      ],
      "metadata": {
        "id": "d7V8IihWfKz4"
      },
      "execution_count": null,
      "outputs": []
    },
    {
      "cell_type": "code",
      "source": [
        "def grad_clipping(net, theta):\n",
        "    \"\"\"Clip the gradient.\"\"\"\n",
        "    params = [p for p in net.parameters() if p.requires_grad]\n",
        "    norm = torch.sqrt(sum(torch.sum((p.grad ** 2)) for p in params))\n",
        "    if norm > theta:\n",
        "        for param in params:\n",
        "            param.grad[:] *= theta / norm"
      ],
      "metadata": {
        "id": "eMqyiJLbffB-"
      },
      "execution_count": null,
      "outputs": []
    },
    {
      "cell_type": "code",
      "source": [
        "def train_epoch(net, train_iter, loss, optimizer, device):\n",
        "    \"\"\"Train a net within one epoch.\"\"\"\n",
        "    state = None\n",
        "    # Sum of training loss, no. of tokens\n",
        "    total_loss = 0\n",
        "    total_tokens = 0\n",
        "    for X, Y in train_iter:\n",
        "        if state is None:\n",
        "            # Initialize `state` when it is the first iteration\n",
        "            state = net.begin_state(batch_size=X.shape[0], device=device)\n",
        "        else:\n",
        "            if not isinstance(state, tuple):\n",
        "                # `state` is a tensor for `nn.GRU`\n",
        "                state.detach_()\n",
        "            else:\n",
        "                # `state` is a tuple of tensors for `nn.LSTM`\n",
        "                for s in state:\n",
        "                    s.detach_()\n",
        "        y = Y.T.reshape(-1)\n",
        "        X, y = X.to(device), y.to(device)\n",
        "        y_hat, state = net(X, state)\n",
        "        l = loss(y_hat, y.long()).mean()\n",
        "        optimizer.zero_grad()\n",
        "        l.backward()\n",
        "        grad_clipping(net, 1)\n",
        "        optimizer.step()\n",
        "        total_loss += float(l * y.numel())\n",
        "        total_tokens += y.numel()\n",
        "    return math.exp(total_loss / total_tokens)"
      ],
      "metadata": {
        "id": "8Za-QsLBfc4p"
      },
      "execution_count": null,
      "outputs": []
    },
    {
      "cell_type": "code",
      "source": [
        "def train(net, train_iter, vocab, lr, num_epochs, device):\n",
        "    \"\"\"Train a model.\"\"\"\n",
        "    loss = nn.CrossEntropyLoss()\n",
        "    perplexities = []\n",
        "    # Initialize\n",
        "    optimizer = torch.optim.SGD(net.parameters(), lr)\n",
        "    # Train and predict\n",
        "    for epoch in range(num_epochs):\n",
        "        ppl = train_epoch(\n",
        "            net, train_iter, loss, optimizer, device)\n",
        "        if (epoch + 1) % 10 == 0:\n",
        "            print(predict('philosophy', 55, net, vocab, device))\n",
        "            perplexities.append(ppl)\n",
        "    print(f'perplexity {ppl:.1f}, device {str(device)}')\n",
        "    print(predict('philosophy', 55, net, vocab, device))\n",
        "\n",
        "    return perplexities"
      ],
      "metadata": {
        "id": "p99G_tVIfad9"
      },
      "execution_count": null,
      "outputs": []
    },
    {
      "cell_type": "code",
      "source": [
        "vocab_size, num_hiddens, device = len(vocab), 64, try_gpu()\n",
        "num_epochs, lr = 250, 2.5\n",
        "\n",
        "num_inputs = vocab_size\n",
        "lstm_layer = nn.LSTM(num_inputs, num_hiddens)\n",
        "model = RNNModel(lstm_layer, len(vocab))\n",
        "model = model.to(device)\n",
        "perplexities = train(model, train_iter, vocab, lr, num_epochs, device) #5 min"
      ],
      "metadata": {
        "colab": {
          "base_uri": "https://localhost:8080/"
        },
        "id": "c5XO1uUifTUN",
        "outputId": "22fa95e1-f948-4dc7-b5bc-2b5b45665f0b"
      },
      "execution_count": null,
      "outputs": [
        {
          "output_type": "stream",
          "name": "stdout",
          "text": [
            "philosophy the the the the the the the the the the the the the th\n",
            "philosophy have the will to the will to the will to the will to t\n",
            "philosophy has her sole the spon as the sor to sor to some us the\n",
            "philosophy which the will to speare that the sporan the sthing th\n",
            "philosophy has not so the truth the grould beluth as the enclise \n",
            "philosophy has not sose the struggle again untrite of value of th\n",
            "philosophy has ne preserving all to maintain the spirit and the g\n",
            "philosophy which ware of value of all the strangelog and women wi\n",
            "philosophy has ne propist ene to instand comenis any with the sph\n",
            "philosophy what in evrow have beessions specier pait wor the orth\n",
            "philosophy what the will to truth had notwillen that the strogghi\n",
            "philosophy which the sphince to speak are the heid before us whic\n",
            "philosophy which may been surem that ithese every sole enoushongh\n",
            "philosophy whieh the will to delve of the will to dely behie cati\n",
            "philosophy which of the wariest of all the struggle again the mos\n",
            "philosophy which in the eeces of gran neg at the truth the strapk\n",
            "philosophyselven world in this tension as to selfishness or the w\n",
            "philosophy of speakmore plainly physiout of the wariely the good \n",
            "philosophy what has or has what strangerouspundessens such as the\n",
            "philosophy which of all the strugatory seem to mainter paitentait\n",
            "philosophy which the strugatourely what has the will to the will \n",
            "philosophy of the even in the falsest oupherstrught a solemn ofro\n",
            "philosophy what the will to delusion the will to desess and cuppe\n",
            "philosophy of this will to deces after elus with such wach which \n",
            "philosophy of this will to the wariest out of the to susper occur\n",
            "perplexity 1.9, device cuda:0\n",
            "philosophy of this will to the wariest out of the to susper occur\n"
          ]
        }
      ]
    },
    {
      "cell_type": "code",
      "source": [
        "# exercise 3\n",
        "\n",
        "import torch\n",
        "from torch import nn\n",
        "from torch.nn import functional as F\n",
        "import torchvision\n",
        "from torchvision import transforms\n",
        "import matplotlib.pyplot as plt\n",
        "\n",
        "torch.manual_seed(42)\n",
        "torch.backends.cudnn.deterministic = True"
      ],
      "metadata": {
        "id": "HzFXc9M4gHy3"
      },
      "execution_count": 1,
      "outputs": []
    },
    {
      "cell_type": "code",
      "source": [
        "def load_data_fashion_mnist(batch_size, resize=None):\n",
        "    \"\"\"Download the Fashion-MNIST dataset and then load it into memory.\"\"\"\n",
        "    trans = [transforms.ToTensor()]\n",
        "    if resize:\n",
        "        trans.insert(0, transforms.Resize(resize))\n",
        "    trans = transforms.Compose(trans)\n",
        "    mnist_train = torchvision.datasets.CIFAR100(\n",
        "        root=\"../data\", train=True, transform=trans, download=True)\n",
        "    mnist_test = torchvision.datasets.CIFAR100(\n",
        "        root=\"../data\", train=False, transform=trans, download=True)\n",
        "    mnist_train, mnist_val = torch.utils.data.random_split(mnist_train, [35000, 15000],\n",
        "                                                           generator=torch.Generator().manual_seed(42))\n",
        "    return (torch.utils.data.DataLoader(mnist_train, batch_size, shuffle=True,\n",
        "                            num_workers=2),\n",
        "            torch.utils.data.DataLoader(mnist_val, batch_size, shuffle=False,\n",
        "                            num_workers=2),\n",
        "            torch.utils.data.DataLoader(mnist_test, batch_size, shuffle=False,\n",
        "                            num_workers=2))"
      ],
      "metadata": {
        "id": "DuDGbRYVhM7z"
      },
      "execution_count": 2,
      "outputs": []
    },
    {
      "cell_type": "code",
      "source": [
        "def evaluate_accuracy(net, data_iter, loss, device):\n",
        "    \"\"\"Compute the accuracy for a model on a dataset.\"\"\"\n",
        "    net.eval()  # Set the model to evaluation mode\n",
        "\n",
        "    total_loss = 0\n",
        "    total_hits = 0\n",
        "    total_samples = 0\n",
        "    with torch.no_grad():\n",
        "        for X, y in data_iter:\n",
        "            X, y = X.to(device), y.to(device)\n",
        "            y_hat = net(X)\n",
        "            l = loss(y_hat, y)\n",
        "            total_loss += float(l)\n",
        "            total_hits += sum(net(X).argmax(axis=1).type(y.dtype) == y)\n",
        "            total_samples += y.numel()\n",
        "    return float(total_loss) / len(data_iter), float(total_hits) / total_samples  * 100"
      ],
      "metadata": {
        "id": "_W00D6EkhWQc"
      },
      "execution_count": 3,
      "outputs": []
    },
    {
      "cell_type": "code",
      "source": [
        "def train_epoch(net, train_iter, loss, optimizer, device):\n",
        "    # Set the model to training mode\n",
        "    net.train()\n",
        "    # Sum of training loss, sum of training correct predictions, no. of examples\n",
        "    total_loss = 0\n",
        "    total_hits = 0\n",
        "    total_samples = 0\n",
        "    net.to(device)\n",
        "    for X, y in train_iter:\n",
        "        # Compute gradients and update parameters\n",
        "        X, y = X.to(device), y.to(device)\n",
        "        y_hat = net(X)\n",
        "        l = loss(y_hat, y)\n",
        "        # Using PyTorch built-in optimizer & loss criterion\n",
        "        optimizer.zero_grad()\n",
        "        l.backward()\n",
        "        optimizer.step()\n",
        "        total_loss += float(l)\n",
        "        total_hits += sum(y_hat.argmax(axis=1).type(y.dtype) == y)\n",
        "        total_samples += y.numel()\n",
        "    # Return training loss and training accuracy\n",
        "    return float(total_loss) / len(train_iter), float(total_hits) / total_samples  * 100"
      ],
      "metadata": {
        "id": "jP5BrKFehdjz"
      },
      "execution_count": 58,
      "outputs": []
    },
    {
      "cell_type": "code",
      "source": [
        "def train(net, train_iter, val_iter, test_iter, num_epochs, lr, device):\n",
        "    \"\"\"Train a model.\"\"\"\n",
        "    train_loss_all = []\n",
        "    train_acc_all = []\n",
        "    val_loss_all = []\n",
        "    val_acc_all = []\n",
        "    def init_weights(m):\n",
        "        if type(m) == nn.Linear or type(m) == nn.Conv2d:\n",
        "            nn.init.xavier_uniform_(m.weight)\n",
        "    net.apply(init_weights)\n",
        "    print('Training on', device)\n",
        "    net.to(device)\n",
        "    optimizer = torch.optim.SGD(net.parameters(), lr=lr)\n",
        "    loss = nn.CrossEntropyLoss()\n",
        "    for epoch in range(num_epochs):\n",
        "        train_loss, train_acc = train_epoch(net, train_iter, loss, optimizer, device)\n",
        "        train_loss_all.append(train_loss)\n",
        "        train_acc_all.append(train_acc)\n",
        "        val_loss, val_acc = evaluate_accuracy(net, val_iter, loss, device)\n",
        "        val_loss_all.append(val_loss)\n",
        "        val_acc_all.append(val_acc)\n",
        "        print(f'Epoch {epoch + 1}, Train loss {train_loss:.2f}, Train accuracy {train_acc:.2f}, Validation loss {val_loss:.2f}, Validation accuracy {val_acc:.2f}')\n",
        "    test_loss, test_acc = evaluate_accuracy(net, test_iter, loss, device)\n",
        "    print(f'Test loss {test_loss:.2f}, Test accuracy {test_acc:.2f}')\n",
        "\n",
        "    return train_loss_all, train_acc_all, val_loss_all, val_acc_all"
      ],
      "metadata": {
        "id": "JAlTLguEhfq-"
      },
      "execution_count": 59,
      "outputs": []
    },
    {
      "cell_type": "code",
      "source": [
        "def try_gpu(i=0):\n",
        "    \"\"\"Return gpu(i) if exists, otherwise return cpu().\"\"\"\n",
        "    if torch.cuda.device_count() >= i + 1:\n",
        "        return torch.device(f'cuda:{i}')\n",
        "    return torch.device('cpu')"
      ],
      "metadata": {
        "id": "fVfencQQhhf_"
      },
      "execution_count": 60,
      "outputs": []
    },
    {
      "cell_type": "code",
      "source": [
        "def plot_loss(train_loss_all, val_loss_all):\n",
        "    epochs = range(1, len(train_loss_all) + 1)\n",
        "    plt.plot(epochs, train_loss_all, 'bo', label='Training loss')\n",
        "    plt.plot(epochs, val_loss_all, 'b', label='Validation loss')\n",
        "    plt.title('Training and validation loss')\n",
        "    plt.xlabel('Epochs')\n",
        "    plt.ylabel('Loss')\n",
        "    plt.legend()\n",
        "    plt.show()"
      ],
      "metadata": {
        "id": "N3vqawIghiz-"
      },
      "execution_count": 61,
      "outputs": []
    },
    {
      "cell_type": "code",
      "source": [
        "def plot_accuracy(train_acc_all, val_acc_all):\n",
        "    epochs = range(1, len(train_acc_all) + 1)\n",
        "    plt.plot(epochs, train_acc_all, 'bo', label='Training acc')\n",
        "    plt.plot(epochs, val_acc_all, 'b', label='Validation acc')\n",
        "    plt.title('Training and validation accuracy')\n",
        "    plt.xlabel('Epochs')\n",
        "    plt.ylabel('Accuracy')\n",
        "    plt.legend()\n",
        "    plt.show()"
      ],
      "metadata": {
        "id": "Vlf7b0Zdhj3g"
      },
      "execution_count": 62,
      "outputs": []
    },
    {
      "cell_type": "code",
      "source": [
        "batch_size, lr, num_epochs = 512, 0.02, 10\n",
        "train_iter, val_iter, test_iter = load_data_fashion_mnist(batch_size)"
      ],
      "metadata": {
        "colab": {
          "base_uri": "https://localhost:8080/"
        },
        "id": "kGWNwjJyhk81",
        "outputId": "833e0288-6bd2-43a6-a026-99383af4e4b5"
      },
      "execution_count": 63,
      "outputs": [
        {
          "output_type": "stream",
          "name": "stdout",
          "text": [
            "Files already downloaded and verified\n",
            "Files already downloaded and verified\n"
          ]
        }
      ]
    },
    {
      "cell_type": "code",
      "source": [
        "class ConvolutionalBlock(nn.Module):\n",
        "    def __init__(self):\n",
        "        super().__init__()\n",
        "\n",
        "        # Left branch\n",
        "        self.left_conv = nn.Conv2d(3, 10, kernel_size=5, padding=2)\n",
        "        self.left_tanh = nn.Tanh()\n",
        "\n",
        "        # First right block layers\n",
        "        self.right1_left_conv = nn.Conv2d(3, 32, kernel_size=3, padding=1)\n",
        "        self.right1_left_batchnorm = nn.BatchNorm2d(32)\n",
        "        self.right1_left_tanh = nn.Tanh()\n",
        "\n",
        "        self.right1_middle_conv = nn.Conv2d(3, 64, kernel_size=3, padding=1)\n",
        "        self.right1_middle_batchnorm = nn.BatchNorm2d(64)\n",
        "        self.right1_middle_tanh = nn.Tanh()\n",
        "\n",
        "        self.right1_right_conv = nn.Conv2d(3, 64, kernel_size=5, padding=2)\n",
        "        self.right1_right_batchnorm = nn.BatchNorm2d(64)\n",
        "        self.right1_right_second_conv = nn.Conv2d(64, 32, kernel_size=1)\n",
        "        self.right1_right_second_batchnorm = nn.BatchNorm2d(32)\n",
        "        self.right1_right_second_tanh = nn.Tanh()\n",
        "\n",
        "        # Second right block layers\n",
        "        self.right2_left_conv = nn.Conv2d(128, 32, kernel_size=3, padding=1)\n",
        "        self.right2_left_batchnorm = nn.BatchNorm2d(32)\n",
        "        self.right2_left_tanh = nn.Tanh()\n",
        "\n",
        "        self.right2_middle_conv = nn.Conv2d(128, 64, kernel_size=3, padding=1)\n",
        "        self.right2_middle_batchnorm = nn.BatchNorm2d(64)\n",
        "        self.right2_middle_tanh = nn.Tanh()\n",
        "\n",
        "        self.right2_right_conv = nn.Conv2d(128, 64, kernel_size=5, padding=2)\n",
        "        self.right2_right_batchnorm = nn.BatchNorm2d(64)\n",
        "        self.right2_right_second_conv = nn.Conv2d(64, 32, kernel_size=1)\n",
        "        self.right2_right_second_batchnorm = nn.BatchNorm2d(32)\n",
        "        self.right2_right_second_tanh = nn.Tanh()\n",
        "\n",
        "    def right_block(self, input, block_num):\n",
        "        if block_num == 1:\n",
        "            # First right block\n",
        "            left = self.right1_left_conv(input)\n",
        "            left = self.right1_left_batchnorm(left)\n",
        "            left = self.right1_left_tanh(left)\n",
        "\n",
        "            middle = self.right1_middle_conv(input)\n",
        "            middle = self.right1_middle_batchnorm(middle)\n",
        "            middle = self.right1_middle_tanh(middle)\n",
        "\n",
        "            right = self.right1_right_conv(input)\n",
        "            right = self.right1_right_batchnorm(right)\n",
        "            right = self.right1_right_second_conv(right)\n",
        "            right = self.right1_right_second_batchnorm(right)\n",
        "            right = self.right1_right_second_tanh(right)\n",
        "        else:\n",
        "            # Second right block\n",
        "            left = self.right2_left_conv(input)\n",
        "            left = self.right2_left_batchnorm(left)\n",
        "            left = self.right2_left_tanh(left)\n",
        "\n",
        "            middle = self.right2_middle_conv(input)\n",
        "            middle = self.right2_middle_batchnorm(middle)\n",
        "            middle = self.right2_middle_tanh(middle)\n",
        "\n",
        "            right = self.right2_right_conv(input)\n",
        "            right = self.right2_right_batchnorm(right)\n",
        "            right = self.right2_right_second_conv(right)\n",
        "            right = self.right2_right_second_batchnorm(right)\n",
        "            right = self.right2_right_second_tanh(right)\n",
        "\n",
        "        output = torch.cat((left, middle, right), 1)\n",
        "        return output\n",
        "\n",
        "    def forward(self, input):\n",
        "        left_output = self.left_conv(input)\n",
        "        left_output = self.left_tanh(left_output)\n",
        "\n",
        "        right_output = self.right_block(input, 1)  # First right block\n",
        "        right_output = self.right_block(right_output, 2)  # Second right block\n",
        "\n",
        "        output = torch.cat((left_output, right_output), 1)\n",
        "        return output"
      ],
      "metadata": {
        "id": "Vjg4wnzKhx4o"
      },
      "execution_count": 72,
      "outputs": []
    },
    {
      "cell_type": "code",
      "source": [
        "net = nn.Sequential(\n",
        "    ConvolutionalBlock(),\n",
        "    nn.Flatten(),\n",
        "    nn.Linear(141312, 100)) # bla\n",
        "\n",
        "# The output of the convblock is 512x141312"
      ],
      "metadata": {
        "id": "RVYdXv8llZ_h"
      },
      "execution_count": 73,
      "outputs": []
    },
    {
      "cell_type": "code",
      "source": [
        "train_loss_all, train_acc_all, val_loss_all, val_acc_all = train(net, train_iter, val_iter, test_iter, num_epochs, lr, try_gpu()) #2 min"
      ],
      "metadata": {
        "colab": {
          "base_uri": "https://localhost:8080/"
        },
        "id": "c3rFHDXsl4iX",
        "outputId": "2d10f95b-8703-4a2b-b28f-01dc8a7dd9df"
      },
      "execution_count": 74,
      "outputs": [
        {
          "output_type": "stream",
          "name": "stdout",
          "text": [
            "Training on cuda:0\n",
            "Epoch 1, Train loss 8.66, Train accuracy 6.96, Validation loss 7.12, Validation accuracy 6.28\n",
            "Epoch 2, Train loss 4.59, Train accuracy 15.19, Validation loss 5.46, Validation accuracy 8.54\n",
            "Epoch 3, Train loss 3.58, Train accuracy 22.07, Validation loss 5.06, Validation accuracy 10.08\n",
            "Epoch 4, Train loss 3.22, Train accuracy 26.95, Validation loss 4.51, Validation accuracy 13.84\n",
            "Epoch 5, Train loss 2.85, Train accuracy 32.31, Validation loss 4.32, Validation accuracy 14.23\n",
            "Epoch 6, Train loss 2.57, Train accuracy 37.53, Validation loss 4.30, Validation accuracy 15.62\n",
            "Epoch 7, Train loss 2.33, Train accuracy 42.77, Validation loss 4.26, Validation accuracy 14.81\n",
            "Epoch 8, Train loss 2.09, Train accuracy 48.17, Validation loss 4.40, Validation accuracy 14.65\n",
            "Epoch 9, Train loss 1.88, Train accuracy 53.72, Validation loss 4.24, Validation accuracy 15.79\n",
            "Epoch 10, Train loss 1.69, Train accuracy 58.54, Validation loss 4.11, Validation accuracy 17.57\n",
            "Test loss 4.10, Test accuracy 17.76\n"
          ]
        }
      ]
    },
    {
      "cell_type": "code",
      "source": [
        "plot_loss(train_loss_all, val_loss_all)"
      ],
      "metadata": {
        "id": "yLExt35pmayU",
        "colab": {
          "base_uri": "https://localhost:8080/",
          "height": 473
        },
        "outputId": "ab97c594-ee0e-4001-eed4-34898c66c2f0"
      },
      "execution_count": 75,
      "outputs": [
        {
          "output_type": "display_data",
          "data": {
            "text/plain": [
              "<Figure size 640x480 with 1 Axes>"
            ],
            "image/png": "[encoded data removed]"
          },
          "metadata": {}
        }
      ]
    },
    {
      "cell_type": "code",
      "source": [
        "plot_accuracy(train_acc_all, val_acc_all)"
      ],
      "metadata": {
        "id": "kkhzJlDur3A2",
        "colab": {
          "base_uri": "https://localhost:8080/",
          "height": 473
        },
        "outputId": "0b38112d-9fa7-46f3-fcce-3d035cb390e0"
      },
      "execution_count": 76,
      "outputs": [
        {
          "output_type": "display_data",
          "data": {
            "text/plain": [
              "<Figure size 640x480 with 1 Axes>"
            ],
            "image/png": "[encoded data removed]"
          },
          "metadata": {}
        }
      ]
    }
  ]
}