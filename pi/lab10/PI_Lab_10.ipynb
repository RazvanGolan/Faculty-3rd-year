{
  "nbformat": 4,
  "nbformat_minor": 0,
  "metadata": {
    "colab": {
      "provenance": [],
      "gpuType": "T4",
      "include_colab_link": true
    },
    "kernelspec": {
      "name": "python3",
      "display_name": "Python 3"
    },
    "language_info": {
      "name": "python"
    },
    "accelerator": "GPU"
  },
  "cells": [
    {
      "cell_type": "markdown",
      "metadata": {
        "id": "view-in-github",
        "colab_type": "text"
      },
      "source": [
        "<a href=\"https://colab.research.google.com/github/RazvanGolan/Faculty-3rd-year/blob/main/pi/lab10/PI_Lab_10.ipynb\" target=\"_parent\"><img src=\"https://colab.research.google.com/assets/colab-badge.svg\" alt=\"Open In Colab\"/></a>"
      ]
    },
    {
      "cell_type": "markdown",
      "source": [
        "#The Flickr8k image captioning dataset"
      ],
      "metadata": {
        "id": "KPTw-m68quTc"
      }
    },
    {
      "cell_type": "markdown",
      "source": [
        "*Image captioning* represents the task of describing the content of an image in natural language, i.e., generating captions for an image, thus its name. It is a fundamental problem in artificial intelligence that connects computer vision and natural language processing. It mimicks the remarkable human ability to compress huge amounts of visual infomation into descriptive language.\n",
        "\n",
        "One of the most popular image captioning datasets is Flickr8k. In the following, we will take a look at this dataset.\n",
        "\n",
        "First, we wil add the necessary imports."
      ],
      "metadata": {
        "id": "veIVYi4mCodx"
      }
    },
    {
      "cell_type": "code",
      "source": [
        "import torch\n",
        "from torch.utils.data import DataLoader, Dataset\n",
        "import torchvision.transforms as transforms\n",
        "import torch.nn as nn\n",
        "import torchvision.models as models\n",
        "from torch.nn.utils.rnn import pad_sequence\n",
        "from PIL import Image\n",
        "import spacy\n",
        "import pandas as pd\n",
        "import numpy as np\n",
        "from matplotlib import pyplot as plt\n",
        "import os\n",
        "import requests\n",
        "import zipfile\n",
        "import tarfile"
      ],
      "metadata": {
        "id": "3WvryPkc0VcX"
      },
      "execution_count": null,
      "outputs": []
    },
    {
      "cell_type": "markdown",
      "source": [
        "We will also need the following functions from the previous laboratories:"
      ],
      "metadata": {
        "id": "7ol9Va6jqwMl"
      }
    },
    {
      "cell_type": "code",
      "source": [
        "def download(url, cache_dir=os.path.join('..', 'data')):\n",
        "    \"\"\"Download a file, return the local filename.\"\"\"\n",
        "    os.makedirs(cache_dir, exist_ok=True)\n",
        "    fname = os.path.join(cache_dir, url.split('/')[-1])\n",
        "    if os.path.exists(fname):\n",
        "        with open(fname, 'rb') as f:\n",
        "            while True:\n",
        "                data = f.read(1048576)\n",
        "                if not data:\n",
        "                    break\n",
        "        return fname\n",
        "    print(f'Downloading {fname} from {url}...')\n",
        "    r = requests.get(url, stream=True, verify=True)\n",
        "    with open(fname, 'wb') as f:\n",
        "        f.write(r.content)\n",
        "    return fname\n",
        "\n",
        "def download_extract(url, folder=None):\n",
        "    \"\"\"Download and extract a zip file.\"\"\"\n",
        "    fname = download(url, cache_dir=\".\")\n",
        "    base_dir = os.path.dirname(fname)\n",
        "    data_dir, ext = os.path.splitext(fname)\n",
        "    fp = zipfile.ZipFile(fname, 'r')\n",
        "    if ext == '.zip':\n",
        "        fp = zipfile.ZipFile(fname, 'r')\n",
        "    elif ext in ('.tar', '.gz'):\n",
        "        fp = tarfile.open(fname, 'r')\n",
        "    else:\n",
        "        assert False, 'Only zip/tar files can be extracted.'\n",
        "    fp.extractall(base_dir)\n",
        "    return os.path.join(base_dir, folder) if folder else data_dir\n",
        "\n",
        "def try_gpu(i=0):\n",
        "    \"\"\"Return gpu(i) if exists, otherwise return cpu().\"\"\"\n",
        "    if torch.cuda.device_count() >= i + 1:\n",
        "        return torch.device(f'cuda:{i}')\n",
        "    return torch.device('cpu')"
      ],
      "metadata": {
        "id": "8IButayY9q8V"
      },
      "execution_count": null,
      "outputs": []
    },
    {
      "cell_type": "markdown",
      "source": [
        "We can now download the images and the corresponding captions in the dataset."
      ],
      "metadata": {
        "id": "Vq7zgxeSq2q5"
      }
    },
    {
      "cell_type": "code",
      "source": [
        "download_extract('https://github.com/jbrownlee/Datasets/releases/download/Flickr8k/Flickr8k_Dataset.zip', 'Flickr8k_Dataset')\n",
        "download_extract('https://github.com/jbrownlee/Datasets/releases/download/Flickr8k/Flickr8k_text.zip', 'Flickr8k_text')"
      ],
      "metadata": {
        "colab": {
          "base_uri": "https://localhost:8080/",
          "height": 70
        },
        "id": "3TLk5ZnG93ms",
        "outputId": "624d52d8-cd4d-4666-b619-4c4f375e8db7"
      },
      "execution_count": null,
      "outputs": [
        {
          "output_type": "stream",
          "name": "stdout",
          "text": [
            "Downloading ./Flickr8k_Dataset.zip from https://github.com/jbrownlee/Datasets/releases/download/Flickr8k/Flickr8k_Dataset.zip...\n",
            "Downloading ./Flickr8k_text.zip from https://github.com/jbrownlee/Datasets/releases/download/Flickr8k/Flickr8k_text.zip...\n"
          ]
        },
        {
          "output_type": "execute_result",
          "data": {
            "text/plain": [
              "'./Flickr8k_text'"
            ],
            "application/vnd.google.colaboratory.intrinsic+json": {
              "type": "string"
            }
          },
          "metadata": {},
          "execution_count": 3
        }
      ]
    },
    {
      "cell_type": "markdown",
      "source": [
        "In order to build a vocabulary for the dataset, we need a tokenizer for English words, which will be obtained from the `spacy` natural language processing library."
      ],
      "metadata": {
        "id": "Ijc13XyJrByT"
      }
    },
    {
      "cell_type": "code",
      "source": [
        "spacy_en = spacy.load('en_core_web_sm')"
      ],
      "metadata": {
        "id": "9dP9WSNA2PRe"
      },
      "execution_count": null,
      "outputs": []
    },
    {
      "cell_type": "markdown",
      "source": [
        "Now, we can build the vocabulary, which will be done in the `Vocabulary` class. Notice the presence of the special tokens `<PAD>, <BOS>, <EOS>, <UNK>` which stand for padding, beginning of sequence, end of sequence, and unknown, respectively. The `build_vocabulary` function builds the vocabulary of the Flickr8k dataset using the above-defined tokenizer. The `numericalize` function transforms natural language text into its corresponding list of numerical indices."
      ],
      "metadata": {
        "id": "tAN0krBDrToy"
      }
    },
    {
      "cell_type": "code",
      "source": [
        "class Vocabulary:\n",
        "    def __init__(self, freq_threshold):\n",
        "        self.itos = {0: \"<PAD>\", 1: \"<BOS>\", 2: \"<EOS>\", 3: \"<UNK>\"}\n",
        "        self.stoi = {\"<PAD>\": 0, \"<BOS>\": 1, \"<EOS>\": 2, \"<UNK>\": 3}\n",
        "        self.freq_threshold = freq_threshold\n",
        "\n",
        "    def __len__(self):\n",
        "        return len(self.itos)\n",
        "\n",
        "    def tokenizer_eng(self, text):\n",
        "        return [tok.text.lower() for tok in spacy_en.tokenizer(text)]\n",
        "\n",
        "    def build_vocabulary(self, sentence_list):\n",
        "        frequencies = {}\n",
        "        idx = 4\n",
        "\n",
        "        for sentence in sentence_list:\n",
        "            for word in self.tokenizer_eng(sentence):\n",
        "                if word not in frequencies:\n",
        "                    frequencies[word] = 1\n",
        "\n",
        "                else:\n",
        "                    frequencies[word] += 1\n",
        "\n",
        "                if frequencies[word] == self.freq_threshold:\n",
        "                    self.stoi[word] = idx\n",
        "                    self.itos[idx] = word\n",
        "                    idx += 1\n",
        "\n",
        "    def numericalize(self, text):\n",
        "        tokenized_text = self.tokenizer_eng(text)\n",
        "\n",
        "        return [\n",
        "            self.stoi[token] if token in self.stoi else self.stoi[\"<UNK>\"]\n",
        "            for token in tokenized_text\n",
        "        ]"
      ],
      "metadata": {
        "id": "1T_QiGOHJESn"
      },
      "execution_count": null,
      "outputs": []
    },
    {
      "cell_type": "markdown",
      "source": [
        "The `load_captions` function adds all captions present in a given file to a list and returns it."
      ],
      "metadata": {
        "id": "c6i6lmmCsgEx"
      }
    },
    {
      "cell_type": "code",
      "source": [
        "def load_captions(path):\n",
        "    captions_list = []\n",
        "    image_captions = {}\n",
        "    with open(path, \"r\") as file:\n",
        "        for line in file.readlines():\n",
        "            words = line.strip(\"\\n\").split()\n",
        "            caption = ' '.join(words[1:])\n",
        "            captions_list.append(caption)\n",
        "\n",
        "    return captions_list"
      ],
      "metadata": {
        "id": "pKoQvpGtpezk"
      },
      "execution_count": null,
      "outputs": []
    },
    {
      "cell_type": "markdown",
      "source": [
        "The above-defined function is now used to build the vocabulary from the `Flickr8k.token.txt` file, which contains all the captions in the dataset."
      ],
      "metadata": {
        "id": "XhJ0exazsreX"
      }
    },
    {
      "cell_type": "code",
      "source": [
        "vocab = Vocabulary(freq_threshold=5)\n",
        "vocab.build_vocabulary(load_captions(\"Flickr8k.token.txt\"))"
      ],
      "metadata": {
        "id": "_ak9HFk7pjdr"
      },
      "execution_count": null,
      "outputs": []
    },
    {
      "cell_type": "markdown",
      "source": [
        "The Flick8k dataset has already defined the train, validation, and test splits, but the files `Flickr_8k.trainImages.txt`, `Flickr_8k.devImages.txt`, and `Flickr_8k.testImages.txt` only contain the filenames of the images in each split, but not the corresponding captions. In order to create files similar to `Flickr8k.token.txt`, where each filename has its corresponding captions, we use the `split_data` function, defined below."
      ],
      "metadata": {
        "id": "tPX2o253tHf-"
      }
    },
    {
      "cell_type": "code",
      "source": [
        "def split_data(all_captions_path, img_list_path, name):\n",
        "    img_names = []\n",
        "    with open(img_list_path, \"r\") as file:\n",
        "        for line in file.readlines():\n",
        "            img_name = line.strip(\"\\n\").split(\".\")[0]\n",
        "            img_names.append(img_name)\n",
        "\n",
        "    lines = []\n",
        "    with open(all_captions_path, \"r\") as file:\n",
        "        for line in file.readlines():\n",
        "            words = line.replace(\";\",\",\").strip(\"\\n\").split()\n",
        "            img_name = words[0].split(\".\")[0]\n",
        "\n",
        "            if img_name in img_names:\n",
        "                new_line = img_name + \".jpg;\" + \" \".join(words[1:])\n",
        "                lines.append(new_line)\n",
        "\n",
        "    with open(name, \"w\") as file:\n",
        "        file.writelines(\"image;caption\\n\")\n",
        "        lines = map(lambda x:x + '\\n', lines)\n",
        "        file.writelines(lines)"
      ],
      "metadata": {
        "id": "2TCRHDbPQzL5"
      },
      "execution_count": null,
      "outputs": []
    },
    {
      "cell_type": "markdown",
      "source": [
        "The `split_data` function is now used to create the three files containing the image filenames and their respective captions for all the three splits of the dataset: train, validation, and test."
      ],
      "metadata": {
        "id": "GU_dKPO-t6cO"
      }
    },
    {
      "cell_type": "code",
      "source": [
        "split_data(\"Flickr8k.token.txt\", \"Flickr_8k.trainImages.txt\", \"train.txt\")\n",
        "split_data(\"Flickr8k.token.txt\", \"Flickr_8k.devImages.txt\", \"validation.txt\")\n",
        "split_data(\"Flickr8k.token.txt\", \"Flickr_8k.testImages.txt\", \"test.txt\")"
      ],
      "metadata": {
        "id": "0pk4gwcuQ0Zb"
      },
      "execution_count": null,
      "outputs": []
    },
    {
      "cell_type": "markdown",
      "source": [
        "We are now ready to build the `FlickrDataset` class. We will instantiate it for all of the three splits. However, the built vocabulary will be received as parameter for the class. The three files created above will be read using the `read_csv` function in the `pandas` library."
      ],
      "metadata": {
        "id": "R7EyNkFruNhI"
      }
    },
    {
      "cell_type": "code",
      "source": [
        "class FlickrDataset(Dataset):\n",
        "    def __init__(self, root_dir, captions_file, vocab, transform=None, freq_threshold=5):\n",
        "        self.root_dir = root_dir\n",
        "        self.df = pd.read_csv(captions_file, sep=\";\")\n",
        "        self.vocab = vocab\n",
        "        self.transform = transform\n",
        "\n",
        "        # Get img, caption columns\n",
        "        self.imgs = self.df[\"image\"]\n",
        "        self.captions = self.df[\"caption\"]\n",
        "\n",
        "    def __len__(self):\n",
        "        return len(self.df)\n",
        "\n",
        "    def __getitem__(self, index):\n",
        "        caption = self.captions[index]\n",
        "        img_id = self.imgs[index]\n",
        "        img = Image.open(os.path.join(self.root_dir, img_id)).convert(\"RGB\")\n",
        "\n",
        "        if self.transform is not None:\n",
        "            img = self.transform(img)\n",
        "\n",
        "        numericalized_caption = [self.vocab.stoi[\"<BOS>\"]]\n",
        "        numericalized_caption += self.vocab.numericalize(caption)\n",
        "        numericalized_caption.append(self.vocab.stoi[\"<EOS>\"])\n",
        "\n",
        "        return img, torch.tensor(numericalized_caption)"
      ],
      "metadata": {
        "id": "Z9XSLdwYO-Mh"
      },
      "execution_count": null,
      "outputs": []
    },
    {
      "cell_type": "markdown",
      "source": [
        "The `get_loader` function follows, which will allow us to create a dataset loader for each of the three splits. The `CollateDataset` class allows us to pad the captions to all have the same length, and also to have the sequence dimension first, followed by the batch dimension, which is needed in order to apply the `nn.LSTM` layer. This aspect is specified by the `batch_first` parameter of the `pad_sequence` function."
      ],
      "metadata": {
        "id": "yAXi6ePjvHSr"
      }
    },
    {
      "cell_type": "code",
      "source": [
        "class CollateDataset:\n",
        "    def __init__(self, pad_idx):\n",
        "        self.pad_idx = pad_idx\n",
        "\n",
        "    def __call__(self, batch):\n",
        "        imgs = [item[0].unsqueeze(0) for item in batch]\n",
        "        imgs = torch.cat(imgs, dim=0)\n",
        "        targets = [item[1] for item in batch]\n",
        "        targets = pad_sequence(targets, batch_first=False, padding_value=self.pad_idx)\n",
        "\n",
        "        return imgs, targets"
      ],
      "metadata": {
        "id": "6dOzXtwFKeg1"
      },
      "execution_count": null,
      "outputs": []
    },
    {
      "cell_type": "code",
      "source": [
        "def get_loader(\n",
        "    root_folder,\n",
        "    annotation_file,\n",
        "    vocab,\n",
        "    transform,\n",
        "    batch_size=32,\n",
        "    num_workers=2,\n",
        "    shuffle=True,\n",
        "    pin_memory=True,\n",
        "):\n",
        "    dataset = FlickrDataset(root_folder, annotation_file, vocab, transform=transform)\n",
        "\n",
        "    loader = DataLoader(\n",
        "        dataset=dataset,\n",
        "        batch_size=batch_size,\n",
        "        num_workers=num_workers,\n",
        "        shuffle=shuffle,\n",
        "        pin_memory=pin_memory,\n",
        "        collate_fn=CollateDataset(pad_idx=dataset.vocab.stoi[\"<PAD>\"]),\n",
        "    )\n",
        "\n",
        "    return loader, dataset"
      ],
      "metadata": {
        "id": "r-6A9HeaVEZV"
      },
      "execution_count": null,
      "outputs": []
    },
    {
      "cell_type": "markdown",
      "source": [
        "The `get_loader` function is now used to create the train, validation, and test loaders and datasets. The images are transformed to have the dimension $299\\times 299$, since this is the required input dimension of the Inception-V3 CNN that will be used as the encoder."
      ],
      "metadata": {
        "id": "T0GjfjESwVru"
      }
    },
    {
      "cell_type": "code",
      "source": [
        "transform = transforms.Compose(\n",
        "        [transforms.Resize((299, 299)),\n",
        "         transforms.ToTensor(),\n",
        "         transforms.Normalize(mean = [0.485, 0.456, 0.406], std = [0.229, 0.224, 0.225]),\n",
        "         ]\n",
        "    )\n",
        "\n",
        "train_loader, train_dataset = get_loader(\n",
        "    \"Flicker8k_Dataset\", \"train.txt\", vocab, transform=transform\n",
        ")\n",
        "\n",
        "val_loader, val_dataset = get_loader(\n",
        "    \"Flicker8k_Dataset\", \"validation.txt\", vocab, transform=transform\n",
        ")\n",
        "\n",
        "test_loader, test_dataset = get_loader(\n",
        "    \"Flicker8k_Dataset\", \"test.txt\", vocab, transform=transform, shuffle=False\n",
        ")"
      ],
      "metadata": {
        "id": "idzxjJCxVQmq"
      },
      "execution_count": null,
      "outputs": []
    },
    {
      "cell_type": "markdown",
      "source": [
        "The shapes of the image and captions tensors can be verified:"
      ],
      "metadata": {
        "id": "n4k4QKDHwxnZ"
      }
    },
    {
      "cell_type": "code",
      "source": [
        "for idx, (imgs, captions) in enumerate(train_loader):\n",
        "        print(imgs.shape)\n",
        "        print(captions.shape)\n",
        "        break"
      ],
      "metadata": {
        "colab": {
          "base_uri": "https://localhost:8080/"
        },
        "id": "MfqiCAXW2nTV",
        "outputId": "888d800c-7eb8-427f-c436-85dcc55c27a0"
      },
      "execution_count": null,
      "outputs": [
        {
          "output_type": "stream",
          "name": "stdout",
          "text": [
            "torch.Size([32, 3, 299, 299])\n",
            "torch.Size([27, 32])\n"
          ]
        }
      ]
    },
    {
      "cell_type": "markdown",
      "source": [
        "#Show and tell network"
      ],
      "metadata": {
        "id": "0jmu1lYIw5UG"
      }
    },
    {
      "cell_type": "markdown",
      "source": [
        "First, we design the encoder, which will be the Inception-V3 CNN pretrained on ImageNet. The last fully-connected layer will be replaced by a layer of size `embed_size`, the size of the embeddings, and `ReLU` nonlinearity and `Dropout` are added after it. This will be the only layer in the encoder that we train from scratch, the other part will be frozen."
      ],
      "metadata": {
        "id": "ycVn4FasxDEZ"
      }
    },
    {
      "cell_type": "code",
      "source": [
        "class EncoderCNN(nn.Module):\n",
        "    def __init__(self, embed_size, train_CNN=False):\n",
        "        super(EncoderCNN, self).__init__()\n",
        "        self.train_CNN = train_CNN\n",
        "        self.inception = models.inception_v3(weights=models.Inception_V3_Weights.IMAGENET1K_V1)\n",
        "        self.inception.fc = nn.Linear(self.inception.fc.in_features, embed_size)\n",
        "        self.relu = nn.ReLU()\n",
        "        self.dropout = nn.Dropout(0.5)\n",
        "\n",
        "    def forward(self, images):\n",
        "        features = self.inception(images)[0]\n",
        "        return self.dropout(self.relu(features))"
      ],
      "metadata": {
        "id": "R0coug7hxF9w"
      },
      "execution_count": null,
      "outputs": []
    },
    {
      "cell_type": "markdown",
      "source": [
        "As for the decoder, it is represented by an `LSTM` with one or more hidden layers, followed by the prediction linear layer and `Dropout`. The `features` will represent the outputs of the encoder, that will be first passed through the `LSTM`, and afterwards the `LSTM` will process the embedded captions."
      ],
      "metadata": {
        "id": "Dc0bRlqIxH3-"
      }
    },
    {
      "cell_type": "code",
      "source": [
        "class DecoderRNN(nn.Module):\n",
        "    def __init__(self, embed_size, hidden_size, vocab_size, num_layers):\n",
        "        super(DecoderRNN, self).__init__()\n",
        "        self.embed = nn.Embedding(vocab_size, embed_size)\n",
        "        self.lstm = nn.LSTM(embed_size, hidden_size, num_layers)\n",
        "        self.linear = nn.Linear(hidden_size, vocab_size)\n",
        "        self.dropout = nn.Dropout(0.5)\n",
        "\n",
        "    def forward(self, features, captions):\n",
        "        embeddings = self.dropout(self.embed(captions))\n",
        "        _, states = self.lstm(features.unsqueeze(0))\n",
        "        hiddens, _ = self.lstm(embeddings, states)\n",
        "        outputs = self.linear(hiddens)\n",
        "        return outputs"
      ],
      "metadata": {
        "id": "RVBwVBXUxJ78"
      },
      "execution_count": null,
      "outputs": []
    },
    {
      "cell_type": "markdown",
      "source": [
        "The `CNNtoRNN` class connects the encoder and the decoder together. It also has a `caption_image` function which will be used to generate a caption in the inference phase."
      ],
      "metadata": {
        "id": "cNvG2koTxLGi"
      }
    },
    {
      "cell_type": "code",
      "source": [
        "class CNNtoRNN(nn.Module):\n",
        "    def __init__(self, embed_size, hidden_size, vocab_size, num_layers):\n",
        "        super(CNNtoRNN, self).__init__()\n",
        "        self.encoderCNN = EncoderCNN(embed_size)\n",
        "        self.decoderRNN = DecoderRNN(embed_size, hidden_size, vocab_size, num_layers)\n",
        "\n",
        "    def forward(self, images, captions):\n",
        "        features = self.encoderCNN(images)\n",
        "        outputs = self.decoderRNN(features, captions)\n",
        "        return outputs\n",
        "\n",
        "    def caption_image(self, image, vocabulary, max_length=40):\n",
        "        result_caption = []\n",
        "\n",
        "        with torch.no_grad():\n",
        "            x = self.encoderCNN(image).unsqueeze(0)\n",
        "            states = None\n",
        "\n",
        "            for _ in range(max_length):\n",
        "                hiddens, states = self.decoderRNN.lstm(x, states)\n",
        "                output = self.decoderRNN.linear(hiddens.squeeze(0))\n",
        "                predicted = output.argmax(0)\n",
        "                result_caption.append(predicted.item())\n",
        "                x = self.decoderRNN.embed(predicted).unsqueeze(0)\n",
        "\n",
        "                if vocabulary.itos[predicted.item()] == \"<EOS>\":\n",
        "                    break\n",
        "\n",
        "        return [vocabulary.itos[idx] for idx in result_caption]"
      ],
      "metadata": {
        "id": "d-xHPQ8D7z9f"
      },
      "execution_count": null,
      "outputs": []
    },
    {
      "cell_type": "markdown",
      "source": [
        "Putting it all together, we can define our model as being an instance of the `CNNtoRNN` class, defined above."
      ],
      "metadata": {
        "id": "QijBXgXhzSuE"
      }
    },
    {
      "cell_type": "code",
      "source": [
        "embed_size = 256\n",
        "hidden_size = 256\n",
        "vocab_size = len(vocab)\n",
        "num_layers = 1\n",
        "learning_rate = 3e-4\n",
        "num_epochs = 1\n",
        "device = try_gpu()\n",
        "model = CNNtoRNN(embed_size, hidden_size, vocab_size, num_layers).to(device)"
      ],
      "metadata": {
        "id": "8B1PUn6V9ONZ"
      },
      "execution_count": null,
      "outputs": []
    },
    {
      "cell_type": "markdown",
      "source": [
        "We initialize the optimizer and the loss."
      ],
      "metadata": {
        "id": "e5vD1EzTxWgh"
      }
    },
    {
      "cell_type": "code",
      "source": [
        "optimizer = torch.optim.SGD(model.parameters(), lr = learning_rate)\n",
        "loss_criterion = nn.CrossEntropyLoss(ignore_index=train_dataset.vocab.stoi[\"<PAD>\"])"
      ],
      "metadata": {
        "id": "lzKoXsWS_bXr"
      },
      "execution_count": null,
      "outputs": []
    },
    {
      "cell_type": "markdown",
      "source": [
        "It is important also to freeze the Inception-V3 CNN encoder, because it was pretrained on ImageNet. The only layer in the encoder that will not be frozen is the last fully-connected layer `fc` that was added by us."
      ],
      "metadata": {
        "id": "QLVAROkPxebO"
      }
    },
    {
      "cell_type": "code",
      "source": [
        "for name, param in model.encoderCNN.inception.named_parameters():\n",
        "        if \"fc.weight\" in name or \"fc.bias\" in name:\n",
        "            param.requires_grad = True\n",
        "        else:\n",
        "            param.requires_grad = False"
      ],
      "metadata": {
        "id": "DXXBw12lBhaA"
      },
      "execution_count": null,
      "outputs": []
    },
    {
      "cell_type": "markdown",
      "source": [
        "We can now train the model. The model will be evaluated on the validation set after each epoch. We also add logging for the training loss after $100$ iterations."
      ],
      "metadata": {
        "id": "Mw1qrtxkx0sh"
      }
    },
    {
      "cell_type": "code",
      "source": [
        "train_loss = [] #5 min\n",
        "dev_loss = []\n",
        "\n",
        "for epoch in range(num_epochs):\n",
        "    model.train()\n",
        "\n",
        "    train_run_loss = []\n",
        "    dev_run_loss = []\n",
        "    index = 0\n",
        "\n",
        "    for idx, (imgs, captions) in enumerate(train_loader):\n",
        "        imgs = imgs.to(device)\n",
        "        captions = captions.to(device)\n",
        "        optimizer.zero_grad()\n",
        "        outputs = model(imgs, captions)\n",
        "        loss = loss_criterion(outputs.reshape(-1, outputs.shape[2]), captions.reshape(-1))\n",
        "        loss.backward()\n",
        "        optimizer.step()\n",
        "        train_run_loss.append(loss.item())\n",
        "        if (index+1) % 100 == 0:\n",
        "            print(\"[Train {}] Iteration {} | Running Loss: {}\".format(epoch+1, index+1, round(np.mean(train_run_loss), 4)))\n",
        "        index += 1\n",
        "\n",
        "    avg_loss = np.mean(train_run_loss)\n",
        "    train_loss.append(avg_loss)\n",
        "    print(\"[Train] Epoch {} | Average Loss: {}\".format(epoch+1, round(avg_loss, 4)))\n",
        "\n",
        "    index = 0\n",
        "    for idx, (imgs, captions) in enumerate(val_loader):\n",
        "        with torch.no_grad():\n",
        "            imgs = imgs.to(device)\n",
        "            captions = captions.to(device)\n",
        "            outputs = model(imgs, captions)\n",
        "            loss = loss_criterion(outputs.reshape(-1, outputs.shape[2]), captions.reshape(-1))\n",
        "            dev_run_loss.append(loss.item())\n",
        "            index += 1\n",
        "\n",
        "    avg_loss = np.mean(dev_run_loss)\n",
        "    dev_loss.append(avg_loss)\n",
        "    print(\"[Valid] Epoch {} | Average Loss: {}\".format(epoch+1, round(avg_loss, 4)))"
      ],
      "metadata": {
        "colab": {
          "base_uri": "https://localhost:8080/"
        },
        "id": "hv3wmEp74hZm",
        "outputId": "ef7544f1-82f2-410d-e6ee-e4480c9969d2"
      },
      "execution_count": null,
      "outputs": [
        {
          "output_type": "stream",
          "name": "stdout",
          "text": [
            "[Train 1] Iteration 100 | Running Loss: 8.0096\n",
            "[Train 1] Iteration 200 | Running Loss: 8.0061\n",
            "[Train 1] Iteration 300 | Running Loss: 8.0029\n",
            "[Train 1] Iteration 400 | Running Loss: 7.9996\n",
            "[Train 1] Iteration 500 | Running Loss: 7.996\n",
            "[Train 1] Iteration 600 | Running Loss: 7.9927\n",
            "[Train 1] Iteration 700 | Running Loss: 7.9893\n",
            "[Train 1] Iteration 800 | Running Loss: 7.9859\n",
            "[Train 1] Iteration 900 | Running Loss: 7.9825\n",
            "[Train] Epoch 1 | Average Loss: 7.9813\n",
            "[Valid] Epoch 1 | Average Loss: 7.9502\n"
          ]
        }
      ]
    },
    {
      "cell_type": "markdown",
      "source": [
        "Finally, we can evaluate the trained model on an instance from the test set. In order to do this, the `print_example` function is used."
      ],
      "metadata": {
        "id": "RsAe1L8eyktn"
      }
    },
    {
      "cell_type": "code",
      "source": [
        "def print_example(model, device, loader, dataset):\n",
        "    model.eval()\n",
        "    img, caption = next(iter(loader))\n",
        "    caption = caption.transpose(0, 1)\n",
        "    plt.imshow(img[0].permute(1, 2, 0))\n",
        "    print(\"Example CORRECT: \" + \" \".join([dataset.vocab.itos[idx] for idx in caption[0].tolist()\n",
        "      if dataset.vocab.itos[idx] not in {\"<PAD>\", \"<BOS>\", \"<EOS>\"}]))\n",
        "    print(\n",
        "        \"Example OUTPUT: \"\n",
        "        + \" \".join(model.caption_image(img[0].unsqueeze(0).to(device), dataset.vocab))\n",
        "    )"
      ],
      "metadata": {
        "id": "vqOsz4QeDKHU"
      },
      "execution_count": null,
      "outputs": []
    },
    {
      "cell_type": "markdown",
      "source": [
        "Unfortunately, the results are not very good because we only trained our model for $1$ epoch."
      ],
      "metadata": {
        "id": "5AcLSurOy3wD"
      }
    },
    {
      "cell_type": "code",
      "source": [
        "print_example(model, device, test_loader, test_dataset)"
      ],
      "metadata": {
        "colab": {
          "base_uri": "https://localhost:8080/",
          "height": 507
        },
        "id": "shY59gtBDOBD",
        "outputId": "f45e0df2-5b08-4426-af39-717ca91cbab5"
      },
      "execution_count": null,
      "outputs": [
        {
          "output_type": "stream",
          "name": "stderr",
          "text": [
            "WARNING:matplotlib.image:Clipping input data to the valid range for imshow with RGB data ([0..1] for floats or [0..255] for integers).\n"
          ]
        },
        {
          "output_type": "stream",
          "name": "stdout",
          "text": [
            "Example CORRECT: a blond woman in a blue shirt appears to wait for a ride .\n",
            "Example OUTPUT: looks slightly opening police posing scantily around hiker carry streets stares form column boarder skateboarders chased soaking dives suspended dives act as medium tow chair bent legs luggage roller teenager toddler bicycle defending dock training shallow swimmer dangling time bikini\n"
          ]
        },
        {
          "output_type": "display_data",
          "data": {
            "text/plain": [
              "<Figure size 640x480 with 1 Axes>"
            ],
            "image/png": "[encoded data removed]"
          },
          "metadata": {}
        }
      ]
    },
    {
      "cell_type": "markdown",
      "source": [
        "#Exercises"
      ],
      "metadata": {
        "id": "BqJ5_8-uunoh"
      }
    },
    {
      "cell_type": "markdown",
      "source": [
        "1. Use a GRU with $2$ recurrent layers for the decoder part. Train the model for $1$ epoch and evaluate it on an instance from the test set.\n",
        "\n",
        "1. Replace the LSTM layer in the decoder with two attention layers. Use any type of attention as long as it fits (for example, the second attention layer must be capable of mixing the embeddings with the state, while the first one only has to deal with one type of input). Train the model for $1$ epoch and evaluate it on an instance from the test set."
      ],
      "metadata": {
        "id": "mhOfIlbkuqLo"
      }
    }
  ]
}