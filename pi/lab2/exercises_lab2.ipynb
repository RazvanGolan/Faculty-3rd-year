{
  "nbformat": 4,
  "nbformat_minor": 0,
  "metadata": {
    "colab": {
      "provenance": [],
      "authorship_tag": "ABX9TyOK10bsffAwg2ovgvfG36V+",
      "include_colab_link": true
    },
    "kernelspec": {
      "name": "python3",
      "display_name": "Python 3"
    },
    "language_info": {
      "name": "python"
    }
  },
  "cells": [
    {
      "cell_type": "markdown",
      "metadata": {
        "id": "view-in-github",
        "colab_type": "text"
      },
      "source": [
        "<a href=\"https://colab.research.google.com/github/RazvanGolan/Faculty-3rd-year/blob/main/pi/lab2/exercises_lab2.ipynb\" target=\"_parent\"><img src=\"https://colab.research.google.com/assets/colab-badge.svg\" alt=\"Open In Colab\"/></a>"
      ]
    },
    {
      "cell_type": "code",
      "execution_count": null,
      "metadata": {
        "id": "5dJ5SMlZ0gdc"
      },
      "outputs": [],
      "source": [
        "import torch"
      ]
    },
    {
      "cell_type": "code",
      "source": [
        "# exercise 1\n",
        "\n",
        "a = torch.rand((5))\n",
        "b = torch.rand((3,4))\n",
        "c = torch.rand((2,3,5))\n",
        "\n",
        "print(f'a = {a}, shape = {a.shape}')\n",
        "print(f'b = {b}, shape = {b.shape}')\n",
        "print(f'c = {c}, shape = {c.shape}')"
      ],
      "metadata": {
        "colab": {
          "base_uri": "https://localhost:8080/"
        },
        "id": "LZl6IEJe0h8k",
        "outputId": "e6202a6a-5285-4134-ce6d-f81a75956fa3"
      },
      "execution_count": null,
      "outputs": [
        {
          "output_type": "stream",
          "name": "stdout",
          "text": [
            "a = tensor([0.5492, 0.6109, 0.2549, 0.6160, 0.6518]), shape = torch.Size([5])\n",
            "b = tensor([[0.4940, 0.0561, 0.5804, 0.8131],\n",
            "        [0.8691, 0.0182, 0.0850, 0.6912],\n",
            "        [0.0352, 0.7284, 0.3806, 0.6026]]), shape = torch.Size([3, 4])\n",
            "c = tensor([[[0.7401, 0.1347, 0.0412, 0.3536, 0.2935],\n",
            "         [0.2526, 0.4492, 0.5287, 0.2117, 0.6128],\n",
            "         [0.8164, 0.0490, 0.9502, 0.8438, 0.2009]],\n",
            "\n",
            "        [[0.5082, 0.8759, 0.0683, 0.6550, 0.1159],\n",
            "         [0.8152, 0.2592, 0.8371, 0.8145, 0.0269],\n",
            "         [0.8095, 0.8041, 0.0450, 0.2508, 0.2530]]]), shape = torch.Size([2, 3, 5])\n"
          ]
        }
      ]
    },
    {
      "cell_type": "code",
      "source": [
        "# exercise 2\n",
        "\n",
        "x = torch.tensor([-10, 10, 8], dtype = torch.float64, requires_grad=True)\n",
        "\n",
        "y = 1/(1 + torch.exp(-x))\n",
        "y = y.sum()\n",
        "y.backward()\n",
        "\n",
        "x.grad"
      ],
      "metadata": {
        "colab": {
          "base_uri": "https://localhost:8080/"
        },
        "id": "j9gEDNp21FSD",
        "outputId": "335f3e9e-1be6-49f6-c265-b77c0f4e6aa6"
      },
      "execution_count": null,
      "outputs": [
        {
          "output_type": "execute_result",
          "data": {
            "text/plain": [
              "tensor([4.5396e-05, 4.5396e-05, 3.3524e-04], dtype=torch.float64)"
            ]
          },
          "metadata": {},
          "execution_count": 27
        }
      ]
    },
    {
      "cell_type": "code",
      "source": [
        "# exercise 3\n",
        "\n",
        "A = torch.tensor([[1, 2, -3], [4, 5, 10]])\n",
        "B = torch.tensor([[10, 11, -2], [13, -3, 8]])\n",
        "\n",
        "print(\"A: \")\n",
        "print(A)\n",
        "\n",
        "print(\"B: \")\n",
        "print(B)\n",
        "\n",
        "print(\"Hadamard product: \")\n",
        "print(A * B)\n",
        "\n",
        "print(\"B + 10:\")\n",
        "print(b + 10)\n",
        "\n",
        "print(\"A transpose:\")\n",
        "print(A.T)\n",
        "\n",
        "print(\"B transpose:\")\n",
        "print(B.T)"
      ],
      "metadata": {
        "colab": {
          "base_uri": "https://localhost:8080/"
        },
        "id": "qGQ6VkZ-37tZ",
        "outputId": "d8296bed-e56b-4d43-c301-a7b1e6f656ac"
      },
      "execution_count": null,
      "outputs": [
        {
          "output_type": "stream",
          "name": "stdout",
          "text": [
            "A: \n",
            "tensor([[ 1,  2, -3],\n",
            "        [ 4,  5, 10]])\n",
            "B: \n",
            "tensor([[10, 11, -2],\n",
            "        [13, -3,  8]])\n",
            "Hadamard product: \n",
            "tensor([[ 10,  22,   6],\n",
            "        [ 52, -15,  80]])\n",
            "B + 10:\n",
            "tensor([[20, 21,  8],\n",
            "        [23,  7, 18]])\n",
            "A transpose:\n",
            "tensor([[ 1,  4],\n",
            "        [ 2,  5],\n",
            "        [-3, 10]])\n",
            "B transpose:\n",
            "tensor([[10, 13],\n",
            "        [11, -3],\n",
            "        [-2,  8]])\n"
          ]
        }
      ]
    },
    {
      "cell_type": "code",
      "source": [
        "# exercise 4\n",
        "\n",
        "A = torch.arange(6).reshape(2,3)\n",
        "A += 1\n",
        "B = torch.tensor([[10, 11], [-2, 0], [1, -3]])\n",
        "\n",
        "print(\"A: \")\n",
        "print(A)\n",
        "\n",
        "print(\"B: \")\n",
        "print(B)\n",
        "\n",
        "print(\"A @ B:\")\n",
        "print(A @ B)\n",
        "\n",
        "print(\"Frobenius norm of A:\")\n",
        "print(torch.norm(A.type(torch.float64)))\n",
        "\n",
        "print(\"Frobenius norm of B:\")\n",
        "print(torch.norm(B.type(torch.float64)))"
      ],
      "metadata": {
        "colab": {
          "base_uri": "https://localhost:8080/"
        },
        "id": "ixJNyEtG5aI7",
        "outputId": "477ff168-7979-49d1-922a-ff7094e789e4"
      },
      "execution_count": 51,
      "outputs": [
        {
          "output_type": "stream",
          "name": "stdout",
          "text": [
            "A: \n",
            "tensor([[1, 2, 3],\n",
            "        [4, 5, 6]])\n",
            "B: \n",
            "tensor([[10, 11],\n",
            "        [-2,  0],\n",
            "        [ 1, -3]])\n",
            "A @ B:\n",
            "tensor([[ 9,  2],\n",
            "        [36, 26]])\n",
            "Frobenius norm of A:\n",
            "tensor(9.5394, dtype=torch.float64)\n",
            "Frobenius norm of B:\n",
            "tensor(15.3297, dtype=torch.float64)\n"
          ]
        }
      ]
    }
  ]
}