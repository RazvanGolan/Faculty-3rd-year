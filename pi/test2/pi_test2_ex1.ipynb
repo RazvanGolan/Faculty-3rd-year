{
  "nbformat": 4,
  "nbformat_minor": 0,
  "metadata": {
    "colab": {
      "provenance": [],
      "authorship_tag": "ABX9TyN9climROCaAJ7WlF+GTyVj",
      "include_colab_link": true
    },
    "kernelspec": {
      "name": "python3",
      "display_name": "Python 3"
    },
    "language_info": {
      "name": "python"
    }
  },
  "cells": [
    {
      "cell_type": "markdown",
      "metadata": {
        "id": "view-in-github",
        "colab_type": "text"
      },
      "source": [
        "<a href=\"https://colab.research.google.com/github/RazvanGolan/Faculty-3rd-year/blob/main/pi/test2/pi_test2_ex1.ipynb\" target=\"_parent\"><img src=\"https://colab.research.google.com/assets/colab-badge.svg\" alt=\"Open In Colab\"/></a>"
      ]
    },
    {
      "cell_type": "code",
      "execution_count": null,
      "metadata": {
        "id": "mZviAt6Uk1g1"
      },
      "outputs": [],
      "source": [
        "# exercise 1\n",
        "\n",
        "import torch\n",
        "import torchvision\n",
        "from torch import nn\n",
        "from torch.nn import functional as F\n",
        "from PIL import Image\n",
        "from matplotlib import pyplot as plt\n",
        "import pandas as pd\n",
        "import os\n",
        "import requests\n",
        "import zipfile\n",
        "\n",
        "torch.manual_seed(42);\n",
        "\n",
        "def smooth_l1(prediction, target, w, e):\n",
        "    error = prediction - target\n",
        "    is_less_than = torch.abs(error) < w\n",
        "\n",
        "    branch1 = w * torch.log(1 + torch.abs(error) / e)\n",
        "\n",
        "    branch2 = torch.abs(error) - w + w * torch.log(1 + w / e)\n",
        "\n",
        "    loss = branch1 * is_less_than + branch2 * (~is_less_than)\n",
        "\n",
        "    return loss"
      ]
    },
    {
      "cell_type": "code",
      "source": [
        "def show_images(imgs, num_rows, num_cols, titles=None, scale=1.5):\n",
        "    \"\"\"Plot a list of images.\"\"\"\n",
        "    figsize = (num_cols * scale, num_rows * scale)\n",
        "    _, axes = plt.subplots(num_rows, num_cols, figsize=figsize)\n",
        "    plt.tight_layout()\n",
        "    axes = axes.flatten()\n",
        "    for i, (ax, img) in enumerate(zip(axes, imgs)):\n",
        "        if torch.is_tensor(img):\n",
        "            # Tensor Image\n",
        "            ax.imshow(img.numpy())\n",
        "        else:\n",
        "            # PIL Image\n",
        "            ax.imshow(img)\n",
        "        ax.axes.get_xaxis().set_visible(False)\n",
        "        ax.axes.get_yaxis().set_visible(False)\n",
        "        if titles:\n",
        "            ax.set_title(titles[i])\n",
        "    return axes"
      ],
      "metadata": {
        "id": "UFe7fcUXvjqZ"
      },
      "execution_count": null,
      "outputs": []
    },
    {
      "cell_type": "code",
      "source": [
        "def download(url, cache_dir=os.path.join('..', 'data')):\n",
        "    \"\"\"Download a file, return the local filename.\"\"\"\n",
        "    os.makedirs(cache_dir, exist_ok=True)\n",
        "    fname = os.path.join(cache_dir, url.split('/')[-1])\n",
        "    if os.path.exists(fname):\n",
        "        with open(fname, 'rb') as f:\n",
        "            while True:\n",
        "                data = f.read(1048576)\n",
        "                if not data:\n",
        "                    break\n",
        "        return fname\n",
        "    print(f'Downloading {fname} from {url}...')\n",
        "    r = requests.get(url, stream=True, verify=True)\n",
        "    with open(fname, 'wb') as f:\n",
        "        f.write(r.content)\n",
        "    return fname\n",
        "\n",
        "def download_extract(url, folder=None):\n",
        "    \"\"\"Download and extract a zip file.\"\"\"\n",
        "    fname = download(url)\n",
        "    base_dir = os.path.dirname(fname)\n",
        "    data_dir, ext = os.path.splitext(fname)\n",
        "    if ext == '.zip':\n",
        "        fp = zipfile.ZipFile(fname, 'r')\n",
        "    else:\n",
        "        assert False, 'Only zip files can be extracted.'\n",
        "    fp.extractall(base_dir)\n",
        "    return os.path.join(base_dir, folder) if folder else data_dir"
      ],
      "metadata": {
        "id": "fLGF2dXQvk4l"
      },
      "execution_count": null,
      "outputs": []
    },
    {
      "cell_type": "code",
      "source": [
        "def try_gpu(i=0):\n",
        "    \"\"\"Return gpu(i) if exists, otherwise return cpu().\"\"\"\n",
        "    if torch.cuda.device_count() >= i + 1:\n",
        "        return torch.device(f'cuda:{i}')\n",
        "    return torch.device('cpu')"
      ],
      "metadata": {
        "id": "xRHK737rvloz"
      },
      "execution_count": null,
      "outputs": []
    },
    {
      "cell_type": "code",
      "source": [
        "def set_figsize(figsize=(3.5, 2.5)):\n",
        "    \"\"\"Set the figure size for matplotlib.\"\"\"\n",
        "    plt.rcParams['figure.figsize'] = figsize"
      ],
      "metadata": {
        "id": "Q4LtNdhTvmg5"
      },
      "execution_count": null,
      "outputs": []
    },
    {
      "cell_type": "code",
      "source": [
        "def apply(img, aug, num_rows=2, num_cols=4, scale=1.5):\n",
        "    Y = [aug(img) for _ in range(num_rows * num_cols)]\n",
        "    show_images(Y, num_rows, num_cols, scale=scale)"
      ],
      "metadata": {
        "id": "6sqk5gYgvnu1"
      },
      "execution_count": null,
      "outputs": []
    },
    {
      "cell_type": "code",
      "source": [
        "def box_corner_to_center(boxes):\n",
        "    \"\"\"Convert from (upper-left, lower-right) to (center, width, height).\"\"\"\n",
        "    x1, y1, x2, y2 = boxes[:, 0], boxes[:, 1], boxes[:, 2], boxes[:, 3]\n",
        "    cx = (x1 + x2) / 2\n",
        "    cy = (y1 + y2) / 2\n",
        "    w = x2 - x1\n",
        "    h = y2 - y1\n",
        "    boxes = torch.stack((cx, cy, w, h), axis=-1)\n",
        "    return boxes\n",
        "\n",
        "def box_center_to_corner(boxes):\n",
        "    \"\"\"Convert from (center, width, height) to (upper-left, lower-right).\"\"\"\n",
        "    cx, cy, w, h = boxes[:, 0], boxes[:, 1], boxes[:, 2], boxes[:, 3]\n",
        "    x1 = cx - 0.5 * w\n",
        "    y1 = cy - 0.5 * h\n",
        "    x2 = cx + 0.5 * w\n",
        "    y2 = cy + 0.5 * h\n",
        "    boxes = torch.stack((x1, y1, x2, y2), axis=-1)\n",
        "    return boxes"
      ],
      "metadata": {
        "id": "0HKnXZT7voqZ"
      },
      "execution_count": null,
      "outputs": []
    },
    {
      "cell_type": "code",
      "source": [
        "def bbox_to_rect(bbox, color):\n",
        "    \"\"\"Convert bounding box to matplotlib format.\"\"\"\n",
        "    # Convert the bounding box (upper-left x, upper-left y, lower-right x,\n",
        "    # lower-right y) format to the matplotlib format: ((upper-left x,\n",
        "    # upper-left y), width, height)\n",
        "    return plt.Rectangle(\n",
        "        xy=(bbox[0], bbox[1]), width=bbox[2]-bbox[0], height=bbox[3]-bbox[1],\n",
        "        fill=False, edgecolor=color, linewidth=2)"
      ],
      "metadata": {
        "id": "mnOud4ZavrhS"
      },
      "execution_count": null,
      "outputs": []
    },
    {
      "cell_type": "code",
      "source": [
        "def multibox_prior(data, sizes, ratios):\n",
        "    \"\"\"Generate anchor boxes with different shapes centered on each pixel.\"\"\"\n",
        "    in_height, in_width = data.shape[-2:]\n",
        "    device, num_sizes, num_ratios = data.device, len(sizes), len(ratios)\n",
        "    boxes_per_pixel = (num_sizes + num_ratios - 1)\n",
        "    size_tensor = torch.tensor(sizes, device=device)\n",
        "    ratio_tensor = torch.tensor(ratios, device=device)\n",
        "    # Offsets are required to move the anchor to the center of a pixel. Since\n",
        "    # a pixel has height=1 and width=1, we choose to offset our centers by 0.5\n",
        "    offset_h, offset_w = 0.5, 0.5\n",
        "    steps_h = 1.0 / in_height  # Scaled steps in y axis\n",
        "    steps_w = 1.0 / in_width  # Scaled steps in x axis\n",
        "\n",
        "    # Generate all center points for the anchor boxes\n",
        "    center_h = (torch.arange(in_height, device=device) + offset_h) * steps_h\n",
        "    center_w = (torch.arange(in_width, device=device) + offset_w) * steps_w\n",
        "    shift_y, shift_x = torch.meshgrid(center_h, center_w, indexing='ij')\n",
        "    shift_y, shift_x = shift_y.reshape(-1), shift_x.reshape(-1)\n",
        "\n",
        "    # Generate `boxes_per_pixel` number of heights and widths that are later\n",
        "    # used to create anchor box corner coordinates (xmin, xmax, ymin, ymax)\n",
        "    w = torch.cat((size_tensor * torch.sqrt(ratio_tensor[0]),\n",
        "                   sizes[0] * torch.sqrt(ratio_tensor[1:])))\\\n",
        "                   * in_height / in_width  # Handle rectangular inputs\n",
        "    h = torch.cat((size_tensor / torch.sqrt(ratio_tensor[0]),\n",
        "                   sizes[0] / torch.sqrt(ratio_tensor[1:])))\n",
        "    # Divide by 2 to get half height and half width\n",
        "    anchor_manipulations = torch.stack((-w, -h, w, h)).T.repeat(\n",
        "                                        in_height * in_width, 1) / 2\n",
        "\n",
        "    # Each center point will have `boxes_per_pixel` number of anchor boxes, so\n",
        "    # generate a grid of all anchor box centers with `boxes_per_pixel` repeats\n",
        "    out_grid = torch.stack([shift_x, shift_y, shift_x, shift_y],\n",
        "                dim=1).repeat_interleave(boxes_per_pixel, dim=0)\n",
        "    output = out_grid + anchor_manipulations\n",
        "    return output.unsqueeze(0)"
      ],
      "metadata": {
        "id": "R791Ptk3vswh"
      },
      "execution_count": null,
      "outputs": []
    },
    {
      "cell_type": "code",
      "source": [
        "def show_bboxes(axes, bboxes, labels=None, colors=None):\n",
        "    \"\"\"Show bounding boxes.\"\"\"\n",
        "\n",
        "    def make_list(obj, default_values=None):\n",
        "        if obj is None:\n",
        "            obj = default_values\n",
        "        elif not isinstance(obj, (list, tuple)):\n",
        "            obj = [obj]\n",
        "        return obj\n",
        "\n",
        "    labels = make_list(labels)\n",
        "    colors = make_list(colors, ['b', 'g', 'r', 'm', 'c'])\n",
        "    for i, bbox in enumerate(bboxes):\n",
        "        color = colors[i % len(colors)]\n",
        "        rect = bbox_to_rect(bbox.detach().numpy(), color)\n",
        "        axes.add_patch(rect)\n",
        "        if labels and len(labels) > i:\n",
        "            text_color = 'k' if color == 'w' else 'w'\n",
        "            axes.text(rect.xy[0], rect.xy[1], labels[i],\n",
        "                      va='center', ha='center', fontsize=9, color=text_color,\n",
        "                      bbox=dict(facecolor=color, lw=0))"
      ],
      "metadata": {
        "id": "vUkFXVHKvuNg"
      },
      "execution_count": null,
      "outputs": []
    },
    {
      "cell_type": "code",
      "source": [
        "def box_iou(boxes1, boxes2):\n",
        "    \"\"\"Compute pairwise IoU across two lists of anchor or bounding boxes.\"\"\"\n",
        "    box_area = lambda boxes: ((boxes[:, 2] - boxes[:, 0]) *\n",
        "                              (boxes[:, 3] - boxes[:, 1]))\n",
        "    # Shape of `boxes1`, `boxes2`, `areas1`, `areas2`: (no. of boxes1, 4),\n",
        "    # (no. of boxes2, 4), (no. of boxes1,), (no. of boxes2,)\n",
        "    areas1 = box_area(boxes1)\n",
        "    areas2 = box_area(boxes2)\n",
        "    # Shape of `inter_upperlefts`, `inter_lowerrights`, `inters`: (no. of\n",
        "    # boxes1, no. of boxes2, 2)\n",
        "    inter_upperlefts = torch.max(boxes1[:, None, :2], boxes2[:, :2])\n",
        "    inter_lowerrights = torch.min(boxes1[:, None, 2:], boxes2[:, 2:])\n",
        "    inters = (inter_lowerrights - inter_upperlefts).clamp(min=0)\n",
        "    # Shape of `inter_areas` and `union_areas`: (no. of boxes1, no. of boxes2)\n",
        "    inter_areas = inters[:, :, 0] * inters[:, :, 1]\n",
        "    union_areas = areas1[:, None] + areas2 - inter_areas\n",
        "    return inter_areas / union_areas"
      ],
      "metadata": {
        "id": "AhXf9fSTvwTj"
      },
      "execution_count": null,
      "outputs": []
    },
    {
      "cell_type": "code",
      "source": [
        "def assign_anchor_to_bbox(ground_truth, anchors, device, iou_threshold=0.5):\n",
        "    \"\"\"Assign closest ground-truth bounding boxes to anchor boxes.\"\"\"\n",
        "    num_anchors, num_gt_boxes = anchors.shape[0], ground_truth.shape[0]\n",
        "    # Element x_ij in the i-th row and j-th column is the IoU of the anchor\n",
        "    # box i and the ground-truth bounding box j\n",
        "    jaccard = box_iou(anchors, ground_truth)\n",
        "    # Initialize the tensor to hold the assigned ground-truth bounding box for\n",
        "    # each anchor\n",
        "    anchors_bbox_map = torch.full((num_anchors,), -1, dtype=torch.long,\n",
        "                                  device=device)\n",
        "    # Assign ground-truth bounding boxes according to the threshold\n",
        "    max_ious, indices = torch.max(jaccard, dim=1)\n",
        "    anc_i = torch.nonzero(max_ious >= iou_threshold).reshape(-1)\n",
        "    box_j = indices[max_ious >= iou_threshold]\n",
        "    anchors_bbox_map[anc_i] = box_j\n",
        "    col_discard = torch.full((num_anchors,), -1)\n",
        "    row_discard = torch.full((num_gt_boxes,), -1)\n",
        "    for _ in range(num_gt_boxes):\n",
        "        max_idx = torch.argmax(jaccard)  # Find the largest IoU\n",
        "        box_idx = (max_idx % num_gt_boxes).long()\n",
        "        anc_idx = (max_idx / num_gt_boxes).long()\n",
        "        anchors_bbox_map[anc_idx] = box_idx\n",
        "        jaccard[:, box_idx] = col_discard\n",
        "        jaccard[anc_idx, :] = row_discard\n",
        "    return anchors_bbox_map"
      ],
      "metadata": {
        "id": "DGGqteYvvxWe"
      },
      "execution_count": null,
      "outputs": []
    },
    {
      "cell_type": "code",
      "source": [
        "def offset_boxes(anchors, assigned_bb, eps=1e-6):\n",
        "    \"\"\"Transform for anchor box offsets.\"\"\"\n",
        "    c_anc = box_corner_to_center(anchors)\n",
        "    c_assigned_bb = box_corner_to_center(assigned_bb)\n",
        "    offset_xy = 10 * (c_assigned_bb[:, :2] - c_anc[:, :2]) / c_anc[:, 2:]\n",
        "    offset_wh = 5 * torch.log(eps + c_assigned_bb[:, 2:] / c_anc[:, 2:])\n",
        "    offset = torch.cat([offset_xy, offset_wh], axis=1)\n",
        "    return offset"
      ],
      "metadata": {
        "id": "fZY7ELb0vyOy"
      },
      "execution_count": null,
      "outputs": []
    },
    {
      "cell_type": "code",
      "source": [
        "def multibox_target(anchors, labels):\n",
        "    \"\"\"Label anchor boxes using ground-truth bounding boxes.\"\"\"\n",
        "    batch_size, anchors = labels.shape[0], anchors.squeeze(0)\n",
        "    batch_offset, batch_mask, batch_class_labels = [], [], []\n",
        "    device, num_anchors = anchors.device, anchors.shape[0]\n",
        "    for i in range(batch_size):\n",
        "        label = labels[i, :, :]\n",
        "        anchors_bbox_map = assign_anchor_to_bbox(\n",
        "            label[:, 1:], anchors, device)\n",
        "        bbox_mask = ((anchors_bbox_map >= 0).float().unsqueeze(-1)).repeat(\n",
        "            1, 4)\n",
        "        # Initialize class labels and assigned bounding box coordinates with\n",
        "        # zeros\n",
        "        class_labels = torch.zeros(num_anchors, dtype=torch.long,\n",
        "                                   device=device)\n",
        "        assigned_bb = torch.zeros((num_anchors, 4), dtype=torch.float32,\n",
        "                                  device=device)\n",
        "        # Label classes of anchor boxes using their assigned ground-truth\n",
        "        # bounding boxes. If an anchor box is not assigned any, we label its\n",
        "        # class as background (the value remains zero)\n",
        "        indices_true = torch.nonzero(anchors_bbox_map >= 0)\n",
        "        bb_idx = anchors_bbox_map[indices_true]\n",
        "        class_labels[indices_true] = label[bb_idx, 0].long() + 1\n",
        "        assigned_bb[indices_true] = label[bb_idx, 1:]\n",
        "        # Offset transformation\n",
        "        offset = offset_boxes(anchors, assigned_bb) * bbox_mask\n",
        "        batch_offset.append(offset.reshape(-1))\n",
        "        batch_mask.append(bbox_mask.reshape(-1))\n",
        "        batch_class_labels.append(class_labels)\n",
        "    bbox_offset = torch.stack(batch_offset)\n",
        "    bbox_mask = torch.stack(batch_mask)\n",
        "    class_labels = torch.stack(batch_class_labels)\n",
        "    return (bbox_offset, bbox_mask, class_labels)"
      ],
      "metadata": {
        "id": "16GXYA8ZvzAv"
      },
      "execution_count": null,
      "outputs": []
    },
    {
      "cell_type": "code",
      "source": [
        "def offset_inverse(anchors, offset_preds):\n",
        "    \"\"\"Predict bounding boxes based on anchor boxes with predicted offsets.\"\"\"\n",
        "    anc = box_corner_to_center(anchors)\n",
        "    pred_bbox_xy = (offset_preds[:, :2] * anc[:, 2:] / 10) + anc[:, :2]\n",
        "    pred_bbox_wh = torch.exp(offset_preds[:, 2:] / 5) * anc[:, 2:]\n",
        "    pred_bbox = torch.cat((pred_bbox_xy, pred_bbox_wh), axis=1)\n",
        "    predicted_bbox = box_center_to_corner(pred_bbox)\n",
        "    return predicted_bbox"
      ],
      "metadata": {
        "id": "YdoyJLkAvzzm"
      },
      "execution_count": null,
      "outputs": []
    },
    {
      "cell_type": "code",
      "source": [
        "def nms(boxes, scores, iou_threshold):\n",
        "    \"\"\"Sort confidence scores of predicted bounding boxes.\"\"\"\n",
        "    B = torch.argsort(scores, dim=-1, descending=True)\n",
        "    keep = []  # Indices of predicted bounding boxes that will be kept\n",
        "    while B.numel() > 0:\n",
        "        i = B[0]\n",
        "        keep.append(i)\n",
        "        if B.numel() == 1: break\n",
        "        iou = box_iou(boxes[i, :].reshape(-1, 4),\n",
        "                      boxes[B[1:], :].reshape(-1, 4)).reshape(-1)\n",
        "        inds = torch.nonzero(iou <= iou_threshold).reshape(-1)\n",
        "        B = B[inds + 1]\n",
        "    return torch.tensor(keep, device=boxes.device)"
      ],
      "metadata": {
        "id": "yybmbsGwv1rC"
      },
      "execution_count": null,
      "outputs": []
    },
    {
      "cell_type": "code",
      "source": [
        "def multibox_detection(cls_probs, offset_preds, anchors, nms_threshold=0.5,\n",
        "                       pos_threshold=0.009999999):\n",
        "    \"\"\"Predict bounding boxes using non-maximum suppression.\"\"\"\n",
        "    device, batch_size = cls_probs.device, cls_probs.shape[0]\n",
        "    anchors = anchors.squeeze(0)\n",
        "    num_classes, num_anchors = cls_probs.shape[1], cls_probs.shape[2]\n",
        "    out = []\n",
        "    for i in range(batch_size):\n",
        "        cls_prob, offset_pred = cls_probs[i], offset_preds[i].reshape(-1, 4)\n",
        "        conf, class_id = torch.max(cls_prob[1:], 0)\n",
        "        predicted_bb = offset_inverse(anchors, offset_pred)\n",
        "        keep = nms(predicted_bb, conf, nms_threshold)\n",
        "        # Find all non-`keep` indices and set the class to background\n",
        "        all_idx = torch.arange(num_anchors, dtype=torch.long, device=device)\n",
        "        combined = torch.cat((keep, all_idx))\n",
        "        uniques, counts = combined.unique(return_counts=True)\n",
        "        non_keep = uniques[counts == 1]\n",
        "        all_id_sorted = torch.cat((keep, non_keep))\n",
        "        class_id[non_keep] = -1\n",
        "        class_id = class_id[all_id_sorted]\n",
        "        conf, predicted_bb = conf[all_id_sorted], predicted_bb[all_id_sorted]\n",
        "        # Here `pos_threshold` is a threshold for positive (non-background)\n",
        "        # predictions\n",
        "        below_min_idx = (conf < pos_threshold)\n",
        "        class_id[below_min_idx] = -1\n",
        "        conf[below_min_idx] = 1 - conf[below_min_idx]\n",
        "        pred_info = torch.cat((class_id.unsqueeze(1),\n",
        "                               conf.unsqueeze(1),\n",
        "                               predicted_bb), dim=1)\n",
        "        out.append(pred_info)\n",
        "    return torch.stack(out)"
      ],
      "metadata": {
        "id": "a5PCawTHv2lZ"
      },
      "execution_count": null,
      "outputs": []
    },
    {
      "cell_type": "code",
      "source": [
        "def display_anchors(fmap_w, fmap_h, s):\n",
        "    # Values on the first two dimensions do not affect the output\n",
        "    fmap = torch.zeros((1, 10, fmap_h, fmap_w))\n",
        "    anchors = multibox_prior(fmap, sizes=s, ratios=[1, 2, 0.5])\n",
        "    bbox_scale = torch.tensor((w, h, w, h))\n",
        "    show_bboxes(plt.imshow(img).axes,\n",
        "                anchors[0] * bbox_scale)"
      ],
      "metadata": {
        "id": "qCMJk3yTv4Bg"
      },
      "execution_count": null,
      "outputs": []
    },
    {
      "cell_type": "code",
      "source": [
        "def read_data_bananas(is_train=True):\n",
        "    \"\"\"Read the banana detection dataset images and labels.\"\"\"\n",
        "    data_dir = download_extract('http://d2l-data.s3-accelerate.amazonaws.com/banana-detection.zip')\n",
        "    csv_fname = os.path.join(data_dir, 'bananas_train' if is_train\n",
        "                             else 'bananas_val', 'label.csv')\n",
        "    csv_data = pd.read_csv(csv_fname)\n",
        "    csv_data = csv_data.set_index('img_name')\n",
        "    images, targets = [], []\n",
        "    for img_name, target in csv_data.iterrows():\n",
        "        images.append(torchvision.io.read_image(\n",
        "            os.path.join(data_dir, 'bananas_train' if is_train else\n",
        "                         'bananas_val', 'images', f'{img_name}')))\n",
        "        # Here `target` contains (class, upper-left x, upper-left y,\n",
        "        # lower-right x, lower-right y), where all the images have the same\n",
        "        # banana class (index 0)\n",
        "        targets.append(list(target))\n",
        "    return images, torch.tensor(targets).unsqueeze(1) / 256"
      ],
      "metadata": {
        "id": "wyydWM35v5zv"
      },
      "execution_count": null,
      "outputs": []
    },
    {
      "cell_type": "code",
      "source": [
        "class BananasDataset(torch.utils.data.Dataset):\n",
        "    \"\"\"A customized dataset to load the banana detection dataset.\"\"\"\n",
        "    def __init__(self, is_train):\n",
        "        self.features, self.labels = read_data_bananas(is_train)\n",
        "        print('read ' + str(len(self.features)) + (f' training examples' if\n",
        "              is_train else f' validation examples'))\n",
        "\n",
        "    def __getitem__(self, idx):\n",
        "        return (self.features[idx].float(), self.labels[idx])\n",
        "\n",
        "    def __len__(self):\n",
        "        return len(self.features)"
      ],
      "metadata": {
        "id": "Lxq3JmDBv666"
      },
      "execution_count": null,
      "outputs": []
    },
    {
      "cell_type": "code",
      "source": [
        "def load_data_bananas(batch_size):\n",
        "    \"\"\"Load the banana detection dataset.\"\"\"\n",
        "    train_iter = torch.utils.data.DataLoader(BananasDataset(is_train=True),\n",
        "                                             batch_size, shuffle=True)\n",
        "    val_iter = torch.utils.data.DataLoader(BananasDataset(is_train=False),\n",
        "                                           batch_size)\n",
        "    return train_iter, val_iter"
      ],
      "metadata": {
        "id": "rWuZp0qJv7uv"
      },
      "execution_count": null,
      "outputs": []
    },
    {
      "cell_type": "code",
      "source": [
        "def cls_predictor(num_inputs, num_anchors, num_classes):\n",
        "    return nn.Conv2d(num_inputs, num_anchors * (num_classes + 1),\n",
        "                     kernel_size=3, padding=1)"
      ],
      "metadata": {
        "id": "Ak0fx19vv8hz"
      },
      "execution_count": null,
      "outputs": []
    },
    {
      "cell_type": "code",
      "source": [
        "def bbox_predictor(num_inputs, num_anchors):\n",
        "    return nn.Conv2d(num_inputs, num_anchors * 4, kernel_size=3, padding=1)"
      ],
      "metadata": {
        "id": "4F5GucEtv-BF"
      },
      "execution_count": null,
      "outputs": []
    },
    {
      "cell_type": "code",
      "source": [
        "def forward(x, block):\n",
        "    return block(x)\n",
        "\n",
        "Y1 = forward(torch.zeros((2, 8, 20, 20)), cls_predictor(8, 5, 10))\n",
        "Y2 = forward(torch.zeros((2, 16, 10, 10)), cls_predictor(16, 3, 10))\n",
        "Y1.shape, Y2.shape"
      ],
      "metadata": {
        "colab": {
          "base_uri": "https://localhost:8080/"
        },
        "id": "giDfMaEuv-vA",
        "outputId": "a8d1835d-87a0-48d0-f3da-a884f7f00ae1"
      },
      "execution_count": null,
      "outputs": [
        {
          "output_type": "execute_result",
          "data": {
            "text/plain": [
              "(torch.Size([2, 55, 20, 20]), torch.Size([2, 33, 10, 10]))"
            ]
          },
          "metadata": {},
          "execution_count": 24
        }
      ]
    },
    {
      "cell_type": "code",
      "source": [
        "def flatten_pred(pred):\n",
        "    return torch.flatten(pred.permute(0, 2, 3, 1), start_dim=1)\n",
        "\n",
        "def concat_preds(preds):\n",
        "    return torch.cat([flatten_pred(p) for p in preds], dim=1)"
      ],
      "metadata": {
        "id": "uv8iRnCHv_fK"
      },
      "execution_count": null,
      "outputs": []
    },
    {
      "cell_type": "code",
      "source": [
        "def down_sample_blk(in_channels, out_channels):\n",
        "    blk = []\n",
        "    for _ in range(2):\n",
        "        blk.append(nn.Conv2d(in_channels, out_channels,\n",
        "                             kernel_size=3, padding=1))\n",
        "        blk.append(nn.BatchNorm2d(out_channels))\n",
        "        blk.append(nn.ReLU())\n",
        "        in_channels = out_channels\n",
        "    blk.append(nn.MaxPool2d(2))\n",
        "    return nn.Sequential(*blk)"
      ],
      "metadata": {
        "id": "JVgUagpgwA4g"
      },
      "execution_count": null,
      "outputs": []
    },
    {
      "cell_type": "code",
      "source": [
        "def base_net():\n",
        "    blk = []\n",
        "    num_filters = [3, 16, 32, 64]\n",
        "    for i in range(len(num_filters) - 1):\n",
        "        blk.append(down_sample_blk(num_filters[i], num_filters[i+1]))\n",
        "    return nn.Sequential(*blk)\n",
        "\n",
        "forward(torch.zeros((2, 3, 256, 256)), base_net()).shape"
      ],
      "metadata": {
        "colab": {
          "base_uri": "https://localhost:8080/"
        },
        "id": "bxK4bB_AwBr2",
        "outputId": "d1338ba6-ff9c-47fc-a06d-12189b843da3"
      },
      "execution_count": null,
      "outputs": [
        {
          "output_type": "execute_result",
          "data": {
            "text/plain": [
              "torch.Size([2, 64, 32, 32])"
            ]
          },
          "metadata": {},
          "execution_count": 27
        }
      ]
    },
    {
      "cell_type": "code",
      "source": [
        "def get_blk(i):\n",
        "    if i == 0:\n",
        "        blk = base_net()\n",
        "    elif i == 1:\n",
        "        blk = down_sample_blk(64, 128)\n",
        "    elif i == 4:\n",
        "        blk = nn.AdaptiveMaxPool2d((1,1))\n",
        "    else:\n",
        "        blk = down_sample_blk(128, 128)\n",
        "    return blk"
      ],
      "metadata": {
        "id": "PMQ_KVCzwC8q"
      },
      "execution_count": null,
      "outputs": []
    },
    {
      "cell_type": "code",
      "source": [
        "def blk_forward(X, blk, size, ratio, cls_predictor, bbox_predictor):\n",
        "    Y = blk(X)\n",
        "    anchors = multibox_prior(Y, sizes=size, ratios=ratio)\n",
        "    cls_preds = cls_predictor(Y)\n",
        "    bbox_preds = bbox_predictor(Y)\n",
        "    return (Y, anchors, cls_preds, bbox_preds)"
      ],
      "metadata": {
        "id": "Zpy6bEzxwDql"
      },
      "execution_count": null,
      "outputs": []
    },
    {
      "cell_type": "code",
      "source": [
        "sizes = [[0.2, 0.272], [0.37, 0.447], [0.54, 0.619], [0.71, 0.79],\n",
        "         [0.88, 0.961]]\n",
        "ratios = [[1, 2, 0.5]] * 5\n",
        "num_anchors = len(sizes[0]) + len(ratios[0]) - 1"
      ],
      "metadata": {
        "id": "EUp4pL4rwMSR"
      },
      "execution_count": null,
      "outputs": []
    },
    {
      "cell_type": "code",
      "source": [
        "class TinySSD(nn.Module):\n",
        "    def __init__(self, num_classes, **kwargs):\n",
        "        super(TinySSD, self).__init__(**kwargs)\n",
        "        self.num_classes = num_classes\n",
        "        idx_to_in_channels = [64, 128, 128, 128, 128]\n",
        "        for i in range(5):\n",
        "            # Equivalent to the assignment statement `self.blk_i = get_blk(i)`\n",
        "            setattr(self, f'blk_{i}', get_blk(i))\n",
        "            setattr(self, f'cls_{i}', cls_predictor(idx_to_in_channels[i],\n",
        "                                                    num_anchors, num_classes))\n",
        "            setattr(self, f'bbox_{i}', bbox_predictor(idx_to_in_channels[i],\n",
        "                                                      num_anchors))\n",
        "\n",
        "    def forward(self, X):\n",
        "        anchors, cls_preds, bbox_preds = [None] * 5, [None] * 5, [None] * 5\n",
        "        for i in range(5):\n",
        "            # Here `getattr(self, 'blk_%d' % i)` accesses `self.blk_i`\n",
        "            X, anchors[i], cls_preds[i], bbox_preds[i] = blk_forward(\n",
        "                X, getattr(self, f'blk_{i}'), sizes[i], ratios[i],\n",
        "                getattr(self, f'cls_{i}'), getattr(self, f'bbox_{i}'))\n",
        "        anchors = torch.cat(anchors, dim=1)\n",
        "        cls_preds = concat_preds(cls_preds)\n",
        "        cls_preds = cls_preds.reshape(\n",
        "            cls_preds.shape[0], -1, self.num_classes + 1)\n",
        "        bbox_preds = concat_preds(bbox_preds)\n",
        "        return anchors, cls_preds, bbox_preds"
      ],
      "metadata": {
        "id": "chNgy-ZtwEXp"
      },
      "execution_count": null,
      "outputs": []
    },
    {
      "cell_type": "code",
      "source": [
        "net = TinySSD(num_classes=1)\n",
        "X = torch.zeros((32, 3, 256, 256))\n",
        "anchors, cls_preds, bbox_preds = net(X)\n",
        "\n",
        "print('output anchors:', anchors.shape)\n",
        "print('output class preds:', cls_preds.shape)\n",
        "print('output bbox preds:', bbox_preds.shape)"
      ],
      "metadata": {
        "colab": {
          "base_uri": "https://localhost:8080/"
        },
        "id": "tWOAs6YnwFdu",
        "outputId": "12a381ba-fba6-4936-9522-bc71930d7034"
      },
      "execution_count": null,
      "outputs": [
        {
          "output_type": "stream",
          "name": "stdout",
          "text": [
            "output anchors: torch.Size([1, 5444, 4])\n",
            "output class preds: torch.Size([32, 5444, 2])\n",
            "output bbox preds: torch.Size([32, 21776])\n"
          ]
        }
      ]
    },
    {
      "cell_type": "code",
      "source": [
        "batch_size = 40\n",
        "train_iter, _ = load_data_bananas(batch_size)"
      ],
      "metadata": {
        "colab": {
          "base_uri": "https://localhost:8080/"
        },
        "id": "inpbkukgwG1H",
        "outputId": "d9c66211-ada8-4d75-f6ee-a88e007803c6"
      },
      "execution_count": null,
      "outputs": [
        {
          "output_type": "stream",
          "name": "stdout",
          "text": [
            "Downloading ../data/banana-detection.zip from http://d2l-data.s3-accelerate.amazonaws.com/banana-detection.zip...\n",
            "read 1000 training examples\n",
            "read 100 validation examples\n"
          ]
        }
      ]
    },
    {
      "cell_type": "code",
      "source": [
        "device, net = try_gpu(), TinySSD(num_classes=1)\n",
        "trainer = torch.optim.SGD(net.parameters(), lr=0.2, weight_decay=5e-4)"
      ],
      "metadata": {
        "id": "oaIg0kT-wP-L"
      },
      "execution_count": null,
      "outputs": []
    },
    {
      "cell_type": "code",
      "source": [
        "w = torch.tensor([1.2], device = \"cuda\")\n",
        "e = torch.tensor([0.8], device = \"cuda\")\n",
        "\n",
        "cls_loss = nn.CrossEntropyLoss(reduction='none')\n",
        "bbox_loss = lambda prediction, target: smooth_l1(prediction, target, w, e)\n",
        "\n",
        "\n",
        "def calc_loss(cls_preds, cls_labels, bbox_preds, bbox_labels, bbox_masks):\n",
        "    batch_size, num_classes = cls_preds.shape[0], cls_preds.shape[2]\n",
        "    cls = cls_loss(cls_preds.reshape(-1, num_classes),\n",
        "                   cls_labels.reshape(-1)).reshape(batch_size, -1).mean(dim=1)\n",
        "    bbox = bbox_loss(bbox_preds * bbox_masks,\n",
        "                     bbox_labels * bbox_masks).mean(dim=1)\n",
        "    return cls + bbox"
      ],
      "metadata": {
        "id": "B87FmBRcwSNs"
      },
      "execution_count": null,
      "outputs": []
    },
    {
      "cell_type": "code",
      "source": [
        "def cls_eval(cls_preds, cls_labels):\n",
        "    # Because the class prediction results are on the final dimension,\n",
        "    # `argmax` needs to specify this dimension\n",
        "    return float((cls_preds.argmax(dim=-1).type(\n",
        "        cls_labels.dtype) == cls_labels).sum())\n",
        "\n",
        "def bbox_eval(bbox_preds, bbox_labels, bbox_masks):\n",
        "    return float((torch.abs((bbox_labels - bbox_preds) * bbox_masks)).sum())"
      ],
      "metadata": {
        "id": "X_bJofNCwSli"
      },
      "execution_count": null,
      "outputs": []
    },
    {
      "cell_type": "code",
      "source": [
        "def train(net, train_iter, num_epochs, device):\n",
        "  cls_acc_all = []\n",
        "  bbox_mae_all = []\n",
        "  net = net.to(device)\n",
        "  for epoch in range(num_epochs):\n",
        "    # Sum of training accuracy, no. of examples in sum of training accuracy,\n",
        "    # Sum of absolute error, no. of examples in sum of absolute error\n",
        "    total_cls = 0\n",
        "    total_cls_labels = 0\n",
        "    total_bbox = 0\n",
        "    total_bbox_labels = 0\n",
        "    net.train()\n",
        "    for features, target in train_iter:\n",
        "        trainer.zero_grad()\n",
        "        X, Y = features.to(device), target.to(device)\n",
        "        # Generate multiscale anchor boxes and predict their classes and\n",
        "        # offsets\n",
        "        anchors, cls_preds, bbox_preds = net(X)\n",
        "        # Label the classes and offsets of these anchor boxes\n",
        "        bbox_labels, bbox_masks, cls_labels = multibox_target(anchors, Y)\n",
        "        # Calculate the loss function using the predicted and labeled values\n",
        "        # of the classes and offsets\n",
        "        l = calc_loss(cls_preds, cls_labels, bbox_preds, bbox_labels,\n",
        "                      bbox_masks)\n",
        "        l.mean().backward()\n",
        "        trainer.step()\n",
        "        total_cls += cls_eval(cls_preds, cls_labels)\n",
        "        total_cls_labels += cls_labels.numel()\n",
        "        total_bbox += bbox_eval(bbox_preds, bbox_labels, bbox_masks)\n",
        "        total_bbox_labels += bbox_labels.numel()\n",
        "    cls_acc, bbox_mae = total_cls / total_cls_labels * 100, total_bbox / total_bbox_labels\n",
        "    cls_acc_all.append(cls_acc)\n",
        "    bbox_mae_all.append(bbox_mae)\n",
        "    print(f'Epoch {epoch + 1}, Class accuracy {cls_acc:.2f}, Bounding box MAE {bbox_mae:.2e}')\n",
        "\n",
        "  return cls_acc_all, bbox_mae_all"
      ],
      "metadata": {
        "id": "R3sj6oY2wTd0"
      },
      "execution_count": null,
      "outputs": []
    },
    {
      "cell_type": "code",
      "source": [
        "def plot_cls_acc(cls_acc_all):\n",
        "    epochs = range(1, len(cls_acc_all) + 1)\n",
        "    plt.plot(epochs, cls_acc_all, 'b', label='Class accuracy')\n",
        "    plt.title('Class accuracy')\n",
        "    plt.xlabel('Epochs')\n",
        "    plt.ylabel('Accuracy')\n",
        "    plt.legend()\n",
        "    plt.show()"
      ],
      "metadata": {
        "id": "cFdEWX72wUL9"
      },
      "execution_count": null,
      "outputs": []
    },
    {
      "cell_type": "code",
      "source": [
        "def plot_bbox_mae(bbox_mae_all):\n",
        "    epochs = range(1, len(bbox_mae_all) + 1)\n",
        "    plt.plot(epochs, bbox_mae_all, 'b', label='Bounding box MAE')\n",
        "    plt.title('Bounding box MAE')\n",
        "    plt.xlabel('Epochs')\n",
        "    plt.ylabel('Error')\n",
        "    plt.legend()\n",
        "    plt.show()"
      ],
      "metadata": {
        "id": "g05_JUtJwU_4"
      },
      "execution_count": null,
      "outputs": []
    },
    {
      "cell_type": "code",
      "source": [
        "num_epochs = 15\n",
        "cls_acc_all, bbox_mae_all = train(net, train_iter, num_epochs, device) #2 min"
      ],
      "metadata": {
        "colab": {
          "base_uri": "https://localhost:8080/"
        },
        "id": "E7KJRBqlwWEB",
        "outputId": "8cbb7c04-3808-46d1-ee52-fb247e18b9fb"
      },
      "execution_count": null,
      "outputs": [
        {
          "output_type": "stream",
          "name": "stdout",
          "text": [
            "Epoch 1, Class accuracy 97.57, Bounding box MAE 5.13e-03\n",
            "Epoch 2, Class accuracy 99.51, Bounding box MAE 4.96e-03\n",
            "Epoch 3, Class accuracy 99.51, Bounding box MAE 4.90e-03\n",
            "Epoch 4, Class accuracy 99.51, Bounding box MAE 4.84e-03\n",
            "Epoch 5, Class accuracy 99.52, Bounding box MAE 4.77e-03\n",
            "Epoch 6, Class accuracy 99.52, Bounding box MAE 4.67e-03\n",
            "Epoch 7, Class accuracy 99.53, Bounding box MAE 4.54e-03\n",
            "Epoch 8, Class accuracy 99.55, Bounding box MAE 4.37e-03\n",
            "Epoch 9, Class accuracy 99.57, Bounding box MAE 4.20e-03\n",
            "Epoch 10, Class accuracy 99.59, Bounding box MAE 4.07e-03\n",
            "Epoch 11, Class accuracy 99.60, Bounding box MAE 3.99e-03\n",
            "Epoch 12, Class accuracy 99.61, Bounding box MAE 3.93e-03\n",
            "Epoch 13, Class accuracy 99.62, Bounding box MAE 3.86e-03\n",
            "Epoch 14, Class accuracy 99.63, Bounding box MAE 3.80e-03\n",
            "Epoch 15, Class accuracy 99.64, Bounding box MAE 3.74e-03\n"
          ]
        }
      ]
    },
    {
      "cell_type": "code",
      "source": [
        "set_figsize((4.4, 3.3))\n",
        "plot_cls_acc(cls_acc_all)"
      ],
      "metadata": {
        "colab": {
          "base_uri": "https://localhost:8080/",
          "height": 356
        },
        "id": "OZyK_Wunwi1i",
        "outputId": "50107366-5a80-4221-9a1f-6249c2143a78"
      },
      "execution_count": null,
      "outputs": [
        {
          "output_type": "display_data",
          "data": {
            "text/plain": [
              "<Figure size 440x330 with 1 Axes>"
            ],
            "image/png": "[encoded data removed]"
          },
          "metadata": {}
        }
      ]
    },
    {
      "cell_type": "code",
      "source": [
        "plot_bbox_mae(bbox_mae_all)"
      ],
      "metadata": {
        "colab": {
          "base_uri": "https://localhost:8080/",
          "height": 356
        },
        "id": "uaisawNFwwgA",
        "outputId": "643c7bbc-106b-4999-c741-a98f11b53000"
      },
      "execution_count": null,
      "outputs": [
        {
          "output_type": "display_data",
          "data": {
            "text/plain": [
              "<Figure size 440x330 with 1 Axes>"
            ],
            "image/png": "[encoded data removed]"
          },
          "metadata": {}
        }
      ]
    }
  ]
}