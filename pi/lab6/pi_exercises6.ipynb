{
  "nbformat": 4,
  "nbformat_minor": 0,
  "metadata": {
    "colab": {
      "provenance": [],
      "gpuType": "T4",
      "authorship_tag": "ABX9TyNFdPt7m/ZVLipD9Jjjrfbq",
      "include_colab_link": true
    },
    "kernelspec": {
      "name": "python3",
      "display_name": "Python 3"
    },
    "language_info": {
      "name": "python"
    },
    "accelerator": "GPU"
  },
  "cells": [
    {
      "cell_type": "markdown",
      "metadata": {
        "id": "view-in-github",
        "colab_type": "text"
      },
      "source": [
        "<a href=\"https://colab.research.google.com/github/RazvanGolan/Faculty-3rd-year/blob/main/pi/lab6/pi_exercises6.ipynb\" target=\"_parent\"><img src=\"https://colab.research.google.com/assets/colab-badge.svg\" alt=\"Open In Colab\"/></a>"
      ]
    },
    {
      "cell_type": "code",
      "execution_count": 1,
      "metadata": {
        "colab": {
          "base_uri": "https://localhost:8080/"
        },
        "id": "XZToqB0pJbUt",
        "outputId": "4cc47ae0-4e8e-4da2-da71-5d3be83a5610"
      },
      "outputs": [
        {
          "output_type": "execute_result",
          "data": {
            "text/plain": [
              "<torch._C.Generator at 0x78992f603cb0>"
            ]
          },
          "metadata": {},
          "execution_count": 1
        }
      ],
      "source": [
        "import torch\n",
        "from torch import nn\n",
        "import torch.nn.functional as F\n",
        "import matplotlib.pyplot as plt\n",
        "import math\n",
        "import os\n",
        "import requests\n",
        "import zipfile\n",
        "import collections\n",
        "\n",
        "torch.manual_seed(42)"
      ]
    },
    {
      "cell_type": "code",
      "source": [
        "# exercise 1\n",
        "def show_heatmaps(matrices, xlabel, ylabel, titles=None, figsize=(2.5, 2.5),\n",
        "                  cmap='Reds'):\n",
        "    \"\"\"Show heatmaps of matrices.\"\"\"\n",
        "    num_rows, num_cols = matrices.shape[0], matrices.shape[1]\n",
        "    fig, axes = plt.subplots(num_rows, num_cols, figsize=figsize,\n",
        "                             sharex=True, sharey=True, squeeze=False)\n",
        "    for i, (row_axes, row_matrices) in enumerate(zip(axes, matrices)):\n",
        "        for j, (ax, matrix) in enumerate(zip(row_axes, row_matrices)):\n",
        "            pcm = ax.imshow(matrix.detach().numpy(), cmap=cmap)\n",
        "            if i == num_rows - 1:\n",
        "                ax.set_xlabel(xlabel)\n",
        "            if j == 0:\n",
        "                ax.set_ylabel(ylabel)\n",
        "            if titles:\n",
        "                ax.set_title(titles[j])\n",
        "    fig.colorbar(pcm, ax=axes, shrink=0.6);"
      ],
      "metadata": {
        "id": "ffDCFiwwJgj-"
      },
      "execution_count": 2,
      "outputs": []
    },
    {
      "cell_type": "code",
      "source": [
        "n_train = 100  # No. of training examples\n",
        "x_train, _ = torch.sort(torch.rand(n_train) * 5)   # Training inputs"
      ],
      "metadata": {
        "id": "cqsJlDFoJh68"
      },
      "execution_count": 3,
      "outputs": []
    },
    {
      "cell_type": "code",
      "source": [
        "def f(x):\n",
        "    return -4 * torch.cos(x) + 3*x\n",
        "\n",
        "y_train = f(x_train) + torch.normal(0.0, 0.08, (n_train,))\n",
        "x_test = torch.arange(0, 10, 0.1)\n",
        "y_truth = f(x_test)\n",
        "n_test = len(x_test)\n",
        "n_test"
      ],
      "metadata": {
        "colab": {
          "base_uri": "https://localhost:8080/"
        },
        "id": "My3YEjCAJjT5",
        "outputId": "f98e2270-a7ba-4fc7-b7a1-cafdf75cff40"
      },
      "execution_count": 4,
      "outputs": [
        {
          "output_type": "execute_result",
          "data": {
            "text/plain": [
              "100"
            ]
          },
          "metadata": {},
          "execution_count": 4
        }
      ]
    },
    {
      "cell_type": "code",
      "source": [
        "def plot_kernel_reg(y_hat):\n",
        "    plt.plot(x_test, y_truth, label='Truth')\n",
        "    plt.plot(x_test, y_hat, label='Pred')\n",
        "    plt.xlabel('x')\n",
        "    plt.ylabel('y')\n",
        "    plt.xlim([0, 3])\n",
        "    plt.ylim([-1, 10])\n",
        "    plt.legend()\n",
        "    plt.plot(x_train, y_train, 'o', alpha=0.5);"
      ],
      "metadata": {
        "id": "UlN5jV3VJxKC"
      },
      "execution_count": 5,
      "outputs": []
    },
    {
      "cell_type": "code",
      "source": [
        "X_repeat = x_test.repeat_interleave(n_train).reshape((-1, n_train))\n",
        "attention_weights = F.softmax(-(X_repeat - x_train)**2 / 2, dim=1)\n",
        "y_hat = torch.matmul(attention_weights, y_train)\n",
        "plot_kernel_reg(y_hat)"
      ],
      "metadata": {
        "colab": {
          "base_uri": "https://localhost:8080/",
          "height": 455
        },
        "id": "U-v-xnzhJy-t",
        "outputId": "129ac6f9-96a2-4383-cf8e-7bb77aebe8f7"
      },
      "execution_count": 6,
      "outputs": [
        {
          "output_type": "display_data",
          "data": {
            "text/plain": [
              "<Figure size 640x480 with 1 Axes>"
            ],
            "image/png": "[encoded data removed]"
          },
          "metadata": {}
        }
      ]
    },
    {
      "cell_type": "code",
      "source": [
        "show_heatmaps(attention_weights.unsqueeze(0).unsqueeze(0),\n",
        "              xlabel='Sorted training inputs',\n",
        "              ylabel='Sorted testing inputs')"
      ],
      "metadata": {
        "colab": {
          "base_uri": "https://localhost:8080/",
          "height": 240
        },
        "id": "wvbwpwE9J2sU",
        "outputId": "9ad528a9-e315-4bcb-d0ee-2b6f4183be25"
      },
      "execution_count": 7,
      "outputs": [
        {
          "output_type": "display_data",
          "data": {
            "text/plain": [
              "<Figure size 250x250 with 2 Axes>"
            ],
            "image/png": "[encoded data removed]"
          },
          "metadata": {}
        }
      ]
    },
    {
      "cell_type": "code",
      "source": [
        "# exercise 2\n",
        "\n",
        "def sequence_mask(X, valid_len, value=0):\n",
        "    \"\"\"Mask irrelevant entries in sequences.\"\"\"\n",
        "    maxlen = X.size(1)\n",
        "    mask = torch.arange((maxlen), dtype=torch.float32,\n",
        "                        device=X.device)[None, :] < valid_len[:, None]\n",
        "    X[~mask] = value\n",
        "    return X"
      ],
      "metadata": {
        "id": "BP_D2iPiJ4SR"
      },
      "execution_count": 8,
      "outputs": []
    },
    {
      "cell_type": "code",
      "source": [
        "def masked_softmax(X, valid_lens):\n",
        "    \"\"\"Perform softmax operation by masking elements on the last axis.\"\"\"\n",
        "    # `X`: 3D tensor, `valid_lens`: 1D or 2D tensor\n",
        "    if valid_lens is None:\n",
        "        return nn.functional.softmax(X, dim=-1)\n",
        "    else:\n",
        "        shape = X.shape\n",
        "        if valid_lens.dim() == 1:\n",
        "            valid_lens = torch.repeat_interleave(valid_lens, shape[1])\n",
        "        else:\n",
        "            valid_lens = valid_lens.reshape(-1)\n",
        "        # On the last axis, replace masked elements with a very large negative\n",
        "        # value, whose exponentiation outputs 0\n",
        "        X = sequence_mask(X.reshape(-1, shape[-1]), valid_lens,\n",
        "                          value=-1e6)\n",
        "        return F.softmax(X.reshape(shape), dim=-1)"
      ],
      "metadata": {
        "id": "bFHN9-YrJ_WA"
      },
      "execution_count": 9,
      "outputs": []
    },
    {
      "cell_type": "code",
      "source": [
        "class AdditiveAttention(nn.Module):\n",
        "    \"\"\"Additive attention.\"\"\"\n",
        "    def __init__(self, key_size, query_size, num_hiddens, dropout, **kwargs):\n",
        "        super(AdditiveAttention, self).__init__(**kwargs)\n",
        "        self.W_k = nn.Linear(key_size, num_hiddens, bias=False)\n",
        "        self.W_q = nn.Linear(query_size, num_hiddens, bias=False)\n",
        "        self.w_v = nn.Linear(num_hiddens, 1, bias=False)\n",
        "        self.dropout = nn.Dropout(dropout)\n",
        "\n",
        "    def forward(self, queries, keys, values, valid_lens):\n",
        "        queries, keys = self.W_q(queries), self.W_k(keys)\n",
        "        # After dimension expansion, shape of `queries` is: (`batch_size`, no.\n",
        "        # of queries, 1, `num_hiddens`) and shape of `keys` is: (`batch_size`,\n",
        "        # 1, no. of key-value pairs, `num_hiddens`). Sum them up with\n",
        "        # broadcasting\n",
        "        features = queries.unsqueeze(2) + keys.unsqueeze(1)\n",
        "        features = torch.tanh(features)\n",
        "        # There is only one output of `self.w_v`, so we remove the last\n",
        "        # one-dimensional entry from the shape. Shape of `scores` is:\n",
        "        # (`batch_size`, no. of queries, no. of key-value pairs)\n",
        "        scores = self.w_v(features).squeeze(-1)\n",
        "        self.attention_weights = masked_softmax(scores, valid_lens)\n",
        "        # Shape of `values` is: (`batch_size`, no. of key-value pairs, value\n",
        "        # dimension)\n",
        "        return torch.bmm(self.dropout(self.attention_weights), values)"
      ],
      "metadata": {
        "id": "FlRpi5h7KAFy"
      },
      "execution_count": 10,
      "outputs": []
    },
    {
      "cell_type": "code",
      "source": [
        "class DotProductAttention(nn.Module):\n",
        "    \"\"\"Scaled dot product attention.\"\"\"\n",
        "    def __init__(self, dropout, **kwargs):\n",
        "        super(DotProductAttention, self).__init__(**kwargs)\n",
        "        self.dropout = nn.Dropout(dropout)\n",
        "\n",
        "    # Shape of `queries` is: (`batch_size`, no. of queries, `d`)\n",
        "    # Shape of `keys` is: (`batch_size`, no. of key-value pairs, `d`)\n",
        "    # Shape of `values` is: (`batch_size`, no. of key-value pairs, value\n",
        "    # dimension)\n",
        "    # Shape of `valid_lens`: (`batch_size`,) or (`batch_size`, no. of queries)\n",
        "    def forward(self, queries, keys, values, valid_lens=None):\n",
        "        d = queries.shape[-1]\n",
        "        # Use `keys.transpose(1,2)` to swap the last two dimensions of `keys`\n",
        "        scores = torch.bmm(queries, keys.transpose(1,2)) / math.sqrt(d)\n",
        "        self.attention_weights = masked_softmax(scores, valid_lens)\n",
        "        return torch.bmm(self.dropout(self.attention_weights), values)"
      ],
      "metadata": {
        "id": "yenX0PuqKBA8"
      },
      "execution_count": 11,
      "outputs": []
    },
    {
      "cell_type": "code",
      "source": [
        "def transpose_qkv(X, num_heads):\n",
        "    \"\"\"Transposition for parallel computation of multiple attention heads.\"\"\"\n",
        "    # Shape of input `X` is:\n",
        "    # (`batch_size`, no. of queries or key-value pairs, `num_hiddens`).\n",
        "    # Shape of output `X` is:\n",
        "    # (`batch_size`, no. of queries or key-value pairs, `num_heads`,\n",
        "    # `num_hiddens` / `num_heads`)\n",
        "    X = X.reshape(X.shape[0], X.shape[1], num_heads, -1)\n",
        "\n",
        "    # Shape of output `X` is:\n",
        "    # (`batch_size`, `num_heads`, no. of queries or key-value pairs,\n",
        "    # `num_hiddens` / `num_heads`)\n",
        "    X = X.permute(0, 2, 1, 3)\n",
        "\n",
        "    # Shape of `output` is:\n",
        "    # (`batch_size` * `num_heads`, no. of queries or key-value pairs,\n",
        "    # `num_hiddens` / `num_heads`)\n",
        "    return X.reshape(-1, X.shape[2], X.shape[3])\n",
        "\n",
        "def transpose_output(X, num_heads):\n",
        "    \"\"\"Reverse the operation of `transpose_qkv`.\"\"\"\n",
        "    X = X.reshape(-1, num_heads, X.shape[1], X.shape[2])\n",
        "    X = X.permute(0, 2, 1, 3)\n",
        "    return X.reshape(X.shape[0], X.shape[1], -1)"
      ],
      "metadata": {
        "id": "VonFrHDmKB9n"
      },
      "execution_count": 12,
      "outputs": []
    },
    {
      "cell_type": "code",
      "source": [
        "class MultiHeadAttention(nn.Module):\n",
        "    \"\"\"Multi-head attention.\"\"\"\n",
        "    def __init__(self, key_size, query_size, value_size, num_hiddens,\n",
        "                 num_heads, dropout, bias=False, **kwargs):\n",
        "        super(MultiHeadAttention, self).__init__(**kwargs)\n",
        "        self.num_heads = num_heads\n",
        "        self.attention = DotProductAttention(dropout)\n",
        "        self.W_q = nn.Linear(query_size, num_hiddens, bias=bias)\n",
        "        self.W_k = nn.Linear(key_size, num_hiddens, bias=bias)\n",
        "        self.W_v = nn.Linear(value_size, num_hiddens, bias=bias)\n",
        "        self.W_o = nn.Linear(num_hiddens, num_hiddens, bias=bias)\n",
        "\n",
        "    def forward(self, queries, keys, values, valid_lens):\n",
        "        # Shape of `queries`, `keys`, or `values` is:\n",
        "        # (`batch_size`, no. of queries or key-value pairs, `num_hiddens`)\n",
        "        # Shape of `valid_lens` is:\n",
        "        # (`batch_size`,) or (`batch_size`, no. of queries)\n",
        "        # After transposing, shape of output `queries`, `keys`, or `values` is:\n",
        "        # (`batch_size` * `num_heads`, no. of queries or key-value pairs,\n",
        "        # `num_hiddens` / `num_heads`)\n",
        "        queries = transpose_qkv(self.W_q(queries), self.num_heads)\n",
        "        keys = transpose_qkv(self.W_k(keys), self.num_heads)\n",
        "        values = transpose_qkv(self.W_v(values), self.num_heads)\n",
        "\n",
        "        if valid_lens is not None:\n",
        "            # On axis 0, copy the first item (scalar or vector) for\n",
        "            # `num_heads` times, then copy the next item, and so on\n",
        "            valid_lens = torch.repeat_interleave(\n",
        "                valid_lens, repeats=self.num_heads, dim=0)\n",
        "\n",
        "        # Shape of `output` is: (`batch_size` * `num_heads`, no. of queries,\n",
        "        # `num_hiddens` / `num_heads`)\n",
        "        output = self.attention(queries, keys, values, valid_lens)\n",
        "\n",
        "        # Shape of `output_concat` is:\n",
        "        # (`batch_size`, no. of queries, `num_hiddens`)\n",
        "        output_concat = transpose_output(output, self.num_heads)\n",
        "        return self.W_o(output_concat)"
      ],
      "metadata": {
        "id": "vDVfRUwuKDKS"
      },
      "execution_count": 13,
      "outputs": []
    },
    {
      "cell_type": "code",
      "source": [
        "class PositionalEncoding(nn.Module):\n",
        "    \"\"\"Positional encoding.\"\"\"\n",
        "    def __init__(self, num_hiddens, dropout, max_len=1000):\n",
        "        super(PositionalEncoding, self).__init__()\n",
        "        self.dropout = nn.Dropout(dropout)\n",
        "        # Create a long enough `P`\n",
        "        self.P = torch.zeros((1, max_len, num_hiddens))\n",
        "        X = torch.arange(max_len, dtype=torch.float32).reshape(\n",
        "            -1, 1) / torch.pow(10000, torch.arange(\n",
        "            0, num_hiddens, 2, dtype=torch.float32) / num_hiddens)\n",
        "        self.P[:, :, 0::2] = torch.sin(X)\n",
        "        self.P[:, :, 1::2] = torch.cos(X)\n",
        "\n",
        "    def forward(self, X):\n",
        "        X = X + self.P[:, :X.shape[1], :].to(X.device)\n",
        "        return self.dropout(X)"
      ],
      "metadata": {
        "id": "tYVieee4KEDU"
      },
      "execution_count": 14,
      "outputs": []
    },
    {
      "cell_type": "code",
      "source": [
        "class PositionWiseFFN(nn.Module):\n",
        "    \"\"\"Position-wise feed-forward network.\"\"\"\n",
        "    def __init__(self, ffn_num_input, ffn_num_hiddens, ffn_num_outputs,\n",
        "                 **kwargs):\n",
        "        super(PositionWiseFFN, self).__init__(**kwargs)\n",
        "        # hidden layer\n",
        "        self.dense1 = nn.Linear(ffn_num_input, ffn_num_hiddens)\n",
        "        self.relu1 = nn.ReLU()\n",
        "\n",
        "        self.dense2 = nn.Linear(ffn_num_hiddens, ffn_num_hiddens)\n",
        "        self.relu2 = nn.ReLU()\n",
        "\n",
        "        self.dense3 = nn.Linear(ffn_num_hiddens, ffn_num_hiddens)\n",
        "        self.relu3 = nn.ReLU()\n",
        "        # output layer\n",
        "        self.output_layer = nn.Linear(ffn_num_hiddens, ffn_num_outputs)\n",
        "\n",
        "    def forward(self, X):\n",
        "        X = self.dense1(X)\n",
        "        X = self.relu1(X)\n",
        "\n",
        "        X = self.dense2(X)\n",
        "        X = self.relu2(X)\n",
        "\n",
        "        X = self.dense3(X)\n",
        "        X = self.relu3(X)\n",
        "\n",
        "        X = self.output_layer(X)\n",
        "\n",
        "        return X"
      ],
      "metadata": {
        "id": "4PGZptzoKE6H"
      },
      "execution_count": 15,
      "outputs": []
    },
    {
      "cell_type": "code",
      "source": [
        "class AddNorm(nn.Module):\n",
        "    \"\"\"Residual connection followed by layer normalization.\"\"\"\n",
        "    def __init__(self, normalized_shape, dropout, **kwargs):\n",
        "        super(AddNorm, self).__init__(**kwargs)\n",
        "        self.dropout = nn.Dropout(dropout)\n",
        "        self.ln = nn.LayerNorm(normalized_shape)\n",
        "\n",
        "    def forward(self, X, Y):\n",
        "        return self.ln(self.dropout(Y) + X)"
      ],
      "metadata": {
        "id": "iUOsOVgMKI-j"
      },
      "execution_count": 16,
      "outputs": []
    },
    {
      "cell_type": "code",
      "source": [
        "class EncoderBlock(nn.Module):\n",
        "    \"\"\"Transformer encoder block.\"\"\"\n",
        "    def __init__(self, key_size, query_size, value_size, num_hiddens,\n",
        "                 norm_shape, ffn_num_input, ffn_num_hiddens, num_heads,\n",
        "                 dropout, use_bias=False, **kwargs):\n",
        "        super(EncoderBlock, self).__init__(**kwargs)\n",
        "        self.attention = MultiHeadAttention(\n",
        "            key_size, query_size, value_size, num_hiddens, num_heads, dropout,\n",
        "            use_bias)\n",
        "        self.addnorm1 = AddNorm(norm_shape, dropout)\n",
        "        self.ffn = PositionWiseFFN(\n",
        "            ffn_num_input, ffn_num_hiddens, num_hiddens)\n",
        "        self.addnorm2 = AddNorm(norm_shape, dropout)\n",
        "\n",
        "    def forward(self, X, valid_lens):\n",
        "        Y = self.addnorm1(X, self.attention(X, X, X, valid_lens))\n",
        "        return self.addnorm2(Y, self.ffn(Y))"
      ],
      "metadata": {
        "id": "rxnrBOiYKKBz"
      },
      "execution_count": 17,
      "outputs": []
    },
    {
      "cell_type": "code",
      "source": [
        "class Decoder(nn.Module):\n",
        "    \"\"\"The base decoder interface for the encoder-decoder architecture.\"\"\"\n",
        "    def __init__(self, **kwargs):\n",
        "        super(Decoder, self).__init__(**kwargs)\n",
        "\n",
        "    def init_state(self, enc_outputs, *args):\n",
        "        raise NotImplementedError\n",
        "\n",
        "    def forward(self, X, state):\n",
        "        raise NotImplementedError"
      ],
      "metadata": {
        "id": "g2QUUFxOKKw4"
      },
      "execution_count": 18,
      "outputs": []
    },
    {
      "cell_type": "code",
      "source": [
        "class AttentionDecoder(Decoder):\n",
        "    \"\"\"The base attention-based decoder interface.\"\"\"\n",
        "    def __init__(self, **kwargs):\n",
        "        super(AttentionDecoder, self).__init__(**kwargs)\n",
        "\n",
        "    @property\n",
        "    def attention_weights(self):\n",
        "        raise NotImplementedError"
      ],
      "metadata": {
        "id": "Lfi-aimyKLmw"
      },
      "execution_count": 19,
      "outputs": []
    },
    {
      "cell_type": "code",
      "source": [
        "class Seq2SeqAttentionDecoder(AttentionDecoder):\n",
        "    def __init__(self, vocab_size, embed_size, num_hiddens, num_layers,\n",
        "                 dropout=0, **kwargs):\n",
        "        super(Seq2SeqAttentionDecoder, self).__init__(**kwargs)\n",
        "        self.attention = AdditiveAttention(\n",
        "            num_hiddens, num_hiddens, num_hiddens, dropout)\n",
        "        self.embedding = nn.Embedding(vocab_size, embed_size)\n",
        "        self.rnn = nn.GRU(\n",
        "            embed_size + num_hiddens, num_hiddens, num_layers,\n",
        "            dropout=dropout)\n",
        "        self.dense = nn.Linear(num_hiddens, vocab_size)\n",
        "\n",
        "    def init_state(self, enc_outputs, enc_valid_lens, *args):\n",
        "        # Shape of `outputs` is: (`num_steps`, `batch_size`, `num_hiddens`).\n",
        "        # Shape of `hidden_state[0]` is: (`num_layers`, `batch_size`,\n",
        "        # `num_hiddens`)\n",
        "        outputs, hidden_state = enc_outputs\n",
        "        return (outputs.permute(1, 0, 2), hidden_state, enc_valid_lens)\n",
        "\n",
        "    def forward(self, X, state):\n",
        "        # Shape of `enc_outputs` is: (`batch_size`, `num_steps`, `num_hiddens`).\n",
        "        # Shape of `hidden_state[0]` is: (`num_layers`, `batch_size`,\n",
        "        # `num_hiddens`)\n",
        "        enc_outputs, hidden_state, enc_valid_lens = state\n",
        "        # Shape of the output `X` is: (`num_steps`, `batch_size`, `embed_size`)\n",
        "        X = self.embedding(X).permute(1, 0, 2)\n",
        "        outputs, self._attention_weights = [], []\n",
        "        for x in X:\n",
        "            # Shape of `query` is: (`batch_size`, 1, `num_hiddens`)\n",
        "            query = torch.unsqueeze(hidden_state[-1], dim=1)\n",
        "            # Shape of `context` is: (`batch_size`, 1, `num_hiddens`)\n",
        "            context = self.attention(\n",
        "                query, enc_outputs, enc_outputs, enc_valid_lens)\n",
        "            # Concatenate on the feature dimension\n",
        "            x = torch.cat((context, torch.unsqueeze(x, dim=1)), dim=-1)\n",
        "            # Reshape `x` as (1, `batch_size`, `embed_size` + `num_hiddens`)\n",
        "            out, hidden_state = self.rnn(x.permute(1, 0, 2), hidden_state)\n",
        "            outputs.append(out)\n",
        "            self._attention_weights.append(self.attention.attention_weights)\n",
        "        # After fully-connected layer transformation, shape of `outputs` is:\n",
        "        # (`num_steps`, `batch_size`, `vocab_size`)\n",
        "        outputs = self.dense(torch.cat(outputs, dim=0))\n",
        "        return outputs.permute(1, 0, 2), [enc_outputs, hidden_state,\n",
        "                                          enc_valid_lens]\n",
        "\n",
        "    @property\n",
        "    def attention_weights(self):\n",
        "        return self._attention_weights"
      ],
      "metadata": {
        "id": "qVs4qe2SKMfa"
      },
      "execution_count": 20,
      "outputs": []
    },
    {
      "cell_type": "code",
      "source": [
        "class Encoder(nn.Module):\n",
        "    \"\"\"The base encoder interface for the encoder-decoder architecture.\"\"\"\n",
        "    def __init__(self, **kwargs):\n",
        "        super(Encoder, self).__init__(**kwargs)\n",
        "\n",
        "    def forward(self, X, *args):\n",
        "        raise NotImplementedError\n",
        "\n",
        "class Seq2SeqEncoder(Encoder):\n",
        "    \"\"\"The RNN encoder for sequence to sequence learning.\"\"\"\n",
        "    def __init__(self, vocab_size, embed_size, num_hiddens, num_layers,\n",
        "                 dropout=0, **kwargs):\n",
        "        super(Seq2SeqEncoder, self).__init__(**kwargs)\n",
        "        # Embedding layer\n",
        "        self.embedding = nn.Embedding(vocab_size, embed_size)\n",
        "        self.rnn = nn.GRU(embed_size, num_hiddens, num_layers,\n",
        "                          dropout=dropout)\n",
        "\n",
        "    def forward(self, X, *args):\n",
        "        # The output `X` shape: (`batch_size`, `num_steps`, `embed_size`)\n",
        "        X = self.embedding(X)\n",
        "        # In RNN models, the first axis corresponds to time steps\n",
        "        X = X.permute(1, 0, 2)\n",
        "        # When state is not mentioned, it defaults to zeros\n",
        "        output, state = self.rnn(X)\n",
        "        # `output` shape: (`num_steps`, `batch_size`, `num_hiddens`)\n",
        "        # `state` shape: (`num_layers`, `batch_size`, `num_hiddens`)\n",
        "        return output, state"
      ],
      "metadata": {
        "id": "0IzQrdPDKNl4"
      },
      "execution_count": 21,
      "outputs": []
    },
    {
      "cell_type": "code",
      "source": [
        "def try_gpu(i=0):\n",
        "    \"\"\"Return gpu(i) if exists, otherwise return cpu().\"\"\"\n",
        "    if torch.cuda.device_count() >= i + 1:\n",
        "        return torch.device(f'cuda:{i}')\n",
        "    return torch.device('cpu')"
      ],
      "metadata": {
        "id": "RgumdnZ-KO1J"
      },
      "execution_count": 22,
      "outputs": []
    },
    {
      "cell_type": "code",
      "source": [
        "class Vocab:\n",
        "    \"\"\"Vocabulary for text.\"\"\"\n",
        "    def __init__(self, tokens=None, min_freq=0, reserved_tokens=None):\n",
        "        if tokens is None:\n",
        "            tokens = []\n",
        "        if reserved_tokens is None:\n",
        "            reserved_tokens = []\n",
        "        # Sort according to frequencies\n",
        "        counter = count_corpus(tokens)\n",
        "        self._token_freqs = sorted(counter.items(), key=lambda x: x[1],\n",
        "                                   reverse=True)\n",
        "        # The index for the unknown token is 0\n",
        "        self.idx_to_token = ['<unk>'] + reserved_tokens\n",
        "        self.token_to_idx = {token: idx\n",
        "                             for idx, token in enumerate(self.idx_to_token)}\n",
        "        for token, freq in self._token_freqs:\n",
        "            if freq < min_freq:\n",
        "                break\n",
        "            if token not in self.token_to_idx:\n",
        "                self.idx_to_token.append(token)\n",
        "                self.token_to_idx[token] = len(self.idx_to_token) - 1\n",
        "\n",
        "    def __len__(self):\n",
        "        return len(self.idx_to_token)\n",
        "\n",
        "    def __getitem__(self, tokens):\n",
        "        if not isinstance(tokens, (list, tuple)):\n",
        "            return self.token_to_idx.get(tokens, self.unk)\n",
        "        return [self.__getitem__(token) for token in tokens]\n",
        "\n",
        "    def to_tokens(self, indices):\n",
        "        if not isinstance(indices, (list, tuple)):\n",
        "            return self.idx_to_token[indices]\n",
        "        return [self.idx_to_token[index] for index in indices]\n",
        "\n",
        "    @property\n",
        "    def unk(self):  # Index for the unknown token\n",
        "        return 0\n",
        "\n",
        "    @property\n",
        "    def token_freqs(self):  # Token frequencies\n",
        "        return self._token_freqs\n",
        "\n",
        "def count_corpus(tokens):\n",
        "    \"\"\"Count token frequencies.\"\"\"\n",
        "    # Here `tokens` is a 1D list or 2D list\n",
        "    if len(tokens) == 0 or isinstance(tokens[0], list):\n",
        "        # Flatten a list of token lists into a list of tokens\n",
        "        tokens = [token for line in tokens for token in line]\n",
        "    return collections.Counter(tokens)\n",
        "\n",
        "def download(url, cache_dir=os.path.join('..', 'data')):\n",
        "    \"\"\"Download a file, return the local filename.\"\"\"\n",
        "    os.makedirs(cache_dir, exist_ok=True)\n",
        "    fname = os.path.join(cache_dir, url.split('/')[-1])\n",
        "    if os.path.exists(fname):\n",
        "        with open(fname, 'rb') as f:\n",
        "            while True:\n",
        "                data = f.read(1048576)\n",
        "                if not data:\n",
        "                    break\n",
        "        return fname\n",
        "    print(f'Downloading {fname} from {url}...')\n",
        "    r = requests.get(url, stream=True, verify=True)\n",
        "    with open(fname, 'wb') as f:\n",
        "        f.write(r.content)\n",
        "    return fname\n",
        "\n",
        "def download_extract(url, folder=None):\n",
        "    \"\"\"Download and extract a zip file.\"\"\"\n",
        "    fname = download(url)\n",
        "    base_dir = os.path.dirname(fname)\n",
        "    data_dir, ext = os.path.splitext(fname)\n",
        "    if ext == '.zip':\n",
        "        fp = zipfile.ZipFile(fname, 'r')\n",
        "    else:\n",
        "        assert False, 'Only zip files can be extracted.'\n",
        "    fp.extractall(base_dir)\n",
        "    return os.path.join(base_dir, folder) if folder else data_dir\n",
        "\n",
        "def read_data_nmt():\n",
        "    \"\"\"Load the English-French dataset.\"\"\"\n",
        "    data_dir = download_extract('http://d2l-data.s3-accelerate.amazonaws.com/fra-eng.zip')\n",
        "    with open(os.path.join(data_dir, 'fra.txt'), 'r') as f:\n",
        "        return f.read()\n",
        "\n",
        "def preprocess_nmt(text):\n",
        "    \"\"\"Preprocess the English-French dataset.\"\"\"\n",
        "    def no_space(char, prev_char):\n",
        "        return char in set(',.!?') and prev_char != ' '\n",
        "\n",
        "    # Replace non-breaking space with space, and convert uppercase letters to\n",
        "    # lowercase ones\n",
        "    text = text.replace('\\u202f', ' ').replace('\\xa0', ' ').lower()\n",
        "    # Insert space between words and punctuation marks\n",
        "    out = [' ' + char if i > 0 and no_space(char, text[i - 1]) else char\n",
        "           for i, char in enumerate(text)]\n",
        "    return ''.join(out)\n",
        "\n",
        "def tokenize_nmt(text, num_examples=None):\n",
        "    \"\"\"Tokenize the English-French dataset.\"\"\"\n",
        "    source, target = [], []\n",
        "    for i, line in enumerate(text.split('\\n')):\n",
        "        if num_examples and i > num_examples:\n",
        "            break\n",
        "        parts = line.split('\\t')\n",
        "        if len(parts) == 2:\n",
        "            source.append(parts[0].split(' '))\n",
        "            target.append(parts[1].split(' '))\n",
        "    return source, target\n",
        "\n",
        "def truncate_pad(line, num_steps, padding_token):\n",
        "    \"\"\"Truncate or pad sequences.\"\"\"\n",
        "    if len(line) > num_steps:\n",
        "        return line[:num_steps]  # Truncate\n",
        "    return line + [padding_token] * (num_steps - len(line))  # Pad\n",
        "\n",
        "def build_array_nmt(lines, vocab, num_steps):\n",
        "    \"\"\"Transform text sequences of machine translation into mini-batches.\"\"\"\n",
        "    lines = [vocab[l] for l in lines]\n",
        "    lines = [l + [vocab['<eos>']] for l in lines]\n",
        "    array = torch.tensor([truncate_pad(\n",
        "        l, num_steps, vocab['<pad>']) for l in lines])\n",
        "    valid_len = (array != vocab['<pad>']).type(torch.int32).sum(1)\n",
        "    return array, valid_len\n",
        "\n",
        "def load_array(data_arrays, batch_size, is_train=True):\n",
        "    \"\"\"Construct a PyTorch data iterator.\"\"\"\n",
        "    dataset = torch.utils.data.TensorDataset(*data_arrays)\n",
        "    return torch.utils.data.DataLoader(dataset, batch_size, shuffle=is_train)\n",
        "\n",
        "def load_data_nmt(batch_size, num_steps, num_examples=600):\n",
        "    \"\"\"Return the iterator and the vocabularies of the translation dataset.\"\"\"\n",
        "    text = preprocess_nmt(read_data_nmt())\n",
        "    source, target = tokenize_nmt(text, num_examples)\n",
        "    src_vocab = Vocab(source, min_freq=2,\n",
        "                          reserved_tokens=['<pad>', '<bos>', '<eos>'])\n",
        "    tgt_vocab = Vocab(target, min_freq=2,\n",
        "                          reserved_tokens=['<pad>', '<bos>', '<eos>'])\n",
        "    src_array, src_valid_len = build_array_nmt(source, src_vocab, num_steps)\n",
        "    tgt_array, tgt_valid_len = build_array_nmt(target, tgt_vocab, num_steps)\n",
        "    data_arrays = (src_array, src_valid_len, tgt_array, tgt_valid_len)\n",
        "    data_iter = load_array(data_arrays, batch_size)\n",
        "    return data_iter, src_vocab, tgt_vocab"
      ],
      "metadata": {
        "id": "4zNyU7N_KP07"
      },
      "execution_count": 23,
      "outputs": []
    },
    {
      "cell_type": "code",
      "source": [
        "class EncoderDecoder(nn.Module):\n",
        "    \"\"\"The base class for the encoder-decoder architecture.\"\"\"\n",
        "    def __init__(self, encoder, decoder, **kwargs):\n",
        "        super(EncoderDecoder, self).__init__(**kwargs)\n",
        "        self.encoder = encoder\n",
        "        self.decoder = decoder\n",
        "\n",
        "    def forward(self, enc_X, dec_X, *args):\n",
        "        enc_outputs = self.encoder(enc_X, *args)\n",
        "        dec_state = self.decoder.init_state(enc_outputs, *args)\n",
        "        return self.decoder(dec_X, dec_state)"
      ],
      "metadata": {
        "id": "Zf_B9l_rKRUp"
      },
      "execution_count": 24,
      "outputs": []
    },
    {
      "cell_type": "code",
      "source": [
        "class MaskedSoftmaxCELoss(nn.CrossEntropyLoss):\n",
        "    \"\"\"The softmax cross-entropy loss with masks.\"\"\"\n",
        "    # `pred` shape: (`batch_size`, `num_steps`, `vocab_size`)\n",
        "    # `label` shape: (`batch_size`, `num_steps`)\n",
        "    # `valid_len` shape: (`batch_size`,)\n",
        "    def forward(self, pred, label, valid_len):\n",
        "        weights = torch.ones_like(label)\n",
        "        weights = sequence_mask(weights, valid_len)\n",
        "        self.reduction='none'\n",
        "        unweighted_loss = super(MaskedSoftmaxCELoss, self).forward(\n",
        "            pred.permute(0, 2, 1), label)\n",
        "        weighted_loss = (unweighted_loss * weights).mean(dim=1)\n",
        "        return weighted_loss\n",
        "\n",
        "def grad_clipping(net, theta):\n",
        "    \"\"\"Clip the gradient.\"\"\"\n",
        "    params = [p for p in net.parameters() if p.requires_grad]\n",
        "    norm = torch.sqrt(sum(torch.sum((p.grad ** 2)) for p in params))\n",
        "    if norm > theta:\n",
        "        for param in params:\n",
        "            param.grad[:] *= theta / norm\n",
        "\n",
        "def train_seq2seq(net, data_iter, lr, num_epochs, tgt_vocab, device):\n",
        "    \"\"\"Train a model for sequence to sequence.\"\"\"\n",
        "    def xavier_init_weights(m):\n",
        "        if type(m) == nn.Linear:\n",
        "            nn.init.xavier_uniform_(m.weight)\n",
        "        if type(m) == nn.GRU:\n",
        "            for param in m._flat_weights_names:\n",
        "                if \"weight\" in param:\n",
        "                    nn.init.xavier_uniform_(m._parameters[param])\n",
        "    net.apply(xavier_init_weights)\n",
        "    net.to(device)\n",
        "    optimizer = torch.optim.Adam(net.parameters(), lr=lr)\n",
        "    loss = MaskedSoftmaxCELoss()\n",
        "    net.train()\n",
        "    train_loss_all = []\n",
        "    for epoch in range(num_epochs):\n",
        "        # Sum of training loss, no. of tokens\n",
        "        total_loss = 0\n",
        "        total_tokens = 0\n",
        "        for batch in data_iter:\n",
        "            optimizer.zero_grad()\n",
        "            X, X_valid_len, Y, Y_valid_len = [x.to(device) for x in batch]\n",
        "            bos = torch.tensor([tgt_vocab['<bos>']] * Y.shape[0],\n",
        "                               device=device).reshape(-1, 1)\n",
        "            dec_input = torch.cat([bos, Y[:, :-1]], 1)  # Teacher forcing\n",
        "            Y_hat, _ = net(X, dec_input, X_valid_len)\n",
        "            l = loss(Y_hat, Y, Y_valid_len)\n",
        "            l.sum().backward()  # Make the loss scalar for `backward`\n",
        "            grad_clipping(net, 1)\n",
        "            num_tokens = Y_valid_len.sum()\n",
        "            optimizer.step()\n",
        "            with torch.no_grad():\n",
        "                total_loss += l.sum()\n",
        "                total_tokens += num_tokens\n",
        "        if (epoch + 1) % 10 == 0:\n",
        "            train_loss_all.append(total_loss / total_tokens)\n",
        "    print(f'loss {total_loss / total_tokens:.3f}, device {str(device)}')\n",
        "\n",
        "    return train_loss_all"
      ],
      "metadata": {
        "id": "9GrMjdw5KSsy"
      },
      "execution_count": 25,
      "outputs": []
    },
    {
      "cell_type": "code",
      "source": [
        "def plot_loss(train_loss_all):\n",
        "    train_loss_all = [loss.cpu() for loss in train_loss_all]\n",
        "    epochs = range(10, len(train_loss_all * 10) + 1, 10)\n",
        "    plt.plot(epochs, train_loss_all, 'b', label='Train loss')\n",
        "    plt.title('Training loss')\n",
        "    plt.xlabel('Epochs')\n",
        "    plt.ylabel('Loss')\n",
        "    plt.legend()\n",
        "    plt.show()"
      ],
      "metadata": {
        "id": "jxE7oFQKKTqY"
      },
      "execution_count": 26,
      "outputs": []
    },
    {
      "cell_type": "code",
      "source": [
        "def predict_seq2seq(net, src_sentence, src_vocab, tgt_vocab, num_steps,\n",
        "                    device, save_attention_weights=False):\n",
        "    \"\"\"Predict for sequence to sequence.\"\"\"\n",
        "    # Set `net` to eval mode for inference\n",
        "    net.eval()\n",
        "    src_tokens = src_vocab[src_sentence.lower().split(' ')] + [\n",
        "        src_vocab['<eos>']]\n",
        "    enc_valid_len = torch.tensor([len(src_tokens)], device=device)\n",
        "    src_tokens = truncate_pad(src_tokens, num_steps, src_vocab['<pad>'])\n",
        "    # Add the batch axis\n",
        "    enc_X = torch.unsqueeze(\n",
        "        torch.tensor(src_tokens, dtype=torch.long, device=device), dim=0)\n",
        "    enc_outputs = net.encoder(enc_X, enc_valid_len)\n",
        "    dec_state = net.decoder.init_state(enc_outputs, enc_valid_len)\n",
        "    # Add the batch axis\n",
        "    dec_X = torch.unsqueeze(torch.tensor(\n",
        "        [tgt_vocab['<bos>']], dtype=torch.long, device=device), dim=0)\n",
        "    output_seq, attention_weight_seq = [], []\n",
        "    for _ in range(num_steps):\n",
        "        Y, dec_state = net.decoder(dec_X, dec_state)\n",
        "        # We use the token with the highest prediction likelihood as the input\n",
        "        # of the decoder at the next time step\n",
        "        dec_X = Y.argmax(dim=2)\n",
        "        pred = dec_X.squeeze(dim=0).type(torch.int32).item()\n",
        "        # Save attention weights\n",
        "        if save_attention_weights:\n",
        "            attention_weight_seq.append(net.decoder.attention_weights)\n",
        "        # Once the end-of-sequence token is predicted, the generation of the\n",
        "        # output sequence is complete\n",
        "        if pred == tgt_vocab['<eos>']:\n",
        "            break\n",
        "        output_seq.append(pred)\n",
        "    return ' '.join(tgt_vocab.to_tokens(output_seq)), attention_weight_seq"
      ],
      "metadata": {
        "id": "gTOsowq7KcN1"
      },
      "execution_count": 27,
      "outputs": []
    },
    {
      "cell_type": "code",
      "source": [
        "def bleu(pred_seq, label_seq, k):\n",
        "    \"\"\"Compute the BLEU.\"\"\"\n",
        "    pred_tokens, label_tokens = pred_seq.split(' '), label_seq.split(' ')\n",
        "    len_pred, len_label = len(pred_tokens), len(label_tokens)\n",
        "    score = math.exp(min(0, 1 - len_label / len_pred))\n",
        "    for n in range(1, k + 1):\n",
        "        num_matches, label_subs = 0, collections.defaultdict(int)\n",
        "        for i in range(len_label - n + 1):\n",
        "            label_subs[' '.join(label_tokens[i: i + n])] += 1\n",
        "        for i in range(len_pred - n + 1):\n",
        "            if label_subs[' '.join(pred_tokens[i: i + n])] > 0:\n",
        "                num_matches += 1\n",
        "                label_subs[' '.join(pred_tokens[i: i + n])] -= 1\n",
        "        score *= math.pow(num_matches / (len_pred - n + 1), math.pow(0.5, n))\n",
        "    return score"
      ],
      "metadata": {
        "id": "1DDpUUacKdGj"
      },
      "execution_count": 28,
      "outputs": []
    },
    {
      "cell_type": "code",
      "source": [
        "class TransformerEncoder(Encoder):\n",
        "    \"\"\"Transformer encoder.\"\"\"\n",
        "    def __init__(self, vocab_size, key_size, query_size, value_size,\n",
        "                 num_hiddens, norm_shape, ffn_num_input, ffn_num_hiddens,\n",
        "                 num_heads, num_layers, dropout, use_bias=False, **kwargs):\n",
        "        super(TransformerEncoder, self).__init__(**kwargs)\n",
        "        self.num_hiddens = num_hiddens\n",
        "        self.embedding = nn.Embedding(vocab_size, num_hiddens)\n",
        "        self.pos_encoding = PositionalEncoding(num_hiddens, dropout)\n",
        "        self.blks = nn.Sequential()\n",
        "        for i in range(num_layers):\n",
        "            self.blks.add_module(\"block\"+str(i),\n",
        "                EncoderBlock(key_size, query_size, value_size, num_hiddens,\n",
        "                             norm_shape, ffn_num_input, ffn_num_hiddens,\n",
        "                             num_heads, dropout, use_bias))\n",
        "\n",
        "    def forward(self, X, valid_lens, *args):\n",
        "        # Since positional encoding values are between -1 and 1, the embedding\n",
        "        # values are multiplied by the square root of the embedding dimension\n",
        "        # to rescale before they are summed up\n",
        "        X = self.pos_encoding(self.embedding(X) * math.sqrt(self.num_hiddens))\n",
        "        self.attention_weights = [None] * len(self.blks)\n",
        "        for i, blk in enumerate(self.blks):\n",
        "            X = blk(X, valid_lens)\n",
        "            self.attention_weights[\n",
        "                i] = blk.attention.attention.attention_weights\n",
        "        return X"
      ],
      "metadata": {
        "id": "7BUeQ-RSKeH4"
      },
      "execution_count": 29,
      "outputs": []
    },
    {
      "cell_type": "code",
      "source": [
        "class DecoderBlock(nn.Module):\n",
        "    # The `i`-th block in the decoder\n",
        "    def __init__(self, key_size, query_size, value_size, num_hiddens,\n",
        "                 norm_shape, ffn_num_input, ffn_num_hiddens, num_heads,\n",
        "                 dropout, i, **kwargs):\n",
        "        super(DecoderBlock, self).__init__(**kwargs)\n",
        "        self.i = i\n",
        "        self.attention1 = MultiHeadAttention(\n",
        "            key_size, query_size, value_size, num_hiddens, num_heads, dropout)\n",
        "        self.addnorm1 = AddNorm(norm_shape, dropout)\n",
        "        self.attention2 = MultiHeadAttention(\n",
        "            key_size, query_size, value_size, num_hiddens, num_heads, dropout)\n",
        "        self.addnorm2 = AddNorm(norm_shape, dropout)\n",
        "        self.ffn = PositionWiseFFN(ffn_num_input, ffn_num_hiddens,\n",
        "                                   num_hiddens)\n",
        "        self.addnorm3 = AddNorm(norm_shape, dropout)\n",
        "\n",
        "    def forward(self, X, state):\n",
        "        enc_outputs, enc_valid_lens = state[0], state[1]\n",
        "        # During training, all the tokens of any output sequence are processed\n",
        "        # at the same time, so `state[2][self.i]` is `None` as initialized.\n",
        "        # When decoding any output sequence token by token during prediction,\n",
        "        # `state[2][self.i]` contains representations of the decoded output at\n",
        "        # the `i`-th block up to the current time step\n",
        "        if state[2][self.i] is None:\n",
        "            key_values = X\n",
        "        else:\n",
        "            key_values = torch.cat((state[2][self.i], X), axis=1)\n",
        "        state[2][self.i] = key_values\n",
        "        if self.training:\n",
        "            batch_size, num_steps, _ = X.shape\n",
        "            # Shape of `dec_valid_lens` is: (`batch_size`, `num_steps`), where\n",
        "            # every row is [1, 2, ..., `num_steps`]\n",
        "            dec_valid_lens = torch.arange(\n",
        "                1, num_steps + 1, device=X.device).repeat(batch_size, 1)\n",
        "        else:\n",
        "            dec_valid_lens = None\n",
        "\n",
        "        # Self-attention\n",
        "        X2 = self.attention1(X, key_values, key_values, dec_valid_lens)\n",
        "        Y = self.addnorm1(X, X2)\n",
        "        # Encoder-decoder attention. Shape of `enc_outputs` is:\n",
        "        # (`batch_size`, `num_steps`, `num_hiddens`)\n",
        "        Y2 = self.attention2(Y, enc_outputs, enc_outputs, enc_valid_lens)\n",
        "        Z = self.addnorm2(Y, Y2)\n",
        "        return self.addnorm3(Z, self.ffn(Z)), state"
      ],
      "metadata": {
        "id": "8AaJHmInKe9X"
      },
      "execution_count": 30,
      "outputs": []
    },
    {
      "cell_type": "code",
      "source": [
        "class TransformerDecoder(AttentionDecoder):\n",
        "    def __init__(self, vocab_size, key_size, query_size, value_size,\n",
        "                 num_hiddens, norm_shape, ffn_num_input, ffn_num_hiddens,\n",
        "                 num_heads, num_layers, dropout, **kwargs):\n",
        "        super(TransformerDecoder, self).__init__(**kwargs)\n",
        "        self.num_hiddens = num_hiddens\n",
        "        self.num_layers = num_layers\n",
        "        self.embedding = nn.Embedding(vocab_size, num_hiddens)\n",
        "        self.pos_encoding = PositionalEncoding(num_hiddens, dropout)\n",
        "        self.blks = nn.Sequential()\n",
        "        for i in range(num_layers):\n",
        "            self.blks.add_module(\"block\"+str(i),\n",
        "                DecoderBlock(key_size, query_size, value_size, num_hiddens,\n",
        "                             norm_shape, ffn_num_input, ffn_num_hiddens,\n",
        "                             num_heads, dropout, i))\n",
        "        self.dense = nn.Linear(num_hiddens, vocab_size)\n",
        "\n",
        "    def init_state(self, enc_outputs, enc_valid_lens, *args):\n",
        "        return [enc_outputs, enc_valid_lens, [None] * self.num_layers]\n",
        "\n",
        "    def forward(self, X, state):\n",
        "        X = self.pos_encoding(self.embedding(X) * math.sqrt(self.num_hiddens))\n",
        "        self._attention_weights = [[None] * len(self.blks) for _ in range (2)]\n",
        "        for i, blk in enumerate(self.blks):\n",
        "            X, state = blk(X, state)\n",
        "            # Decoder self-attention weights\n",
        "            self._attention_weights[0][\n",
        "                i] = blk.attention1.attention.attention_weights\n",
        "            # Encoder-decoder attention weights\n",
        "            self._attention_weights[1][\n",
        "                i] = blk.attention2.attention.attention_weights\n",
        "        return self.dense(X), state\n",
        "\n",
        "    @property\n",
        "    def attention_weights(self):\n",
        "        return self._attention_weights"
      ],
      "metadata": {
        "id": "XlSUb7P3Kf8D"
      },
      "execution_count": 31,
      "outputs": []
    },
    {
      "cell_type": "code",
      "source": [
        "num_hiddens, num_layers, dropout, batch_size, num_steps = 32, 2, 0.7, 64, 10\n",
        "lr, num_epochs, device = 0.005, 400, try_gpu()\n",
        "ffn_num_input, ffn_num_hiddens, num_heads = 32, 32, 4\n",
        "key_size, query_size, value_size = 32, 32, 32\n",
        "norm_shape = [32]\n",
        "\n",
        "train_iter, src_vocab, tgt_vocab = load_data_nmt(batch_size, num_steps)\n",
        "\n",
        "encoder = TransformerEncoder(\n",
        "    len(src_vocab), key_size, query_size, value_size, num_hiddens,\n",
        "    norm_shape, ffn_num_input, ffn_num_hiddens, num_heads,\n",
        "    num_layers, dropout)\n",
        "decoder = TransformerDecoder(\n",
        "    len(tgt_vocab), key_size, query_size, value_size, num_hiddens,\n",
        "    norm_shape, ffn_num_input, ffn_num_hiddens, num_heads,\n",
        "    num_layers, dropout)\n",
        "net = EncoderDecoder(encoder, decoder)\n",
        "train_loss_all = train_seq2seq(net, train_iter, lr, num_epochs, tgt_vocab, device) #1 min"
      ],
      "metadata": {
        "colab": {
          "base_uri": "https://localhost:8080/"
        },
        "id": "lxwsRWolKg_-",
        "outputId": "999101ef-7314-430e-fdef-01b9f35d7592"
      },
      "execution_count": 32,
      "outputs": [
        {
          "output_type": "stream",
          "name": "stdout",
          "text": [
            "Downloading ../data/fra-eng.zip from http://d2l-data.s3-accelerate.amazonaws.com/fra-eng.zip...\n",
            "loss 0.192, device cuda:0\n"
          ]
        }
      ]
    },
    {
      "cell_type": "code",
      "source": [
        "plot_loss(train_loss_all)"
      ],
      "metadata": {
        "colab": {
          "base_uri": "https://localhost:8080/",
          "height": 473
        },
        "id": "xkBsTBY-KiaX",
        "outputId": "fe23e5e2-3e6e-4585-cbfb-7712c607a157"
      },
      "execution_count": 33,
      "outputs": [
        {
          "output_type": "display_data",
          "data": {
            "text/plain": [
              "<Figure size 640x480 with 1 Axes>"
            ],
            "image/png": "[encoded data removed]"
          },
          "metadata": {}
        }
      ]
    }
  ]
}