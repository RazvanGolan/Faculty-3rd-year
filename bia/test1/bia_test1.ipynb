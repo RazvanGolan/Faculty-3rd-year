{
  "nbformat": 4,
  "nbformat_minor": 0,
  "metadata": {
    "colab": {
      "provenance": [],
      "authorship_tag": "ABX9TyNQdphcS3tDqN+meAbo5DJM",
      "include_colab_link": true
    },
    "kernelspec": {
      "name": "python3",
      "display_name": "Python 3"
    },
    "language_info": {
      "name": "python"
    }
  },
  "cells": [
    {
      "cell_type": "markdown",
      "metadata": {
        "id": "view-in-github",
        "colab_type": "text"
      },
      "source": [
        "<a href=\"https://colab.research.google.com/github/RazvanGolan/Faculty-3rd-year/blob/main/bia/test1/bia_test1.ipynb\" target=\"_parent\"><img src=\"https://colab.research.google.com/assets/colab-badge.svg\" alt=\"Open In Colab\"/></a>"
      ]
    },
    {
      "cell_type": "code",
      "execution_count": null,
      "metadata": {
        "colab": {
          "base_uri": "https://localhost:8080/"
        },
        "id": "F-ahLVong5x1",
        "outputId": "9037b1b2-827e-4cf6-af23-ce8206d447a3"
      },
      "outputs": [
        {
          "output_type": "stream",
          "name": "stdout",
          "text": [
            "W: [16.66172136]\n",
            "w0: [0.49837556]\n",
            "MSE: 0.015580206586990499\n"
          ]
        }
      ],
      "source": [
        "# test Bitea Razvan\n",
        "# exercise 1\n",
        "\n",
        "from sklearn.datasets import make_regression\n",
        "from sklearn.model_selection import train_test_split\n",
        "from sklearn.linear_model import SGDRegressor\n",
        "from sklearn.linear_model import ElasticNet\n",
        "from sklearn.metrics import mean_squared_error\n",
        "from sklearn.base import clone\n",
        "import numpy as np\n",
        "\n",
        "X, y = make_regression(n_samples=1000, n_features=1, noise=0.1, bias=0.5, random_state=42)\n",
        "\n",
        "X_train, X_val, y_train, y_val = train_test_split(X, y, test_size=0.3)\n",
        "\n",
        "sgd_reg = SGDRegressor(penalty=\"elasticnet\", alpha=0.01, l1_ratio=0.6, max_iter=400, tol=0.001, learning_rate='constant', random_state=42)\n",
        "sgd_reg.fit(X_train, y_train.ravel())\n",
        "\n",
        "y_predict = sgd_reg.predict(X_val)\n",
        "mse = mean_squared_error(y_val, y_predict)\n",
        "\n",
        "print(f\"W: {sgd_reg.coef_}\")\n",
        "print(f\"w0: {sgd_reg.intercept_}\")\n",
        "print(f\"MSE: {mse}\")"
      ]
    },
    {
      "cell_type": "code",
      "source": [
        "# exercise 2\n",
        "\n",
        "from sklearn.svm import SVC\n",
        "from sklearn.svm import LinearSVR\n",
        "\n",
        "X, y = make_regression(n_samples=1000, n_features=2, noise=0.5, bias=1, random_state=42)\n",
        "\n",
        "X_train, X_val, y_train, y_val = train_test_split(X, y, test_size=0.25, random_state=42)\n",
        "\n",
        "\n",
        "# svm_clf = SVC(kernel=\"linear\", C=0.1, max_iter=500, tol=0.5, random_state=42)\n",
        "# svm_clf.fit(X_train, y_train)\n",
        "svm_reg = LinearSVR(C=0.1, epsilon=0.5, random_state=42)\n",
        "svm_reg.fit(X_train, y_train.ravel())\n",
        "\n",
        "def find_support_vectors(svm_reg, X, y):\n",
        "    y_pred = svm_reg.predict(X)\n",
        "    off_margin = (np.abs(y - y_pred) >= svm_reg.epsilon)\n",
        "    return np.argwhere(off_margin)\n",
        "\n",
        "print(f\"Coefficients: {svm_reg.coef_}\")\n",
        "print(f\"Intercept: {svm_reg.intercept_}\")\n",
        "print(f\"First support vector: {find_support_vectors(svm_reg, X, y)[0]}\")\n",
        "print(f\"MSE: {mean_squared_error(y_val, svm_reg.predict(X_val))}\")"
      ],
      "metadata": {
        "colab": {
          "base_uri": "https://localhost:8080/"
        },
        "id": "ZRh1kQzSl7nR",
        "outputId": "79e9aa95-1574-4527-f160-933c49c41053"
      },
      "execution_count": null,
      "outputs": [
        {
          "output_type": "stream",
          "name": "stdout",
          "text": [
            "Coefficients: [40.02258451  6.47071111]\n",
            "Intercept: [0.98827955]\n",
            "First support vector: [0]\n",
            "MSE: 0.6414237507379209\n"
          ]
        }
      ]
    },
    {
      "cell_type": "code",
      "source": [
        "# exercise 3\n",
        "\n",
        "from sklearn.datasets import make_classification\n",
        "from sklearn.tree import DecisionTreeClassifier\n",
        "from sklearn.metrics import accuracy_score\n",
        "\n",
        "X, y = make_classification(n_samples=1000, n_features=4, n_informative=4, n_redundant=0, n_classes=3, n_clusters_per_class=1, random_state=42)\n",
        "\n",
        "X_train, X_val, y_train, y_val = train_test_split(X, y, test_size=0.25)\n",
        "\n",
        "tree_clf = DecisionTreeClassifier(max_depth=2, random_state=42)\n",
        "tree_clf.fit(X_train, y_train)\n",
        "\n",
        "print(f\"Feature importance: {tree_clf.feature_importances_}\")\n",
        "\n",
        "y_pred = tree_clf.predict(X_val)\n",
        "print(f'Output probability {accuracy_score(y_val, y_pred)}')\n",
        "\n",
        "probability = tree_clf.predict_proba([X_val[7]])\n",
        "print(f'Output probability {probability}')"
      ],
      "metadata": {
        "colab": {
          "base_uri": "https://localhost:8080/"
        },
        "id": "1Nw_eyxdnk83",
        "outputId": "e3ac054d-cf4d-494e-b9b7-9a83b411bb65"
      },
      "execution_count": null,
      "outputs": [
        {
          "output_type": "stream",
          "name": "stdout",
          "text": [
            "Feature importance: [0.         0.17019333 0.43967263 0.39013404]\n",
            "Output probability 0.744\n",
            "Output probability [[0.13868613 0.77372263 0.08759124]]\n"
          ]
        }
      ]
    },
    {
      "cell_type": "code",
      "source": [
        "# exercise 4\n",
        "\n",
        "from sklearn.datasets import make_s_curve\n",
        "from sklearn.manifold import TSNE\n",
        "\n",
        "X, y = make_s_curve(n_samples=1000, random_state=42)\n",
        "\n",
        "tsne = TSNE(n_components=3, random_state=42)\n",
        "X_reduced_tsne = tsne.fit_transform(X)\n",
        "X_reduced_tsne[8]\n"
      ],
      "metadata": {
        "colab": {
          "base_uri": "https://localhost:8080/"
        },
        "id": "IWaIKHztptPN",
        "outputId": "c5123298-82f6-491c-91a8-f09ef7dc2e5b"
      },
      "execution_count": null,
      "outputs": [
        {
          "output_type": "execute_result",
          "data": {
            "text/plain": [
              "array([-3.6731536,  5.804259 , -1.574463 ], dtype=float32)"
            ]
          },
          "metadata": {},
          "execution_count": 116
        }
      ]
    },
    {
      "cell_type": "code",
      "source": [
        "# exercise 5\n",
        "\n",
        "from sklearn.datasets import make_circles\n",
        "from sklearn.cluster import KMeans\n",
        "from sklearn.metrics.cluster import adjusted_rand_score\n",
        "\n",
        "X, y = make_circles(n_samples=1000, factor=0.5, noise=0.1, random_state=42)\n",
        "\n",
        "X_train, X_val, y_train, y_val = train_test_split(X, y, test_size=0.25, random_state=42)\n",
        "\n",
        "kmeans = KMeans(n_clusters=4, init=\"random\", max_iter=15, random_state=42)\n",
        "y_pred = kmeans.fit_predict(X_train)\n",
        "\n",
        "kmeans.predict(X_val)\n",
        "print(f'Label: {kmeans.labels_[8]}')\n",
        "print(f'Second cluster center: {kmeans.cluster_centers_[1]}')\n",
        "print(f'Inertia: {kmeans.inertia_}')\n",
        "print(f\"Negative inertia: {kmeans.score(X_val)}\")\n",
        "print(f\"Adjusted rand score: {adjusted_rand_score(y_train, y_pred)}\")"
      ],
      "metadata": {
        "colab": {
          "base_uri": "https://localhost:8080/"
        },
        "id": "IeEn-oU4q54P",
        "outputId": "a4456dcf-0d01-4d5d-9eca-e3974fc5ff06"
      },
      "execution_count": null,
      "outputs": [
        {
          "output_type": "stream",
          "name": "stdout",
          "text": [
            "Label: 1\n",
            "Second cluster center: [-0.68722339 -0.05533145]\n",
            "Inertia: 132.16890582205366\n",
            "Negative inertia: -41.00592023154056\n",
            "Adjusted rand score: -0.0007582869497156996\n"
          ]
        }
      ]
    }
  ]
}