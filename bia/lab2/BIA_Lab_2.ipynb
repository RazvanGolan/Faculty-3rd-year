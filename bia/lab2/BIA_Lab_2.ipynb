{
  "nbformat": 4,
  "nbformat_minor": 0,
  "metadata": {
    "colab": {
      "provenance": [],
      "collapsed_sections": [
        "P-fibnmgV4nM",
        "NoK_u-syyBoD",
        "xcI5jr8P1iLk"
      ],
      "include_colab_link": true
    },
    "kernelspec": {
      "name": "python3",
      "display_name": "Python 3"
    },
    "language_info": {
      "name": "python"
    }
  },
  "cells": [
    {
      "cell_type": "markdown",
      "metadata": {
        "id": "view-in-github",
        "colab_type": "text"
      },
      "source": [
        "<a href=\"https://colab.research.google.com/github/RazvanGolan/Faculty-3rd-year/blob/main/bia/lab2/BIA_Lab_2.ipynb\" target=\"_parent\"><img src=\"https://colab.research.google.com/assets/colab-badge.svg\" alt=\"Open In Colab\"/></a>"
      ]
    },
    {
      "cell_type": "markdown",
      "source": [
        "# Linear regression"
      ],
      "metadata": {
        "id": "DRkgv79gPMjo"
      }
    },
    {
      "cell_type": "markdown",
      "source": [
        "Let’s generate some linear-looking data to test the normal equation."
      ],
      "metadata": {
        "id": "ExZLCCDnPdEv"
      }
    },
    {
      "cell_type": "code",
      "execution_count": null,
      "metadata": {
        "id": "Z9X9qIMCOlfL"
      },
      "outputs": [],
      "source": [
        "import numpy as np\n",
        "np.random.seed(42) # to make the outputs stable across runs\n",
        "\n",
        "X = 2 * np.random.rand(100, 1)\n",
        "y = 4 + 3 * X + np.random.randn(100, 1)"
      ]
    },
    {
      "cell_type": "markdown",
      "source": [
        "Now, let's plot the data using `matplotib`."
      ],
      "metadata": {
        "id": "kUklpr7BPvo4"
      }
    },
    {
      "cell_type": "code",
      "source": [
        "import matplotlib.pyplot as plt\n",
        "\n",
        "plt.plot(X, y, \"b.\")\n",
        "plt.xlabel(\"$x_1$\", fontsize=18)\n",
        "plt.ylabel(\"$y$\", rotation=0, fontsize=18)\n",
        "plt.axis([0, 2, 0, 15])\n",
        "plt.show()"
      ],
      "metadata": {
        "colab": {
          "base_uri": "https://localhost:8080/",
          "height": 287
        },
        "id": "UhmQJJjBP7vO",
        "outputId": "032c79c5-1905-41bd-d480-ed511a4a20cf"
      },
      "execution_count": null,
      "outputs": [
        {
          "output_type": "display_data",
          "data": {
            "image/png": "[encoded data removed]",
            "text/plain": [
              "<Figure size 432x288 with 1 Axes>"
            ]
          },
          "metadata": {
            "needs_background": "light"
          }
        }
      ]
    },
    {
      "cell_type": "markdown",
      "source": [
        "Now let’s compute $\\boldsymbol{w}^*$ using the **normal equation**. We will use the `inv()` function from `numpy`’s linear algebra module (`np.linalg`) to compute the inverse of a matrix, and the `dot()` method for matrix multiplication:"
      ],
      "metadata": {
        "id": "Xa42uMHCQs01"
      }
    },
    {
      "cell_type": "code",
      "source": [
        "X_1 = np.c_[np.ones((100, 1)), X] # add x0 = 1 to each instance\n",
        "w_star = np.linalg.inv(X_1.T.dot(X_1)).dot(X_1.T).dot(y)"
      ],
      "metadata": {
        "id": "yf5dNmesRNpZ"
      },
      "execution_count": null,
      "outputs": []
    },
    {
      "cell_type": "markdown",
      "source": [
        "The function that we used to generate the data is $y = 4 + 3x_1 + \\text{Gaussian noise}$. Let’s see what the normal equation found:"
      ],
      "metadata": {
        "id": "A2b8a3NDRZ4G"
      }
    },
    {
      "cell_type": "code",
      "source": [
        "w_star"
      ],
      "metadata": {
        "colab": {
          "base_uri": "https://localhost:8080/"
        },
        "id": "WellstQXRmU-",
        "outputId": "6c7b5830-6cd1-4eb6-bc76-cd241eb89d97"
      },
      "execution_count": null,
      "outputs": [
        {
          "output_type": "execute_result",
          "data": {
            "text/plain": [
              "array([[4.21509616],\n",
              "       [2.77011339]])"
            ]
          },
          "metadata": {},
          "execution_count": 4
        }
      ]
    },
    {
      "cell_type": "markdown",
      "source": [
        "We would have hoped for $w_0 = 4$ and $w_1 = 3$, instead of $w_0 = 4.21$ and $w_1 = 2.77$. Close enough, but the noise made it impossible to recover the exact parameters of the original function.\n",
        "\n",
        "Now we can make predictions using $\\boldsymbol{w}^*$:"
      ],
      "metadata": {
        "id": "TOIaktDoSJCh"
      }
    },
    {
      "cell_type": "code",
      "source": [
        "X_new = np.array([[0], [2]])\n",
        "X_new_1 = np.c_[np.ones((2, 1)), X_new]  # add x0 = 1 to each instance\n",
        "y_predict = X_new_1.dot(w_star)\n",
        "y_predict"
      ],
      "metadata": {
        "colab": {
          "base_uri": "https://localhost:8080/"
        },
        "id": "dRsca5pqStMU",
        "outputId": "af20c3f5-8140-44f3-ef18-5523c1a87b51"
      },
      "execution_count": null,
      "outputs": [
        {
          "output_type": "execute_result",
          "data": {
            "text/plain": [
              "array([[4.21509616],\n",
              "       [9.75532293]])"
            ]
          },
          "metadata": {},
          "execution_count": 5
        }
      ]
    },
    {
      "cell_type": "markdown",
      "source": [
        "Let’s plot this model’s predictions:"
      ],
      "metadata": {
        "id": "cznVnb9GS3v0"
      }
    },
    {
      "cell_type": "code",
      "source": [
        "plt.plot(X_new, y_predict, \"r-\", linewidth=2, label=\"Predictions\")\n",
        "plt.plot(X, y, \"b.\")\n",
        "plt.xlabel(\"$x_1$\", fontsize=18)\n",
        "plt.ylabel(\"$y$\", rotation=0, fontsize=18)\n",
        "plt.legend(loc=\"upper left\", fontsize=14)\n",
        "plt.axis([0, 2, 0, 15])\n",
        "plt.show()"
      ],
      "metadata": {
        "colab": {
          "base_uri": "https://localhost:8080/",
          "height": 287
        },
        "id": "ia7SS0wtS5bP",
        "outputId": "45a4d644-822b-4bf4-9493-b0d885d145e8"
      },
      "execution_count": null,
      "outputs": [
        {
          "output_type": "display_data",
          "data": {
            "image/png": "[encoded data removed]",
            "text/plain": [
              "<Figure size 432x288 with 1 Axes>"
            ]
          },
          "metadata": {
            "needs_background": "light"
          }
        }
      ]
    },
    {
      "cell_type": "markdown",
      "source": [
        "Performing **linear regression** using `scikit-learn` is simple. We just use the `LinearRegression` class. In order to fit the dataset `X, y`, we use the `fit()` method. In order to retrieve the parameters $w_1,w_2,\\ldots,w_d$ we use the `coef_` attribute. For the bias $w_0$, we use the `intercept_` attribute."
      ],
      "metadata": {
        "id": "mAP60UOGUr81"
      }
    },
    {
      "cell_type": "code",
      "source": [
        "from sklearn.linear_model import LinearRegression\n",
        "\n",
        "lin_reg = LinearRegression()\n",
        "lin_reg.fit(X, y)\n",
        "lin_reg.intercept_, lin_reg.coef_"
      ],
      "metadata": {
        "colab": {
          "base_uri": "https://localhost:8080/"
        },
        "id": "Qo_lzApUUt0B",
        "outputId": "104d65c8-3db5-4744-d499-f2c845a80fc1"
      },
      "execution_count": null,
      "outputs": [
        {
          "output_type": "execute_result",
          "data": {
            "text/plain": [
              "(array([4.21509616]), array([[2.77011339]]))"
            ]
          },
          "metadata": {},
          "execution_count": 7
        }
      ]
    },
    {
      "cell_type": "markdown",
      "source": [
        "In order to use the model on new data, we use the `predict()` method:"
      ],
      "metadata": {
        "id": "H-iZj4v3YAT9"
      }
    },
    {
      "cell_type": "code",
      "source": [
        "lin_reg.predict(X_new)"
      ],
      "metadata": {
        "colab": {
          "base_uri": "https://localhost:8080/"
        },
        "id": "YkVk7gzSU4tZ",
        "outputId": "2bb6a8b9-ed45-4934-8829-5e8113b65ff2"
      },
      "execution_count": null,
      "outputs": [
        {
          "output_type": "execute_result",
          "data": {
            "text/plain": [
              "array([[4.21509616],\n",
              "       [9.75532293]])"
            ]
          },
          "metadata": {},
          "execution_count": 8
        }
      ]
    },
    {
      "cell_type": "markdown",
      "source": [
        "The `LinearRegression` class is based on the `scipy.linalg.lstsq()` function (the name stands for \"least squares\"), which we can call directly:"
      ],
      "metadata": {
        "id": "_a8AXYjkU9Gi"
      }
    },
    {
      "cell_type": "code",
      "source": [
        "w_star_svd, residuals, rank, s = np.linalg.lstsq(X_1, y, rcond=1e-6)\n",
        "w_star_svd"
      ],
      "metadata": {
        "colab": {
          "base_uri": "https://localhost:8080/"
        },
        "id": "eZ0BgZZqVY5d",
        "outputId": "6448e442-4a8c-4799-9744-abb828c2ddf3"
      },
      "execution_count": null,
      "outputs": [
        {
          "output_type": "execute_result",
          "data": {
            "text/plain": [
              "array([[4.21509616],\n",
              "       [2.77011339]])"
            ]
          },
          "metadata": {},
          "execution_count": 9
        }
      ]
    },
    {
      "cell_type": "markdown",
      "source": [
        "This function computes $\\boldsymbol{X}^+\\boldsymbol{y}$, where $\\boldsymbol{X}^{+}$ is the _pseudoinverse_ of $\\boldsymbol{X}$ (specifically the Moore-Penrose inverse). We can use `np.linalg.pinv()` to compute the pseudoinverse directly:"
      ],
      "metadata": {
        "id": "mdVAPqJnVk2W"
      }
    },
    {
      "cell_type": "code",
      "source": [
        "np.linalg.pinv(X_1).dot(y)"
      ],
      "metadata": {
        "colab": {
          "base_uri": "https://localhost:8080/"
        },
        "id": "rVoSnZF_VyPu",
        "outputId": "01203f98-1e9b-4437-d2e1-1e48a83dba43"
      },
      "execution_count": null,
      "outputs": [
        {
          "output_type": "execute_result",
          "data": {
            "text/plain": [
              "array([[4.21509616],\n",
              "       [2.77011339]])"
            ]
          },
          "metadata": {},
          "execution_count": 10
        }
      ]
    },
    {
      "cell_type": "markdown",
      "source": [
        "# Gradient descent"
      ],
      "metadata": {
        "id": "P-fibnmgV4nM"
      }
    },
    {
      "cell_type": "markdown",
      "source": [
        "First, let's implement the **batch gradient descent** algorithm. We will use a learning rate of 0.2 (`eta=0.2`), 1,000 epochs (`n_epochs = 1000`), and the size of the dataset is `n=100` examples."
      ],
      "metadata": {
        "id": "UzEiGs3Ydmrl"
      }
    },
    {
      "cell_type": "code",
      "source": [
        "np.random.seed(42)\n",
        "eta = 0.2  # learning rate\n",
        "n_epochs = 1000\n",
        "n = 100\n",
        "\n",
        "w = np.random.randn(2,1)  # random initialization\n",
        "\n",
        "for iteration in range(n_epochs):\n",
        "    gradients = 1/n * X_1.T.dot(X_1.dot(w) - y)\n",
        "    w = w - eta * gradients"
      ],
      "metadata": {
        "id": "juQCosfxeNR0"
      },
      "execution_count": null,
      "outputs": []
    },
    {
      "cell_type": "markdown",
      "source": [
        "Let’s look at the resulting `w`:"
      ],
      "metadata": {
        "id": "pN2nmmHQkMY5"
      }
    },
    {
      "cell_type": "code",
      "source": [
        "w"
      ],
      "metadata": {
        "colab": {
          "base_uri": "https://localhost:8080/"
        },
        "id": "9Mw_XxejefzY",
        "outputId": "97ebddee-5bbe-4e25-e538-7aa5a10c4ffc"
      },
      "execution_count": null,
      "outputs": [
        {
          "output_type": "execute_result",
          "data": {
            "text/plain": [
              "array([[4.21509616],\n",
              "       [2.77011339]])"
            ]
          },
          "metadata": {},
          "execution_count": 12
        }
      ]
    },
    {
      "cell_type": "markdown",
      "source": [
        "That’s exactly what the normal equation found. Gradient descent worked perfectly. But what if we had used a different learning rate `eta`?"
      ],
      "metadata": {
        "id": "RZ4K9b5hkS_W"
      }
    },
    {
      "cell_type": "code",
      "source": [
        "np.random.seed(42)\n",
        "eta = 0.02  # learning rate\n",
        "n_epochs = 1000\n",
        "n = 100\n",
        "\n",
        "w = np.random.randn(2,1)  # random initialization\n",
        "\n",
        "for iteration in range(n_epochs):\n",
        "    gradients = 1/n * X_1.T.dot(X_1.dot(w) - y)\n",
        "    w = w - eta * gradients\n",
        "\n",
        "w"
      ],
      "metadata": {
        "colab": {
          "base_uri": "https://localhost:8080/"
        },
        "id": "3HsNWo3okfTW",
        "outputId": "8516362d-3dfe-48c2-b8aa-3de4686e3cc5"
      },
      "execution_count": null,
      "outputs": [
        {
          "output_type": "execute_result",
          "data": {
            "text/plain": [
              "array([[4.1935218 ],\n",
              "       [2.78916237]])"
            ]
          },
          "metadata": {},
          "execution_count": 13
        }
      ]
    },
    {
      "cell_type": "markdown",
      "source": [
        "The learning rate is too low: the algorithm will eventually reach the solution,\n",
        "but it will take a long time."
      ],
      "metadata": {
        "id": "MpD-z9HQo9CC"
      }
    },
    {
      "cell_type": "code",
      "source": [
        "np.random.seed(42)\n",
        "eta = 1  # learning rate\n",
        "n_epochs = 1000\n",
        "n = 100\n",
        "\n",
        "w = np.random.randn(2,1)  # random initialization\n",
        "\n",
        "for iteration in range(n_epochs):\n",
        "    gradients = 1/n * X_1.T.dot(X_1.dot(w) - y)\n",
        "    w = w - eta * gradients\n",
        "\n",
        "w"
      ],
      "metadata": {
        "colab": {
          "base_uri": "https://localhost:8080/"
        },
        "id": "Es4DUFHXpGii",
        "outputId": "8d317e85-b57b-4870-9d4c-cceabe7a888b"
      },
      "execution_count": null,
      "outputs": [
        {
          "output_type": "execute_result",
          "data": {
            "text/plain": [
              "array([[-7.05138935e+27],\n",
              "       [-7.98621001e+27]])"
            ]
          },
          "metadata": {},
          "execution_count": 14
        }
      ]
    },
    {
      "cell_type": "markdown",
      "source": [
        "The learning rate is too high: the algorithm diverges, getting further and further away from the solution at every step."
      ],
      "metadata": {
        "id": "Wns9Mfmap2ZH"
      }
    },
    {
      "cell_type": "markdown",
      "source": [
        "In order to implement **stochastic gradient descent**, we can use the following code:"
      ],
      "metadata": {
        "id": "xdiJChXvsmpc"
      }
    },
    {
      "cell_type": "code",
      "source": [
        "np.random.seed(42)\n",
        "eta = 0.2\n",
        "n_epochs = 1000\n",
        "\n",
        "w = np.random.randn(2,1)  # random initialization\n",
        "\n",
        "for epoch in range(n_epochs):\n",
        "    for i in range(n):\n",
        "        random_index = np.random.randint(n)\n",
        "        xi = X_1[random_index:random_index+1]\n",
        "        yi = y[random_index:random_index+1]\n",
        "        gradients = xi.T.dot(xi.dot(w) - yi)\n",
        "        w = w - eta * gradients\n",
        "\n",
        "w"
      ],
      "metadata": {
        "colab": {
          "base_uri": "https://localhost:8080/"
        },
        "id": "INukf0Agss-s",
        "outputId": "d8ec3361-a08e-4b19-9e21-51938882f7cc"
      },
      "execution_count": null,
      "outputs": [
        {
          "output_type": "execute_result",
          "data": {
            "text/plain": [
              "array([[4.17686315],\n",
              "       [2.85986577]])"
            ]
          },
          "metadata": {},
          "execution_count": 15
        }
      ]
    },
    {
      "cell_type": "markdown",
      "source": [
        "To perform linear regression using stochastic gradient descent with `scikit-learn`, we can use the `SGDRegressor` class, which defaults to optimizing the squared error loss function. The following code runs for maximum 1,000 epochs or until the loss drops by less than 0.001 during one epoch (`max_iter=1000`, `tol=1e-3`). It starts with a learning rate of 0.1 (`eta0=0.2`), using the constant learning rate schedule (`learning_rate='constant'`). Lastly, it does not use any regularization (`penalty=None`):"
      ],
      "metadata": {
        "id": "KXJOdt2rZGFl"
      }
    },
    {
      "cell_type": "code",
      "source": [
        "from sklearn.linear_model import SGDRegressor\n",
        "\n",
        "sgd_reg = SGDRegressor(max_iter=1000, tol=1e-3, penalty=None, eta0=0.2, learning_rate='constant', random_state=42)\n",
        "sgd_reg.fit(X, y.ravel())\n",
        "\n",
        "sgd_reg.intercept_, sgd_reg.coef_"
      ],
      "metadata": {
        "colab": {
          "base_uri": "https://localhost:8080/"
        },
        "id": "C_XIaho8aqws",
        "outputId": "31b95b1a-8fa8-4711-9e08-6d1d0e5db223"
      },
      "execution_count": null,
      "outputs": [
        {
          "output_type": "execute_result",
          "data": {
            "text/plain": [
              "(array([3.99858866]), array([2.60693164]))"
            ]
          },
          "metadata": {},
          "execution_count": 16
        }
      ]
    },
    {
      "cell_type": "markdown",
      "source": [
        "For implementing **mini-batch gradient descent**, we can use the following code:"
      ],
      "metadata": {
        "id": "koFPtulwuh_E"
      }
    },
    {
      "cell_type": "code",
      "source": [
        "np.random.seed(42)\n",
        "eta = 0.2\n",
        "n_epochs = 1000\n",
        "batch_size = 20\n",
        "\n",
        "w = np.random.randn(2,1)  # random initialization\n",
        "\n",
        "for epoch in range(n_epochs):\n",
        "    shuffled_indices = np.random.permutation(n)\n",
        "    X_1_shuffled = X_1[shuffled_indices]\n",
        "    y_shuffled = y[shuffled_indices]\n",
        "    for i in range(0, n, batch_size):\n",
        "        xi = X_1_shuffled[i:i+batch_size]\n",
        "        yi = y_shuffled[i:i+batch_size]\n",
        "        gradients = 1/batch_size * xi.T.dot(xi.dot(w) - yi)\n",
        "        w = w - eta * gradients\n",
        "\n",
        "w"
      ],
      "metadata": {
        "colab": {
          "base_uri": "https://localhost:8080/"
        },
        "id": "C-4AL7jhuqNo",
        "outputId": "66aaef50-094b-4ad7-c544-1a32f7e558da"
      },
      "execution_count": null,
      "outputs": [
        {
          "output_type": "execute_result",
          "data": {
            "text/plain": [
              "array([[4.19811521],\n",
              "       [2.75356112]])"
            ]
          },
          "metadata": {},
          "execution_count": 17
        }
      ]
    },
    {
      "cell_type": "markdown",
      "source": [
        "#Polynomial regression"
      ],
      "metadata": {
        "id": "NoK_u-syyBoD"
      }
    },
    {
      "cell_type": "markdown",
      "source": [
        "First, let’s generate some nonlinear data, based on a simple quadratic equation, plus some noise."
      ],
      "metadata": {
        "id": "V3OqdJ5_yk5j"
      }
    },
    {
      "cell_type": "code",
      "source": [
        "np.random.seed(42)\n",
        "\n",
        "n = 100\n",
        "X = 6 * np.random.rand(n, 1) - 3\n",
        "y = 0.5 * X**2 + X + 2 + np.random.randn(n, 1)"
      ],
      "metadata": {
        "id": "cdOIlqZ1yEEt"
      },
      "execution_count": null,
      "outputs": []
    },
    {
      "cell_type": "code",
      "source": [
        "plt.plot(X, y, \"b.\")\n",
        "plt.xlabel(\"$x_1$\", fontsize=18)\n",
        "plt.ylabel(\"$y$\", rotation=0, fontsize=18)\n",
        "plt.axis([-3, 3, 0, 10])\n",
        "plt.show()"
      ],
      "metadata": {
        "colab": {
          "base_uri": "https://localhost:8080/",
          "height": 291
        },
        "id": "6FWAK0YXy4wl",
        "outputId": "27d86461-273b-44d0-b396-f2ac34ee9218"
      },
      "execution_count": null,
      "outputs": [
        {
          "output_type": "display_data",
          "data": {
            "image/png": "[encoded data removed]",
            "text/plain": [
              "<Figure size 432x288 with 1 Axes>"
            ]
          },
          "metadata": {
            "needs_background": "light"
          }
        }
      ]
    },
    {
      "cell_type": "markdown",
      "source": [
        "Let’s use `scikit-learn`’s `PolynomialFeatures` class to transform our training data, adding the square (second-degree polynomial) of each feature in the training set as a new feature (in this case there is just one feature). The `fit_transform()` method fits the `PolynomialFeatures` transform to `X` and returns the transformed version of `X`."
      ],
      "metadata": {
        "id": "lbAt_qWlzFGP"
      }
    },
    {
      "cell_type": "code",
      "source": [
        "from sklearn.preprocessing import PolynomialFeatures\n",
        "poly_features = PolynomialFeatures(degree=2, include_bias=False)\n",
        "X_poly = poly_features.fit_transform(X)\n",
        "X[0]"
      ],
      "metadata": {
        "colab": {
          "base_uri": "https://localhost:8080/"
        },
        "id": "_ypfcAO8zPrn",
        "outputId": "17ca7e36-7441-4dfa-d16e-310e1d836841"
      },
      "execution_count": null,
      "outputs": [
        {
          "output_type": "execute_result",
          "data": {
            "text/plain": [
              "array([-0.75275929])"
            ]
          },
          "metadata": {},
          "execution_count": 20
        }
      ]
    },
    {
      "cell_type": "code",
      "source": [
        "X_poly[0]"
      ],
      "metadata": {
        "colab": {
          "base_uri": "https://localhost:8080/"
        },
        "id": "QqEKkNyAzczW",
        "outputId": "8f85b6e5-ec77-400e-e1bb-794e5b96e4b9"
      },
      "execution_count": null,
      "outputs": [
        {
          "output_type": "execute_result",
          "data": {
            "text/plain": [
              "array([-0.75275929,  0.56664654])"
            ]
          },
          "metadata": {},
          "execution_count": 21
        }
      ]
    },
    {
      "cell_type": "markdown",
      "source": [
        "`X_poly` now contains the original feature of `X` plus the square of this feature. Now we can fit a `LinearRegression` model to this extended training data, thus obtaining **polynomial regression**."
      ],
      "metadata": {
        "id": "bJBT9-WizhoV"
      }
    },
    {
      "cell_type": "code",
      "source": [
        "lin_reg = LinearRegression()\n",
        "lin_reg.fit(X_poly, y)\n",
        "lin_reg.intercept_, lin_reg.coef_"
      ],
      "metadata": {
        "colab": {
          "base_uri": "https://localhost:8080/"
        },
        "id": "pMvBUyEvzprZ",
        "outputId": "1069fe5c-415a-4fc2-eeeb-b99c3acfadde"
      },
      "execution_count": null,
      "outputs": [
        {
          "output_type": "execute_result",
          "data": {
            "text/plain": [
              "(array([1.78134581]), array([[0.93366893, 0.56456263]]))"
            ]
          },
          "metadata": {},
          "execution_count": 22
        }
      ]
    },
    {
      "cell_type": "markdown",
      "source": [
        "We can now can plot the predictions of the model. Here, we just use the `transform()` method, because the `PolynomialFeatures` transform is already fitted to the original `X`."
      ],
      "metadata": {
        "id": "3SWL1W7Jzx_N"
      }
    },
    {
      "cell_type": "code",
      "source": [
        "X_new = np.linspace(-3, 3, 100).reshape(100, 1)\n",
        "X_new_poly = poly_features.transform(X_new)\n",
        "y_new = lin_reg.predict(X_new_poly)\n",
        "plt.plot(X, y, \"b.\")\n",
        "plt.plot(X_new, y_new, \"r-\", linewidth=2, label=\"Predictions\")\n",
        "plt.xlabel(\"$x_1$\", fontsize=18)\n",
        "plt.ylabel(\"$y$\", rotation=0, fontsize=18)\n",
        "plt.legend(loc=\"upper left\", fontsize=14)\n",
        "plt.axis([-3, 3, 0, 10])\n",
        "plt.show()"
      ],
      "metadata": {
        "id": "qWJ2fBKE0BfV",
        "colab": {
          "base_uri": "https://localhost:8080/",
          "height": 291
        },
        "outputId": "82ab65df-5e3c-40dd-b11f-62deabb30e04"
      },
      "execution_count": null,
      "outputs": [
        {
          "output_type": "display_data",
          "data": {
            "image/png": "[encoded data removed]",
            "text/plain": [
              "<Figure size 432x288 with 1 Axes>"
            ]
          },
          "metadata": {
            "needs_background": "light"
          }
        }
      ]
    },
    {
      "cell_type": "markdown",
      "source": [
        "Not bad: the model estimates $y = 0.56x_1^2 + 0.93x_1 + 1.78$, when in fact the original function was $y = 0.5x_1^2 + 1.0x_1 + 2.0 + \\text{Gaussian noise}$."
      ],
      "metadata": {
        "id": "u7dpqNWR0-6N"
      }
    },
    {
      "cell_type": "markdown",
      "source": [
        "Let's now apply a 100-degree polynomial model to the preceding training data and compare the result with a pure linear model and a quadratic model (second-degree polynomial). We can notice how the 100-degree polynomial model wiggles around to get as close as possible to the training instances.\n",
        "\n",
        "This high-degree polynomial regression model is severely overfitting the training data, while the linear model is underfitting it. The model that will generalize best in this case is the quadratic model, which makes sense because the data was generated using a quadratic model.\n",
        "\n",
        "Here, we use the `Pipeline` class in order to sequentially apply a list of transforms and a final estimator. Intermediate steps of the pipeline must be ‘transforms’, that is, they must implement `fit()` and `transform()` methods. The final estimator only needs to implement `fit()`.\n",
        "\n",
        "The `StandardScaler` class is used to standardize the features by removing the mean and scaling to unit variance. The operation is also called *normalization*."
      ],
      "metadata": {
        "id": "T00GcEedqYDh"
      }
    },
    {
      "cell_type": "code",
      "source": [
        "from sklearn.preprocessing import StandardScaler\n",
        "from sklearn.pipeline import Pipeline\n",
        "\n",
        "for style, width, degree in ((\"g-\", 1, 100), (\"b--\", 2, 2), (\"r-+\", 2, 1)):\n",
        "    poly_features = PolynomialFeatures(degree=degree, include_bias=False)\n",
        "    std_scaler = StandardScaler()\n",
        "    lin_reg = LinearRegression()\n",
        "\n",
        "    polynomial_regression = Pipeline([\n",
        "            (\"poly_features\", poly_features),\n",
        "            (\"std_scaler\", std_scaler),\n",
        "            (\"lin_reg\", lin_reg),\n",
        "        ])\n",
        "    polynomial_regression.fit(X, y)\n",
        "    y_new = polynomial_regression.predict(X_new)\n",
        "\n",
        "    plt.plot(X_new, y_new, style, label=str(degree), linewidth=width)\n",
        "\n",
        "plt.plot(X, y, \"b.\", linewidth=3)\n",
        "plt.legend(loc=\"upper left\")\n",
        "plt.xlabel(\"$x_1$\", fontsize=18)\n",
        "plt.ylabel(\"$y$\", rotation=0, fontsize=18)\n",
        "plt.axis([-3, 3, 0, 10])\n",
        "plt.show()"
      ],
      "metadata": {
        "colab": {
          "base_uri": "https://localhost:8080/",
          "height": 291
        },
        "id": "iozFqL3qrF0C",
        "outputId": "1d0bc22a-b80f-4ee2-d931-fe765869a8a7"
      },
      "execution_count": null,
      "outputs": [
        {
          "output_type": "display_data",
          "data": {
            "image/png": "[encoded data removed]",
            "text/plain": [
              "<Figure size 432x288 with 1 Axes>"
            ]
          },
          "metadata": {
            "needs_background": "light"
          }
        }
      ]
    },
    {
      "cell_type": "markdown",
      "source": [
        "#Regularized linear models"
      ],
      "metadata": {
        "id": "xcI5jr8P1iLk"
      }
    },
    {
      "cell_type": "markdown",
      "source": [
        "We next show several **ridge regression** models trained on some linear data using different values for the $\\lambda$ hyperparameter (called `alpha` in `scikit-learn`). Note how increasing $\\lambda$ leads to flatter (i.e., less extreme, more reasonable) predictions, thus reducing the model’s variance, but increasing its bias. The class for ridge regression in `scikit-learn` is simply `Ridge`."
      ],
      "metadata": {
        "id": "pQhvxaAiolOc"
      }
    },
    {
      "cell_type": "code",
      "source": [
        "np.random.seed(42)\n",
        "n = 20\n",
        "X = 3 * np.random.rand(n, 1)\n",
        "y = 1 + 0.5 * X + np.random.randn(n, 1) / 1.5\n",
        "X_new = np.linspace(0, 3, 100).reshape(100, 1)"
      ],
      "metadata": {
        "id": "7qii9dOcymnn"
      },
      "execution_count": null,
      "outputs": []
    },
    {
      "cell_type": "code",
      "source": [
        "from sklearn.linear_model import Ridge\n",
        "\n",
        "for alpha, style in zip((0, 10, 100), (\"b-\", \"g--\", \"r:\")):\n",
        "  ridge_reg = Ridge(alpha=alpha)\n",
        "  ridge_reg.fit(X, y)\n",
        "  y_new_reg = ridge_reg.predict(X_new)\n",
        "  plt.plot(X_new, y_new_reg, style, label=r\"$\\lambda = {}$\".format(alpha))\n",
        "\n",
        "plt.plot(X, y, \"b.\", linewidth=3)\n",
        "plt.legend(loc=\"upper left\", fontsize=15)\n",
        "plt.xlabel(\"$x_1$\", fontsize=18)\n",
        "plt.axis([0, 3, 0, 4])\n",
        "plt.show()"
      ],
      "metadata": {
        "colab": {
          "base_uri": "https://localhost:8080/",
          "height": 291
        },
        "id": "TL0-3MZtys7k",
        "outputId": "dc22f29c-06f5-4bd3-f11b-aedcfbd7c8ea"
      },
      "execution_count": null,
      "outputs": [
        {
          "output_type": "display_data",
          "data": {
            "image/png": "[encoded data removed]",
            "text/plain": [
              "<Figure size 432x288 with 1 Axes>"
            ]
          },
          "metadata": {
            "needs_background": "light"
          }
        }
      ]
    },
    {
      "cell_type": "markdown",
      "source": [
        "Here is how to perform ridge regression with `scikit-learn` using the closed-form solution, which uses the Cholesky decomposition:"
      ],
      "metadata": {
        "id": "wLkXZ2fM0OXD"
      }
    },
    {
      "cell_type": "code",
      "source": [
        "ridge_reg = Ridge(alpha=1, solver=\"cholesky\", random_state=42)\n",
        "ridge_reg.fit(X, y)\n",
        "ridge_reg.intercept_, ridge_reg.coef_"
      ],
      "metadata": {
        "colab": {
          "base_uri": "https://localhost:8080/"
        },
        "id": "X7WHVN450yPU",
        "outputId": "440a5764-57b4-408e-d03f-8b99f3a5a86a"
      },
      "execution_count": null,
      "outputs": [
        {
          "output_type": "execute_result",
          "data": {
            "text/plain": [
              "(array([1.00650911]), array([[0.36280369]]))"
            ]
          },
          "metadata": {},
          "execution_count": 27
        }
      ]
    },
    {
      "cell_type": "markdown",
      "source": [
        "Ridge regression can be also implemented using stochastic gradient descent:"
      ],
      "metadata": {
        "id": "l_hbTOia1OCf"
      }
    },
    {
      "cell_type": "code",
      "source": [
        "sgd_reg = SGDRegressor(penalty=\"l2\", alpha=1, max_iter=1000, tol=1e-3, random_state=42)\n",
        "sgd_reg.fit(X, y.ravel())\n",
        "sgd_reg.intercept_, sgd_reg.coef_"
      ],
      "metadata": {
        "colab": {
          "base_uri": "https://localhost:8080/"
        },
        "id": "fGJPbmxP1aVu",
        "outputId": "60e2a973-ba1c-4d83-a1bd-8a66dd73a89a"
      },
      "execution_count": null,
      "outputs": [
        {
          "output_type": "execute_result",
          "data": {
            "text/plain": [
              "(array([0.88105339]), array([0.33523244]))"
            ]
          },
          "metadata": {},
          "execution_count": 28
        }
      ]
    },
    {
      "cell_type": "markdown",
      "source": [
        "The `penalty` hyperparameter sets the type of regularization term to use. Specifying `\"l2\"` indicates that we want stochastic gradient descent to add a regularization term to the cost function equal to half the square of the $\\ell_2$ norm of the weight vector, which is equivalent with ridge regression."
      ],
      "metadata": {
        "id": "mFyq8WDd16po"
      }
    },
    {
      "cell_type": "markdown",
      "source": [
        "We can use **lasso regression** models trained on some linear data using different values for the $\\lambda$ hyperparameter (also called `alpha` in `scikit-learn`). Note that we use smaller values for $\\lambda$. The class for lasso regression in `scikit-learn` is simply `Lasso`."
      ],
      "metadata": {
        "id": "_LiUsL_g2WlL"
      }
    },
    {
      "cell_type": "code",
      "source": [
        "np.random.seed(42)\n",
        "n = 20\n",
        "X = 3 * np.random.rand(n, 1)\n",
        "y = 1 + 0.5 * X + np.random.randn(n, 1) / 1.5\n",
        "X_new = np.linspace(0, 3, 100).reshape(100, 1)"
      ],
      "metadata": {
        "id": "WL46BSkl21CR"
      },
      "execution_count": null,
      "outputs": []
    },
    {
      "cell_type": "code",
      "source": [
        "from sklearn.linear_model import Lasso\n",
        "\n",
        "for alpha, style in zip((0.01, 0.1, 1), (\"b-\", \"g--\", \"r:\")):\n",
        "  lasso_reg = Lasso(alpha=alpha)\n",
        "  lasso_reg.fit(X, y)\n",
        "  y_new_reg = lasso_reg.predict(X_new)\n",
        "  plt.plot(X_new, y_new_reg, style, label=r\"$\\lambda = {}$\".format(alpha))\n",
        "\n",
        "plt.plot(X, y, \"b.\", linewidth=3)\n",
        "plt.legend(loc=\"upper left\", fontsize=15)\n",
        "plt.xlabel(\"$x_1$\", fontsize=18)\n",
        "plt.axis([0, 3, 0, 4])\n",
        "plt.show()"
      ],
      "metadata": {
        "colab": {
          "base_uri": "https://localhost:8080/",
          "height": 291
        },
        "id": "sF-I_17w25Qr",
        "outputId": "b72295df-f208-4f7b-a3b0-b66e6056a67f"
      },
      "execution_count": null,
      "outputs": [
        {
          "output_type": "display_data",
          "data": {
            "image/png": "[encoded data removed]",
            "text/plain": [
              "<Figure size 432x288 with 1 Axes>"
            ]
          },
          "metadata": {
            "needs_background": "light"
          }
        }
      ]
    },
    {
      "cell_type": "markdown",
      "source": [
        "We can also use `SGDRegressor` with `penalty=\"l1\"` to implement lasso regression:"
      ],
      "metadata": {
        "id": "ovIvw3bp3uRN"
      }
    },
    {
      "cell_type": "code",
      "source": [
        "sgd_reg = SGDRegressor(penalty=\"l1\", alpha=1, max_iter=1000, tol=1e-3, random_state=42)\n",
        "sgd_reg.fit(X, y.ravel())\n",
        "sgd_reg.intercept_, sgd_reg.coef_"
      ],
      "metadata": {
        "colab": {
          "base_uri": "https://localhost:8080/"
        },
        "id": "JEbMLM0m4CLb",
        "outputId": "8660eb76-61bd-43e4-fd81-6e8e7d64f838"
      },
      "execution_count": null,
      "outputs": [
        {
          "output_type": "execute_result",
          "data": {
            "text/plain": [
              "(array([1.017502]), array([0.07016255]))"
            ]
          },
          "metadata": {},
          "execution_count": 31
        }
      ]
    },
    {
      "cell_type": "markdown",
      "source": [
        "Standing up to its name, lasso regression has learned to almost discard the feature in the data, by assigning its weight a value close to 0."
      ],
      "metadata": {
        "id": "MS2XI57K40qh"
      }
    },
    {
      "cell_type": "markdown",
      "source": [
        "Finally, we can perform **elastic net regression**. The hyperparameter $r$ which specifies the ratio for $\\ell_1$ regularization (correspondingly, $1-r$ will be the ratio for $\\ell_2$ regularization) is given by the `l1_ratio` parameter."
      ],
      "metadata": {
        "id": "xr6y-nDR5Ui9"
      }
    },
    {
      "cell_type": "code",
      "source": [
        "from sklearn.linear_model import ElasticNet\n",
        "elastic_net = ElasticNet(alpha=1, l1_ratio=0.5, random_state=42)\n",
        "elastic_net.fit(X, y)\n",
        "elastic_net.intercept_, elastic_net.coef_"
      ],
      "metadata": {
        "colab": {
          "base_uri": "https://localhost:8080/"
        },
        "id": "Lm6AwP4L5Z2A",
        "outputId": "37a8ec34-2313-43d8-dd37-a2ca7511ec53"
      },
      "execution_count": null,
      "outputs": [
        {
          "output_type": "execute_result",
          "data": {
            "text/plain": [
              "(array([1.50467735]), array([0.]))"
            ]
          },
          "metadata": {},
          "execution_count": 32
        }
      ]
    },
    {
      "cell_type": "markdown",
      "source": [
        "Or, in its stochastic gradient descent variant:"
      ],
      "metadata": {
        "id": "iF-hPY_C5uhC"
      }
    },
    {
      "cell_type": "code",
      "source": [
        "sgd_reg = SGDRegressor(penalty=\"elasticnet\", alpha=1, l1_ratio=0.5, max_iter=1000, tol=1e-3, random_state=42)\n",
        "sgd_reg.fit(X, y.ravel())\n",
        "sgd_reg.intercept_, sgd_reg.coef_"
      ],
      "metadata": {
        "colab": {
          "base_uri": "https://localhost:8080/"
        },
        "id": "uoj7xmYc51i7",
        "outputId": "16a865b8-4cdd-4238-ff82-878b4d771942"
      },
      "execution_count": null,
      "outputs": [
        {
          "output_type": "execute_result",
          "data": {
            "text/plain": [
              "(array([0.98691798]), array([0.20034481]))"
            ]
          },
          "metadata": {},
          "execution_count": 33
        }
      ]
    },
    {
      "cell_type": "markdown",
      "source": [
        "Now, let's look at how to implement the **early stopping** regularization method.\n",
        "\n",
        "First, we generate some quadratic data. Then, we construct the training and validation sets, by using the `train_test_split()` method, which splits arrays or matrices into random train and test subsets. The `test_size` paramater represents the proportion of the dataset to include in the test split ($50\\%$ in our case)."
      ],
      "metadata": {
        "id": "r23vwJiC6ZSK"
      }
    },
    {
      "cell_type": "code",
      "source": [
        "from sklearn.model_selection import train_test_split\n",
        "\n",
        "np.random.seed(42)\n",
        "n = 100\n",
        "X = 6 * np.random.rand(n, 1) - 3\n",
        "y = 2 + X + 0.5 * X**2 + np.random.randn(n, 1)\n",
        "\n",
        "X_train, X_val, y_train, y_val = train_test_split(X[:50], y[:50].ravel(), test_size=0.5, random_state=10)"
      ],
      "metadata": {
        "id": "BFaV4sRq6gzW"
      },
      "execution_count": null,
      "outputs": []
    },
    {
      "cell_type": "markdown",
      "source": [
        "Then, we use polynomial regression to fit the data, with degree 90. Then, we use `SGDRegressor` to apply stochastic gradient descent to the problem. Instead of letting the class perform all the iterations at once, with no control, we specify `max_iter=1` to just train for one epoch at a time. Note that with `warm_start=True`, when the `fit()` method is called, it continues training where it left off, instead of restarting from scratch.\n",
        "\n",
        "We use the `mean_squared_error(y_true, y_pred)` method to compute the mean squared error regression loss between the targets `y_true` and the predictions of our model `y_pred`. The training errors and the validation errors are saved for plotting.\n",
        "\n",
        "The best epoch and the best model are saved. The `clone(estimator)` method is used to construct a new estimator with the same parameters as `estimator`."
      ],
      "metadata": {
        "id": "_ctOCip3Y5ff"
      }
    },
    {
      "cell_type": "code",
      "source": [
        "from sklearn.metrics import mean_squared_error\n",
        "from sklearn.base import clone\n",
        "\n",
        "poly_scaler = Pipeline([\n",
        "        (\"poly_features\", PolynomialFeatures(degree=90, include_bias=False)),\n",
        "        (\"std_scaler\", StandardScaler())\n",
        "    ])\n",
        "\n",
        "X_train_poly_scaled = poly_scaler.fit_transform(X_train)\n",
        "X_val_poly_scaled = poly_scaler.transform(X_val)\n",
        "\n",
        "sgd_reg = SGDRegressor(max_iter=1, tol=-np.infty, warm_start=True,\n",
        "                       penalty=None, learning_rate=\"constant\", eta0=0.0005, random_state=42)\n",
        "\n",
        "minimum_val_error = float(\"inf\")\n",
        "best_epoch = None\n",
        "best_model = None\n",
        "n_epochs = 1000\n",
        "train_errors, val_errors = [], []\n",
        "\n",
        "for epoch in range(n_epochs):\n",
        "    sgd_reg.fit(X_train_poly_scaled, y_train)\n",
        "    y_train_predict = sgd_reg.predict(X_train_poly_scaled)\n",
        "    y_val_predict = sgd_reg.predict(X_val_poly_scaled)\n",
        "    train_errors.append(mean_squared_error(y_train, y_train_predict))\n",
        "    val_error = mean_squared_error(y_val, y_val_predict)\n",
        "    val_errors.append(val_error)\n",
        "    if val_error < minimum_val_error:\n",
        "        minimum_val_error = val_error\n",
        "        best_epoch = epoch\n",
        "        best_model = clone(sgd_reg)\n",
        "\n",
        "best_val_rmse = np.sqrt(minimum_val_error)\n",
        "\n",
        "plt.annotate('Best model',\n",
        "             xy=(best_epoch, best_val_rmse),\n",
        "             xytext=(best_epoch, best_val_rmse + 1),\n",
        "             ha=\"center\",\n",
        "             arrowprops=dict(facecolor='black', shrink=0.05),\n",
        "             fontsize=16,\n",
        "            )\n",
        "\n",
        "plt.plot([0, n_epochs], [best_val_rmse, best_val_rmse], \"k:\", linewidth=2)\n",
        "plt.plot(np.sqrt(val_errors), \"b-\", linewidth=3, label=\"Validation set\")\n",
        "plt.plot(np.sqrt(train_errors), \"r--\", linewidth=2, label=\"Training set\")\n",
        "plt.legend(loc=\"upper right\", fontsize=14)\n",
        "plt.xlabel(\"Epoch\", fontsize=14)\n",
        "plt.ylabel(\"RMSE\", fontsize=14)\n",
        "plt.show()"
      ],
      "metadata": {
        "colab": {
          "base_uri": "https://localhost:8080/",
          "height": 283
        },
        "id": "qoIZDHuo7XGy",
        "outputId": "fbb20288-86af-4089-ad2c-b20a4499e63e"
      },
      "execution_count": null,
      "outputs": [
        {
          "output_type": "display_data",
          "data": {
            "image/png": "[encoded data removed]",
            "text/plain": [
              "<Figure size 432x288 with 1 Axes>"
            ]
          },
          "metadata": {
            "needs_background": "light"
          }
        }
      ]
    },
    {
      "cell_type": "code",
      "source": [
        "best_epoch, best_model, best_val_rmse"
      ],
      "metadata": {
        "colab": {
          "base_uri": "https://localhost:8080/"
        },
        "id": "ylsXj5Re-j7J",
        "outputId": "2136be13-259d-46a0-cae2-e0d5da1586e6"
      },
      "execution_count": null,
      "outputs": [
        {
          "output_type": "execute_result",
          "data": {
            "text/plain": [
              "(239,\n",
              " SGDRegressor(eta0=0.0005, learning_rate='constant', max_iter=1, penalty=None,\n",
              "              random_state=42, tol=-inf, warm_start=True),\n",
              " 1.1624590535779686)"
            ]
          },
          "metadata": {},
          "execution_count": 36
        }
      ]
    },
    {
      "cell_type": "markdown",
      "source": [
        "We can see that the best validation RMSE was 1.162, attained at epoch 239. After that, the model began to overfit, and the validation RMSE increased."
      ],
      "metadata": {
        "id": "NUmFKbNg9hAF"
      }
    },
    {
      "cell_type": "markdown",
      "source": [
        "#Logistic regression"
      ],
      "metadata": {
        "id": "QrKz9K1a-dY_"
      }
    },
    {
      "cell_type": "markdown",
      "source": [
        "Let’s use the `iris` dataset to illustrate classification algorithms. This is a famous dataset that contains the sepal and petal length and width of 150 iris flowers of three different species: iris setosa, iris versicolor, and iris virginica.\n",
        "\n",
        "It is included in `scikit-learn` in the `datasets` module. We\n",
        "can load it by calling the `load_iris` function:"
      ],
      "metadata": {
        "id": "b3maBCIFdBTl"
      }
    },
    {
      "cell_type": "code",
      "source": [
        "from sklearn import datasets\n",
        "iris_dataset = datasets.load_iris()"
      ],
      "metadata": {
        "id": "FckALj2Hdh13"
      },
      "execution_count": null,
      "outputs": []
    },
    {
      "cell_type": "markdown",
      "source": [
        "The `iris` object that is returned by `load_iris` is a `Bunch` object, which is very similar to a dictionary. It contains keys and values:"
      ],
      "metadata": {
        "id": "ddN7WuydhLvg"
      }
    },
    {
      "cell_type": "code",
      "source": [
        "iris_dataset.keys()"
      ],
      "metadata": {
        "colab": {
          "base_uri": "https://localhost:8080/"
        },
        "id": "EHvp7mLKhYTY",
        "outputId": "07fcd0cf-223c-4883-dd89-a0fe50c8a7c9"
      },
      "execution_count": null,
      "outputs": [
        {
          "output_type": "execute_result",
          "data": {
            "text/plain": [
              "dict_keys(['data', 'target', 'frame', 'target_names', 'DESCR', 'feature_names', 'filename', 'data_module'])"
            ]
          },
          "metadata": {},
          "execution_count": 38
        }
      ]
    },
    {
      "cell_type": "markdown",
      "source": [
        "We can find out more about the dataset in the `DESCR` attribute."
      ],
      "metadata": {
        "id": "DZohNVKWdoRo"
      }
    },
    {
      "cell_type": "code",
      "source": [
        "print(iris_dataset.DESCR)"
      ],
      "metadata": {
        "colab": {
          "base_uri": "https://localhost:8080/"
        },
        "id": "6e1Dv2-YdlW-",
        "outputId": "c1cf22bd-68e3-4fb7-9c0a-67de6a1e6640"
      },
      "execution_count": null,
      "outputs": [
        {
          "output_type": "stream",
          "name": "stdout",
          "text": [
            ".. _iris_dataset:\n",
            "\n",
            "Iris plants dataset\n",
            "--------------------\n",
            "\n",
            "**Data Set Characteristics:**\n",
            "\n",
            "    :Number of Instances: 150 (50 in each of three classes)\n",
            "    :Number of Attributes: 4 numeric, predictive attributes and the class\n",
            "    :Attribute Information:\n",
            "        - sepal length in cm\n",
            "        - sepal width in cm\n",
            "        - petal length in cm\n",
            "        - petal width in cm\n",
            "        - class:\n",
            "                - Iris-Setosa\n",
            "                - Iris-Versicolour\n",
            "                - Iris-Virginica\n",
            "                \n",
            "    :Summary Statistics:\n",
            "\n",
            "    ============== ==== ==== ======= ===== ====================\n",
            "                    Min  Max   Mean    SD   Class Correlation\n",
            "    ============== ==== ==== ======= ===== ====================\n",
            "    sepal length:   4.3  7.9   5.84   0.83    0.7826\n",
            "    sepal width:    2.0  4.4   3.05   0.43   -0.4194\n",
            "    petal length:   1.0  6.9   3.76   1.76    0.9490  (high!)\n",
            "    petal width:    0.1  2.5   1.20   0.76    0.9565  (high!)\n",
            "    ============== ==== ==== ======= ===== ====================\n",
            "\n",
            "    :Missing Attribute Values: None\n",
            "    :Class Distribution: 33.3% for each of 3 classes.\n",
            "    :Creator: R.A. Fisher\n",
            "    :Donor: Michael Marshall (MARSHALL%PLU@io.arc.nasa.gov)\n",
            "    :Date: July, 1988\n",
            "\n",
            "The famous Iris database, first used by Sir R.A. Fisher. The dataset is taken\n",
            "from Fisher's paper. Note that it's the same as in R, but not as in the UCI\n",
            "Machine Learning Repository, which has two wrong data points.\n",
            "\n",
            "This is perhaps the best known database to be found in the\n",
            "pattern recognition literature.  Fisher's paper is a classic in the field and\n",
            "is referenced frequently to this day.  (See Duda & Hart, for example.)  The\n",
            "data set contains 3 classes of 50 instances each, where each class refers to a\n",
            "type of iris plant.  One class is linearly separable from the other 2; the\n",
            "latter are NOT linearly separable from each other.\n",
            "\n",
            ".. topic:: References\n",
            "\n",
            "   - Fisher, R.A. \"The use of multiple measurements in taxonomic problems\"\n",
            "     Annual Eugenics, 7, Part II, 179-188 (1936); also in \"Contributions to\n",
            "     Mathematical Statistics\" (John Wiley, NY, 1950).\n",
            "   - Duda, R.O., & Hart, P.E. (1973) Pattern Classification and Scene Analysis.\n",
            "     (Q327.D83) John Wiley & Sons.  ISBN 0-471-22361-1.  See page 218.\n",
            "   - Dasarathy, B.V. (1980) \"Nosing Around the Neighborhood: A New System\n",
            "     Structure and Classification Rule for Recognition in Partially Exposed\n",
            "     Environments\".  IEEE Transactions on Pattern Analysis and Machine\n",
            "     Intelligence, Vol. PAMI-2, No. 1, 67-71.\n",
            "   - Gates, G.W. (1972) \"The Reduced Nearest Neighbor Rule\".  IEEE Transactions\n",
            "     on Information Theory, May 1972, 431-433.\n",
            "   - See also: 1988 MLC Proceedings, 54-64.  Cheeseman et al\"s AUTOCLASS II\n",
            "     conceptual clustering system finds 3 classes in the data.\n",
            "   - Many, many more ...\n"
          ]
        }
      ]
    },
    {
      "cell_type": "markdown",
      "source": [
        "The value of the key `target_names` is an array of strings, containing the species of flower that we want to predict:"
      ],
      "metadata": {
        "id": "4T8-Eigjh9SB"
      }
    },
    {
      "cell_type": "code",
      "source": [
        "iris_dataset['target_names']"
      ],
      "metadata": {
        "colab": {
          "base_uri": "https://localhost:8080/"
        },
        "id": "iWJ0q5AeiAZY",
        "outputId": "9cdf787a-a641-4a22-975f-28534bd3b4ff"
      },
      "execution_count": null,
      "outputs": [
        {
          "output_type": "execute_result",
          "data": {
            "text/plain": [
              "array(['setosa', 'versicolor', 'virginica'], dtype='<U10')"
            ]
          },
          "metadata": {},
          "execution_count": 40
        }
      ]
    },
    {
      "cell_type": "markdown",
      "source": [
        "The value of `feature_names` is a list of strings, giving the description of each feature:"
      ],
      "metadata": {
        "id": "cw1p6SL7iN7N"
      }
    },
    {
      "cell_type": "code",
      "source": [
        "iris_dataset['feature_names']"
      ],
      "metadata": {
        "colab": {
          "base_uri": "https://localhost:8080/"
        },
        "id": "I-xIEjY7iPnl",
        "outputId": "e627091c-b0f6-4a2d-88e7-ae9ccd571d5f"
      },
      "execution_count": null,
      "outputs": [
        {
          "output_type": "execute_result",
          "data": {
            "text/plain": [
              "['sepal length (cm)',\n",
              " 'sepal width (cm)',\n",
              " 'petal length (cm)',\n",
              " 'petal width (cm)']"
            ]
          },
          "metadata": {},
          "execution_count": 41
        }
      ]
    },
    {
      "cell_type": "markdown",
      "source": [
        "The data itself is contained in the `target` and `data` fields. `data` contains the numeric measurements of sepal length, sepal width, petal length, and petal width in a `numpy` array:"
      ],
      "metadata": {
        "id": "_8LO65ELiWmN"
      }
    },
    {
      "cell_type": "code",
      "source": [
        "type(iris_dataset['data'])"
      ],
      "metadata": {
        "colab": {
          "base_uri": "https://localhost:8080/"
        },
        "id": "GILyaUFZig5f",
        "outputId": "197e6e51-a504-4766-c3b8-4ac52ff5d9e4"
      },
      "execution_count": null,
      "outputs": [
        {
          "output_type": "execute_result",
          "data": {
            "text/plain": [
              "numpy.ndarray"
            ]
          },
          "metadata": {},
          "execution_count": 42
        }
      ]
    },
    {
      "cell_type": "markdown",
      "source": [
        "The rows in the data array correspond to the flowers, while the columns represent the four measurements that were taken for each flower:"
      ],
      "metadata": {
        "id": "ge1cZWR6iqDI"
      }
    },
    {
      "cell_type": "code",
      "source": [
        "iris_dataset['data'].shape"
      ],
      "metadata": {
        "colab": {
          "base_uri": "https://localhost:8080/"
        },
        "id": "rmUI9nABiteY",
        "outputId": "f4dee4b2-fbbc-439f-c414-77ac527f471f"
      },
      "execution_count": null,
      "outputs": [
        {
          "output_type": "execute_result",
          "data": {
            "text/plain": [
              "(150, 4)"
            ]
          },
          "metadata": {},
          "execution_count": 43
        }
      ]
    },
    {
      "cell_type": "markdown",
      "source": [
        "We see that the array contains measurements for 150 different flowers. The individual items are called *examples* in machine learning, and their properties\n",
        "are called *features*. The shape of the data array is the number of examples multiplied by the number of features. This is a convention in `scikit-learn`, and our data will always be assumed to be in this shape. Here are the feature values for the first five examples:"
      ],
      "metadata": {
        "id": "P1vbS97ri5dU"
      }
    },
    {
      "cell_type": "code",
      "source": [
        "iris_dataset['data'][:5]"
      ],
      "metadata": {
        "colab": {
          "base_uri": "https://localhost:8080/"
        },
        "id": "77skPvmtjRtR",
        "outputId": "0d6e48fa-d2ca-4e3f-fae2-b6f78982d77b"
      },
      "execution_count": null,
      "outputs": [
        {
          "output_type": "execute_result",
          "data": {
            "text/plain": [
              "array([[5.1, 3.5, 1.4, 0.2],\n",
              "       [4.9, 3. , 1.4, 0.2],\n",
              "       [4.7, 3.2, 1.3, 0.2],\n",
              "       [4.6, 3.1, 1.5, 0.2],\n",
              "       [5. , 3.6, 1.4, 0.2]])"
            ]
          },
          "metadata": {},
          "execution_count": 44
        }
      ]
    },
    {
      "cell_type": "markdown",
      "source": [
        "From this data, we can see that all of the first five flowers have a petal width of 0.2 cm and that the first flower has the longest sepal, at 5.1 cm.\n",
        "\n",
        "The `target` array contains the species of each of the flowers that were measured, also as a `numpy` array:"
      ],
      "metadata": {
        "id": "Dhc3DsXpjXe4"
      }
    },
    {
      "cell_type": "code",
      "source": [
        "type(iris_dataset['target'])"
      ],
      "metadata": {
        "colab": {
          "base_uri": "https://localhost:8080/"
        },
        "id": "7G5KmdW5jh1r",
        "outputId": "6e5bff2d-a818-4e34-ac3c-c5c58f367e42"
      },
      "execution_count": null,
      "outputs": [
        {
          "output_type": "execute_result",
          "data": {
            "text/plain": [
              "numpy.ndarray"
            ]
          },
          "metadata": {},
          "execution_count": 45
        }
      ]
    },
    {
      "cell_type": "markdown",
      "source": [
        "`target` is a one-dimensional array, with one entry per flower:"
      ],
      "metadata": {
        "id": "D6ayAOr4jlNv"
      }
    },
    {
      "cell_type": "code",
      "source": [
        "iris_dataset['target'].shape"
      ],
      "metadata": {
        "colab": {
          "base_uri": "https://localhost:8080/"
        },
        "id": "jZMfQgJwjo0e",
        "outputId": "49efa3cf-745d-4470-c180-f8000aaba3cd"
      },
      "execution_count": null,
      "outputs": [
        {
          "output_type": "execute_result",
          "data": {
            "text/plain": [
              "(150,)"
            ]
          },
          "metadata": {},
          "execution_count": 46
        }
      ]
    },
    {
      "cell_type": "markdown",
      "source": [
        "The species are encoded as integers from 0 to 2:"
      ],
      "metadata": {
        "id": "vCsyTGBqjscR"
      }
    },
    {
      "cell_type": "code",
      "source": [
        "iris_dataset['target']"
      ],
      "metadata": {
        "colab": {
          "base_uri": "https://localhost:8080/"
        },
        "id": "VGZUZsnHjrul",
        "outputId": "6af535c6-c47d-4758-a72a-493316023408"
      },
      "execution_count": null,
      "outputs": [
        {
          "output_type": "execute_result",
          "data": {
            "text/plain": [
              "array([0, 0, 0, 0, 0, 0, 0, 0, 0, 0, 0, 0, 0, 0, 0, 0, 0, 0, 0, 0, 0, 0,\n",
              "       0, 0, 0, 0, 0, 0, 0, 0, 0, 0, 0, 0, 0, 0, 0, 0, 0, 0, 0, 0, 0, 0,\n",
              "       0, 0, 0, 0, 0, 0, 1, 1, 1, 1, 1, 1, 1, 1, 1, 1, 1, 1, 1, 1, 1, 1,\n",
              "       1, 1, 1, 1, 1, 1, 1, 1, 1, 1, 1, 1, 1, 1, 1, 1, 1, 1, 1, 1, 1, 1,\n",
              "       1, 1, 1, 1, 1, 1, 1, 1, 1, 1, 1, 1, 2, 2, 2, 2, 2, 2, 2, 2, 2, 2,\n",
              "       2, 2, 2, 2, 2, 2, 2, 2, 2, 2, 2, 2, 2, 2, 2, 2, 2, 2, 2, 2, 2, 2,\n",
              "       2, 2, 2, 2, 2, 2, 2, 2, 2, 2, 2, 2, 2, 2, 2, 2, 2, 2])"
            ]
          },
          "metadata": {},
          "execution_count": 47
        }
      ]
    },
    {
      "cell_type": "markdown",
      "source": [
        "The meanings of the numbers are given by the `iris['target_names']` array:\n",
        "0 means setosa, 1 means versicolor, and 2 means virginica."
      ],
      "metadata": {
        "id": "5gpKMfEOjx-W"
      }
    },
    {
      "cell_type": "markdown",
      "source": [
        "We will again use the `train_test_split()` with the default parameters. It will extract 75% of the rows in the data as the training set, together with the corresponding labels for this data. The remaining 25% of the data, together with the remaining labels, is will be the test set."
      ],
      "metadata": {
        "id": "AbSSpIOwkWiz"
      }
    },
    {
      "cell_type": "code",
      "source": [
        "X_train, X_test, y_train, y_test = train_test_split(iris_dataset['data'], iris_dataset['target'], random_state=0)"
      ],
      "metadata": {
        "id": "CZB-ceLbkVFV"
      },
      "execution_count": null,
      "outputs": []
    },
    {
      "cell_type": "markdown",
      "source": [
        "Before making the split, the `train_test_split()` method shuffles the dataset using a pseudorandom number generator. If we just took the last 25% of the data as a test set, all the data points would have the label 2, as the data points are sorted by the label (see the output for `iris['target']` shown earlier). Using a test set containing only one of the three classes would not tell us much about how well our model generalizes, so we shuffle our data to make sure the test data contains data from all classes.\n",
        "\n",
        "To make sure that we will get the same output if we run the same function several times, we provide the pseudorandom number generator with a fixed seed using the `random_state` parameter. This will make the outcome deterministic, so this line will always have the same outcome.\n",
        "\n",
        "The output of the `train_test_split()` method is `X_train`, `X_test`, `y_train`, and `y_test`, which are all `numpy` arrays. `X_train` contains 75% of the rows of the dataset, and `X_test` contains the remaining 25%:"
      ],
      "metadata": {
        "id": "8luLnHlqk_yW"
      }
    },
    {
      "cell_type": "code",
      "source": [
        "X_train.shape, y_train.shape"
      ],
      "metadata": {
        "colab": {
          "base_uri": "https://localhost:8080/"
        },
        "id": "G2S5KLpllkns",
        "outputId": "e6feab7e-3698-4a5a-ac9f-ac9df707ca66"
      },
      "execution_count": null,
      "outputs": [
        {
          "output_type": "execute_result",
          "data": {
            "text/plain": [
              "((112, 4), (112,))"
            ]
          },
          "metadata": {},
          "execution_count": 49
        }
      ]
    },
    {
      "cell_type": "code",
      "source": [
        "X_test.shape, y_test.shape"
      ],
      "metadata": {
        "colab": {
          "base_uri": "https://localhost:8080/"
        },
        "id": "Ve0cjq_jltdQ",
        "outputId": "f33ab4d3-d93f-46b8-8df7-c51b24fb1209"
      },
      "execution_count": null,
      "outputs": [
        {
          "output_type": "execute_result",
          "data": {
            "text/plain": [
              "((38, 4), (38,))"
            ]
          },
          "metadata": {},
          "execution_count": 50
        }
      ]
    },
    {
      "cell_type": "markdown",
      "source": [
        "Let’s now use **logistic regression** to build a binary classifier to detect the iris virginica type. Basically, we will have two classes: iris virginica and not iris virginica. We transform the targets correspondingly:"
      ],
      "metadata": {
        "id": "U8Xh8g-Fp5lT"
      }
    },
    {
      "cell_type": "code",
      "source": [
        "y_train_binary = (y_train == 2).astype(int) # 1 if iris virginica, else 0\n",
        "y_test_binary = (y_test == 2).astype(int) # 1 if iris virginica, else 0"
      ],
      "metadata": {
        "id": "raVeDbA0qPUh"
      },
      "execution_count": null,
      "outputs": []
    },
    {
      "cell_type": "markdown",
      "source": [
        "Now let’s train a `LogisticRegression` model:"
      ],
      "metadata": {
        "id": "g5JwJDcEqobW"
      }
    },
    {
      "cell_type": "code",
      "source": [
        "from sklearn.linear_model import LogisticRegression\n",
        "\n",
        "log_reg = LogisticRegression(random_state=42)\n",
        "log_reg.fit(X_train, y_train_binary)"
      ],
      "metadata": {
        "colab": {
          "base_uri": "https://localhost:8080/"
        },
        "id": "5q6pqMiTqvqZ",
        "outputId": "3b6a7001-df8e-44a7-ba81-639d7a1c79a4"
      },
      "execution_count": null,
      "outputs": [
        {
          "output_type": "execute_result",
          "data": {
            "text/plain": [
              "LogisticRegression(random_state=42)"
            ]
          },
          "metadata": {},
          "execution_count": 52
        }
      ]
    },
    {
      "cell_type": "markdown",
      "source": [
        "In order to evaluate the accuracy of the logistic regression model on the test set, we use the `score()` method:"
      ],
      "metadata": {
        "id": "Qc3MjvPHrA8T"
      }
    },
    {
      "cell_type": "code",
      "source": [
        "log_reg.score(X_test, y_test_binary)"
      ],
      "metadata": {
        "colab": {
          "base_uri": "https://localhost:8080/"
        },
        "id": "hmEnvqgErQxL",
        "outputId": "9b0eb8b2-8b76-46e9-9d87-badf16caa917"
      },
      "execution_count": null,
      "outputs": [
        {
          "output_type": "execute_result",
          "data": {
            "text/plain": [
              "0.9736842105263158"
            ]
          },
          "metadata": {},
          "execution_count": 53
        }
      ]
    },
    {
      "cell_type": "markdown",
      "source": [
        "A test set accuracy of 97.3% was obtained, which means that our model correctly classified 97.3% of the examples in the test set."
      ],
      "metadata": {
        "id": "AI_rM9Neritv"
      }
    },
    {
      "cell_type": "markdown",
      "source": [
        "We can use the `predict()` method to apply the trained model on the first example in the test set:"
      ],
      "metadata": {
        "id": "nvvH3JKfsMYj"
      }
    },
    {
      "cell_type": "code",
      "source": [
        "log_reg.predict([X_test[0]])"
      ],
      "metadata": {
        "colab": {
          "base_uri": "https://localhost:8080/"
        },
        "id": "fzkjkQpGsUji",
        "outputId": "ce5dac34-83c0-4e2b-d5cc-ff1d0c334bc7"
      },
      "execution_count": null,
      "outputs": [
        {
          "output_type": "execute_result",
          "data": {
            "text/plain": [
              "array([1])"
            ]
          },
          "metadata": {},
          "execution_count": 54
        }
      ]
    },
    {
      "cell_type": "markdown",
      "source": [
        "The model predicted that the first example in the test set is an iris virginica.\n",
        "\n",
        "We can also inspect the probabilities the model assigned to the negative and positive classes, respectively, using the `predict_proba()` method:"
      ],
      "metadata": {
        "id": "I-HZyZswsn9K"
      }
    },
    {
      "cell_type": "code",
      "source": [
        "log_reg.predict_proba([X_test[0]])"
      ],
      "metadata": {
        "colab": {
          "base_uri": "https://localhost:8080/"
        },
        "id": "_vrQz6wHs6F4",
        "outputId": "d41da9e2-7c3c-4384-db3a-10e828888422"
      },
      "execution_count": null,
      "outputs": [
        {
          "output_type": "execute_result",
          "data": {
            "text/plain": [
              "array([[0.08458525, 0.91541475]])"
            ]
          },
          "metadata": {},
          "execution_count": 55
        }
      ]
    },
    {
      "cell_type": "markdown",
      "source": [
        "The model is 91.5% sure that the example is an iris virginica."
      ],
      "metadata": {
        "id": "Jf9A3H3MtNeQ"
      }
    },
    {
      "cell_type": "markdown",
      "source": [
        "#Softmax regression"
      ],
      "metadata": {
        "id": "ErOAxLuwn620"
      }
    },
    {
      "cell_type": "markdown",
      "source": [
        "Let’s use **softmax regression** to classify the iris flowers into the three classes. `scikit-learn`’s `LogisticRegression` class uses one-versus-the-rest by default when we train it on more than two classes, but we can set the `multi_class` hyperparameter to `\"multinomial\"` to switch it to softmax regression. We must also specify a solver that supports softmax regression, such as the `\"lbfgs\"` solver, which is basically a variant of stochastic gradient descent. It also applies $\\ell_2$ regularization by default, which you can control using the hyperparameter `C`, which is the inverse of regularization strength (i.e., $C=1/\\lambda$), meaning that smaller values specify stronger regularization."
      ],
      "metadata": {
        "id": "ak2EOkCndngi"
      }
    },
    {
      "cell_type": "code",
      "source": [
        "softmax_reg = LogisticRegression(max_iter=1000, multi_class=\"multinomial\", solver=\"lbfgs\", C=10, random_state=42)\n",
        "softmax_reg.fit(X_train, y_train)\n",
        "softmax_reg.score(X_test, y_test)"
      ],
      "metadata": {
        "colab": {
          "base_uri": "https://localhost:8080/"
        },
        "id": "_HyTUC7xl70u",
        "outputId": "2ce878af-47cf-47a1-e9ff-4a2bfe95bd4b"
      },
      "execution_count": null,
      "outputs": [
        {
          "output_type": "execute_result",
          "data": {
            "text/plain": [
              "0.9736842105263158"
            ]
          },
          "metadata": {},
          "execution_count": 56
        }
      ]
    },
    {
      "cell_type": "markdown",
      "source": [
        "A test set accuracy of 97.3% was obtained, which means that our model correctly classified 97.3% of the examples in the test set."
      ],
      "metadata": {
        "id": "un7ncIx6m-UG"
      }
    },
    {
      "cell_type": "markdown",
      "source": [
        "Again, we can use the `predict()` method to apply the trained model on the first example in the test set:"
      ],
      "metadata": {
        "id": "VSUWgHlDtxNc"
      }
    },
    {
      "cell_type": "code",
      "source": [
        "softmax_reg.predict([X_test[0]])"
      ],
      "metadata": {
        "colab": {
          "base_uri": "https://localhost:8080/"
        },
        "id": "HI1wwcXAt8uQ",
        "outputId": "c2477e6d-44f3-40f4-aced-6aa2a37b7e4c"
      },
      "execution_count": null,
      "outputs": [
        {
          "output_type": "execute_result",
          "data": {
            "text/plain": [
              "array([2])"
            ]
          },
          "metadata": {},
          "execution_count": 57
        }
      ]
    },
    {
      "cell_type": "markdown",
      "source": [
        "In this case, the classes are the original ones: 0 means setosa, 1 means versicolor, and 2 means virginica. Thus, the model thinks that the first example in the test set is an iris virginica.\n",
        "\n",
        "We can again inspect the probabilities the model assigned to the three classes, using the `predict_proba()` method:"
      ],
      "metadata": {
        "id": "BU-dxveJuIQL"
      }
    },
    {
      "cell_type": "code",
      "source": [
        "softmax_reg.predict_proba([X_test[0]])"
      ],
      "metadata": {
        "colab": {
          "base_uri": "https://localhost:8080/"
        },
        "id": "E8uwdVVauhqU",
        "outputId": "bc917723-4479-47d2-c333-0babe10cbd6e"
      },
      "execution_count": null,
      "outputs": [
        {
          "output_type": "execute_result",
          "data": {
            "text/plain": [
              "array([[8.71083042e-08, 2.39654879e-03, 9.97603364e-01]])"
            ]
          },
          "metadata": {},
          "execution_count": 58
        }
      ]
    },
    {
      "cell_type": "markdown",
      "source": [
        "This model is 99.7% certain that the first example in the test set is an iris virginica. The first two probabilities correspond to the setosa and versicolor classes, respectively. We can verify that the three probabilities add up to 1, meaning that the model outputs a probability distribution over the three classes:"
      ],
      "metadata": {
        "id": "Uic3B769upi3"
      }
    },
    {
      "cell_type": "code",
      "source": [
        "np.sum(softmax_reg.predict_proba([X_test[0]]))"
      ],
      "metadata": {
        "colab": {
          "base_uri": "https://localhost:8080/"
        },
        "id": "JaI3pijivJQG",
        "outputId": "1c005351-c1ba-409f-d2b6-a35dad24d8de"
      },
      "execution_count": null,
      "outputs": [
        {
          "output_type": "execute_result",
          "data": {
            "text/plain": [
              "1.0"
            ]
          },
          "metadata": {},
          "execution_count": 59
        }
      ]
    }
  ]
}