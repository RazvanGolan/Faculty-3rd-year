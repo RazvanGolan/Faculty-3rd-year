{
  "nbformat": 4,
  "nbformat_minor": 0,
  "metadata": {
    "colab": {
      "provenance": [],
      "gpuType": "T4",
      "authorship_tag": "ABX9TyN5lVhqaD6COQnKuBh5/huN",
      "include_colab_link": true
    },
    "kernelspec": {
      "name": "python3",
      "display_name": "Python 3"
    },
    "language_info": {
      "name": "python"
    },
    "accelerator": "GPU"
  },
  "cells": [
    {
      "cell_type": "markdown",
      "metadata": {
        "id": "view-in-github",
        "colab_type": "text"
      },
      "source": [
        "<a href=\"https://colab.research.google.com/github/RazvanGolan/Faculty-3rd-year/blob/main/bia/test2/bia_test2.ipynb\" target=\"_parent\"><img src=\"https://colab.research.google.com/assets/colab-badge.svg\" alt=\"Open In Colab\"/></a>"
      ]
    },
    {
      "cell_type": "code",
      "execution_count": null,
      "metadata": {
        "colab": {
          "base_uri": "https://localhost:8080/"
        },
        "id": "1BrMd93M_Xbs",
        "outputId": "ec31c1e9-8f1f-4cdb-f6a6-947ec9b9905e"
      },
      "outputs": [
        {
          "output_type": "stream",
          "name": "stdout",
          "text": [
            "torch.Size([3, 2])\n",
            "torch.Size([2, 3])\n"
          ]
        },
        {
          "output_type": "execute_result",
          "data": {
            "text/plain": [
              "tensor([ -625,   -10, -1620])"
            ]
          },
          "metadata": {},
          "execution_count": 1
        }
      ],
      "source": [
        "# exercise 1\n",
        "import torch\n",
        "a = torch.tensor([[4, 5], [-2, 1], [0, 6]])\n",
        "b = torch.tensor([[3, 0, -1], [2, 2, 10]])\n",
        "\n",
        "print(a.shape)\n",
        "print(b.shape)\n",
        "\n",
        "c = b[0] + a@b\n",
        "x = a[:, 1]\n",
        "f = -c[0]*(x*x)\n",
        "f"
      ]
    },
    {
      "cell_type": "code",
      "source": [
        "# exercise 2\n",
        "\n",
        "import torch\n",
        "import matplotlib.pyplot as plt\n",
        "import numpy as np\n",
        "from torch import nn\n",
        "\n",
        "class MLP(nn.Module):\n",
        "    # Declare a layer with model parameters. Here, we declare two fully\n",
        "    # connected layers\n",
        "    def __init__(self):\n",
        "        # Call the constructor of the `MLP` parent class `nn.Module` to perform\n",
        "        # the necessary initialization. In this way, other function arguments\n",
        "        # can also be specified during class instantiation, such as the model\n",
        "        # parameters\n",
        "        super().__init__()\n",
        "        self.hidden = nn.Linear(32, 512)  # Hidden layer\n",
        "        self.out = nn.Linear(512, 10)  # Output layer\n",
        "\n",
        "    # Define the forward propagation of the model, that is, how to return the\n",
        "    # required model output, based on the input `X`\n",
        "    def forward(self, X):\n",
        "        # Note here we use the nn.ReLU class for the ReLU activation function\n",
        "        return self.out(nn.ReLU()(self.hidden(X)))"
      ],
      "metadata": {
        "id": "er1gPYQHAtPe"
      },
      "execution_count": null,
      "outputs": []
    },
    {
      "cell_type": "code",
      "source": [
        "net = MLP()"
      ],
      "metadata": {
        "id": "P7T87iiD_5KH"
      },
      "execution_count": null,
      "outputs": []
    },
    {
      "cell_type": "code",
      "source": [
        "import torchvision\n",
        "from torchvision import transforms\n",
        "\n",
        "def load_data_fashion_mnist(batch_size, resize=None):\n",
        "    \"\"\"Download the Fashion-MNIST dataset and then load it into memory.\"\"\"\n",
        "    trans = [transforms.ToTensor()]\n",
        "    if resize:\n",
        "        trans.insert(0, transforms.Resize(resize))\n",
        "    trans = transforms.Compose(trans)\n",
        "    mnist_train = torchvision.datasets.CIFAR10(\n",
        "        root=\"../data\", train=True, transform=trans, download=True)\n",
        "    mnist_test = torchvision.datasets.CIFAR10(\n",
        "        root=\"../data\", train=False, transform=trans, download=True)\n",
        "    mnist_train, mnist_val = torch.utils.data.random_split(mnist_train, [7000, 43000],\n",
        "                                                           generator=torch.Generator().manual_seed(42))\n",
        "    return (torch.utils.data.DataLoader(mnist_train, batch_size, shuffle=True,\n",
        "                            num_workers=2),\n",
        "            torch.utils.data.DataLoader(mnist_val, batch_size, shuffle=False,\n",
        "                            num_workers=2),\n",
        "            torch.utils.data.DataLoader(mnist_test, batch_size, shuffle=False,\n",
        "                            num_workers=2))"
      ],
      "metadata": {
        "id": "pg-WjqixBm6y"
      },
      "execution_count": null,
      "outputs": []
    },
    {
      "cell_type": "code",
      "source": [
        "batch_size = 256\n",
        "train_iter, val_iter, test_iter = load_data_fashion_mnist(batch_size)\n",
        "\n",
        "loss = nn.CrossEntropyLoss()\n",
        "\n",
        "lr = 0.01\n",
        "optimizer = torch.optim.SGD(net.parameters(), lr=lr)"
      ],
      "metadata": {
        "colab": {
          "base_uri": "https://localhost:8080/"
        },
        "id": "ImUmFCCbB5mP",
        "outputId": "ca04b04f-d14f-4c3c-e8a3-64940c7eb49a"
      },
      "execution_count": null,
      "outputs": [
        {
          "output_type": "stream",
          "name": "stdout",
          "text": [
            "Downloading https://www.cs.toronto.edu/~kriz/cifar-10-python.tar.gz to ../data/cifar-10-python.tar.gz\n"
          ]
        },
        {
          "output_type": "stream",
          "name": "stderr",
          "text": [
            "100%|██████████| 170M/170M [00:05<00:00, 29.3MB/s]\n"
          ]
        },
        {
          "output_type": "stream",
          "name": "stdout",
          "text": [
            "Extracting ../data/cifar-10-python.tar.gz to ../data\n",
            "Files already downloaded and verified\n"
          ]
        }
      ]
    },
    {
      "cell_type": "code",
      "source": [
        "def evaluate_accuracy(net, data_iter, loss, device):\n",
        "    \"\"\"Compute the accuracy for a model on a dataset.\"\"\"\n",
        "    net.eval()  # Set the model to evaluation mode\n",
        "\n",
        "    total_loss = 0\n",
        "    total_hits = 0\n",
        "    total_samples = 0\n",
        "    with torch.no_grad():\n",
        "        for X, y in data_iter:\n",
        "            X, y = X.to(device), y.to(device)\n",
        "            y_hat = net(X)\n",
        "            l = loss(y_hat, y)\n",
        "            total_loss += float(l)\n",
        "            total_hits += sum(net(X).argmax(axis=1).type(y.dtype) == y)\n",
        "            total_samples += y.numel()\n",
        "    return float(total_loss) / len(data_iter), float(total_hits) / total_samples  * 100"
      ],
      "metadata": {
        "id": "EH_6ByCxCtmc"
      },
      "execution_count": null,
      "outputs": []
    },
    {
      "cell_type": "code",
      "source": [
        "def train_epoch(net, train_iter, loss, optimizer, device):\n",
        "    # Set the model to training mode\n",
        "    net.train()\n",
        "    # Sum of training loss, sum of training correct predictions, no. of examples\n",
        "    total_loss = 0\n",
        "    total_hits = 0\n",
        "    total_samples = 0\n",
        "    for X, y in train_iter:\n",
        "        # Compute gradients and update parameters\n",
        "        X, y = X.to(device), y.to(device)\n",
        "        y_hat = net(X)\n",
        "        l = loss(y_hat, y)\n",
        "        # Using PyTorch built-in optimizer & loss criterion\n",
        "        optimizer.zero_grad()\n",
        "        l.backward()\n",
        "        optimizer.step()\n",
        "        total_loss += float(l)\n",
        "        total_hits += sum(y_hat.argmax(axis=1).type(y.dtype) == y)\n",
        "        total_samples += y.numel()\n",
        "    # Return training loss and training accuracy\n",
        "    return float(total_loss) / len(train_iter), float(total_hits) / total_samples  * 100"
      ],
      "metadata": {
        "id": "qsjWJ3VeC6WS"
      },
      "execution_count": null,
      "outputs": []
    },
    {
      "cell_type": "code",
      "source": [
        "def train(net, train_iter, val_iter, test_iter, num_epochs, lr, device):\n",
        "    \"\"\"Train a model.\"\"\"\n",
        "    train_loss_all = []\n",
        "    train_acc_all = []\n",
        "    val_loss_all = []\n",
        "    val_acc_all = []\n",
        "    def init_weights(m):\n",
        "        if type(m) == nn.Linear or type(m) == nn.Conv2d:\n",
        "            nn.init.xavier_uniform_(m.weight)\n",
        "    net.apply(init_weights)\n",
        "    print('Training on', device)\n",
        "    net.to(device)\n",
        "    optimizer = torch.optim.SGD(net.parameters(), lr=lr)\n",
        "    loss = nn.CrossEntropyLoss()\n",
        "    for epoch in range(num_epochs):\n",
        "        train_loss, train_acc = train_epoch(net, train_iter, loss, optimizer, device)\n",
        "        train_loss_all.append(train_loss)\n",
        "        train_acc_all.append(train_acc)\n",
        "        val_loss, val_acc = evaluate_accuracy(net, val_iter, loss, device)\n",
        "        val_loss_all.append(val_loss)\n",
        "        val_acc_all.append(val_acc)\n",
        "        print(f'Epoch {epoch + 1}, Train loss {train_loss:.2f}, Train accuracy {train_acc:.2f}, Validation loss {val_loss:.2f}, Validation accuracy {val_acc:.2f}')\n",
        "    test_loss, test_acc = evaluate_accuracy(net, test_iter, loss, device)\n",
        "    print(f'Test loss {test_loss:.2f}, Test accuracy {test_acc:.2f}')\n",
        "\n",
        "    return train_loss_all, train_acc_all, val_loss_all, val_acc_all"
      ],
      "metadata": {
        "id": "R2VK7EriC6tQ"
      },
      "execution_count": null,
      "outputs": []
    },
    {
      "cell_type": "code",
      "source": [
        "def try_gpu(i=0):\n",
        "    \"\"\"Return gpu(i) if exists, otherwise return cpu().\"\"\"\n",
        "    if torch.cuda.device_count() >= i + 1:\n",
        "        return torch.device(f'cuda:{i}')\n",
        "    return torch.device('cpu')"
      ],
      "metadata": {
        "id": "FdHeMKRcJp2Z"
      },
      "execution_count": null,
      "outputs": []
    },
    {
      "cell_type": "code",
      "source": [
        "num_epochs = 10\n",
        "train_loss_all, train_acc_all, val_loss_all, val_acc_all = train(net, train_iter, val_iter, test_iter, num_epochs, lr, try_gpu()) #2 min"
      ],
      "metadata": {
        "colab": {
          "base_uri": "https://localhost:8080/",
          "height": 356
        },
        "id": "NyJVvox8C8CJ",
        "outputId": "7e32135e-7b72-4384-b7e2-feaf8fffacac"
      },
      "execution_count": null,
      "outputs": [
        {
          "output_type": "stream",
          "name": "stdout",
          "text": [
            "Training on cuda:0\n"
          ]
        },
        {
          "output_type": "error",
          "ename": "RuntimeError",
          "evalue": "only batches of spatial targets supported (3D tensors) but got targets of size: : [256]",
          "traceback": [
            "\u001b[0;31m---------------------------------------------------------------------------\u001b[0m",
            "\u001b[0;31mRuntimeError\u001b[0m                              Traceback (most recent call last)",
            "\u001b[0;32m<ipython-input-10-201b202fd1a7>\u001b[0m in \u001b[0;36m<cell line: 2>\u001b[0;34m()\u001b[0m\n\u001b[1;32m      1\u001b[0m \u001b[0mnum_epochs\u001b[0m \u001b[0;34m=\u001b[0m \u001b[0;36m10\u001b[0m\u001b[0;34m\u001b[0m\u001b[0;34m\u001b[0m\u001b[0m\n\u001b[0;32m----> 2\u001b[0;31m \u001b[0mtrain_loss_all\u001b[0m\u001b[0;34m,\u001b[0m \u001b[0mtrain_acc_all\u001b[0m\u001b[0;34m,\u001b[0m \u001b[0mval_loss_all\u001b[0m\u001b[0;34m,\u001b[0m \u001b[0mval_acc_all\u001b[0m \u001b[0;34m=\u001b[0m \u001b[0mtrain\u001b[0m\u001b[0;34m(\u001b[0m\u001b[0mnet\u001b[0m\u001b[0;34m,\u001b[0m \u001b[0mtrain_iter\u001b[0m\u001b[0;34m,\u001b[0m \u001b[0mval_iter\u001b[0m\u001b[0;34m,\u001b[0m \u001b[0mtest_iter\u001b[0m\u001b[0;34m,\u001b[0m \u001b[0mnum_epochs\u001b[0m\u001b[0;34m,\u001b[0m \u001b[0mlr\u001b[0m\u001b[0;34m,\u001b[0m \u001b[0mtry_gpu\u001b[0m\u001b[0;34m(\u001b[0m\u001b[0;34m)\u001b[0m\u001b[0;34m)\u001b[0m \u001b[0;31m#2 min\u001b[0m\u001b[0;34m\u001b[0m\u001b[0;34m\u001b[0m\u001b[0m\n\u001b[0m",
            "\u001b[0;32m<ipython-input-8-7c921ddee245>\u001b[0m in \u001b[0;36mtrain\u001b[0;34m(net, train_iter, val_iter, test_iter, num_epochs, lr, device)\u001b[0m\n\u001b[1;32m     14\u001b[0m     \u001b[0mloss\u001b[0m \u001b[0;34m=\u001b[0m \u001b[0mnn\u001b[0m\u001b[0;34m.\u001b[0m\u001b[0mCrossEntropyLoss\u001b[0m\u001b[0;34m(\u001b[0m\u001b[0;34m)\u001b[0m\u001b[0;34m\u001b[0m\u001b[0;34m\u001b[0m\u001b[0m\n\u001b[1;32m     15\u001b[0m     \u001b[0;32mfor\u001b[0m \u001b[0mepoch\u001b[0m \u001b[0;32min\u001b[0m \u001b[0mrange\u001b[0m\u001b[0;34m(\u001b[0m\u001b[0mnum_epochs\u001b[0m\u001b[0;34m)\u001b[0m\u001b[0;34m:\u001b[0m\u001b[0;34m\u001b[0m\u001b[0;34m\u001b[0m\u001b[0m\n\u001b[0;32m---> 16\u001b[0;31m         \u001b[0mtrain_loss\u001b[0m\u001b[0;34m,\u001b[0m \u001b[0mtrain_acc\u001b[0m \u001b[0;34m=\u001b[0m \u001b[0mtrain_epoch\u001b[0m\u001b[0;34m(\u001b[0m\u001b[0mnet\u001b[0m\u001b[0;34m,\u001b[0m \u001b[0mtrain_iter\u001b[0m\u001b[0;34m,\u001b[0m \u001b[0mloss\u001b[0m\u001b[0;34m,\u001b[0m \u001b[0moptimizer\u001b[0m\u001b[0;34m,\u001b[0m \u001b[0mdevice\u001b[0m\u001b[0;34m)\u001b[0m\u001b[0;34m\u001b[0m\u001b[0;34m\u001b[0m\u001b[0m\n\u001b[0m\u001b[1;32m     17\u001b[0m         \u001b[0mtrain_loss_all\u001b[0m\u001b[0;34m.\u001b[0m\u001b[0mappend\u001b[0m\u001b[0;34m(\u001b[0m\u001b[0mtrain_loss\u001b[0m\u001b[0;34m)\u001b[0m\u001b[0;34m\u001b[0m\u001b[0;34m\u001b[0m\u001b[0m\n\u001b[1;32m     18\u001b[0m         \u001b[0mtrain_acc_all\u001b[0m\u001b[0;34m.\u001b[0m\u001b[0mappend\u001b[0m\u001b[0;34m(\u001b[0m\u001b[0mtrain_acc\u001b[0m\u001b[0;34m)\u001b[0m\u001b[0;34m\u001b[0m\u001b[0;34m\u001b[0m\u001b[0m\n",
            "\u001b[0;32m<ipython-input-7-935b7590d841>\u001b[0m in \u001b[0;36mtrain_epoch\u001b[0;34m(net, train_iter, loss, optimizer, device)\u001b[0m\n\u001b[1;32m     10\u001b[0m         \u001b[0mX\u001b[0m\u001b[0;34m,\u001b[0m \u001b[0my\u001b[0m \u001b[0;34m=\u001b[0m \u001b[0mX\u001b[0m\u001b[0;34m.\u001b[0m\u001b[0mto\u001b[0m\u001b[0;34m(\u001b[0m\u001b[0mdevice\u001b[0m\u001b[0;34m)\u001b[0m\u001b[0;34m,\u001b[0m \u001b[0my\u001b[0m\u001b[0;34m.\u001b[0m\u001b[0mto\u001b[0m\u001b[0;34m(\u001b[0m\u001b[0mdevice\u001b[0m\u001b[0;34m)\u001b[0m\u001b[0;34m\u001b[0m\u001b[0;34m\u001b[0m\u001b[0m\n\u001b[1;32m     11\u001b[0m         \u001b[0my_hat\u001b[0m \u001b[0;34m=\u001b[0m \u001b[0mnet\u001b[0m\u001b[0;34m(\u001b[0m\u001b[0mX\u001b[0m\u001b[0;34m)\u001b[0m\u001b[0;34m\u001b[0m\u001b[0;34m\u001b[0m\u001b[0m\n\u001b[0;32m---> 12\u001b[0;31m         \u001b[0ml\u001b[0m \u001b[0;34m=\u001b[0m \u001b[0mloss\u001b[0m\u001b[0;34m(\u001b[0m\u001b[0my_hat\u001b[0m\u001b[0;34m,\u001b[0m \u001b[0my\u001b[0m\u001b[0;34m)\u001b[0m\u001b[0;34m\u001b[0m\u001b[0;34m\u001b[0m\u001b[0m\n\u001b[0m\u001b[1;32m     13\u001b[0m         \u001b[0;31m# Using PyTorch built-in optimizer & loss criterion\u001b[0m\u001b[0;34m\u001b[0m\u001b[0;34m\u001b[0m\u001b[0m\n\u001b[1;32m     14\u001b[0m         \u001b[0moptimizer\u001b[0m\u001b[0;34m.\u001b[0m\u001b[0mzero_grad\u001b[0m\u001b[0;34m(\u001b[0m\u001b[0;34m)\u001b[0m\u001b[0;34m\u001b[0m\u001b[0;34m\u001b[0m\u001b[0m\n",
            "\u001b[0;32m/usr/local/lib/python3.10/dist-packages/torch/nn/modules/module.py\u001b[0m in \u001b[0;36m_wrapped_call_impl\u001b[0;34m(self, *args, **kwargs)\u001b[0m\n\u001b[1;32m   1734\u001b[0m             \u001b[0;32mreturn\u001b[0m \u001b[0mself\u001b[0m\u001b[0;34m.\u001b[0m\u001b[0m_compiled_call_impl\u001b[0m\u001b[0;34m(\u001b[0m\u001b[0;34m*\u001b[0m\u001b[0margs\u001b[0m\u001b[0;34m,\u001b[0m \u001b[0;34m**\u001b[0m\u001b[0mkwargs\u001b[0m\u001b[0;34m)\u001b[0m  \u001b[0;31m# type: ignore[misc]\u001b[0m\u001b[0;34m\u001b[0m\u001b[0;34m\u001b[0m\u001b[0m\n\u001b[1;32m   1735\u001b[0m         \u001b[0;32melse\u001b[0m\u001b[0;34m:\u001b[0m\u001b[0;34m\u001b[0m\u001b[0;34m\u001b[0m\u001b[0m\n\u001b[0;32m-> 1736\u001b[0;31m             \u001b[0;32mreturn\u001b[0m \u001b[0mself\u001b[0m\u001b[0;34m.\u001b[0m\u001b[0m_call_impl\u001b[0m\u001b[0;34m(\u001b[0m\u001b[0;34m*\u001b[0m\u001b[0margs\u001b[0m\u001b[0;34m,\u001b[0m \u001b[0;34m**\u001b[0m\u001b[0mkwargs\u001b[0m\u001b[0;34m)\u001b[0m\u001b[0;34m\u001b[0m\u001b[0;34m\u001b[0m\u001b[0m\n\u001b[0m\u001b[1;32m   1737\u001b[0m \u001b[0;34m\u001b[0m\u001b[0m\n\u001b[1;32m   1738\u001b[0m     \u001b[0;31m# torchrec tests the code consistency with the following code\u001b[0m\u001b[0;34m\u001b[0m\u001b[0;34m\u001b[0m\u001b[0m\n",
            "\u001b[0;32m/usr/local/lib/python3.10/dist-packages/torch/nn/modules/module.py\u001b[0m in \u001b[0;36m_call_impl\u001b[0;34m(self, *args, **kwargs)\u001b[0m\n\u001b[1;32m   1745\u001b[0m                 \u001b[0;32mor\u001b[0m \u001b[0m_global_backward_pre_hooks\u001b[0m \u001b[0;32mor\u001b[0m \u001b[0m_global_backward_hooks\u001b[0m\u001b[0;34m\u001b[0m\u001b[0;34m\u001b[0m\u001b[0m\n\u001b[1;32m   1746\u001b[0m                 or _global_forward_hooks or _global_forward_pre_hooks):\n\u001b[0;32m-> 1747\u001b[0;31m             \u001b[0;32mreturn\u001b[0m \u001b[0mforward_call\u001b[0m\u001b[0;34m(\u001b[0m\u001b[0;34m*\u001b[0m\u001b[0margs\u001b[0m\u001b[0;34m,\u001b[0m \u001b[0;34m**\u001b[0m\u001b[0mkwargs\u001b[0m\u001b[0;34m)\u001b[0m\u001b[0;34m\u001b[0m\u001b[0;34m\u001b[0m\u001b[0m\n\u001b[0m\u001b[1;32m   1748\u001b[0m \u001b[0;34m\u001b[0m\u001b[0m\n\u001b[1;32m   1749\u001b[0m         \u001b[0mresult\u001b[0m \u001b[0;34m=\u001b[0m \u001b[0;32mNone\u001b[0m\u001b[0;34m\u001b[0m\u001b[0;34m\u001b[0m\u001b[0m\n",
            "\u001b[0;32m/usr/local/lib/python3.10/dist-packages/torch/nn/modules/loss.py\u001b[0m in \u001b[0;36mforward\u001b[0;34m(self, input, target)\u001b[0m\n\u001b[1;32m   1291\u001b[0m \u001b[0;34m\u001b[0m\u001b[0m\n\u001b[1;32m   1292\u001b[0m     \u001b[0;32mdef\u001b[0m \u001b[0mforward\u001b[0m\u001b[0;34m(\u001b[0m\u001b[0mself\u001b[0m\u001b[0;34m,\u001b[0m \u001b[0minput\u001b[0m\u001b[0;34m:\u001b[0m \u001b[0mTensor\u001b[0m\u001b[0;34m,\u001b[0m \u001b[0mtarget\u001b[0m\u001b[0;34m:\u001b[0m \u001b[0mTensor\u001b[0m\u001b[0;34m)\u001b[0m \u001b[0;34m->\u001b[0m \u001b[0mTensor\u001b[0m\u001b[0;34m:\u001b[0m\u001b[0;34m\u001b[0m\u001b[0;34m\u001b[0m\u001b[0m\n\u001b[0;32m-> 1293\u001b[0;31m         return F.cross_entropy(\n\u001b[0m\u001b[1;32m   1294\u001b[0m             \u001b[0minput\u001b[0m\u001b[0;34m,\u001b[0m\u001b[0;34m\u001b[0m\u001b[0;34m\u001b[0m\u001b[0m\n\u001b[1;32m   1295\u001b[0m             \u001b[0mtarget\u001b[0m\u001b[0;34m,\u001b[0m\u001b[0;34m\u001b[0m\u001b[0;34m\u001b[0m\u001b[0m\n",
            "\u001b[0;32m/usr/local/lib/python3.10/dist-packages/torch/nn/functional.py\u001b[0m in \u001b[0;36mcross_entropy\u001b[0;34m(input, target, weight, size_average, ignore_index, reduce, reduction, label_smoothing)\u001b[0m\n\u001b[1;32m   3477\u001b[0m     \u001b[0;32mif\u001b[0m \u001b[0msize_average\u001b[0m \u001b[0;32mis\u001b[0m \u001b[0;32mnot\u001b[0m \u001b[0;32mNone\u001b[0m \u001b[0;32mor\u001b[0m \u001b[0mreduce\u001b[0m \u001b[0;32mis\u001b[0m \u001b[0;32mnot\u001b[0m \u001b[0;32mNone\u001b[0m\u001b[0;34m:\u001b[0m\u001b[0;34m\u001b[0m\u001b[0;34m\u001b[0m\u001b[0m\n\u001b[1;32m   3478\u001b[0m         \u001b[0mreduction\u001b[0m \u001b[0;34m=\u001b[0m \u001b[0m_Reduction\u001b[0m\u001b[0;34m.\u001b[0m\u001b[0mlegacy_get_string\u001b[0m\u001b[0;34m(\u001b[0m\u001b[0msize_average\u001b[0m\u001b[0;34m,\u001b[0m \u001b[0mreduce\u001b[0m\u001b[0;34m)\u001b[0m\u001b[0;34m\u001b[0m\u001b[0;34m\u001b[0m\u001b[0m\n\u001b[0;32m-> 3479\u001b[0;31m     return torch._C._nn.cross_entropy_loss(\n\u001b[0m\u001b[1;32m   3480\u001b[0m         \u001b[0minput\u001b[0m\u001b[0;34m,\u001b[0m\u001b[0;34m\u001b[0m\u001b[0;34m\u001b[0m\u001b[0m\n\u001b[1;32m   3481\u001b[0m         \u001b[0mtarget\u001b[0m\u001b[0;34m,\u001b[0m\u001b[0;34m\u001b[0m\u001b[0;34m\u001b[0m\u001b[0m\n",
            "\u001b[0;31mRuntimeError\u001b[0m: only batches of spatial targets supported (3D tensors) but got targets of size: : [256]"
          ]
        }
      ]
    },
    {
      "cell_type": "code",
      "source": [
        "def plot_loss(train_loss_all, val_loss_all):\n",
        "    epochs = range(1, len(train_loss_all) + 1)\n",
        "    plt.plot(epochs, train_loss_all, 'bo', label='Training loss')\n",
        "    plt.plot(epochs, val_loss_all, 'b', label='Validation loss')\n",
        "    plt.title('Training and validation loss')\n",
        "    plt.xlabel('Epochs')\n",
        "    plt.ylabel('Loss')\n",
        "    plt.legend()\n",
        "    plt.show()\n",
        "\n",
        "plot_loss(train_loss_all, val_loss_all)"
      ],
      "metadata": {
        "id": "WsFp51VzC-AJ"
      },
      "execution_count": null,
      "outputs": []
    },
    {
      "cell_type": "code",
      "source": [
        "def plot_accuracy(train_acc_all, val_acc_all):\n",
        "    epochs = range(1, len(train_acc_all) + 1)\n",
        "    plt.plot(epochs, train_acc_all, 'bo', label='Training acc')\n",
        "    plt.plot(epochs, val_acc_all, 'b', label='Validation acc')\n",
        "    plt.title('Training and validation accuracy')\n",
        "    plt.xlabel('Epochs')\n",
        "    plt.ylabel('Accuracy')\n",
        "    plt.legend()\n",
        "    plt.show()\n",
        "\n",
        "plot_accuracy(train_acc_all, val_acc_all)"
      ],
      "metadata": {
        "id": "rOGOLuTEDe1B"
      },
      "execution_count": null,
      "outputs": []
    },
    {
      "cell_type": "code",
      "source": [
        "test_loss, test_acc = evaluate_accuracy(net, test_iter)\n",
        "print(f'Test loss {test_loss:.2f}, Test accuracy {test_acc:.2f}')"
      ],
      "metadata": {
        "id": "vUy4aiPuDgvR"
      },
      "execution_count": null,
      "outputs": []
    },
    {
      "cell_type": "code",
      "source": [
        "# exercise 3\n",
        "\n",
        "import torchvision\n",
        "from torchvision import transforms\n",
        "\n",
        "def load_data_fashion_mnist(batch_size, resize=None):\n",
        "    \"\"\"Download the Fashion-MNIST dataset and then load it into memory.\"\"\"\n",
        "    trans = [transforms.ToTensor()]\n",
        "    if resize:\n",
        "        trans.insert(0, transforms.Resize(resize))\n",
        "    trans = transforms.Compose(trans)\n",
        "    mnist_train = torchvision.datasets.CIFAR100(\n",
        "        root=\"../data\", train=True, transform=trans, download=True)\n",
        "    mnist_test = torchvision.datasets.CIFAR100(\n",
        "        root=\"../data\", train=False, transform=trans, download=True)\n",
        "    mnist_train, mnist_val = torch.utils.data.random_split(mnist_train, [6000, 44000],\n",
        "                                                           generator=torch.Generator().manual_seed(42))\n",
        "    return (torch.utils.data.DataLoader(mnist_train, batch_size, shuffle=True,\n",
        "                            num_workers=2),\n",
        "            torch.utils.data.DataLoader(mnist_val, batch_size, shuffle=False,\n",
        "                            num_workers=2),\n",
        "            torch.utils.data.DataLoader(mnist_test, batch_size, shuffle=False,\n",
        "                            num_workers=2))"
      ],
      "metadata": {
        "id": "MlFTCHJWK7z6"
      },
      "execution_count": null,
      "outputs": []
    },
    {
      "cell_type": "code",
      "source": [
        "class MLP(nn.Module):\n",
        "    \"\"\"The Residual block of ResNet.\"\"\"\n",
        "    def __init__(self, input_channels):\n",
        "        super().__init__()\n",
        "\n",
        "        self.left_avg = nn.AvgPool2d(kernel_size=2, stride=16)\n",
        "        self.left_conv = nn.Conv2d(input_channels, 32, kernel_size=1)\n",
        "        self.left_batch = nn.BatchNorm2d(32)\n",
        "        self.left_relu = nn.ReLU()\n",
        "\n",
        "        self.middle_conv = nn.Conv2d(input_channels, 32, kernel_size=1, stride=16)\n",
        "        self.middle_batch = nn.BatchNorm2d(32)\n",
        "        self.middle_relu = nn.ReLU()\n",
        "\n",
        "        self.right_conv = nn.Conv2d(input_channels, 64, kernel_size=1)\n",
        "        self.right_first_relu = nn.ReLU()\n",
        "\n",
        "        self.right_conv2 = nn.Conv2d(64, 32, kernel_size=(1, 3), stride = 16)\n",
        "        self.right_relu2 = nn.ReLU()\n",
        "\n",
        "        self.right_conv3 = nn.Conv2d(64, 32, kernel_size=(3, 1), stride = 16)\n",
        "        self.right_relu3 = nn.ReLU()\n",
        "\n",
        "    def forward(self, X):\n",
        "        left = self.left_avg(X)\n",
        "        left = self.left_conv(left)\n",
        "        left = self.left_batch(left)\n",
        "        left = self.left_relu(left)\n",
        "\n",
        "        middle = self.middle_conv(X)\n",
        "        middle = self.middle_batch(middle)\n",
        "        middle = self.middle_relu(middle)\n",
        "\n",
        "        right1 = self.right_conv(X)\n",
        "        right1 = self.right_first_relu(right1)\n",
        "\n",
        "        right2 = self.right_conv2(right1)\n",
        "        right2 = self.right_relu2(right2)\n",
        "\n",
        "        right3 = self.right_conv3(right1)\n",
        "        right3 = self.right_relu3(right3)\n",
        "\n",
        "        out = torch.concat((left, middle, right2, right3), dim=1)\n",
        "        return out"
      ],
      "metadata": {
        "id": "XFDDRnhLLA_k"
      },
      "execution_count": null,
      "outputs": []
    },
    {
      "cell_type": "code",
      "source": [
        "net = nn.Sequential(\n",
        "    MLP(3),\n",
        "    nn.Flatten(),\n",
        "    nn.Linear(512, 100)\n",
        ")\n",
        "\n",
        "out = MLP(3)(torch.rand((1, 3, 32, 32)))\n",
        "\n",
        "print(out.shape)\n",
        "\n",
        "out = nn.Flatten()(out)\n",
        "\n",
        "print(out.shape)\n",
        "\n",
        "out = nn.Linear(512, 100)(out)\n",
        "\n",
        "print(out.shape)"
      ],
      "metadata": {
        "colab": {
          "base_uri": "https://localhost:8080/"
        },
        "id": "juJOi1soLA87",
        "outputId": "25494622-465f-485d-aea5-3ef63990307a"
      },
      "execution_count": null,
      "outputs": [
        {
          "output_type": "stream",
          "name": "stdout",
          "text": [
            "torch.Size([1, 128, 2, 2])\n",
            "torch.Size([1, 512])\n",
            "torch.Size([1, 100])\n"
          ]
        }
      ]
    },
    {
      "cell_type": "code",
      "source": [
        "batch_size = 256\n",
        "train_iter, val_iter, test_iter = load_data_fashion_mnist(batch_size)\n",
        "\n",
        "loss = nn.CrossEntropyLoss()\n",
        "\n",
        "lr = 0.05\n",
        "optimizer = torch.optim.SGD(net.parameters(), lr=lr)\n",
        "\n",
        "num_epochs = 5\n",
        "train_loss_all, train_acc_all, val_loss_all, val_acc_all = train(net, train_iter, val_iter, test_iter, num_epochs, lr, try_gpu()) #2 min\n",
        "\n",
        "# i got Test loss 4.31, Test accuracy 5.37 better than required"
      ],
      "metadata": {
        "colab": {
          "base_uri": "https://localhost:8080/"
        },
        "id": "uTl7Lv7MLA6I",
        "outputId": "6a636f4f-118c-436e-c859-0d47adea6049"
      },
      "execution_count": null,
      "outputs": [
        {
          "output_type": "stream",
          "name": "stdout",
          "text": [
            "Downloading https://www.cs.toronto.edu/~kriz/cifar-100-python.tar.gz to ../data/cifar-100-python.tar.gz\n"
          ]
        },
        {
          "output_type": "stream",
          "name": "stderr",
          "text": [
            "100%|██████████| 169M/169M [00:05<00:00, 29.8MB/s]\n"
          ]
        },
        {
          "output_type": "stream",
          "name": "stdout",
          "text": [
            "Extracting ../data/cifar-100-python.tar.gz to ../data\n",
            "Files already downloaded and verified\n",
            "Training on cuda:0\n",
            "Epoch 1, Train loss 4.68, Train accuracy 1.03, Validation loss 4.59, Validation accuracy 1.73\n",
            "Epoch 2, Train loss 4.49, Train accuracy 3.32, Validation loss 4.50, Validation accuracy 3.20\n",
            "Epoch 3, Train loss 4.38, Train accuracy 4.75, Validation loss 4.40, Validation accuracy 4.39\n",
            "Epoch 4, Train loss 4.31, Train accuracy 5.92, Validation loss 4.34, Validation accuracy 4.90\n",
            "Epoch 5, Train loss 4.25, Train accuracy 6.62, Validation loss 4.30, Validation accuracy 5.24\n",
            "Test loss 4.31, Test accuracy 5.37\n"
          ]
        }
      ]
    },
    {
      "cell_type": "code",
      "source": [
        "# exercise 4\n",
        "\n",
        "import hashlib\n",
        "import os\n",
        "import requests\n",
        "import re\n",
        "import collections\n",
        "import random\n",
        "import torch\n",
        "from torch import nn\n",
        "from torch.nn import functional as F\n",
        "import math\n",
        "import matplotlib.pyplot as plt\n",
        "import zipfile\n",
        "\n",
        "torch.manual_seed(42);\n",
        "\n",
        "def download(url, cache_dir=os.path.join('..', 'data')):\n",
        "    \"\"\"Download a file, return the local filename.\"\"\"\n",
        "    os.makedirs(cache_dir, exist_ok=True)\n",
        "    fname = os.path.join(cache_dir, url.split('/')[-1])\n",
        "    if os.path.exists(fname):\n",
        "        with open(fname, 'rb') as f:\n",
        "            while True:\n",
        "                data = f.read(1048576)\n",
        "                if not data:\n",
        "                    break\n",
        "        return fname\n",
        "    print(f'Downloading {fname} from {url}...')\n",
        "    r = requests.get(url, stream=True, verify=True)\n",
        "    with open(fname, 'wb') as f:\n",
        "        f.write(r.content)\n",
        "    return fname\n",
        "\n",
        "def read_time_machine():\n",
        "    \"\"\"Load the time machine dataset into a list of text lines.\"\"\"\n",
        "    with open(download('https://s3.amazonaws.com/text-datasets/nietzsche.txt'), 'r') as f:\n",
        "        lines = f.readlines()\n",
        "    return [re.sub('[^A-Za-z]+', ' ', line).strip().lower() for line in lines]\n",
        "\n",
        "lines = read_time_machine()\n",
        "print(f'# text lines: {len(lines)}')\n",
        "print(lines[0])\n",
        "print(lines[10])"
      ],
      "metadata": {
        "colab": {
          "base_uri": "https://localhost:8080/"
        },
        "id": "X4-HvTsoDh6K",
        "outputId": "6c4f06fa-a0ea-436d-bc40-d5d816ca419b"
      },
      "execution_count": null,
      "outputs": [
        {
          "output_type": "stream",
          "name": "stdout",
          "text": [
            "Downloading ../data/nietzsche.txt from https://s3.amazonaws.com/text-datasets/nietzsche.txt...\n",
            "# text lines: 9935\n",
            "preface\n",
            "indeed it stands at all for there are scoffers who maintain that it\n"
          ]
        }
      ]
    },
    {
      "cell_type": "code",
      "source": [
        "def tokenize(lines, token='word'):\n",
        "    \"\"\"Split text lines into word or character tokens.\"\"\"\n",
        "    if token == 'word':\n",
        "        return [line.split() for line in lines]\n",
        "    elif token == 'char':\n",
        "        return [list(line) for line in lines]\n",
        "    else:\n",
        "        print('ERROR: unknown token type: ' + token)\n",
        "\n",
        "tokens = tokenize(lines)\n",
        "for i in range(11):\n",
        "    print(tokens[i])"
      ],
      "metadata": {
        "colab": {
          "base_uri": "https://localhost:8080/"
        },
        "id": "V6Uvj82BEhpN",
        "outputId": "a5703500-bf3a-45e2-9c23-f84c3d184c18"
      },
      "execution_count": null,
      "outputs": [
        {
          "output_type": "stream",
          "name": "stdout",
          "text": [
            "['preface']\n",
            "[]\n",
            "[]\n",
            "['supposing', 'that', 'truth', 'is', 'a', 'woman', 'what', 'then', 'is', 'there', 'not', 'ground']\n",
            "['for', 'suspecting', 'that', 'all', 'philosophers', 'in', 'so', 'far', 'as', 'they', 'have', 'been']\n",
            "['dogmatists', 'have', 'failed', 'to', 'understand', 'women', 'that', 'the', 'terrible']\n",
            "['seriousness', 'and', 'clumsy', 'importunity', 'with', 'which', 'they', 'have', 'usually', 'paid']\n",
            "['their', 'addresses', 'to', 'truth', 'have', 'been', 'unskilled', 'and', 'unseemly', 'methods', 'for']\n",
            "['winning', 'a', 'woman', 'certainly', 'she', 'has', 'never', 'allowed', 'herself', 'to', 'be', 'won', 'and']\n",
            "['at', 'present', 'every', 'kind', 'of', 'dogma', 'stands', 'with', 'sad', 'and', 'discouraged', 'mien', 'if']\n",
            "['indeed', 'it', 'stands', 'at', 'all', 'for', 'there', 'are', 'scoffers', 'who', 'maintain', 'that', 'it']\n"
          ]
        }
      ]
    },
    {
      "cell_type": "code",
      "source": [
        "class Vocab:\n",
        "    \"\"\"Vocabulary for text.\"\"\"\n",
        "    def __init__(self, tokens=None, min_freq=0, reserved_tokens=None):\n",
        "        if tokens is None:\n",
        "            tokens = []\n",
        "        if reserved_tokens is None:\n",
        "            reserved_tokens = []\n",
        "        # Sort according to frequencies\n",
        "        counter = count_corpus(tokens)\n",
        "        self._token_freqs = sorted(counter.items(), key=lambda x: x[1],\n",
        "                                   reverse=True)\n",
        "        # The index for the unknown token is 0\n",
        "        self.idx_to_token = ['<unk>'] + reserved_tokens\n",
        "        self.token_to_idx = {token: idx\n",
        "                             for idx, token in enumerate(self.idx_to_token)}\n",
        "        for token, freq in self._token_freqs:\n",
        "            if freq < min_freq:\n",
        "                break\n",
        "            if token not in self.token_to_idx:\n",
        "                self.idx_to_token.append(token)\n",
        "                self.token_to_idx[token] = len(self.idx_to_token) - 1\n",
        "\n",
        "    def __len__(self):\n",
        "        return len(self.idx_to_token)\n",
        "\n",
        "    def __getitem__(self, tokens):\n",
        "        if not isinstance(tokens, (list, tuple)):\n",
        "            return self.token_to_idx.get(tokens, self.unk)\n",
        "        return [self.__getitem__(token) for token in tokens]\n",
        "\n",
        "    def to_tokens(self, indices):\n",
        "        if not isinstance(indices, (list, tuple)):\n",
        "            return self.idx_to_token[indices]\n",
        "        return [self.idx_to_token[index] for index in indices]\n",
        "\n",
        "    @property\n",
        "    def unk(self):  # Index for the unknown token\n",
        "        return 0\n",
        "\n",
        "    @property\n",
        "    def token_freqs(self):  # Token frequencies\n",
        "        return self._token_freqs\n",
        "\n",
        "def count_corpus(tokens):\n",
        "    \"\"\"Count token frequencies.\"\"\"\n",
        "    # Here `tokens` is a 1D list or 2D list\n",
        "    if len(tokens) == 0 or isinstance(tokens[0], list):\n",
        "        # Flatten a list of token lists into a list of tokens\n",
        "        tokens = [token for line in tokens for token in line]\n",
        "    return collections.Counter(tokens)"
      ],
      "metadata": {
        "id": "kT17xVK1Eh4I"
      },
      "execution_count": null,
      "outputs": []
    },
    {
      "cell_type": "code",
      "source": [
        "def load_corpus_time_machine(max_tokens=-1):\n",
        "    \"\"\"Return token indices and the vocabulary of the time machine dataset.\"\"\"\n",
        "    lines = read_time_machine()\n",
        "    tokens = tokenize(lines, 'char')\n",
        "    vocab = Vocab(tokens)\n",
        "    # Since each text line in the time machine dataset is not necessarily a\n",
        "    # sentence or a paragraph, flatten all the text lines into a single list\n",
        "    corpus = [vocab[token] for line in tokens for token in line]\n",
        "    if max_tokens > 0:\n",
        "        corpus = corpus[:max_tokens]\n",
        "    return corpus, vocab\n",
        "\n",
        "corpus, vocab = load_corpus_time_machine()\n",
        "len(corpus), len(vocab)"
      ],
      "metadata": {
        "colab": {
          "base_uri": "https://localhost:8080/"
        },
        "id": "Eo3Y2e_AEjen",
        "outputId": "642295aa-49e9-4e2e-a378-4085b0258d87"
      },
      "execution_count": null,
      "outputs": [
        {
          "output_type": "execute_result",
          "data": {
            "text/plain": [
              "(570394, 28)"
            ]
          },
          "metadata": {},
          "execution_count": 44
        }
      ]
    },
    {
      "cell_type": "code",
      "source": [
        "def seq_data_iter_sequential(corpus, batch_size, num_steps):\n",
        "    \"\"\"Generate a mini-batch of subsequences using sequential partitioning.\"\"\"\n",
        "    # Start with a random offset to partition a sequence\n",
        "    offset = random.randint(0, num_steps)\n",
        "    num_tokens = ((len(corpus) - offset - 1) // batch_size) * batch_size\n",
        "    Xs = torch.tensor(corpus[offset: offset + num_tokens])\n",
        "    Ys = torch.tensor(corpus[offset + 1: offset + 1 + num_tokens])\n",
        "    Xs, Ys = Xs.reshape(batch_size, -1), Ys.reshape(batch_size, -1)\n",
        "    num_batches = Xs.shape[1] // num_steps\n",
        "    for i in range(0, num_steps * num_batches, num_steps):\n",
        "        X = Xs[:, i: i + num_steps]\n",
        "        Y = Ys[:, i: i + num_steps]\n",
        "        yield X, Y"
      ],
      "metadata": {
        "id": "_WkK8PbFEnGo"
      },
      "execution_count": null,
      "outputs": []
    },
    {
      "cell_type": "code",
      "source": [
        "class SeqDataLoader:\n",
        "    \"\"\"An iterator to load sequence data.\"\"\"\n",
        "    def __init__(self, batch_size, num_steps, max_tokens):\n",
        "        self.corpus, self.vocab = load_corpus_time_machine(max_tokens)\n",
        "        self.batch_size, self.num_steps = batch_size, num_steps\n",
        "\n",
        "    def __iter__(self):\n",
        "        return seq_data_iter_sequential(self.corpus, self.batch_size, self.num_steps)"
      ],
      "metadata": {
        "id": "hcOXzARoEoWY"
      },
      "execution_count": null,
      "outputs": []
    },
    {
      "cell_type": "code",
      "source": [
        "def load_data_time_machine(batch_size, num_steps, max_tokens=10000):\n",
        "    \"\"\"Return the iterator and the vocabulary of the time machine dataset.\"\"\"\n",
        "    data_iter = SeqDataLoader(\n",
        "        batch_size, num_steps, max_tokens)\n",
        "    return data_iter, data_iter.vocab"
      ],
      "metadata": {
        "id": "Rf9K-LyFEp-I"
      },
      "execution_count": null,
      "outputs": []
    },
    {
      "cell_type": "code",
      "source": [
        "class RNNModel(nn.Module):\n",
        "    \"\"\"The RNN model.\"\"\"\n",
        "    def __init__(self, rnn_layer, vocab_size, **kwargs):\n",
        "        super(RNNModel, self).__init__(**kwargs)\n",
        "        self.rnn = rnn_layer\n",
        "        self.vocab_size = vocab_size\n",
        "        self.num_hiddens = self.rnn.hidden_size\n",
        "        self.linear = nn.Linear(self.num_hiddens, self.vocab_size)\n",
        "\n",
        "    def forward(self, inputs, state):\n",
        "        X = F.one_hot(inputs.T.long(), self.vocab_size)\n",
        "        X = X.to(torch.float32)\n",
        "        Y, state = self.rnn(X, state)\n",
        "        # The fully connected layer will first change the shape of `Y` to\n",
        "        # (`num_steps` * `batch_size`, `num_hiddens`). Its output shape is\n",
        "        # (`num_steps` * `batch_size`, `vocab_size`).\n",
        "        output = self.linear(Y.reshape((-1, Y.shape[-1])))\n",
        "        return output, state\n",
        "\n",
        "    def begin_state(self, device, batch_size=1):\n",
        "        if not isinstance(self.rnn, nn.LSTM):\n",
        "            # `nn.GRU` takes a tensor as hidden state\n",
        "            return  torch.zeros((self.rnn.num_layers,\n",
        "                                 batch_size, self.num_hiddens),\n",
        "                                 device=device)\n",
        "        else:\n",
        "            # `nn.LSTM` takes a tuple of hidden states\n",
        "            return (torch.zeros((\n",
        "                self.rnn.num_layers,\n",
        "                batch_size, self.num_hiddens), device=device),\n",
        "                    torch.zeros((\n",
        "                        self.rnn.num_layers,\n",
        "                        batch_size, self.num_hiddens), device=device))"
      ],
      "metadata": {
        "id": "upwsoDqLErBA"
      },
      "execution_count": null,
      "outputs": []
    },
    {
      "cell_type": "code",
      "source": [
        "def predict(prefix, num_preds, net, vocab, device):\n",
        "    \"\"\"Generate new characters following the `prefix`.\"\"\"\n",
        "    state = net.begin_state(batch_size=1, device=device)\n",
        "    outputs = [vocab[prefix[0]]]\n",
        "    get_input = lambda: torch.tensor([outputs[-1]], device=device).reshape((1, 1))\n",
        "    for y in prefix[1:]:  # Warm-up period\n",
        "        _, state = net(get_input(), state)\n",
        "        outputs.append(vocab[y])\n",
        "    for _ in range(num_preds):  # Predict `num_preds` steps\n",
        "        y, state = net(get_input(), state)\n",
        "        outputs.append(int(y.argmax(dim=1).reshape(1)))\n",
        "    return ''.join([vocab.idx_to_token[i] for i in outputs])"
      ],
      "metadata": {
        "id": "SRTF6RvNEtfA"
      },
      "execution_count": null,
      "outputs": []
    },
    {
      "cell_type": "code",
      "source": [
        "def try_gpu(i=0):\n",
        "    \"\"\"Return gpu(i) if exists, otherwise return cpu().\"\"\"\n",
        "    if torch.cuda.device_count() >= i + 1:\n",
        "        return torch.device(f'cuda:{i}')\n",
        "    return torch.device('cpu')"
      ],
      "metadata": {
        "id": "8Scx3CtNEx0i"
      },
      "execution_count": null,
      "outputs": []
    },
    {
      "cell_type": "code",
      "source": [
        "def grad_clipping(net, theta):\n",
        "    \"\"\"Clip the gradient.\"\"\"\n",
        "    params = [p for p in net.parameters() if p.requires_grad]\n",
        "    norm = torch.sqrt(sum(torch.sum((p.grad ** 2)) for p in params))\n",
        "    if norm > theta:\n",
        "        for param in params:\n",
        "            param.grad[:] *= theta / norm"
      ],
      "metadata": {
        "id": "rV7n0KZkE75P"
      },
      "execution_count": null,
      "outputs": []
    },
    {
      "cell_type": "code",
      "source": [
        "def train_epoch(net, train_iter, loss, optimizer, device):\n",
        "    \"\"\"Train a net within one epoch.\"\"\"\n",
        "    state = None\n",
        "    # Sum of training loss, no. of tokens\n",
        "    total_loss = 0\n",
        "    total_tokens = 0\n",
        "    for X, Y in train_iter:\n",
        "        if state is None:\n",
        "            # Initialize `state` when it is the first iteration\n",
        "            state = net.begin_state(batch_size=X.shape[0], device=device)\n",
        "        else:\n",
        "            if not isinstance(state, tuple):\n",
        "                # `state` is a tensor for `nn.GRU`\n",
        "                state.detach_()\n",
        "            else:\n",
        "                # `state` is a tuple of tensors for `nn.LSTM`\n",
        "                for s in state:\n",
        "                    s.detach_()\n",
        "        y = Y.T.reshape(-1)\n",
        "        X, y = X.to(device), y.to(device)\n",
        "        y_hat, state = net(X, state)\n",
        "        l = loss(y_hat, y.long()).mean()\n",
        "        optimizer.zero_grad()\n",
        "        l.backward()\n",
        "        grad_clipping(net, 1)\n",
        "        optimizer.step()\n",
        "        total_loss += float(l * y.numel())\n",
        "        total_tokens += y.numel()\n",
        "    return math.exp(total_loss / total_tokens)"
      ],
      "metadata": {
        "id": "m8isntl7E9Qn"
      },
      "execution_count": null,
      "outputs": []
    },
    {
      "cell_type": "code",
      "source": [
        "def train(net, train_iter, vocab, lr, num_epochs, device):\n",
        "    \"\"\"Train a model.\"\"\"\n",
        "    loss = nn.CrossEntropyLoss()\n",
        "    perplexities = []\n",
        "    # Initialize\n",
        "    optimizer = torch.optim.SGD(net.parameters(), lr)\n",
        "    # Train and predict\n",
        "    for epoch in range(num_epochs):\n",
        "        ppl = train_epoch(\n",
        "            net, train_iter, loss, optimizer, device)\n",
        "        if (epoch + 1) % 10 == 0:\n",
        "            print(predict('philosophy', 30, net, vocab, device))\n",
        "            perplexities.append(ppl)\n",
        "    print(f'perplexity {ppl:.1f}, device {str(device)}')\n",
        "    print(predict('philosophy', 30, net, vocab, device))\n",
        "    return perplexities"
      ],
      "metadata": {
        "id": "Ki3bXpF-E-pI"
      },
      "execution_count": null,
      "outputs": []
    },
    {
      "cell_type": "code",
      "source": [
        "num_epochs, lr = 350, 3.5\n",
        "batch_size, num_steps = 32, 35\n",
        "\n",
        "train_iter, vocab = load_data_time_machine(batch_size, num_steps)\n",
        "\n",
        "num_hiddens = 30\n",
        "rnn_layer = nn.RNN(len(vocab), num_hiddens, 3)\n",
        "\n",
        "device = try_gpu()\n",
        "net = RNNModel(rnn_layer, vocab_size=len(vocab))\n",
        "net = net.to(device)\n",
        "\n",
        "perplexities = train(net, train_iter, vocab, lr, num_epochs, device) #1 min"
      ],
      "metadata": {
        "colab": {
          "base_uri": "https://localhost:8080/"
        },
        "id": "Uup5A2F8FIB4",
        "outputId": "9fdce361-6d52-4475-a0a0-d3d19fc449ec"
      },
      "execution_count": null,
      "outputs": [
        {
          "output_type": "stream",
          "name": "stdout",
          "text": [
            "philosophyeeeeeeeeeeeeeeeeeeeeeeeeeeeeee\n",
            "philosophyt tt tt tt tt tt tt tt tt tt t\n",
            "philosophy                              \n",
            "philosophyeeeeeeeeeeeeeeeeeeeeeeeeeeeeee\n",
            "philosophyseiseiseiseiseiseiseiseiseisei\n",
            "philosophy ie ie ie ie ie ie ie ie ie ie\n",
            "philosophy tttt tttt tttt tttt tttt tttt\n",
            "philosophye esesresesresessesesse esesre\n",
            "philosophyininininininininininininininin\n",
            "philosophy                              \n",
            "philosophyoooooooooooooooooooooooooooooo\n",
            "philosophyrtrtrtrtrtrtrtrtrtrtrtrtrtrtrt\n",
            "philosophy                              \n",
            "philosophy                              \n",
            "philosophyeeeeeeeeeeeeeeeeeeeeeeeeeeeeee\n",
            "philosophytttttttttttttttttttttttttttttt\n",
            "philosophyeeeeeeeeeeeeeeeeeeeeeeeeeeeeee\n",
            "philosophyoooooooooooooooooooooooooooooo\n",
            "philosophyrlrlrlrlrlrlrlrlrlrlrlrlrlrlrl\n",
            "philosophyaoaoaoaoaoaoaoaoaoaoaoaoaoaoao\n",
            "philosophyeeeeeeeeeeeeeeeeeeeeeeeeeeeeee\n",
            "philosophyoooooooooooooooooooooooooooooo\n",
            "philosophy                              \n",
            "philosophyeeeeeeeeeeeeeeeeeeeeeeeeeeeeee\n",
            "philosophyssssssssssssssssssssssssssssss\n",
            "philosophysososososososososososososososo\n",
            "philosophytttttttttttttttttttttttttttttt\n",
            "philosophyssssssssssssssssssssssssssssss\n",
            "philosophyeeeeeeeeeeeeeeeeeeeeeeeeeeeeee\n",
            "philosophynnnnnnnnnnnnnnnnnnnnnnnnnnnnnn\n",
            "philosophytttttttttttttttttttttttttttttt\n",
            "philosophyeeeeeeeeeeeeeeeeeeeeeeeeeeeeee\n",
            "philosophyoaoaoaoaoaoaoaoaoaoaoaoaoaoaoa\n",
            "philosophyeeeeeeeeeeeeeeeeeeeeeeeeeeeeee\n",
            "philosophye e e e e e e e e e e e e e e \n",
            "perplexity 524.6, device cpu\n",
            "philosophye e e e e e e e e e e e e e e \n"
          ]
        }
      ]
    },
    {
      "cell_type": "code",
      "source": [
        "def plot_perplexity(perplexities):\n",
        "    epochs = range(10, len(perplexities * 10) + 1, 10)\n",
        "    plt.plot(epochs, perplexities, 'b', label='Train perplexity')\n",
        "    plt.title('Training perplexity')\n",
        "    plt.xlabel('Epochs')\n",
        "    plt.ylabel('Perplexity')\n",
        "    plt.legend()\n",
        "    plt.show()\n",
        "\n",
        "plot_perplexity(perplexities)"
      ],
      "metadata": {
        "colab": {
          "base_uri": "https://localhost:8080/",
          "height": 472
        },
        "id": "0Df6eHstFd0R",
        "outputId": "67133741-58ae-4060-8fd1-12e913051de6"
      },
      "execution_count": null,
      "outputs": [
        {
          "output_type": "display_data",
          "data": {
            "text/plain": [
              "<Figure size 640x480 with 1 Axes>"
            ],
            "image/png": "[encoded data removed]"
          },
          "metadata": {}
        }
      ]
    },
    {
      "cell_type": "code",
      "source": [
        "# exercise 5\n",
        "\n",
        "def synthetic_data(w, b, num_examples):\n",
        "    \"\"\"Generate y = Xw + b + noise.\"\"\"\n",
        "    X = torch.normal(0, 1, (num_examples, len(w)))\n",
        "    y = torch.sinh(X) @ w + b\n",
        "    e = torch.normal(0, 0.06, y.shape)\n",
        "    y += e\n",
        "    return X, y.reshape(-1, 1)"
      ],
      "metadata": {
        "id": "NMHYJnjfF7ZW"
      },
      "execution_count": null,
      "outputs": []
    },
    {
      "cell_type": "code",
      "source": [
        "true_w = torch.tensor([-3.])\n",
        "X = torch.normal(0, 1, (1, len(true_w)))\n",
        "true_b = torch.cosh(X)\n",
        "features, labels = synthetic_data(true_w, true_b, 150)"
      ],
      "metadata": {
        "id": "s1BHHLNjGvvM"
      },
      "execution_count": null,
      "outputs": []
    },
    {
      "cell_type": "code",
      "source": [
        "def data_iter(batch_size, features, labels):\n",
        "    num_examples = len(features)\n",
        "    indices = list(range(num_examples))\n",
        "    # The examples are read at random, in no particular order\n",
        "    np.random.shuffle(indices)\n",
        "    for i in range(0, num_examples, batch_size):\n",
        "        batch_indices = torch.tensor(\n",
        "            indices[i: min(i + batch_size, num_examples)])\n",
        "        yield features[batch_indices], labels[batch_indices]"
      ],
      "metadata": {
        "id": "rAPOYoh4HRCg"
      },
      "execution_count": null,
      "outputs": []
    },
    {
      "cell_type": "code",
      "source": [
        "def load_array(data_arrays, batch_size, is_train=True):\n",
        "    \"\"\"Construct a PyTorch data iterator.\"\"\"\n",
        "    dataset = torch.utils.data.TensorDataset(*data_arrays)\n",
        "    return torch.utils.data.DataLoader(dataset, batch_size, shuffle=is_train)"
      ],
      "metadata": {
        "id": "5OvggWwrHRW4"
      },
      "execution_count": null,
      "outputs": []
    },
    {
      "cell_type": "code",
      "source": [
        "batch_size = 10\n",
        "data_iter = load_array((features, labels), batch_size)"
      ],
      "metadata": {
        "id": "kYLoKjkYHVlK"
      },
      "execution_count": null,
      "outputs": []
    },
    {
      "cell_type": "markdown",
      "source": [
        "# Did not find Nadaraya kernel"
      ],
      "metadata": {
        "id": "WyPHp6gxIrJ_"
      }
    },
    {
      "cell_type": "code",
      "source": [],
      "metadata": {
        "id": "qAZZ9tuFI1T9"
      },
      "execution_count": null,
      "outputs": []
    }
  ]
}