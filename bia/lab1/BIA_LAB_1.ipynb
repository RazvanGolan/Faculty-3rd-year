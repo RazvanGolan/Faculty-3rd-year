{
  "nbformat": 4,
  "nbformat_minor": 0,
  "metadata": {
    "colab": {
      "provenance": [],
      "include_colab_link": true
    },
    "language_info": {
      "name": "python"
    },
    "kernelspec": {
      "name": "python3",
      "display_name": "Python 3"
    }
  },
  "cells": [
    {
      "cell_type": "markdown",
      "metadata": {
        "id": "view-in-github",
        "colab_type": "text"
      },
      "source": [
        "<a href=\"https://colab.research.google.com/github/RazvanGolan/Faculty-3rd-year/blob/main/bia/lab1/BIA_LAB_1.ipynb\" target=\"_parent\"><img src=\"https://colab.research.google.com/assets/colab-badge.svg\" alt=\"Open In Colab\"/></a>"
      ]
    },
    {
      "metadata": {
        "id": "Zw7dm_p72W__"
      },
      "cell_type": "markdown",
      "source": [
        "#Python Tutorial\n",
        "\n",
        "##Python\n",
        "\n",
        "Python is a high-level, dynamically typed multiparadigm programming language. Python code is often said to be almost like pseudocode, since it allows you to express very powerful ideas in very few lines of code while being very readable. As an example, here is an implementation of the classic quicksort algorithm in Python:\n",
        "\n",
        "\n",
        "\n"
      ]
    },
    {
      "metadata": {
        "id": "br8jYDJM5rWd",
        "colab": {
          "base_uri": "https://localhost:8080/"
        },
        "outputId": "e6455f30-e7e2-46cb-c877-a9f9f3c10d07"
      },
      "cell_type": "code",
      "source": [
        "def quicksort(arr):\n",
        "    if len(arr) <= 1:\n",
        "        return arr\n",
        "    pivot = arr[len(arr) // 2]\n",
        "    left = [x for x in arr if x < pivot]\n",
        "    middle = [x for x in arr if x == pivot]\n",
        "    right = [x for x in arr if x > pivot]\n",
        "    return quicksort(left) + middle + quicksort(right)\n",
        "\n",
        "print(quicksort([3,6,8,10,1,2,1]))\n",
        "# Prints \"[1, 1, 2, 3, 6, 8, 10]\""
      ],
      "execution_count": null,
      "outputs": [
        {
          "output_type": "stream",
          "name": "stdout",
          "text": [
            "[1, 1, 2, 3, 6, 8, 10]\n"
          ]
        }
      ]
    },
    {
      "metadata": {
        "id": "kdmA_aQR52Xf"
      },
      "cell_type": "markdown",
      "source": [
        "##Python versions\n",
        "\n",
        "There are currently two different supported versions of Python, 2.7 and 3.7. Somewhat confusingly, Python 3.0 introduced many backwards-incompatible changes to the language, so code written for 2.7 may not work under 3.7 and vice versa. For this laboratory all code will use Python 3.7.\n",
        "\n",
        "You can check your Python version at the command line by running `python --version`.\n",
        "\n",
        "##Basic data types\n",
        "\n",
        "Like most languages, Python has a number of basic types including integers, floats, booleans, and strings. These data types behave in ways that are familiar from other programming languages.\n",
        "\n",
        "###Numbers\n",
        "\n",
        "Integers and floats work as you would expect from other languages:"
      ]
    },
    {
      "metadata": {
        "id": "NwiAvjv06UK4",
        "colab": {
          "base_uri": "https://localhost:8080/",
          "height": 185
        },
        "outputId": "77b73dd1-aca3-4466-9b8a-3968debf7897"
      },
      "cell_type": "code",
      "source": [
        "x = 3\n",
        "print(type(x)) # Prints \"<class 'int'>\"\n",
        "print(x)       # Prints \"3\"\n",
        "print(x + 1)   # Addition; prints \"4\"\n",
        "print(x - 1)   # Subtraction; prints \"2\"\n",
        "print(x * 2)   # Multiplication; prints \"6\"\n",
        "print(x ** 2)  # Exponentiation; prints \"9\"\n",
        "x += 1\n",
        "print(x)  # Prints \"4\"\n",
        "x *= 2\n",
        "print(x)  # Prints \"8\"\n",
        "y = 2.5\n",
        "print(type(y)) # Prints \"<class 'float'>\"\n",
        "print(y, y + 1, y * 2, y ** 2) # Prints \"2.5 3.5 5.0 6.25\""
      ],
      "execution_count": null,
      "outputs": [
        {
          "output_type": "stream",
          "text": [
            "<type 'int'>\n",
            "3\n",
            "4\n",
            "2\n",
            "6\n",
            "9\n",
            "4\n",
            "8\n",
            "<type 'float'>\n",
            "(2.5, 3.5, 5.0, 6.25)\n"
          ],
          "name": "stdout"
        }
      ]
    },
    {
      "metadata": {
        "id": "XePU1zvG6iW0"
      },
      "cell_type": "markdown",
      "source": [
        "Note that unlike many languages, Python does not have unary increment (`x++`) or decrement (`x--`) operators.\n",
        "\n",
        "Python also has built-in types for complex numbers; you can find all of the details [in the documentation](https://docs.python.org/3.7/library/stdtypes.html#numeric-types-int-float-complex).\n",
        "\n",
        "###Booleans\n",
        "\n",
        "Python implements all of the usual operators for Boolean logic, but uses English words rather than symbols (`&&`, `||`, etc.):\n"
      ]
    },
    {
      "metadata": {
        "id": "uCplgjE36yBl",
        "colab": {
          "base_uri": "https://localhost:8080/",
          "height": 101
        },
        "outputId": "ec28cff7-1823-4f9d-9c55-32b695a8209c"
      },
      "cell_type": "code",
      "source": [
        "t = True\n",
        "f = False\n",
        "print(type(t)) # Prints \"<class 'bool'>\"\n",
        "print(t and f) # Logical AND; prints \"False\"\n",
        "print(t or f)  # Logical OR; prints \"True\"\n",
        "print(not t)   # Logical NOT; prints \"False\"\n",
        "print(t != f)  # Logical XOR; prints \"True\""
      ],
      "execution_count": null,
      "outputs": [
        {
          "output_type": "stream",
          "text": [
            "<type 'bool'>\n",
            "False\n",
            "True\n",
            "False\n",
            "True\n"
          ],
          "name": "stdout"
        }
      ]
    },
    {
      "metadata": {
        "id": "dGay5XyP67l_"
      },
      "cell_type": "markdown",
      "source": [
        "###Strings\n",
        "\n",
        "Python has great support for strings:"
      ]
    },
    {
      "metadata": {
        "id": "LhLrXu6U7BAg",
        "colab": {
          "base_uri": "https://localhost:8080/",
          "height": 84
        },
        "outputId": "81f00fed-6579-4187-bad0-a2101ea33dd8"
      },
      "cell_type": "code",
      "source": [
        "hello = 'hello'    # String literals can use single quotes\n",
        "world = \"world\"    # or double quotes; it does not matter.\n",
        "print(hello)       # Prints \"hello\"\n",
        "print(len(hello))  # String length; prints \"5\"\n",
        "hw = hello + ' ' + world  # String concatenation\n",
        "print(hw)  # prints \"hello world\"\n",
        "hw12 = '%s %s %d' % (hello, world, 12)  # sprintf style string formatting\n",
        "print(hw12)  # prints \"hello world 12\""
      ],
      "execution_count": null,
      "outputs": [
        {
          "output_type": "stream",
          "text": [
            "hello\n",
            "5\n",
            "hello world\n",
            "hello world 12\n"
          ],
          "name": "stdout"
        }
      ]
    },
    {
      "metadata": {
        "id": "-8XeIBsB7G8o"
      },
      "cell_type": "markdown",
      "source": [
        "String objects have a bunch of useful methods; for example:\n",
        "\n"
      ]
    },
    {
      "metadata": {
        "id": "SkB_bFXk7SNW",
        "colab": {
          "base_uri": "https://localhost:8080/",
          "height": 118
        },
        "outputId": "06d97e14-1139-435f-d835-d98a6e04546c"
      },
      "cell_type": "code",
      "source": [
        "s = \"hello\"\n",
        "print(s.capitalize())  # Capitalize a string; prints \"Hello\"\n",
        "print(s.upper())       # Convert a string to uppercase; prints \"HELLO\"\n",
        "print(s.rjust(7))      # Right-justify a string, padding with spaces; prints \"  hello\"\n",
        "print(s.center(7))     # Center a string, padding with spaces; prints \" hello \"\n",
        "print(s.replace('l', '(ell)'))  # Replace all instances of one substring with another;\n",
        "                                # prints \"he(ell)(ell)o\"\n",
        "print('  world '.strip())  # Strip leading and trailing whitespace; prints \"world\""
      ],
      "execution_count": null,
      "outputs": [
        {
          "output_type": "stream",
          "text": [
            "Hello\n",
            "HELLO\n",
            "  hello\n",
            " hello \n",
            "he(ell)(ell)o\n",
            "world\n"
          ],
          "name": "stdout"
        }
      ]
    },
    {
      "metadata": {
        "id": "2Rr-s0dw7alf"
      },
      "cell_type": "markdown",
      "source": [
        "You can find a list of all string methods [in the documentation](https://docs.python.org/3.7/library/stdtypes.html#string-methods).\n",
        "\n",
        "##Containers\n",
        "\n",
        "Python includes several built-in container types: lists, dictionaries, sets, and tuples.\n",
        "\n",
        "###Lists\n",
        "\n",
        "A list is the Python equivalent of an array, but is resizeable and can contain elements of different types:"
      ]
    },
    {
      "metadata": {
        "id": "6FKyFx6X7wuQ",
        "colab": {
          "base_uri": "https://localhost:8080/",
          "height": 101
        },
        "outputId": "beacd91c-512b-4f90-fea1-f6157a5b375e"
      },
      "cell_type": "code",
      "source": [
        "xs = [3, 1, 2]    # Create a list\n",
        "print(xs, xs[2])  # Prints \"[3, 1, 2] 2\"\n",
        "print(xs[-1])     # Negative indices count from the end of the list; prints \"2\"\n",
        "xs[2] = 'foo'     # Lists can contain elements of different types\n",
        "print(xs)         # Prints \"[3, 1, 'foo']\"\n",
        "xs.append('bar')  # Add a new element to the end of the list\n",
        "print(xs)         # Prints \"[3, 1, 'foo', 'bar']\"\n",
        "x = xs.pop()      # Remove and return the last element of the list\n",
        "print(x, xs)      # Prints \"bar [3, 1, 'foo']\""
      ],
      "execution_count": null,
      "outputs": [
        {
          "output_type": "stream",
          "text": [
            "([3, 1, 2], 2)\n",
            "2\n",
            "[3, 1, 'foo']\n",
            "[3, 1, 'foo', 'bar']\n",
            "('bar', [3, 1, 'foo'])\n"
          ],
          "name": "stdout"
        }
      ]
    },
    {
      "metadata": {
        "id": "LfkiNtNw76_v"
      },
      "cell_type": "markdown",
      "source": [
        "As usual, you can find all the details about lists [in the documentation](https://docs.python.org/3.7/tutorial/datastructures.html#more-on-lists).\n",
        "\n",
        "####Slicing\n",
        "\n",
        "In addition to accessing list elements one at a time, Python provides concise syntax to access sublists; this is known as *slicing*:"
      ]
    },
    {
      "metadata": {
        "id": "TvGnycL78mVD",
        "colab": {
          "base_uri": "https://localhost:8080/",
          "height": 134
        },
        "outputId": "1f7e4a66-3a2f-4e33-9c2a-94b39c714084"
      },
      "cell_type": "code",
      "source": [
        "nums = list(range(5))     # range is a built-in function that creates a list of integers\n",
        "print(nums)               # Prints \"[0, 1, 2, 3, 4]\"\n",
        "print(nums[2:4])          # Get a slice from index 2 to 4 (exclusive); prints \"[2, 3]\"\n",
        "print(nums[2:])           # Get a slice from index 2 to the end; prints \"[2, 3, 4]\"\n",
        "print(nums[:2])           # Get a slice from the start to index 2 (exclusive); prints \"[0, 1]\"\n",
        "print(nums[:])            # Get a slice of the whole list; prints \"[0, 1, 2, 3, 4]\"\n",
        "print(nums[:-1])          # Slice indices can be negative; prints \"[0, 1, 2, 3]\"\n",
        "nums[2:4] = [8, 9]        # Assign a new sublist to a slice\n",
        "print(nums)               # Prints \"[0, 1, 8, 9, 4]\""
      ],
      "execution_count": null,
      "outputs": [
        {
          "output_type": "stream",
          "text": [
            "[0, 1, 2, 3, 4]\n",
            "[2, 3]\n",
            "[2, 3, 4]\n",
            "[0, 1]\n",
            "[0, 1, 2, 3, 4]\n",
            "[0, 1, 2, 3]\n",
            "[0, 1, 8, 9, 4]\n"
          ],
          "name": "stdout"
        }
      ]
    },
    {
      "metadata": {
        "id": "P0iivb_Y8rnp"
      },
      "cell_type": "markdown",
      "source": [
        "We will see slicing again in the context of numpy arrays.\n",
        "\n",
        "####Loops\n",
        "\n",
        "You can loop over the elements of a list like this:"
      ]
    },
    {
      "metadata": {
        "id": "yPUSlyu58y-6",
        "colab": {
          "base_uri": "https://localhost:8080/",
          "height": 67
        },
        "outputId": "afcd77c9-e44d-4a9c-8360-e2f2827bd958"
      },
      "cell_type": "code",
      "source": [
        "animals = ['cat', 'dog', 'monkey']\n",
        "for animal in animals:\n",
        "    print(animal)\n",
        "# Prints \"cat\", \"dog\", \"monkey\", each on its own line."
      ],
      "execution_count": null,
      "outputs": [
        {
          "output_type": "stream",
          "text": [
            "cat\n",
            "dog\n",
            "monkey\n"
          ],
          "name": "stdout"
        }
      ]
    },
    {
      "metadata": {
        "id": "TO6inPLA81UM"
      },
      "cell_type": "markdown",
      "source": [
        "If you want access to the index of each element within the body of a loop, use the built-in `enumerate` function:"
      ]
    },
    {
      "metadata": {
        "id": "Kvc_a47j89ds",
        "colab": {
          "base_uri": "https://localhost:8080/",
          "height": 67
        },
        "outputId": "3d33de3f-44ee-4214-a20f-b032ec0df753"
      },
      "cell_type": "code",
      "source": [
        "animals = ['cat', 'dog', 'monkey']\n",
        "for idx, animal in enumerate(animals):\n",
        "    print('#%d: %s' % (idx + 1, animal))\n",
        "# Prints \"#1: cat\", \"#2: dog\", \"#3: monkey\", each on its own line"
      ],
      "execution_count": null,
      "outputs": [
        {
          "output_type": "stream",
          "text": [
            "#1: cat\n",
            "#2: dog\n",
            "#3: monkey\n"
          ],
          "name": "stdout"
        }
      ]
    },
    {
      "metadata": {
        "id": "NyfaDHBW9BtB"
      },
      "cell_type": "markdown",
      "source": [
        "####List comprehensions\n",
        "\n",
        "When programming, frequently we want to transform one type of data into another. As a simple example, consider the following code that computes square numbers:"
      ]
    },
    {
      "metadata": {
        "id": "xkonhGPU9IE7",
        "colab": {
          "base_uri": "https://localhost:8080/",
          "height": 34
        },
        "outputId": "782ddb11-4f38-423f-a90d-297799cb91b8"
      },
      "cell_type": "code",
      "source": [
        "nums = [0, 1, 2, 3, 4]\n",
        "squares = []\n",
        "for x in nums:\n",
        "    squares.append(x ** 2)\n",
        "print(squares)   # Prints [0, 1, 4, 9, 16]"
      ],
      "execution_count": null,
      "outputs": [
        {
          "output_type": "stream",
          "text": [
            "[0, 1, 4, 9, 16]\n"
          ],
          "name": "stdout"
        }
      ]
    },
    {
      "metadata": {
        "id": "q0tcKCh79QNr"
      },
      "cell_type": "markdown",
      "source": [
        "You can make this code simpler using a **list comprehension**:"
      ]
    },
    {
      "metadata": {
        "id": "2pisAL3E9XcG",
        "colab": {
          "base_uri": "https://localhost:8080/",
          "height": 34
        },
        "outputId": "d919791f-de40-46af-f2cf-478fe781e4b6"
      },
      "cell_type": "code",
      "source": [
        "nums = [0, 1, 2, 3, 4]\n",
        "squares = [x ** 2 for x in nums]\n",
        "print(squares)   # Prints [0, 1, 4, 9, 16]"
      ],
      "execution_count": null,
      "outputs": [
        {
          "output_type": "stream",
          "text": [
            "[0, 1, 4, 9, 16]\n"
          ],
          "name": "stdout"
        }
      ]
    },
    {
      "metadata": {
        "id": "iyQWXYMn9ZPE"
      },
      "cell_type": "markdown",
      "source": [
        "List comprehensions can also contain conditions:"
      ]
    },
    {
      "metadata": {
        "id": "bflK2hns9bYI",
        "colab": {
          "base_uri": "https://localhost:8080/",
          "height": 34
        },
        "outputId": "9df77691-6041-4527-8bce-211c4255fb89"
      },
      "cell_type": "code",
      "source": [
        "nums = [0, 1, 2, 3, 4]\n",
        "even_squares = [x ** 2 for x in nums if x % 2 == 0]\n",
        "print(even_squares)  # Prints \"[0, 4, 16]\""
      ],
      "execution_count": null,
      "outputs": [
        {
          "output_type": "stream",
          "text": [
            "[0, 4, 16]\n"
          ],
          "name": "stdout"
        }
      ]
    },
    {
      "metadata": {
        "id": "2MyAS4vo9epl"
      },
      "cell_type": "markdown",
      "source": [
        "###Dictionaries\n",
        "\n",
        "A dictionary stores (key, value) pairs, similar to a `Map` in Java or an object in Javascript. You can use it like this:"
      ]
    },
    {
      "metadata": {
        "id": "uNV3up_M9ukq",
        "colab": {
          "base_uri": "https://localhost:8080/",
          "height": 118
        },
        "outputId": "1f4d5917-49f0-49d5-9524-407441fcb3e1"
      },
      "cell_type": "code",
      "source": [
        "d = {'cat': 'cute', 'dog': 'furry'}  # Create a new dictionary with some data\n",
        "print(d['cat'])       # Get an entry from a dictionary; prints \"cute\"\n",
        "print('cat' in d)     # Check if a dictionary has a given key; prints \"True\"\n",
        "d['fish'] = 'wet'     # Set an entry in a dictionary\n",
        "print(d['fish'])      # Prints \"wet\"\n",
        "# print(d['monkey'])  # KeyError: 'monkey' not a key of d\n",
        "print(d.get('monkey', 'N/A'))  # Get an element with a default; prints \"N/A\"\n",
        "print(d.get('fish', 'N/A'))    # Get an element with a default; prints \"wet\"\n",
        "del d['fish']         # Remove an element from a dictionary\n",
        "print(d.get('fish', 'N/A')) # \"fish\" is no longer a key; prints \"N/A\""
      ],
      "execution_count": null,
      "outputs": [
        {
          "output_type": "stream",
          "text": [
            "cute\n",
            "True\n",
            "wet\n",
            "N/A\n",
            "wet\n",
            "N/A\n"
          ],
          "name": "stdout"
        }
      ]
    },
    {
      "metadata": {
        "id": "lNMGvYcZ9x_T"
      },
      "cell_type": "markdown",
      "source": [
        "You can find all you need to know about dictionaries [in the documentation](https://docs.python.org/3.7/library/stdtypes.html#dict).\n",
        "\n",
        "####Loops\n",
        "\n",
        "It is easy to iterate over the keys in a dictionary:"
      ]
    },
    {
      "metadata": {
        "id": "oow_R2x3-F36",
        "colab": {
          "base_uri": "https://localhost:8080/",
          "height": 67
        },
        "outputId": "fa9a7bde-e20e-45f3-eb4a-9264d363f071"
      },
      "cell_type": "code",
      "source": [
        "d = {'person': 2, 'cat': 4, 'spider': 8}\n",
        "for animal in d:\n",
        "    legs = d[animal]\n",
        "    print('A %s has %d legs' % (animal, legs))\n",
        "# Prints \"A person has 2 legs\", \"A cat has 4 legs\", \"A spider has 8 legs\""
      ],
      "execution_count": null,
      "outputs": [
        {
          "output_type": "stream",
          "text": [
            "A person has 2 legs\n",
            "A spider has 8 legs\n",
            "A cat has 4 legs\n"
          ],
          "name": "stdout"
        }
      ]
    },
    {
      "metadata": {
        "id": "HrhqedOf-JOB"
      },
      "cell_type": "markdown",
      "source": [
        "If you want access to keys and their corresponding values, use the `items` method:"
      ]
    },
    {
      "metadata": {
        "id": "XIlLwZVg-PSF",
        "colab": {
          "base_uri": "https://localhost:8080/",
          "height": 67
        },
        "outputId": "60e7488e-bd1d-4bc8-fbb2-7393624ac6fc"
      },
      "cell_type": "code",
      "source": [
        "d = {'person': 2, 'cat': 4, 'spider': 8}\n",
        "for animal, legs in d.items():\n",
        "    print('A %s has %d legs' % (animal, legs))\n",
        "# Prints \"A person has 2 legs\", \"A cat has 4 legs\", \"A spider has 8 legs\""
      ],
      "execution_count": null,
      "outputs": [
        {
          "output_type": "stream",
          "text": [
            "A person has 2 legs\n",
            "A spider has 8 legs\n",
            "A cat has 4 legs\n"
          ],
          "name": "stdout"
        }
      ]
    },
    {
      "metadata": {
        "id": "TpOnH4OX-UW0"
      },
      "cell_type": "markdown",
      "source": [
        "####Dictionary comprehensions\n",
        "\n",
        "These are similar to list comprehensions, but allow you to easily construct dictionaries. For example:"
      ]
    },
    {
      "metadata": {
        "id": "TRkSL9xy-agB",
        "colab": {
          "base_uri": "https://localhost:8080/",
          "height": 34
        },
        "outputId": "b88b0cdc-a8af-47c7-c382-395cda3e0ccb"
      },
      "cell_type": "code",
      "source": [
        "nums = [0, 1, 2, 3, 4]\n",
        "even_num_to_square = {x: x ** 2 for x in nums if x % 2 == 0}\n",
        "print(even_num_to_square)  # Prints \"{0: 0, 2: 4, 4: 16}\""
      ],
      "execution_count": null,
      "outputs": [
        {
          "output_type": "stream",
          "text": [
            "{0: 0, 2: 4, 4: 16}\n"
          ],
          "name": "stdout"
        }
      ]
    },
    {
      "metadata": {
        "id": "e1KTeO9L-dvv"
      },
      "cell_type": "markdown",
      "source": [
        "###Sets\n",
        "\n",
        "A set is an unordered collection of distinct elements. As a simple example, consider the following:"
      ]
    },
    {
      "metadata": {
        "id": "S5RHQxzU-zGT",
        "colab": {
          "base_uri": "https://localhost:8080/"
        },
        "outputId": "b4ba8202-9a01-46eb-d5b9-3d84d2e2e3d3"
      },
      "cell_type": "code",
      "source": [
        "animals = {'cat', 'dog'}\n",
        "print('cat' in animals)   # Check if an element is in a set; prints \"True\"\n",
        "print('fish' in animals)  # prints \"False\"\n",
        "animals.add('fish')       # Add an element to a set\n",
        "print('fish' in animals)  # Prints \"True\"\n",
        "print(len(animals))       # Number of elements in a set; prints \"3\"\n",
        "animals.add('cat')        # Adding an element that is already in the set does nothing\n",
        "print(len(animals))       # Prints \"3\"\n",
        "animals.remove('cat')     # Remove an element from a set\n",
        "print(len(animals))       # Prints \"2\""
      ],
      "execution_count": null,
      "outputs": [
        {
          "output_type": "stream",
          "name": "stdout",
          "text": [
            "True\n",
            "False\n",
            "True\n",
            "3\n",
            "3\n",
            "2\n"
          ]
        }
      ]
    },
    {
      "metadata": {
        "id": "-DiSqVj_-2wc"
      },
      "cell_type": "markdown",
      "source": [
        "As usual, everything you want to know about sets can be found [in the documentation](https://docs.python.org/3.7/library/stdtypes.html#set).\n",
        "\n",
        "####Loops\n",
        "\n",
        "Iterating over a set has the same syntax as iterating over a list; however since sets are unordered, you cannot make assumptions about the order in which you visit the elements of the set:"
      ]
    },
    {
      "metadata": {
        "id": "AuI0Qbje_YjJ",
        "colab": {
          "base_uri": "https://localhost:8080/",
          "height": 67
        },
        "outputId": "e288ecfe-4bed-4a92-999a-7e1aa106d8a6"
      },
      "cell_type": "code",
      "source": [
        "animals = {'cat', 'dog', 'fish'}\n",
        "for idx, animal in enumerate(animals):\n",
        "    print('#%d: %s' % (idx + 1, animal))\n",
        "# Prints \"#1: fish\", \"#2: dog\", \"#3: cat\""
      ],
      "execution_count": null,
      "outputs": [
        {
          "output_type": "stream",
          "text": [
            "#1: fish\n",
            "#2: dog\n",
            "#3: cat\n"
          ],
          "name": "stdout"
        }
      ]
    },
    {
      "metadata": {
        "id": "tYGLgdyi_dQZ"
      },
      "cell_type": "markdown",
      "source": [
        "####Set comprehensions\n",
        "\n",
        "Like lists and dictionaries, we can easily construct sets using set comprehensions:"
      ]
    },
    {
      "metadata": {
        "id": "zf0iW5wS_iti",
        "colab": {
          "base_uri": "https://localhost:8080/",
          "height": 34
        },
        "outputId": "cb6ef20b-10e4-4492-c541-7f61f6075712"
      },
      "cell_type": "code",
      "source": [
        "from math import sqrt\n",
        "nums = {int(sqrt(x)) for x in range(30)}\n",
        "print(nums)  # Prints \"{0, 1, 2, 3, 4, 5}\""
      ],
      "execution_count": null,
      "outputs": [
        {
          "output_type": "stream",
          "text": [
            "set([0, 1, 2, 3, 4, 5])\n"
          ],
          "name": "stdout"
        }
      ]
    },
    {
      "metadata": {
        "id": "LSwiLjwF_qvE"
      },
      "cell_type": "markdown",
      "source": [
        "###Tuples\n",
        "\n",
        "A tuple is an (immutable) ordered list of values. A tuple is in many ways similar to a list; one of the most important differences is that tuples can be used as keys in dictionaries and as elements of sets, while lists cannot. Here is a trivial example:"
      ]
    },
    {
      "metadata": {
        "id": "SP2E-f2k_0_f",
        "colab": {
          "base_uri": "https://localhost:8080/",
          "height": 67
        },
        "outputId": "07707c9d-136f-4eef-c59a-4c6bb1c49085"
      },
      "cell_type": "code",
      "source": [
        "d = {(x, x + 1): x for x in range(10)}  # Create a dictionary with tuple keys\n",
        "t = (5, 6)        # Create a tuple\n",
        "print(type(t))    # Prints \"<class 'tuple'>\"\n",
        "print(d[t])       # Prints \"5\"\n",
        "print(d[(1, 2)])  # Prints \"1\""
      ],
      "execution_count": null,
      "outputs": [
        {
          "output_type": "stream",
          "text": [
            "<type 'tuple'>\n",
            "5\n",
            "1\n"
          ],
          "name": "stdout"
        }
      ]
    },
    {
      "metadata": {
        "id": "5LaXPOYH_4U8"
      },
      "cell_type": "markdown",
      "source": [
        "[The documentation](https://docs.python.org/3.7/tutorial/datastructures.html#tuples-and-sequences) has more information about tuples.\n",
        "\n",
        "##Functions\n",
        "\n",
        "Python functions are defined using the `def` keyword. For example:"
      ]
    },
    {
      "metadata": {
        "id": "_ARQmuBZANYE",
        "colab": {
          "base_uri": "https://localhost:8080/",
          "height": 67
        },
        "outputId": "06d8eb5a-df11-491a-f797-0aebe539c16a"
      },
      "cell_type": "code",
      "source": [
        "def sign(x):\n",
        "    if x > 0:\n",
        "        return 'positive'\n",
        "    elif x < 0:\n",
        "        return 'negative'\n",
        "    else:\n",
        "        return 'zero'\n",
        "\n",
        "for x in [-1, 0, 1]:\n",
        "    print(sign(x))\n",
        "# Prints \"negative\", \"zero\", \"positive\""
      ],
      "execution_count": null,
      "outputs": [
        {
          "output_type": "stream",
          "text": [
            "negative\n",
            "zero\n",
            "positive\n"
          ],
          "name": "stdout"
        }
      ]
    },
    {
      "metadata": {
        "id": "YSYs106KAP2K"
      },
      "cell_type": "markdown",
      "source": [
        "We will often define functions to take optional keyword arguments, like this:"
      ]
    },
    {
      "metadata": {
        "id": "QMcHx8tRAWs2",
        "colab": {
          "base_uri": "https://localhost:8080/",
          "height": 50
        },
        "outputId": "d8086180-69b0-4bbf-ec80-14290f265f57"
      },
      "cell_type": "code",
      "source": [
        "def hello(name, loud=False):\n",
        "    if loud:\n",
        "        print('HELLO, %s!' % name.upper())\n",
        "    else:\n",
        "        print('Hello, %s' % name)\n",
        "\n",
        "hello('Bob') # Prints \"Hello, Bob\"\n",
        "hello('Fred', loud=True)  # Prints \"HELLO, FRED!\""
      ],
      "execution_count": null,
      "outputs": [
        {
          "output_type": "stream",
          "text": [
            "Hello, Bob\n",
            "HELLO, FRED!\n"
          ],
          "name": "stdout"
        }
      ]
    },
    {
      "metadata": {
        "id": "5oeapFkUAbfp"
      },
      "cell_type": "markdown",
      "source": [
        "There is a lot more information about Python functions [in the documentation](https://docs.python.org/3.7/tutorial/controlflow.html#defining-functions).\n",
        "\n",
        "##Classes\n",
        "\n",
        "The syntax for defining classes in Python is straightforward:"
      ]
    },
    {
      "metadata": {
        "id": "rHxCQsEKAzYk",
        "colab": {
          "base_uri": "https://localhost:8080/",
          "height": 50
        },
        "outputId": "18df148c-7a47-4358-e3ff-797d4c10d3dc"
      },
      "cell_type": "code",
      "source": [
        "class Greeter(object):\n",
        "\n",
        "    # Constructor\n",
        "    def __init__(self, name):\n",
        "        self.name = name  # Create an instance variable\n",
        "\n",
        "    # Instance method\n",
        "    def greet(self, loud=False):\n",
        "        if loud:\n",
        "            print('HELLO, %s!' % self.name.upper())\n",
        "        else:\n",
        "            print('Hello, %s' % self.name)\n",
        "\n",
        "g = Greeter('Fred')  # Construct an instance of the Greeter class\n",
        "g.greet()            # Call an instance method; prints \"Hello, Fred\"\n",
        "g.greet(loud=True)   # Call an instance method; prints \"HELLO, FRED!\""
      ],
      "execution_count": null,
      "outputs": [
        {
          "output_type": "stream",
          "text": [
            "Hello, Fred\n",
            "HELLO, FRED!\n"
          ],
          "name": "stdout"
        }
      ]
    },
    {
      "metadata": {
        "id": "phP2vS12A3Vp"
      },
      "cell_type": "markdown",
      "source": [
        "You can read a lot more about Python classes [in the documentation](https://docs.python.org/3.7/tutorial/classes.html).\n",
        "\n",
        "#Numpy\n",
        "\n",
        "Numpy is the core library for scientific computing in Python. It provides a high-performance multidimensional array object, and tools for working with these arrays.\n",
        "\n",
        "##Arrays\n",
        "\n",
        "A numpy array is a grid of values, all of the same type, and is indexed by a tuple of nonnegative integers. The number of dimensions is the *rank* of the array; the *shape* of an array is a tuple of integers giving the size of the array along each dimension.\n",
        "\n",
        "We can initialize numpy arrays from nested Python lists, and access elements using square brackets:"
      ]
    },
    {
      "metadata": {
        "id": "95iZ78oIBo3U",
        "colab": {
          "base_uri": "https://localhost:8080/",
          "height": 118
        },
        "outputId": "475381ad-0b51-4c5c-aea8-95282bb5a609"
      },
      "cell_type": "code",
      "source": [
        "import numpy as np\n",
        "\n",
        "a = np.array([1, 2, 3])   # Create a rank 1 array\n",
        "print(type(a))            # Prints \"<class 'numpy.ndarray'>\"\n",
        "print(a.shape)            # Prints \"(3,)\"\n",
        "print(a[0], a[1], a[2])   # Prints \"1 2 3\"\n",
        "a[0] = 5                  # Change an element of the array\n",
        "print(a)                  # Prints \"[5, 2, 3]\"\n",
        "\n",
        "b = np.array([[1,2,3],[4,5,6]])    # Create a rank 2 array\n",
        "print(b.shape)                     # Prints \"(2, 3)\"\n",
        "print(b[0, 0], b[0, 1], b[1, 0])   # Prints \"1 2 4\""
      ],
      "execution_count": null,
      "outputs": [
        {
          "output_type": "stream",
          "text": [
            "<type 'numpy.ndarray'>\n",
            "(3,)\n",
            "(1, 2, 3)\n",
            "[5 2 3]\n",
            "(2, 3)\n",
            "(1, 2, 4)\n"
          ],
          "name": "stdout"
        }
      ]
    },
    {
      "metadata": {
        "id": "4vFfuh7CBuJV"
      },
      "cell_type": "markdown",
      "source": [
        "Numpy also provides many functions to create arrays:"
      ]
    },
    {
      "metadata": {
        "id": "7V5tqkhIB0g2",
        "colab": {
          "base_uri": "https://localhost:8080/"
        },
        "outputId": "9038a4b7-6655-4218-a326-e0d18b81d0d2"
      },
      "cell_type": "code",
      "source": [
        "import numpy as np\n",
        "\n",
        "a = np.zeros((2,2))   # Create an array of all zeros\n",
        "print(a)              # Prints \"[[ 0.  0.]\n",
        "                      #          [ 0.  0.]]\"\n",
        "\n",
        "b = np.ones((1,2))    # Create an array of all ones\n",
        "print(b)              # Prints \"[[ 1.  1.]]\"\n",
        "\n",
        "c = np.full((2,2), 7)  # Create a constant array\n",
        "print(c)               # Prints \"[[ 7.  7.]\n",
        "                       #          [ 7.  7.]]\"\n",
        "\n",
        "d = np.eye(2)         # Create a 2x2 identity matrix\n",
        "print(d)              # Prints \"[[ 1.  0.]\n",
        "                      #          [ 0.  1.]]\"\n",
        "\n",
        "e = np.random.random((2,2,3, 2, 5, 2, 3, 3))  # Create an array filled with random values\n",
        "print(e)                     # Might print \"[[ 0.91940167  0.08143941]\n",
        "                             #               [ 0.68744134  0.87236687]]\""
      ],
      "execution_count": null,
      "outputs": [
        {
          "output_type": "stream",
          "name": "stdout",
          "text": [
            "[[0. 0.]\n",
            " [0. 0.]]\n",
            "[[1. 1.]]\n",
            "[[7 7]\n",
            " [7 7]]\n",
            "[[1. 0.]\n",
            " [0. 1.]]\n",
            "[[[[[[[[0.09967776 0.8407274  0.62945614]\n",
            "       [0.54096763 0.99067604 0.34304865]\n",
            "       [0.1678477  0.48123128 0.71720809]]\n",
            "\n",
            "      [[0.93305806 0.09225673 0.42817183]\n",
            "       [0.04634315 0.14973684 0.57659673]\n",
            "       [0.77678046 0.65687634 0.38900862]]]\n",
            "\n",
            "\n",
            "     [[[0.80824773 0.66500385 0.15558692]\n",
            "       [0.39965441 0.55484885 0.73728961]\n",
            "       [0.50004105 0.79889813 0.57369404]]\n",
            "\n",
            "      [[0.05798512 0.6796597  0.84884186]\n",
            "       [0.23597754 0.91990726 0.3421899 ]\n",
            "       [0.71461787 0.15355619 0.19398125]]]\n",
            "\n",
            "\n",
            "     [[[0.28096993 0.32491571 0.21378047]\n",
            "       [0.27684304 0.13805015 0.36164479]\n",
            "       [0.60649738 0.38496713 0.15953726]]\n",
            "\n",
            "      [[0.64955969 0.81096361 0.92246925]\n",
            "       [0.78678572 0.52381416 0.67791691]\n",
            "       [0.40139754 0.51872847 0.74999893]]]\n",
            "\n",
            "\n",
            "     [[[0.51597643 0.35381776 0.55978696]\n",
            "       [0.99045053 0.20504027 0.2993902 ]\n",
            "       [0.63562298 0.4249484  0.46946304]]\n",
            "\n",
            "      [[0.06660221 0.80717463 0.60284108]\n",
            "       [0.76775642 0.13869585 0.21998832]\n",
            "       [0.35692065 0.75260226 0.2031457 ]]]\n",
            "\n",
            "\n",
            "     [[[0.75955997 0.00239156 0.76625507]\n",
            "       [0.16348028 0.96096055 0.40931953]\n",
            "       [0.98001532 0.95039432 0.67066574]]\n",
            "\n",
            "      [[0.19335307 0.16247797 0.62427692]\n",
            "       [0.14683774 0.73899559 0.47550503]\n",
            "       [0.50961153 0.9192711  0.80895955]]]]\n",
            "\n",
            "\n",
            "\n",
            "    [[[[0.31047252 0.69945369 0.11195702]\n",
            "       [0.72017317 0.39171946 0.37946065]\n",
            "       [0.44987272 0.47281761 0.0807154 ]]\n",
            "\n",
            "      [[0.64463809 0.77692026 0.82176824]\n",
            "       [0.97224784 0.84871191 0.4400589 ]\n",
            "       [0.8721449  0.81704389 0.78466947]]]\n",
            "\n",
            "\n",
            "     [[[0.58760074 0.89558582 0.45674914]\n",
            "       [0.25430842 0.84386907 0.12777338]\n",
            "       [0.41628729 0.00164573 0.26341566]]\n",
            "\n",
            "      [[0.54529822 0.57669984 0.10578807]\n",
            "       [0.15159432 0.14924815 0.34548895]\n",
            "       [0.18495235 0.8943913  0.35511387]]]\n",
            "\n",
            "\n",
            "     [[[0.28311541 0.96304496 0.24108679]\n",
            "       [0.17286375 0.0959951  0.3788451 ]\n",
            "       [0.13532285 0.439857   0.03620798]]\n",
            "\n",
            "      [[0.1206839  0.30511037 0.97934573]\n",
            "       [0.93787237 0.09252841 0.01116144]\n",
            "       [0.76931036 0.76353293 0.89627995]]]\n",
            "\n",
            "\n",
            "     [[[0.08321994 0.21299508 0.32190111]\n",
            "       [0.83665357 0.56644518 0.17377403]\n",
            "       [0.96851072 0.8838789  0.67350453]]\n",
            "\n",
            "      [[0.54173355 0.18572426 0.6659504 ]\n",
            "       [0.59631    0.93569563 0.80255461]\n",
            "       [0.77245296 0.63227607 0.13096583]]]\n",
            "\n",
            "\n",
            "     [[[0.78268155 0.13425731 0.95115762]\n",
            "       [0.68308545 0.8830858  0.54702772]\n",
            "       [0.98228831 0.15254877 0.05662433]]\n",
            "\n",
            "      [[0.55493638 0.72005025 0.75174841]\n",
            "       [0.11219267 0.42001557 0.15370825]\n",
            "       [0.73591802 0.47126843 0.8298753 ]]]]]\n",
            "\n",
            "\n",
            "\n",
            "\n",
            "   [[[[[0.31338588 0.78528479 0.10294405]\n",
            "       [0.38030875 0.77134956 0.61981002]\n",
            "       [0.06847827 0.84251664 0.72022445]]\n",
            "\n",
            "      [[0.26768896 0.76001507 0.6093446 ]\n",
            "       [0.47788295 0.43733719 0.26579718]\n",
            "       [0.74257475 0.62956762 0.84222697]]]\n",
            "\n",
            "\n",
            "     [[[0.2625253  0.29348233 0.68056172]\n",
            "       [0.25497637 0.17771094 0.30042744]\n",
            "       [0.99355115 0.62211026 0.19275722]]\n",
            "\n",
            "      [[0.77577059 0.34019894 0.93125339]\n",
            "       [0.42822297 0.35013758 0.89279181]\n",
            "       [0.70277787 0.9146345  0.7187749 ]]]\n",
            "\n",
            "\n",
            "     [[[0.59178292 0.82667439 0.15328263]\n",
            "       [0.22980602 0.25269529 0.71487012]\n",
            "       [0.98134847 0.50339263 0.0584289 ]]\n",
            "\n",
            "      [[0.1584138  0.0487159  0.96010043]\n",
            "       [0.36771547 0.4721315  0.36629263]\n",
            "       [0.64708689 0.97979607 0.52745778]]]\n",
            "\n",
            "\n",
            "     [[[0.17749119 0.86595896 0.46414738]\n",
            "       [0.98914593 0.74822012 0.35561299]\n",
            "       [0.79235808 0.30200577 0.06035918]]\n",
            "\n",
            "      [[0.96243886 0.63812312 0.37688299]\n",
            "       [0.33604329 0.28780756 0.03786966]\n",
            "       [0.17446253 0.12741345 0.45749128]]]\n",
            "\n",
            "\n",
            "     [[[0.4445997  0.16816839 0.75289311]\n",
            "       [0.99420622 0.29826823 0.76981402]\n",
            "       [0.48363242 0.52508174 0.31592329]]\n",
            "\n",
            "      [[0.82977753 0.17153028 0.1510714 ]\n",
            "       [0.47733789 0.17009663 0.40076784]\n",
            "       [0.84597503 0.22253718 0.57183943]]]]\n",
            "\n",
            "\n",
            "\n",
            "    [[[[0.74788708 0.08309579 0.1420341 ]\n",
            "       [0.96456121 0.66948061 0.38272841]\n",
            "       [0.38175678 0.69857949 0.51730082]]\n",
            "\n",
            "      [[0.35115227 0.20616111 0.34421566]\n",
            "       [0.8063397  0.11030393 0.13859021]\n",
            "       [0.33612279 0.20038676 0.27482484]]]\n",
            "\n",
            "\n",
            "     [[[0.46889344 0.20539771 0.07989564]\n",
            "       [0.71401665 0.23376191 0.27229707]\n",
            "       [0.94100998 0.60395078 0.41646395]]\n",
            "\n",
            "      [[0.54092087 0.89272308 0.19348662]\n",
            "       [0.87927922 0.1511425  0.61291205]\n",
            "       [0.64879139 0.50879188 0.64763858]]]\n",
            "\n",
            "\n",
            "     [[[0.95160935 0.80583286 0.0287087 ]\n",
            "       [0.18824588 0.5411933  0.55114106]\n",
            "       [0.04914779 0.42666957 0.51013918]]\n",
            "\n",
            "      [[0.07500285 0.92236175 0.86889101]\n",
            "       [0.58413618 0.79550118 0.44181997]\n",
            "       [0.25377094 0.2873822  0.67904756]]]\n",
            "\n",
            "\n",
            "     [[[0.46593184 0.86223533 0.21309415]\n",
            "       [0.87280658 0.7263489  0.18112361]\n",
            "       [0.90549834 0.90069214 0.97717058]]\n",
            "\n",
            "      [[0.03764284 0.09914806 0.87655859]\n",
            "       [0.49848877 0.38196648 0.29780885]\n",
            "       [0.37209221 0.91539588 0.8105937 ]]]\n",
            "\n",
            "\n",
            "     [[[0.50917774 0.65361653 0.48698222]\n",
            "       [0.83012194 0.98243606 0.1243537 ]\n",
            "       [0.08850173 0.98427454 0.49774995]]\n",
            "\n",
            "      [[0.67896889 0.34070302 0.26665493]\n",
            "       [0.32282723 0.83879071 0.9829401 ]\n",
            "       [0.87381728 0.88886002 0.34797085]]]]]\n",
            "\n",
            "\n",
            "\n",
            "\n",
            "   [[[[[0.99707074 0.49908392 0.38203581]\n",
            "       [0.98222087 0.99103049 0.54130579]\n",
            "       [0.60800847 0.28323969 0.32786721]]\n",
            "\n",
            "      [[0.02860053 0.8525266  0.42765995]\n",
            "       [0.11082642 0.34998847 0.28054655]\n",
            "       [0.91437207 0.70637273 0.86295075]]]\n",
            "\n",
            "\n",
            "     [[[0.09104495 0.99622607 0.30001308]\n",
            "       [0.3460269  0.32248646 0.30369689]\n",
            "       [0.17450514 0.76270739 0.39444959]]\n",
            "\n",
            "      [[0.16319028 0.11825019 0.88793937]\n",
            "       [0.89627215 0.90484523 0.1095629 ]\n",
            "       [0.65259865 0.52220198 0.44109286]]]\n",
            "\n",
            "\n",
            "     [[[0.74108226 0.41830607 0.73587846]\n",
            "       [0.81953227 0.04330494 0.98694538]\n",
            "       [0.82096001 0.97689631 0.04389134]]\n",
            "\n",
            "      [[0.84935562 0.08574134 0.63434528]\n",
            "       [0.2927082  0.54073122 0.28683027]\n",
            "       [0.86111139 0.95408735 0.88916727]]]\n",
            "\n",
            "\n",
            "     [[[0.31399843 0.46708007 0.24548565]\n",
            "       [0.19711787 0.03263124 0.9737853 ]\n",
            "       [0.97602828 0.49071587 0.43454746]]\n",
            "\n",
            "      [[0.20832609 0.08484108 0.86998372]\n",
            "       [0.29930471 0.31918557 0.70796669]\n",
            "       [0.92151993 0.5811117  0.40858478]]]\n",
            "\n",
            "\n",
            "     [[[0.30966751 0.88235579 0.97376194]\n",
            "       [0.04866308 0.83212557 0.13420677]\n",
            "       [0.98067106 0.25586857 0.78918848]]\n",
            "\n",
            "      [[0.66650997 0.79079433 0.94268517]\n",
            "       [0.40697006 0.5281645  0.2092144 ]\n",
            "       [0.90378852 0.48874147 0.97079334]]]]\n",
            "\n",
            "\n",
            "\n",
            "    [[[[0.00725025 0.77073746 0.74827652]\n",
            "       [0.18610893 0.68916847 0.1532472 ]\n",
            "       [0.31141021 0.34706128 0.28683126]]\n",
            "\n",
            "      [[0.36348161 0.58245937 0.47495719]\n",
            "       [0.58185811 0.59005914 0.26878751]\n",
            "       [0.81161741 0.11037839 0.01397034]]]\n",
            "\n",
            "\n",
            "     [[[0.07182231 0.30662117 0.13667113]\n",
            "       [0.31001056 0.21261314 0.60547117]\n",
            "       [0.89897878 0.09928099 0.91820784]]\n",
            "\n",
            "      [[0.31437376 0.70841838 0.32902851]\n",
            "       [0.21402031 0.09934608 0.8029175 ]\n",
            "       [0.10276931 0.41070568 0.2146451 ]]]\n",
            "\n",
            "\n",
            "     [[[0.35242123 0.91650798 0.23036953]\n",
            "       [0.91018206 0.6942268  0.56260811]\n",
            "       [0.8015841  0.08759231 0.44234727]]\n",
            "\n",
            "      [[0.17134353 0.16233931 0.21852255]\n",
            "       [0.26481727 0.92967148 0.9313916 ]\n",
            "       [0.04706478 0.04241592 0.63209587]]]\n",
            "\n",
            "\n",
            "     [[[0.57320744 0.92211312 0.06488106]\n",
            "       [0.60229659 0.37282129 0.93406049]\n",
            "       [0.31376706 0.49592002 0.04468136]]\n",
            "\n",
            "      [[0.25250028 0.43584471 0.70569954]\n",
            "       [0.76238432 0.6412029  0.46486107]\n",
            "       [0.09440133 0.04724682 0.52252891]]]\n",
            "\n",
            "\n",
            "     [[[0.67030705 0.92349051 0.78036323]\n",
            "       [0.38305216 0.4161955  0.42877864]\n",
            "       [0.64591902 0.55262339 0.56109905]]\n",
            "\n",
            "      [[0.653882   0.57971631 0.47496145]\n",
            "       [0.96102415 0.94189972 0.02628406]\n",
            "       [0.82163801 0.78238296 0.52179265]]]]]]\n",
            "\n",
            "\n",
            "\n",
            "\n",
            "\n",
            "  [[[[[[0.78769568 0.88720335 0.0906168 ]\n",
            "       [0.91223189 0.06092435 0.8079071 ]\n",
            "       [0.85103435 0.51118947 0.57827633]]\n",
            "\n",
            "      [[0.97024619 0.50813373 0.53311228]\n",
            "       [0.11611901 0.55537619 0.74270028]\n",
            "       [0.71960662 0.47407837 0.28147503]]]\n",
            "\n",
            "\n",
            "     [[[0.762483   0.91306719 0.09992517]\n",
            "       [0.19131272 0.20121644 0.63956162]\n",
            "       [0.70605722 0.25529859 0.76687551]]\n",
            "\n",
            "      [[0.45233302 0.50011534 0.15573425]\n",
            "       [0.2135006  0.74994243 0.93650878]\n",
            "       [0.41349345 0.98069585 0.90945581]]]\n",
            "\n",
            "\n",
            "     [[[0.51061621 0.82923895 0.35806177]\n",
            "       [0.28697702 0.1156092  0.59582655]\n",
            "       [0.81875829 0.74450606 0.47079482]]\n",
            "\n",
            "      [[0.91793258 0.6289625  0.41325468]\n",
            "       [0.76752824 0.03724348 0.24999198]\n",
            "       [0.85715019 0.10782877 0.79037521]]]\n",
            "\n",
            "\n",
            "     [[[0.70842625 0.48396729 0.24077754]\n",
            "       [0.90713336 0.85935304 0.40967327]\n",
            "       [0.74123599 0.43658805 0.61202618]]\n",
            "\n",
            "      [[0.57503318 0.74300577 0.21189297]\n",
            "       [0.63918289 0.50496757 0.2839841 ]\n",
            "       [0.38684598 0.62401345 0.43128229]]]\n",
            "\n",
            "\n",
            "     [[[0.8262669  0.41924977 0.06206063]\n",
            "       [0.74181466 0.04975962 0.72356878]\n",
            "       [0.32343551 0.08257332 0.23522401]]\n",
            "\n",
            "      [[0.10677923 0.72842951 0.7515606 ]\n",
            "       [0.39224904 0.55395894 0.95177698]\n",
            "       [0.51701103 0.76800809 0.74679862]]]]\n",
            "\n",
            "\n",
            "\n",
            "    [[[[0.44518214 0.92209965 0.26467134]\n",
            "       [0.91667626 0.50708402 0.08531033]\n",
            "       [0.85682052 0.64686817 0.03365662]]\n",
            "\n",
            "      [[0.86913367 0.48647357 0.83552217]\n",
            "       [0.82765342 0.44166656 0.07814227]\n",
            "       [0.45073983 0.61894805 0.62913981]]]\n",
            "\n",
            "\n",
            "     [[[0.89230046 0.00451589 0.50806645]\n",
            "       [0.78508438 0.48386425 0.89438034]\n",
            "       [0.37476576 0.3891538  0.76905716]]\n",
            "\n",
            "      [[0.73598359 0.81689245 0.77145955]\n",
            "       [0.9710867  0.20573464 0.00885345]\n",
            "       [0.33146347 0.56224671 0.24614273]]]\n",
            "\n",
            "\n",
            "     [[[0.96330521 0.42121759 0.07394372]\n",
            "       [0.81749214 0.67526438 0.64102417]\n",
            "       [0.99170631 0.16461006 0.00644876]]\n",
            "\n",
            "      [[0.05078109 0.12847782 0.29061106]\n",
            "       [0.81807181 0.85467323 0.18242675]\n",
            "       [0.00220255 0.84642242 0.76587942]]]\n",
            "\n",
            "\n",
            "     [[[0.72809197 0.08550151 0.80736387]\n",
            "       [0.30570719 0.26235122 0.60163198]\n",
            "       [0.84228391 0.1139453  0.67883973]]\n",
            "\n",
            "      [[0.89194556 0.28953268 0.6609065 ]\n",
            "       [0.45318986 0.95946548 0.66226341]\n",
            "       [0.16798978 0.63773339 0.99229001]]]\n",
            "\n",
            "\n",
            "     [[[0.71403949 0.66595094 0.65144862]\n",
            "       [0.56898038 0.42741918 0.35082261]\n",
            "       [0.25698091 0.86308939 0.23359112]]\n",
            "\n",
            "      [[0.53459899 0.23021032 0.08648467]\n",
            "       [0.07728879 0.08848847 0.98140688]\n",
            "       [0.00103791 0.85023259 0.21024432]]]]]\n",
            "\n",
            "\n",
            "\n",
            "\n",
            "   [[[[[0.07449004 0.4738314  0.08689062]\n",
            "       [0.92207685 0.55862621 0.36436549]\n",
            "       [0.24882272 0.86316334 0.06569793]]\n",
            "\n",
            "      [[0.58763155 0.12538845 0.18521303]\n",
            "       [0.64803462 0.15495239 0.8484422 ]\n",
            "       [0.10916984 0.5106073  0.27353605]]]\n",
            "\n",
            "\n",
            "     [[[0.80852688 0.56093295 0.33027867]\n",
            "       [0.89415407 0.02644697 0.33828497]\n",
            "       [0.78281556 0.67948111 0.09708673]]\n",
            "\n",
            "      [[0.57304764 0.84244608 0.65908277]\n",
            "       [0.78159128 0.45649233 0.97852216]\n",
            "       [0.28521916 0.64808142 0.03757305]]]\n",
            "\n",
            "\n",
            "     [[[0.8545673  0.52189009 0.72096399]\n",
            "       [0.12863634 0.80671547 0.77519056]\n",
            "       [0.48911346 0.28294524 0.13855145]]\n",
            "\n",
            "      [[0.99129211 0.80264053 0.42646398]\n",
            "       [0.35671008 0.59821113 0.5503531 ]\n",
            "       [0.70465369 0.85278319 0.38182839]]]\n",
            "\n",
            "\n",
            "     [[[0.25011075 0.12221012 0.68887096]\n",
            "       [0.93913986 0.17450751 0.02539859]\n",
            "       [0.41744934 0.82546631 0.04277082]]\n",
            "\n",
            "      [[0.35891382 0.25592204 0.10564058]\n",
            "       [0.56343827 0.06375437 0.32427487]\n",
            "       [0.75368082 0.81672815 0.97575344]]]\n",
            "\n",
            "\n",
            "     [[[0.05027274 0.15695901 0.09202349]\n",
            "       [0.2024028  0.38368776 0.41684766]\n",
            "       [0.85500302 0.29055299 0.26304105]]\n",
            "\n",
            "      [[0.66487869 0.2405449  0.52619062]\n",
            "       [0.17027924 0.39000096 0.18069387]\n",
            "       [0.03742635 0.45542319 0.22026394]]]]\n",
            "\n",
            "\n",
            "\n",
            "    [[[[0.39419635 0.77151116 0.50992515]\n",
            "       [0.64035732 0.12680904 0.79673878]\n",
            "       [0.84457673 0.82333455 0.61356336]]\n",
            "\n",
            "      [[0.31427629 0.08954432 0.38376093]\n",
            "       [0.93215577 0.24010248 0.71543792]\n",
            "       [0.48451497 0.26308406 0.44501626]]]\n",
            "\n",
            "\n",
            "     [[[0.69949215 0.50685591 0.0815059 ]\n",
            "       [0.88092251 0.84552095 0.42345153]\n",
            "       [0.05555481 0.12271463 0.12545836]]\n",
            "\n",
            "      [[0.10306019 0.69582394 0.84562999]\n",
            "       [0.61904126 0.5782653  0.11994603]\n",
            "       [0.7928404  0.2616121  0.76363294]]]\n",
            "\n",
            "\n",
            "     [[[0.61263555 0.99103557 0.27663154]\n",
            "       [0.52887331 0.81390036 0.38434315]\n",
            "       [0.11350282 0.00307896 0.25602205]]\n",
            "\n",
            "      [[0.22649748 0.59363497 0.52007043]\n",
            "       [0.80079163 0.95634442 0.26922291]\n",
            "       [0.45952922 0.21174524 0.52889891]]]\n",
            "\n",
            "\n",
            "     [[[0.1601684  0.25358372 0.24383162]\n",
            "       [0.52491372 0.40729105 0.75936099]\n",
            "       [0.51903584 0.01870782 0.92146636]]\n",
            "\n",
            "      [[0.94030305 0.93513972 0.66318684]\n",
            "       [0.57550905 0.08443694 0.48212016]\n",
            "       [0.55219237 0.46668711 0.96610705]]]\n",
            "\n",
            "\n",
            "     [[[0.87870174 0.86601598 0.39939957]\n",
            "       [0.52589867 0.7985859  0.06172528]\n",
            "       [0.39204171 0.1569748  0.01308302]]\n",
            "\n",
            "      [[0.01733047 0.60071355 0.55501964]\n",
            "       [0.01440214 0.82058398 0.81162897]\n",
            "       [0.03907965 0.0477004  0.52298411]]]]]\n",
            "\n",
            "\n",
            "\n",
            "\n",
            "   [[[[[0.74936709 0.83119832 0.67907343]\n",
            "       [0.89833031 0.24086491 0.52546255]\n",
            "       [0.78876425 0.42295832 0.85270964]]\n",
            "\n",
            "      [[0.88539124 0.17092001 0.26677501]\n",
            "       [0.34061958 0.33202508 0.18852442]\n",
            "       [0.68236908 0.24827555 0.94494068]]]\n",
            "\n",
            "\n",
            "     [[[0.3462929  0.16529466 0.58135538]\n",
            "       [0.74131485 0.88853279 0.25029104]\n",
            "       [0.84037202 0.81444074 0.07438506]]\n",
            "\n",
            "      [[0.66015491 0.58460397 0.98831556]\n",
            "       [0.93583351 0.06310257 0.28678819]\n",
            "       [0.1862778  0.16478724 0.25595331]]]\n",
            "\n",
            "\n",
            "     [[[0.94758046 0.08481437 0.17511172]\n",
            "       [0.02596916 0.37614777 0.17116658]\n",
            "       [0.7589835  0.30383825 0.21650737]]\n",
            "\n",
            "      [[0.26262672 0.32587943 0.5564836 ]\n",
            "       [0.70243736 0.23091758 0.71573478]\n",
            "       [0.6441187  0.74106841 0.48501421]]]\n",
            "\n",
            "\n",
            "     [[[0.42644279 0.70922586 0.58370802]\n",
            "       [0.25324733 0.1954768  0.27726115]\n",
            "       [0.69754739 0.28247346 0.92666182]]\n",
            "\n",
            "      [[0.23122092 0.48386996 0.37755557]\n",
            "       [0.15873276 0.63991833 0.18640149]\n",
            "       [0.57470306 0.04450843 0.42301798]]]\n",
            "\n",
            "\n",
            "     [[[0.17289113 0.76259986 0.25407903]\n",
            "       [0.989228   0.18188535 0.45720476]\n",
            "       [0.45098139 0.40661592 0.37919027]]\n",
            "\n",
            "      [[0.55040182 0.80320263 0.37941867]\n",
            "       [0.11257972 0.54947793 0.82850706]\n",
            "       [0.39518386 0.85656687 0.92619272]]]]\n",
            "\n",
            "\n",
            "\n",
            "    [[[[0.64140581 0.42007565 0.0208768 ]\n",
            "       [0.11466853 0.15299811 0.93483659]\n",
            "       [0.54839232 0.31826352 0.77469982]]\n",
            "\n",
            "      [[0.04327348 0.79107592 0.19750204]\n",
            "       [0.55609498 0.02274084 0.44061347]\n",
            "       [0.59258254 0.69928657 0.642087  ]]]\n",
            "\n",
            "\n",
            "     [[[0.97816733 0.03711996 0.07884172]\n",
            "       [0.6844685  0.6092846  0.41598955]\n",
            "       [0.90814052 0.85869718 0.48615253]]\n",
            "\n",
            "      [[0.24425505 0.14950946 0.74875464]\n",
            "       [0.17464733 0.32310767 0.82203981]\n",
            "       [0.81961046 0.82172665 0.08828155]]]\n",
            "\n",
            "\n",
            "     [[[0.58080887 0.93372533 0.61607267]\n",
            "       [0.59468391 0.20023848 0.68856675]\n",
            "       [0.01998172 0.2087441  0.17515817]]\n",
            "\n",
            "      [[0.13293225 0.34202481 0.16209871]\n",
            "       [0.5523549  0.1773835  0.47757887]\n",
            "       [0.21168371 0.4677086  0.36095426]]]\n",
            "\n",
            "\n",
            "     [[[0.63168152 0.72913017 0.95767031]\n",
            "       [0.88147046 0.67440474 0.10944335]\n",
            "       [0.45465204 0.34263276 0.56551712]]\n",
            "\n",
            "      [[0.55133782 0.58734495 0.01161584]\n",
            "       [0.0952717  0.8450264  0.45523531]\n",
            "       [0.5965769  0.13677377 0.15609824]]]\n",
            "\n",
            "\n",
            "     [[[0.04406157 0.76056566 0.96006899]\n",
            "       [0.90995533 0.42543687 0.54754132]\n",
            "       [0.15054301 0.99127546 0.98108548]]\n",
            "\n",
            "      [[0.87951582 0.70038695 0.66435122]\n",
            "       [0.47196901 0.3218389  0.802395  ]\n",
            "       [0.19196137 0.49468663 0.93374343]]]]]]]\n",
            "\n",
            "\n",
            "\n",
            "\n",
            "\n",
            "\n",
            " [[[[[[[0.55071971 0.07919738 0.44296147]\n",
            "       [0.91263537 0.41213246 0.49140431]\n",
            "       [0.41704572 0.51087153 0.96011527]]\n",
            "\n",
            "      [[0.76122936 0.51517895 0.61630413]\n",
            "       [0.57577651 0.25439986 0.44985825]\n",
            "       [0.58989549 0.01668654 0.81801683]]]\n",
            "\n",
            "\n",
            "     [[[0.02786327 0.98972321 0.64239152]\n",
            "       [0.17274913 0.18561122 0.79920658]\n",
            "       [0.89868505 0.16217379 0.13391206]]\n",
            "\n",
            "      [[0.94299608 0.13789824 0.82462442]\n",
            "       [0.64490777 0.43199651 0.4884003 ]\n",
            "       [0.58984058 0.05372446 0.15780992]]]\n",
            "\n",
            "\n",
            "     [[[0.53527337 0.83222108 0.05423098]\n",
            "       [0.51722778 0.59687455 0.41844702]\n",
            "       [0.51431929 0.42081693 0.65520843]]\n",
            "\n",
            "      [[0.77849218 0.26592634 0.76719654]\n",
            "       [0.50471888 0.52798558 0.46070159]\n",
            "       [0.41176345 0.12373702 0.70589414]]]\n",
            "\n",
            "\n",
            "     [[[0.69405226 0.92592959 0.91632753]\n",
            "       [0.36217919 0.49854108 0.10765652]\n",
            "       [0.86945449 0.73553163 0.24435659]]\n",
            "\n",
            "      [[0.95881355 0.02929727 0.92618307]\n",
            "       [0.62770609 0.54644124 0.93759804]\n",
            "       [0.41389353 0.18900715 0.8483763 ]]]\n",
            "\n",
            "\n",
            "     [[[0.50568407 0.13190758 0.48732376]\n",
            "       [0.43552648 0.22149033 0.01298595]\n",
            "       [0.38705714 0.98635348 0.90873615]]\n",
            "\n",
            "      [[0.82750067 0.35155744 0.85988611]\n",
            "       [0.55152035 0.12615021 0.63475186]\n",
            "       [0.79239531 0.05349728 0.00453269]]]]\n",
            "\n",
            "\n",
            "\n",
            "    [[[[0.64593349 0.51626668 0.67869465]\n",
            "       [0.9479466  0.1471803  0.3826854 ]\n",
            "       [0.12039515 0.10726049 0.58227888]]\n",
            "\n",
            "      [[0.61037738 0.41473121 0.93618267]\n",
            "       [0.06812463 0.94151065 0.58457371]\n",
            "       [0.54267184 0.62189387 0.17865923]]]\n",
            "\n",
            "\n",
            "     [[[0.79482833 0.66248103 0.2665574 ]\n",
            "       [0.02010906 0.77283536 0.39071276]\n",
            "       [0.18602881 0.99382615 0.31947582]]\n",
            "\n",
            "      [[0.03854429 0.39266171 0.03068498]\n",
            "       [0.59530553 0.23814237 0.66979757]\n",
            "       [0.10289587 0.43913686 0.99027839]]]\n",
            "\n",
            "\n",
            "     [[[0.83044007 0.54143871 0.85935401]\n",
            "       [0.32270624 0.7920971  0.70173399]\n",
            "       [0.40983643 0.78410009 0.19202599]]\n",
            "\n",
            "      [[0.25478265 0.89360259 0.6785305 ]\n",
            "       [0.02998805 0.96155498 0.79251479]\n",
            "       [0.43000821 0.87579168 0.89112514]]]\n",
            "\n",
            "\n",
            "     [[[0.44256166 0.49432215 0.77708975]\n",
            "       [0.93014307 0.06979053 0.18932068]\n",
            "       [0.73070945 0.15061984 0.45325241]]\n",
            "\n",
            "      [[0.50739985 0.89271404 0.96186   ]\n",
            "       [0.7327677  0.77301101 0.68090678]\n",
            "       [0.40352181 0.83573979 0.21849703]]]\n",
            "\n",
            "\n",
            "     [[[0.0205815  0.0681772  0.06277851]\n",
            "       [0.60801604 0.40132592 0.00428346]\n",
            "       [0.69674809 0.7570691  0.4899009 ]]\n",
            "\n",
            "      [[0.77781502 0.02401464 0.62063571]\n",
            "       [0.50254799 0.32771985 0.02574251]\n",
            "       [0.4125635  0.07432366 0.91120289]]]]]\n",
            "\n",
            "\n",
            "\n",
            "\n",
            "   [[[[[0.04726559 0.15993286 0.11709486]\n",
            "       [0.97338851 0.40432676 0.69716561]\n",
            "       [0.09604683 0.07113712 0.70851875]]\n",
            "\n",
            "      [[0.96472412 0.2058013  0.94796784]\n",
            "       [0.5620297  0.27415367 0.44629622]\n",
            "       [0.37479044 0.79091821 0.08315656]]]\n",
            "\n",
            "\n",
            "     [[[0.05712734 0.27507723 0.59655198]\n",
            "       [0.12671966 0.95681224 0.35872228]\n",
            "       [0.6695888  0.06566782 0.28406656]]\n",
            "\n",
            "      [[0.7525703  0.07373063 0.50018646]\n",
            "       [0.99787944 0.46245749 0.70463737]\n",
            "       [0.34337938 0.26035856 0.23454544]]]\n",
            "\n",
            "\n",
            "     [[[0.61467874 0.62676396 0.28642635]\n",
            "       [0.78429411 0.41644751 0.4847862 ]\n",
            "       [0.8069039  0.8126435  0.54332506]]\n",
            "\n",
            "      [[0.35403881 0.56333876 0.15077218]\n",
            "       [0.17426018 0.29440242 0.63997655]\n",
            "       [0.89642151 0.2669415  0.55581444]]]\n",
            "\n",
            "\n",
            "     [[[0.83711405 0.22856857 0.23035338]\n",
            "       [0.31852036 0.14322177 0.24571908]\n",
            "       [0.78490834 0.83720556 0.63418564]]\n",
            "\n",
            "      [[0.85214609 0.89439714 0.86494719]\n",
            "       [0.84061657 0.09034316 0.49734393]\n",
            "       [0.05600932 0.60193234 0.39840624]]]\n",
            "\n",
            "\n",
            "     [[[0.10863429 0.1443275  0.62911482]\n",
            "       [0.98887088 0.75967627 0.02915986]\n",
            "       [0.40306247 0.9701499  0.33039756]]\n",
            "\n",
            "      [[0.0115091  0.73426778 0.84866885]\n",
            "       [0.89696019 0.88082484 0.7615562 ]\n",
            "       [0.29661848 0.57146766 0.42449132]]]]\n",
            "\n",
            "\n",
            "\n",
            "    [[[[0.04230001 0.0917492  0.45622127]\n",
            "       [0.64265523 0.54308988 0.86030027]\n",
            "       [0.19331051 0.43028542 0.79005533]]\n",
            "\n",
            "      [[0.4249076  0.19959349 0.81245533]\n",
            "       [0.06165013 0.40868494 0.55677998]\n",
            "       [0.80379237 0.41665427 0.42363493]]]\n",
            "\n",
            "\n",
            "     [[[0.59240759 0.49131841 0.80587024]\n",
            "       [0.94685486 0.4027687  0.15932663]\n",
            "       [0.28590474 0.16816794 0.45616146]]\n",
            "\n",
            "      [[0.74172009 0.77915549 0.58912585]\n",
            "       [0.14467297 0.78217361 0.11007229]\n",
            "       [0.04131588 0.00186733 0.60679899]]]\n",
            "\n",
            "\n",
            "     [[[0.79746122 0.37843352 0.6122325 ]\n",
            "       [0.98464547 0.88642903 0.09500154]\n",
            "       [0.8252807  0.94364501 0.56767131]]\n",
            "\n",
            "      [[0.08705616 0.91460481 0.93418455]\n",
            "       [0.58550357 0.9514544  0.76117693]\n",
            "       [0.52189823 0.99227483 0.14677888]]]\n",
            "\n",
            "\n",
            "     [[[0.18530371 0.33591913 0.096274  ]\n",
            "       [0.99278956 0.41130986 0.5673065 ]\n",
            "       [0.46255694 0.21402117 0.65269212]]\n",
            "\n",
            "      [[0.14163257 0.86870644 0.85385764]\n",
            "       [0.28327488 0.12426273 0.13122483]\n",
            "       [0.55118605 0.25758681 0.58692922]]]\n",
            "\n",
            "\n",
            "     [[[0.39009081 0.24804346 0.98555204]\n",
            "       [0.2940927  0.57941571 0.0462167 ]\n",
            "       [0.66167583 0.98388909 0.0266088 ]]\n",
            "\n",
            "      [[0.05682333 0.23957501 0.69000093]\n",
            "       [0.12907372 0.77743613 0.14802768]\n",
            "       [0.18112456 0.23276355 0.35027326]]]]]\n",
            "\n",
            "\n",
            "\n",
            "\n",
            "   [[[[[0.66732519 0.56503884 0.29302134]\n",
            "       [0.87238885 0.26656417 0.78865986]\n",
            "       [0.42776973 0.79078407 0.49475877]]\n",
            "\n",
            "      [[0.09016457 0.29887913 0.290623  ]\n",
            "       [0.28669953 0.15198951 0.05326723]\n",
            "       [0.81275071 0.56138179 0.2373318 ]]]\n",
            "\n",
            "\n",
            "     [[[0.42803728 0.99817616 0.20278602]\n",
            "       [0.76302744 0.10072475 0.59570275]\n",
            "       [0.53200926 0.2334861  0.99700376]]\n",
            "\n",
            "      [[0.98249227 0.66159993 0.916925  ]\n",
            "       [0.74559585 0.54787256 0.34165611]\n",
            "       [0.07123797 0.12553256 0.62309143]]]\n",
            "\n",
            "\n",
            "     [[[0.79772451 0.72039366 0.78347415]\n",
            "       [0.76716171 0.16264761 0.46801606]\n",
            "       [0.72188388 0.73440322 0.58388598]]\n",
            "\n",
            "      [[0.32544898 0.8444772  0.91515786]\n",
            "       [0.48619669 0.57951687 0.81870381]\n",
            "       [0.54899387 0.17442818 0.52937044]]]\n",
            "\n",
            "\n",
            "     [[[0.33042229 0.6065359  0.23964662]\n",
            "       [0.45489323 0.51365247 0.51988636]\n",
            "       [0.84996623 0.71180418 0.80689181]]\n",
            "\n",
            "      [[0.80924062 0.15281416 0.19363175]\n",
            "       [0.34612636 0.82802534 0.06283948]\n",
            "       [0.02814585 0.77949327 0.96917395]]]\n",
            "\n",
            "\n",
            "     [[[0.20387113 0.86067566 0.49212582]\n",
            "       [0.64567106 0.7153397  0.33259332]\n",
            "       [0.31247159 0.58597144 0.72984723]]\n",
            "\n",
            "      [[0.19054876 0.62671401 0.11589988]\n",
            "       [0.72863039 0.24533549 0.21103161]\n",
            "       [0.83981156 0.46294045 0.51774001]]]]\n",
            "\n",
            "\n",
            "\n",
            "    [[[[0.53186841 0.73026066 0.74558487]\n",
            "       [0.92469392 0.92923289 0.28215293]\n",
            "       [0.40718266 0.29574879 0.86666902]]\n",
            "\n",
            "      [[0.4784383  0.2192286  0.78359843]\n",
            "       [0.15151672 0.28491327 0.78865078]\n",
            "       [0.48453161 0.38228078 0.84815548]]]\n",
            "\n",
            "\n",
            "     [[[0.57646586 0.24910167 0.49016057]\n",
            "       [0.39343467 0.07830536 0.24356052]\n",
            "       [0.34851665 0.11763011 0.16604792]]\n",
            "\n",
            "      [[0.57544259 0.15079319 0.71203182]\n",
            "       [0.90840298 0.68325381 0.87735902]\n",
            "       [0.05151847 0.34456848 0.47255564]]]\n",
            "\n",
            "\n",
            "     [[[0.14325423 0.87810919 0.11281779]\n",
            "       [0.48574728 0.39291093 0.22895687]\n",
            "       [0.14458976 0.38397532 0.55210833]]\n",
            "\n",
            "      [[0.8895541  0.80175336 0.08982019]\n",
            "       [0.03899474 0.87700878 0.312528  ]\n",
            "       [0.57194701 0.24391896 0.80306485]]]\n",
            "\n",
            "\n",
            "     [[[0.3269527  0.08468353 0.51125484]\n",
            "       [0.61416339 0.44661559 0.15241224]\n",
            "       [0.51405408 0.083234   0.88756003]]\n",
            "\n",
            "      [[0.14726893 0.00290298 0.0366901 ]\n",
            "       [0.75534499 0.80080204 0.50974318]\n",
            "       [0.38010919 0.08987684 0.51295614]]]\n",
            "\n",
            "\n",
            "     [[[0.32674333 0.79076294 0.4093742 ]\n",
            "       [0.47175553 0.06806943 0.1755459 ]\n",
            "       [0.26282172 0.72040719 0.26213132]]\n",
            "\n",
            "      [[0.46432237 0.94654112 0.56318206]\n",
            "       [0.99333149 0.43483274 0.99154056]\n",
            "       [0.72127734 0.73257364 0.452182  ]]]]]]\n",
            "\n",
            "\n",
            "\n",
            "\n",
            "\n",
            "  [[[[[[0.28003148 0.86623134 0.14953199]\n",
            "       [0.80240117 0.37804455 0.4721477 ]\n",
            "       [0.39156278 0.78607871 0.76937233]]\n",
            "\n",
            "      [[0.90111401 0.52700447 0.50954731]\n",
            "       [0.91869412 0.94276319 0.70179179]\n",
            "       [0.34165312 0.51721846 0.83537197]]]\n",
            "\n",
            "\n",
            "     [[[0.52756224 0.13584071 0.75768475]\n",
            "       [0.7623333  0.26073182 0.92228608]\n",
            "       [0.51932941 0.83134226 0.81310965]]\n",
            "\n",
            "      [[0.92497157 0.12390033 0.95886465]\n",
            "       [0.56293658 0.71513082 0.31721109]\n",
            "       [0.32532919 0.95552846 0.82799453]]]\n",
            "\n",
            "\n",
            "     [[[0.25489576 0.48800785 0.69109619]\n",
            "       [0.43766229 0.14143869 0.88922564]\n",
            "       [0.25220813 0.96427077 0.98641407]]\n",
            "\n",
            "      [[0.24182616 0.43472806 0.58183951]\n",
            "       [0.7776098  0.05906008 0.42688825]\n",
            "       [0.63966496 0.55040166 0.78039827]]]\n",
            "\n",
            "\n",
            "     [[[0.60036723 0.12676476 0.8506222 ]\n",
            "       [0.95436727 0.02325992 0.71093188]\n",
            "       [0.44385854 0.35692961 0.65278085]]\n",
            "\n",
            "      [[0.44266327 0.43349172 0.87560725]\n",
            "       [0.70484923 0.20896229 0.96913   ]\n",
            "       [0.04144052 0.56808974 0.93285659]]]\n",
            "\n",
            "\n",
            "     [[[0.53309702 0.38855157 0.5024857 ]\n",
            "       [0.64239814 0.38320605 0.08183065]\n",
            "       [0.29161235 0.32452707 0.93766123]]\n",
            "\n",
            "      [[0.72436486 0.65435541 0.17957116]\n",
            "       [0.8594996  0.21475726 0.77381359]\n",
            "       [0.27655373 0.19416429 0.97345115]]]]\n",
            "\n",
            "\n",
            "\n",
            "    [[[[0.45442558 0.44146717 0.56528249]\n",
            "       [0.64043047 0.29363216 0.80498971]\n",
            "       [0.5440434  0.3820154  0.54597619]]\n",
            "\n",
            "      [[0.65322265 0.01660608 0.45019251]\n",
            "       [0.57964847 0.54253274 0.34601172]\n",
            "       [0.60083687 0.30912583 0.43330145]]]\n",
            "\n",
            "\n",
            "     [[[0.74306962 0.85903844 0.57088774]\n",
            "       [0.10058015 0.13226511 0.24372145]\n",
            "       [0.79091228 0.47847483 0.47317025]]\n",
            "\n",
            "      [[0.06857401 0.21084028 0.093076  ]\n",
            "       [0.54634793 0.24786588 0.48583307]\n",
            "       [0.42708343 0.98054077 0.08320875]]]\n",
            "\n",
            "\n",
            "     [[[0.8062288  0.59786089 0.0776451 ]\n",
            "       [0.56285319 0.10845526 0.74324091]\n",
            "       [0.97430655 0.04647523 0.8700943 ]]\n",
            "\n",
            "      [[0.58027165 0.83230727 0.74198677]\n",
            "       [0.67497076 0.46327771 0.85832272]\n",
            "       [0.56238804 0.10837768 0.25836104]]]\n",
            "\n",
            "\n",
            "     [[[0.40219207 0.70392235 0.32663425]\n",
            "       [0.34418913 0.54067121 0.18025008]\n",
            "       [0.84764183 0.98754919 0.00798355]]\n",
            "\n",
            "      [[0.16160774 0.92047706 0.74561549]\n",
            "       [0.74602773 0.90644892 0.12243066]\n",
            "       [0.66262579 0.75846975 0.14087143]]]\n",
            "\n",
            "\n",
            "     [[[0.64829364 0.27994762 0.73112319]\n",
            "       [0.68701833 0.51814521 0.00876438]\n",
            "       [0.62381629 0.87188348 0.84609082]]\n",
            "\n",
            "      [[0.38740197 0.37744412 0.36741075]\n",
            "       [0.71701868 0.46252231 0.64450073]\n",
            "       [0.26926761 0.66995132 0.20516611]]]]]\n",
            "\n",
            "\n",
            "\n",
            "\n",
            "   [[[[[0.75786391 0.82130726 0.73547569]\n",
            "       [0.27188352 0.73511324 0.06399357]\n",
            "       [0.80476144 0.66829731 0.63875095]]\n",
            "\n",
            "      [[0.99639915 0.15070934 0.12887223]\n",
            "       [0.23886148 0.68209119 0.36360669]\n",
            "       [0.10166726 0.97727048 0.49207848]]]\n",
            "\n",
            "\n",
            "     [[[0.61378387 0.8653478  0.26642913]\n",
            "       [0.3445804  0.28371047 0.07908661]\n",
            "       [0.99685267 0.01826617 0.36765375]]\n",
            "\n",
            "      [[0.880235   0.24652995 0.76524708]\n",
            "       [0.76366185 0.74664971 0.40273055]\n",
            "       [0.13789026 0.47724092 0.12066394]]]\n",
            "\n",
            "\n",
            "     [[[0.74524601 0.78948331 0.35019847]\n",
            "       [0.12569769 0.04260273 0.95799852]\n",
            "       [0.7001618  0.88339646 0.56643615]]\n",
            "\n",
            "      [[0.71057552 0.23344974 0.54433057]\n",
            "       [0.67137469 0.64133974 0.28856581]\n",
            "       [0.34698002 0.85170437 0.92759536]]]\n",
            "\n",
            "\n",
            "     [[[0.45485837 0.43849107 0.73918183]\n",
            "       [0.18134873 0.67959508 0.20315219]\n",
            "       [0.00634562 0.35122925 0.28221213]]\n",
            "\n",
            "      [[0.03500841 0.12908307 0.44498527]\n",
            "       [0.44388014 0.80570465 0.80455265]\n",
            "       [0.71349602 0.89710343 0.60593117]]]\n",
            "\n",
            "\n",
            "     [[[0.99953615 0.13566619 0.3550447 ]\n",
            "       [0.87441162 0.9078752  0.43608113]\n",
            "       [0.99624792 0.23494263 0.73850059]]\n",
            "\n",
            "      [[0.6612081  0.08758782 0.7905169 ]\n",
            "       [0.80202425 0.8198288  0.33388261]\n",
            "       [0.79389994 0.79753191 0.51882163]]]]\n",
            "\n",
            "\n",
            "\n",
            "    [[[[0.70695836 0.8015805  0.29859575]\n",
            "       [0.1885504  0.60788608 0.14870083]\n",
            "       [0.34951657 0.69486973 0.04908749]]\n",
            "\n",
            "      [[0.16950674 0.84000195 0.02804774]\n",
            "       [0.6440051  0.3232301  0.33653161]\n",
            "       [0.97896747 0.49758657 0.51749206]]]\n",
            "\n",
            "\n",
            "     [[[0.6378134  0.45211318 0.27777778]\n",
            "       [0.94824552 0.7544522  0.8118116 ]\n",
            "       [0.99023089 0.98996223 0.94211738]]\n",
            "\n",
            "      [[0.80645217 0.39764038 0.86406206]\n",
            "       [0.68008924 0.20607768 0.90978579]\n",
            "       [0.99346122 0.47975807 0.34677589]]]\n",
            "\n",
            "\n",
            "     [[[0.00468024 0.10492141 0.91958592]\n",
            "       [0.96111251 0.74969515 0.51194376]\n",
            "       [0.10809689 0.11860923 0.85693726]]\n",
            "\n",
            "      [[0.69177981 0.17527953 0.87466103]\n",
            "       [0.61328589 0.84241644 0.25472368]\n",
            "       [0.18541961 0.47819396 0.486495  ]]]\n",
            "\n",
            "\n",
            "     [[[0.45965211 0.47752565 0.92203968]\n",
            "       [0.80127228 0.50770092 0.80314877]\n",
            "       [0.2045018  0.39349085 0.24007334]]\n",
            "\n",
            "      [[0.18421182 0.36522106 0.24982292]\n",
            "       [0.55953605 0.35599342 0.39923472]\n",
            "       [0.37026177 0.8443435  0.56635249]]]\n",
            "\n",
            "\n",
            "     [[[0.0018902  0.44184908 0.56856806]\n",
            "       [0.5540831  0.39779772 0.51011272]\n",
            "       [0.70796544 0.92222435 0.45823747]]\n",
            "\n",
            "      [[0.93561939 0.47093819 0.23247851]\n",
            "       [0.39387338 0.97710097 0.35387477]\n",
            "       [0.22874898 0.35224239 0.42998369]]]]]\n",
            "\n",
            "\n",
            "\n",
            "\n",
            "   [[[[[0.50994819 0.48078206 0.85709074]\n",
            "       [0.5481252  0.38202501 0.44558511]\n",
            "       [0.96751965 0.04030477 0.68110548]]\n",
            "\n",
            "      [[0.8821939  0.58494574 0.04496792]\n",
            "       [0.66204211 0.93558507 0.10904765]\n",
            "       [0.35288232 0.00798296 0.93531914]]]\n",
            "\n",
            "\n",
            "     [[[0.88427355 0.91165373 0.07945259]\n",
            "       [0.87327596 0.19270316 0.62687238]\n",
            "       [0.43421671 0.6683471  0.987326  ]]\n",
            "\n",
            "      [[0.12048634 0.73898078 0.82549305]\n",
            "       [0.4432217  0.57062823 0.19496008]\n",
            "       [0.11092538 0.62373523 0.15652824]]]\n",
            "\n",
            "\n",
            "     [[[0.98213411 0.51517239 0.34050924]\n",
            "       [0.58377764 0.06807766 0.05067831]\n",
            "       [0.49875254 0.49626551 0.40846943]]\n",
            "\n",
            "      [[0.53514133 0.42200552 0.89743077]\n",
            "       [0.02117843 0.28226525 0.0575743 ]\n",
            "       [0.77244671 0.99356345 0.24753441]]]\n",
            "\n",
            "\n",
            "     [[[0.57800692 0.95243521 0.04506136]\n",
            "       [0.44572965 0.19167025 0.96180904]\n",
            "       [0.83420059 0.4908171  0.6921513 ]]\n",
            "\n",
            "      [[0.172432   0.13683592 0.14709398]\n",
            "       [0.39018236 0.4477789  0.83937449]\n",
            "       [0.9403526  0.32166567 0.46334307]]]\n",
            "\n",
            "\n",
            "     [[[0.41082931 0.32374786 0.70596617]\n",
            "       [0.48792242 0.25863137 0.24004135]\n",
            "       [0.44227627 0.84511855 0.51448804]]\n",
            "\n",
            "      [[0.56700295 0.34270025 0.35200443]\n",
            "       [0.82777792 0.09863705 0.56232326]\n",
            "       [0.8096901  0.77773826 0.02953943]]]]\n",
            "\n",
            "\n",
            "\n",
            "    [[[[0.0722695  0.37276433 0.03947747]\n",
            "       [0.81862957 0.0841187  0.68650717]\n",
            "       [0.92002067 0.48722564 0.56546201]]\n",
            "\n",
            "      [[0.12466576 0.78430639 0.35726871]\n",
            "       [0.44120676 0.59912849 0.92246697]\n",
            "       [0.50638066 0.04381178 0.56590428]]]\n",
            "\n",
            "\n",
            "     [[[0.00493041 0.96285318 0.06298332]\n",
            "       [0.15360159 0.69859843 0.93655477]\n",
            "       [0.83187702 0.25392009 0.76878739]]\n",
            "\n",
            "      [[0.4146784  0.63929972 0.31684274]\n",
            "       [0.95463263 0.37723274 0.87091113]\n",
            "       [0.05104301 0.6843847  0.16580452]]]\n",
            "\n",
            "\n",
            "     [[[0.88298388 0.27816448 0.96609512]\n",
            "       [0.56596717 0.18028794 0.14350581]\n",
            "       [0.40706507 0.92984498 0.56447548]]\n",
            "\n",
            "      [[0.59284335 0.97564483 0.17790915]\n",
            "       [0.84960575 0.78293053 0.63072357]\n",
            "       [0.19894304 0.09211874 0.70625875]]]\n",
            "\n",
            "\n",
            "     [[[0.89642867 0.18651452 0.17877373]\n",
            "       [0.42059422 0.07886938 0.52867422]\n",
            "       [0.82497085 0.39699884 0.25098539]]\n",
            "\n",
            "      [[0.61932082 0.97991821 0.80975785]\n",
            "       [0.94131277 0.15798361 0.7668506 ]\n",
            "       [0.44664129 0.02024029 0.64036283]]]\n",
            "\n",
            "\n",
            "     [[[0.81068696 0.75481876 0.59371728]\n",
            "       [0.77388325 0.62890804 0.65319705]\n",
            "       [0.41080542 0.5419602  0.35290066]]\n",
            "\n",
            "      [[0.28128252 0.20392963 0.86678956]\n",
            "       [0.94429112 0.46253584 0.63758927]\n",
            "       [0.50165991 0.37239637 0.32575504]]]]]]]]\n"
          ]
        }
      ]
    },
    {
      "metadata": {
        "id": "fYy0KgJjB5ev"
      },
      "cell_type": "markdown",
      "source": [
        "You can read about other methods of array creation [in the documentation](http://docs.scipy.org/doc/numpy/user/basics.creation.html#arrays-creation).\n",
        "\n",
        "##Array indexing\n",
        "\n",
        "Numpy offers several ways to index into arrays.\n",
        "\n",
        "###Slicing\n",
        "\n",
        "Similar to Python lists, numpy arrays can be sliced. Since arrays may be multidimensional, you must specify a slice for each dimension of the array:"
      ]
    },
    {
      "metadata": {
        "id": "mECt4JAYCQ8c",
        "colab": {
          "base_uri": "https://localhost:8080/"
        },
        "outputId": "62696c76-e429-4c93-a749-1059f964645b"
      },
      "cell_type": "code",
      "source": [
        "import numpy as np\n",
        "\n",
        "# Create the following rank 2 array with shape (3, 4)\n",
        "# [[ 1  2  3  4]\n",
        "#  [ 5  6  7  8]\n",
        "#  [ 9 10 11 12]]\n",
        "a = np.array([[1,2,3,4], [5,6,7,8], [9,10,11,12]])\n",
        "\n",
        "# Use slicing to pull out the subarray consisting of the first 2 rows\n",
        "# and columns 1 and 2; b is the following array of shape (2, 2):\n",
        "# [[2 3]\n",
        "#  [6 7]]\n",
        "b = a[:2, 1:3]\n",
        "print(b)\n",
        "# A slice of an array is a view into the same data, so modifying it\n",
        "# will modify the original array.\n",
        "print(a[0, 1])   # Prints \"2\"\n",
        "b[0, 0] = 77     # b[0, 0] is the same piece of data as a[0, 1]\n",
        "print(a[0, 1])   # Prints \"77\""
      ],
      "execution_count": null,
      "outputs": [
        {
          "output_type": "stream",
          "name": "stdout",
          "text": [
            "[[2 3]\n",
            " [6 7]]\n",
            "2\n",
            "77\n"
          ]
        }
      ]
    },
    {
      "metadata": {
        "id": "GVy4_GX5CYLD"
      },
      "cell_type": "markdown",
      "source": [
        "You can also mix integer indexing with slice indexing. However, doing so will yield an array of lower rank than the original array. Note that this is quite different from the way that MATLAB handles array slicing:"
      ]
    },
    {
      "metadata": {
        "id": "YEY_yDDKClZ-",
        "colab": {
          "base_uri": "https://localhost:8080/",
          "height": 118
        },
        "outputId": "dfae9773-f154-4144-da80-89b4ad01d5b5"
      },
      "cell_type": "code",
      "source": [
        "import numpy as np\n",
        "\n",
        "# Create the following rank 2 array with shape (3, 4)\n",
        "# [[ 1  2  3  4]\n",
        "#  [ 5  6  7  8]\n",
        "#  [ 9 10 11 12]]\n",
        "a = np.array([[1,2,3,4], [5,6,7,8], [9,10,11,12]])\n",
        "\n",
        "# Two ways of accessing the data in the middle row of the array.\n",
        "# Mixing integer indexing with slices yields an array of lower rank,\n",
        "# while using only slices yields an array of the same rank as the\n",
        "# original array:\n",
        "row_r1 = a[1, :]    # Rank 1 view of the second row of a\n",
        "row_r2 = a[1:2, :]  # Rank 2 view of the second row of a\n",
        "print(row_r1, row_r1.shape)  # Prints \"[5 6 7 8] (4,)\"\n",
        "print(row_r2, row_r2.shape)  # Prints \"[[5 6 7 8]] (1, 4)\"\n",
        "\n",
        "# We can make the same distinction when accessing columns of an array:\n",
        "col_r1 = a[:, 1]\n",
        "col_r2 = a[:, 1:2]\n",
        "print(col_r1, col_r1.shape)  # Prints \"[ 2  6 10] (3,)\"\n",
        "print(col_r2, col_r2.shape)  # Prints \"[[ 2]\n",
        "                             #          [ 6]\n",
        "                             #          [10]] (3, 1)\""
      ],
      "execution_count": null,
      "outputs": [
        {
          "output_type": "stream",
          "text": [
            "(array([5, 6, 7, 8]), (4,))\n",
            "(array([[5, 6, 7, 8]]), (1, 4))\n",
            "(array([ 2,  6, 10]), (3,))\n",
            "(array([[ 2],\n",
            "       [ 6],\n",
            "       [10]]), (3, 1))\n"
          ],
          "name": "stdout"
        }
      ]
    },
    {
      "metadata": {
        "id": "h4jnbBVuCtnz"
      },
      "cell_type": "markdown",
      "source": [
        "###Integer array indexing\n",
        "\n",
        "When you index into numpy arrays using slicing, the resulting array view will always be a subarray of the original array. In contrast, integer array indexing allows you to construct arbitrary arrays using the data from another array. Here is an example:"
      ]
    },
    {
      "metadata": {
        "id": "QEo_GRgzC6m-",
        "colab": {
          "base_uri": "https://localhost:8080/"
        },
        "outputId": "937e6f3f-3377-4b46-f9d8-a4bc537c0877"
      },
      "cell_type": "code",
      "source": [
        "import numpy as np\n",
        "\n",
        "a = np.array([[1,2], [3, 4], [5, 6]])\n",
        "#print(a)\n",
        "# An example of integer array indexing.\n",
        "# The returned array will have shape (3,) and\n",
        "print(a[[0, 1, 2], [0, 1, 0]])  # Prints \"[1 4 5]\"\n",
        "\n",
        "# The above example of integer array indexing is equivalent to this:\n",
        "print(np.array([a[0, 0], a[1, 1], a[2, 0]]))  # Prints \"[1 4 5]\"\n",
        "\n",
        "# When using integer array indexing, you can reuse the same\n",
        "# element from the source array:\n",
        "print(a[[0, 0], [1, 1]])  # Prints \"[2 2]\"\n",
        "\n",
        "# Equivalent to the previous integer array indexing example\n",
        "print(np.array([a[0, 1], a[0, 1]]))  # Prints \"[2 2]\""
      ],
      "execution_count": null,
      "outputs": [
        {
          "output_type": "stream",
          "name": "stdout",
          "text": [
            "[1 4 5]\n",
            "[1 4 5]\n",
            "[2 2]\n",
            "[2 2]\n"
          ]
        }
      ]
    },
    {
      "metadata": {
        "id": "FnueaModDAVt"
      },
      "cell_type": "markdown",
      "source": [
        "One useful trick with integer array indexing is selecting or mutating one element from each row of a matrix:"
      ]
    },
    {
      "metadata": {
        "id": "teKdkq30DFeG",
        "colab": {
          "base_uri": "https://localhost:8080/",
          "height": 168
        },
        "outputId": "5bc0b45e-99d1-4ac5-9c31-5c39cbd153d7"
      },
      "cell_type": "code",
      "source": [
        "import numpy as np\n",
        "\n",
        "# Create a new array from which we will select elements\n",
        "a = np.array([[1,2,3], [4,5,6], [7,8,9], [10, 11, 12]])\n",
        "\n",
        "print(a)  # prints \"array([[ 1,  2,  3],\n",
        "          #                [ 4,  5,  6],\n",
        "          #                [ 7,  8,  9],\n",
        "          #                [10, 11, 12]])\"\n",
        "\n",
        "# Create an array of indices\n",
        "b = np.array([0, 2, 0, 1])\n",
        "\n",
        "# Select one element from each row of a using the indices in b\n",
        "print(a[np.arange(4), b])  # Prints \"[ 1  6  7 11]\"\n",
        "\n",
        "# Mutate one element from each row of a using the indices in b\n",
        "a[np.arange(4), b] += 10\n",
        "\n",
        "print(a)  # prints \"array([[11,  2,  3],\n",
        "          #                [ 4,  5, 16],\n",
        "          #                [17,  8,  9],\n",
        "          #                [10, 21, 12]])"
      ],
      "execution_count": null,
      "outputs": [
        {
          "output_type": "stream",
          "text": [
            "[[ 1  2  3]\n",
            " [ 4  5  6]\n",
            " [ 7  8  9]\n",
            " [10 11 12]]\n",
            "[ 1  6  7 11]\n",
            "[[11  2  3]\n",
            " [ 4  5 16]\n",
            " [17  8  9]\n",
            " [10 21 12]]\n"
          ],
          "name": "stdout"
        }
      ]
    },
    {
      "metadata": {
        "id": "9LtmzO68DJgr"
      },
      "cell_type": "markdown",
      "source": [
        "###Boolean array indexing\n",
        "\n",
        "Boolean array indexing lets you pick out arbitrary elements of an array. Frequently this type of indexing is used to select the elements of an array that satisfy some condition. Here is an example:"
      ]
    },
    {
      "metadata": {
        "id": "1c6neAk_DPR8",
        "colab": {
          "base_uri": "https://localhost:8080/",
          "height": 101
        },
        "outputId": "4895a94c-f571-4a32-ce62-c005e78b662e"
      },
      "cell_type": "code",
      "source": [
        "import numpy as np\n",
        "\n",
        "a = np.array([[1,2], [3, 4], [5, 6]])\n",
        "\n",
        "bool_idx = (a > 2)   # Find the elements of a that are bigger than 2;\n",
        "                     # this returns a numpy array of Booleans of the same\n",
        "                     # shape as a, where each slot of bool_idx tells\n",
        "                     # whether that element of a is > 2.\n",
        "\n",
        "print(bool_idx)      # Prints \"[[False False]\n",
        "                     #          [ True  True]\n",
        "                     #          [ True  True]]\"\n",
        "\n",
        "# We use boolean array indexing to construct a rank 1 array\n",
        "# consisting of the elements of a corresponding to the True values\n",
        "# of bool_idx\n",
        "print(a[bool_idx])  # Prints \"[3 4 5 6]\"\n",
        "\n",
        "# We can do all of the above in a single concise statement:\n",
        "print(a[a > 2])     # Prints \"[3 4 5 6]\""
      ],
      "execution_count": null,
      "outputs": [
        {
          "output_type": "stream",
          "text": [
            "[[False False]\n",
            " [ True  True]\n",
            " [ True  True]]\n",
            "[3 4 5 6]\n",
            "[3 4 5 6]\n"
          ],
          "name": "stdout"
        }
      ]
    },
    {
      "metadata": {
        "id": "CySWjuR6DjuW"
      },
      "cell_type": "markdown",
      "source": [
        "For brevity we have left out a lot of details about numpy array indexing; if you want to know more you should [read the documentation](http://docs.scipy.org/doc/numpy/reference/arrays.indexing.html).\n",
        "\n",
        "##Datatypes\n",
        "\n",
        "Every numpy array is a grid of elements of the same type. Numpy provides a large set of numeric datatypes that you can use to construct arrays. Numpy tries to guess a datatype when you create an array, but functions that construct arrays usually also include an optional argument to explicitly specify the datatype. Here is an example:"
      ]
    },
    {
      "metadata": {
        "id": "ox5QZ5HyEHkO",
        "colab": {
          "base_uri": "https://localhost:8080/",
          "height": 67
        },
        "outputId": "d14dc70f-3643-4fb4-bac3-c1b4b0b4cd2f"
      },
      "cell_type": "code",
      "source": [
        "import numpy as np\n",
        "\n",
        "x = np.array([1, 2])   # Let numpy choose the datatype\n",
        "print(x.dtype)         # Prints \"int64\"\n",
        "\n",
        "x = np.array([1.0, 2.0])   # Let numpy choose the datatype\n",
        "print(x.dtype)             # Prints \"float64\"\n",
        "\n",
        "x = np.array([1, 2], dtype=np.int64)   # Force a particular datatype\n",
        "print(x.dtype)                         # Prints \"int64\""
      ],
      "execution_count": null,
      "outputs": [
        {
          "output_type": "stream",
          "text": [
            "int64\n",
            "float64\n",
            "int64\n"
          ],
          "name": "stdout"
        }
      ]
    },
    {
      "metadata": {
        "id": "AvPTXfZeEKk5"
      },
      "cell_type": "markdown",
      "source": [
        "You can read all about numpy datatypes [in the documentation](http://docs.scipy.org/doc/numpy/reference/arrays.dtypes.html).\n",
        "\n",
        "##Array math\n",
        "\n",
        "Basic mathematical functions operate elementwise on arrays, and are available both as operator overloads and as functions in the numpy module:"
      ]
    },
    {
      "metadata": {
        "id": "VRbBCC-wEiQg",
        "colab": {
          "base_uri": "https://localhost:8080/",
          "height": 319
        },
        "outputId": "fb1c0a72-a45d-42c9-be73-b3547e52154c"
      },
      "cell_type": "code",
      "source": [
        "import numpy as np\n",
        "\n",
        "x = np.array([[1,2],[3,4]], dtype=np.float64)\n",
        "y = np.array([[5,6],[7,8]], dtype=np.float64)\n",
        "\n",
        "# Elementwise sum; both produce the array\n",
        "# [[ 6.0  8.0]\n",
        "#  [10.0 12.0]]\n",
        "print(x + y)\n",
        "print(np.add(x, y))\n",
        "\n",
        "# Elementwise difference; both produce the array\n",
        "# [[-4.0 -4.0]\n",
        "#  [-4.0 -4.0]]\n",
        "print(x - y)\n",
        "print(np.subtract(x, y))\n",
        "\n",
        "# Elementwise product; both produce the array\n",
        "# [[ 5.0 12.0]\n",
        "#  [21.0 32.0]]\n",
        "print(x * y)\n",
        "print(np.multiply(x, y))\n",
        "\n",
        "# Elementwise division; both produce the array\n",
        "# [[ 0.2         0.33333333]\n",
        "#  [ 0.42857143  0.5       ]]\n",
        "print(x / y)\n",
        "print(np.divide(x, y))\n",
        "\n",
        "# Elementwise square root; produces the array\n",
        "# [[ 1.          1.41421356]\n",
        "#  [ 1.73205081  2.        ]]\n",
        "print(np.sqrt(x))"
      ],
      "execution_count": null,
      "outputs": [
        {
          "output_type": "stream",
          "text": [
            "[[ 6.  8.]\n",
            " [10. 12.]]\n",
            "[[ 6.  8.]\n",
            " [10. 12.]]\n",
            "[[-4. -4.]\n",
            " [-4. -4.]]\n",
            "[[-4. -4.]\n",
            " [-4. -4.]]\n",
            "[[ 5. 12.]\n",
            " [21. 32.]]\n",
            "[[ 5. 12.]\n",
            " [21. 32.]]\n",
            "[[0.2        0.33333333]\n",
            " [0.42857143 0.5       ]]\n",
            "[[0.2        0.33333333]\n",
            " [0.42857143 0.5       ]]\n",
            "[[1.         1.41421356]\n",
            " [1.73205081 2.        ]]\n"
          ],
          "name": "stdout"
        }
      ]
    },
    {
      "metadata": {
        "id": "yrTXIl8sEs3f"
      },
      "cell_type": "markdown",
      "source": [
        "Note that unlike MATLAB, `*` is elementwise multiplication, not matrix multiplication. We instead use the `dot` function to compute inner products of vectors, to multiply a vector by a matrix, and to multiply matrices. `dot` is available both as a function in the numpy module and as an instance method of array objects:"
      ]
    },
    {
      "metadata": {
        "id": "66sNDwkpE8op",
        "colab": {
          "base_uri": "https://localhost:8080/"
        },
        "outputId": "b53796b6-1b91-41a0-f8e9-13a8a91a6ee7"
      },
      "cell_type": "code",
      "source": [
        "import numpy as np\n",
        "\n",
        "x = np.array([[1,2],[3,4]])\n",
        "y = np.array([[5,6],[7,8]])\n",
        "\n",
        "v = np.array([9,10])\n",
        "w = np.array([11, 12])\n",
        "\n",
        "# Inner product of vectors; both produce 219\n",
        "print(v.dot(w) == v @ w)\n",
        "print(np.dot(v, w) == v @ w)\n",
        "\n",
        "# Matrix / vector product; both produce the rank 1 array [29 67]\n",
        "print(x.dot(v))\n",
        "print(np.dot(x, v))\n",
        "\n",
        "# Matrix / matrix product; both produce the rank 2 array\n",
        "# [[19 22]\n",
        "#  [43 50]]\n",
        "print(x.dot(y))\n",
        "print(np.dot(x, y))"
      ],
      "execution_count": null,
      "outputs": [
        {
          "output_type": "stream",
          "name": "stdout",
          "text": [
            "True\n",
            "True\n",
            "[29 67]\n",
            "[29 67]\n",
            "[[19 22]\n",
            " [43 50]]\n",
            "[[19 22]\n",
            " [43 50]]\n"
          ]
        }
      ]
    },
    {
      "metadata": {
        "id": "m8gZf_6lFAVt"
      },
      "cell_type": "markdown",
      "source": [
        "Numpy provides many useful functions for performing computations on arrays; one of the most useful is `sum`:"
      ]
    },
    {
      "metadata": {
        "id": "vBen0kKQFJF1",
        "colab": {
          "base_uri": "https://localhost:8080/",
          "height": 67
        },
        "outputId": "20b7048b-e44b-4efc-e7d3-5821fd786be2"
      },
      "cell_type": "code",
      "source": [
        "import numpy as np\n",
        "\n",
        "x = np.array([[1,2],[3,4]])\n",
        "\n",
        "print(np.sum(x))  # Compute sum of all elements; prints \"10\"\n",
        "print(np.sum(x, axis=0))  # Compute sum of each column; prints \"[4 6]\"\n",
        "print(np.sum(x, axis=1))  # Compute sum of each row; prints \"[3 7]\""
      ],
      "execution_count": null,
      "outputs": [
        {
          "output_type": "stream",
          "text": [
            "10\n",
            "[4 6]\n",
            "[3 7]\n"
          ],
          "name": "stdout"
        }
      ]
    },
    {
      "metadata": {
        "id": "ji1mKJf5Fg1k"
      },
      "cell_type": "markdown",
      "source": [
        "You can find the full list of mathematical functions provided by numpy [in the documentation](http://docs.scipy.org/doc/numpy/reference/routines.math.html).\n",
        "\n",
        "Apart from computing mathematical functions using arrays, we frequently need to reshape or otherwise manipulate data in arrays. The simplest example of this type of operation is transposing a matrix; to transpose a matrix, simply use the `T` attribute of an array object:"
      ]
    },
    {
      "metadata": {
        "id": "waRKr66yF0RV",
        "colab": {
          "base_uri": "https://localhost:8080/",
          "height": 118
        },
        "outputId": "e3c81244-7137-4ee2-b8b8-543704e56e3d"
      },
      "cell_type": "code",
      "source": [
        "import numpy as np\n",
        "\n",
        "x = np.array([[1,2], [3,4]])\n",
        "print(x)    # Prints \"[[1 2]\n",
        "            #          [3 4]]\"\n",
        "print(x.T)  # Prints \"[[1 3]\n",
        "            #          [2 4]]\"\n",
        "\n",
        "# Note that taking the transpose of a rank 1 array does nothing:\n",
        "v = np.array([1,2,3])\n",
        "print(v)    # Prints \"[1 2 3]\"\n",
        "print(v.T)  # Prints \"[1 2 3]\""
      ],
      "execution_count": null,
      "outputs": [
        {
          "output_type": "stream",
          "text": [
            "[[1 2]\n",
            " [3 4]]\n",
            "[[1 3]\n",
            " [2 4]]\n",
            "[1 2 3]\n",
            "[1 2 3]\n"
          ],
          "name": "stdout"
        }
      ]
    },
    {
      "metadata": {
        "id": "yfBlU2kgF3vE"
      },
      "cell_type": "markdown",
      "source": [
        "Numpy provides many more functions for manipulating arrays; you can see the full list [in the documentation](http://docs.scipy.org/doc/numpy/reference/routines.array-manipulation.html).\n",
        "\n",
        "##Broadcasting\n",
        "\n",
        "Broadcasting is a powerful mechanism that allows numpy to work with arrays of different shapes when performing arithmetic operations. Frequently we have a smaller array and a larger array, and we want to use the smaller array multiple times to perform some operation on the larger array.\n",
        "\n",
        "For example, suppose that we want to add a constant vector to each row of a matrix. We could do it like this:"
      ]
    },
    {
      "metadata": {
        "id": "fQgMaLdFGV6K",
        "colab": {
          "base_uri": "https://localhost:8080/",
          "height": 84
        },
        "outputId": "ec0b7211-4fb2-4175-c5f5-8d9466182151"
      },
      "cell_type": "code",
      "source": [
        "import numpy as np\n",
        "\n",
        "# We will add the vector v to each row of the matrix x,\n",
        "# storing the result in the matrix y\n",
        "x = np.array([[1,2,3], [4,5,6], [7,8,9], [10, 11, 12]])\n",
        "v = np.array([1, 0, 1])\n",
        "y = np.empty_like(x)   # Create an empty matrix with the same shape as x\n",
        "\n",
        "# Add the vector v to each row of the matrix x with an explicit loop\n",
        "for i in range(4):\n",
        "    y[i, :] = x[i, :] + v\n",
        "\n",
        "# Now y is the following\n",
        "# [[ 2  2  4]\n",
        "#  [ 5  5  7]\n",
        "#  [ 8  8 10]\n",
        "#  [11 11 13]]\n",
        "print(y)"
      ],
      "execution_count": null,
      "outputs": [
        {
          "output_type": "stream",
          "text": [
            "[[ 2  2  4]\n",
            " [ 5  5  7]\n",
            " [ 8  8 10]\n",
            " [11 11 13]]\n"
          ],
          "name": "stdout"
        }
      ]
    },
    {
      "metadata": {
        "id": "nWI9Vb6IGbL1"
      },
      "cell_type": "markdown",
      "source": [
        "This works; however when the matrix `x` is very large, computing an explicit loop in Python could be slow. Note that adding the vector `v` to each row of the matrix `x` is equivalent to forming a matrix `vv` by stacking multiple copies of `v` vertically, then performing elementwise summation of `x` and `vv`. We could implement this approach like this:"
      ]
    },
    {
      "metadata": {
        "id": "ffVP_lOOGw6e",
        "colab": {
          "base_uri": "https://localhost:8080/",
          "height": 151
        },
        "outputId": "92d618e9-4634-456a-fa0c-faf42a264756"
      },
      "cell_type": "code",
      "source": [
        "import numpy as np\n",
        "\n",
        "# We will add the vector v to each row of the matrix x,\n",
        "# storing the result in the matrix y\n",
        "x = np.array([[1,2,3], [4,5,6], [7,8,9], [10, 11, 12]])\n",
        "v = np.array([1, 0, 1])\n",
        "vv = np.tile(v, (4, 1))   # Stack 4 copies of v on top of each other\n",
        "print(vv)                 # Prints \"[[1 0 1]\n",
        "                          #          [1 0 1]\n",
        "                          #          [1 0 1]\n",
        "                          #          [1 0 1]]\"\n",
        "y = x + vv  # Add x and vv elementwise\n",
        "print(y)  # Prints \"[[ 2  2  4\n",
        "          #          [ 5  5  7]\n",
        "          #          [ 8  8 10]\n",
        "          #          [11 11 13]]\""
      ],
      "execution_count": null,
      "outputs": [
        {
          "output_type": "stream",
          "text": [
            "[[1 0 1]\n",
            " [1 0 1]\n",
            " [1 0 1]\n",
            " [1 0 1]]\n",
            "[[ 2  2  4]\n",
            " [ 5  5  7]\n",
            " [ 8  8 10]\n",
            " [11 11 13]]\n"
          ],
          "name": "stdout"
        }
      ]
    },
    {
      "metadata": {
        "id": "dbR6fU5GGzMz"
      },
      "cell_type": "markdown",
      "source": [
        "Numpy broadcasting allows us to perform this computation without actually creating multiple copies of `v`. Consider this version, using broadcasting:"
      ]
    },
    {
      "metadata": {
        "id": "vQ3djy02G4r2",
        "colab": {
          "base_uri": "https://localhost:8080/",
          "height": 84
        },
        "outputId": "e2c45fa6-39fd-4237-95ba-0d4240438ad9"
      },
      "cell_type": "code",
      "source": [
        "import numpy as np\n",
        "\n",
        "# We will add the vector v to each row of the matrix x,\n",
        "# storing the result in the matrix y\n",
        "x = np.array([[1,2,3], [4,5,6], [7,8,9], [10, 11, 12]])\n",
        "v = np.array([1, 0, 1])\n",
        "y = x + v  # Add v to each row of x using broadcasting\n",
        "print(y)  # Prints \"[[ 2  2  4]\n",
        "          #          [ 5  5  7]\n",
        "          #          [ 8  8 10]\n",
        "          #          [11 11 13]]\""
      ],
      "execution_count": null,
      "outputs": [
        {
          "output_type": "stream",
          "text": [
            "[[ 2  2  4]\n",
            " [ 5  5  7]\n",
            " [ 8  8 10]\n",
            " [11 11 13]]\n"
          ],
          "name": "stdout"
        }
      ]
    },
    {
      "metadata": {
        "id": "6zqsq3xLG9hD"
      },
      "cell_type": "markdown",
      "source": [
        "The line `y = x + v` works even though `x` has shape `(4, 3)` and `v` has shape `(3,)` due to broadcasting; this line works as if `v` actually had shape `(4, 3)`, where each row was a copy of `v`, and the sum was performed elementwise.\n",
        "\n",
        "Broadcasting two arrays together follows these rules:\n",
        "\n",
        "1. If the arrays do not have the same rank, prepend the shape of the lower rank array with 1s until both shapes have the same length.\n",
        "2. The two arrays are said to be *compatible* in a dimension if they have the same size in the dimension, or if one of the arrays has size 1 in that dimension.\n",
        "3. The arrays can be broadcast together if they are compatible in all dimensions.\n",
        "4. After broadcasting, each array behaves as if it had shape equal to the elementwise maximum of shapes of the two input arrays.\n",
        "5. In any dimension where one array had size 1 and the other array had size greater than 1, the first array behaves as if it were copied along that dimension.\n",
        "\n",
        "For more details, you can read the explanation [from the documentation](http://docs.scipy.org/doc/numpy/user/basics.broadcasting.html).\n",
        "\n",
        "Functions that support broadcasting are known as *universal functions*. You can find the list of all universal functions [in the documentation](http://docs.scipy.org/doc/numpy/reference/ufuncs.html#available-ufuncs).\n",
        "\n",
        "Here are some applications of broadcasting:\n",
        "\n",
        "\n"
      ]
    },
    {
      "metadata": {
        "id": "S-iRQm3JIb4F",
        "colab": {
          "base_uri": "https://localhost:8080/",
          "height": 202
        },
        "outputId": "474431eb-f7b7-4342-f341-36cb1d092919"
      },
      "cell_type": "code",
      "source": [
        "import numpy as np\n",
        "\n",
        "# Compute outer product of vectors\n",
        "v = np.array([1,2,3])  # v has shape (3,)\n",
        "w = np.array([4,5])    # w has shape (2,)\n",
        "# To compute an outer product, we first reshape v to be a column\n",
        "# vector of shape (3, 1); we can then broadcast it against w to yield\n",
        "# an output of shape (3, 2), which is the outer product of v and w:\n",
        "# [[ 4  5]\n",
        "#  [ 8 10]\n",
        "#  [12 15]]\n",
        "print(np.reshape(v, (3, 1)) * w)\n",
        "\n",
        "# Add a vector to each row of a matrix\n",
        "x = np.array([[1,2,3], [4,5,6]])\n",
        "# x has shape (2, 3) and v has shape (3,) so they broadcast to (2, 3),\n",
        "# giving the following matrix:\n",
        "# [[2 4 6]\n",
        "#  [5 7 9]]\n",
        "print(x + v)\n",
        "\n",
        "# Add a vector to each column of a matrix\n",
        "# x has shape (2, 3) and w has shape (2,).\n",
        "# If we transpose x then it has shape (3, 2) and can be broadcast\n",
        "# against w to yield a result of shape (3, 2); transposing this result\n",
        "# yields the final result of shape (2, 3) which is the matrix x with\n",
        "# the vector w added to each column. Gives the following matrix:\n",
        "# [[ 5  6  7]\n",
        "#  [ 9 10 11]]\n",
        "print((x.T + w).T)\n",
        "# Another solution is to reshape w to be a column vector of shape (2, 1);\n",
        "# we can then broadcast it directly against x to produce the same\n",
        "# output.\n",
        "print(x + np.reshape(w, (2, 1)))\n",
        "\n",
        "# Multiply a matrix by a constant:\n",
        "# x has shape (2, 3). Numpy treats scalars as arrays of shape ();\n",
        "# these can be broadcast together to shape (2, 3), producing the\n",
        "# following array:\n",
        "# [[ 2  4  6]\n",
        "#  [ 8 10 12]]\n",
        "print(x * 2)"
      ],
      "execution_count": null,
      "outputs": [
        {
          "output_type": "stream",
          "text": [
            "[[ 4  5]\n",
            " [ 8 10]\n",
            " [12 15]]\n",
            "[[2 4 6]\n",
            " [5 7 9]]\n",
            "[[ 5  6  7]\n",
            " [ 9 10 11]]\n",
            "[[ 5  6  7]\n",
            " [ 9 10 11]]\n",
            "[[ 2  4  6]\n",
            " [ 8 10 12]]\n"
          ],
          "name": "stdout"
        }
      ]
    },
    {
      "metadata": {
        "id": "8GYvMrTfIioI"
      },
      "cell_type": "markdown",
      "source": [
        "Broadcasting typically makes your code more concise and faster, so you should strive to use it where possible.\n",
        "\n",
        "##Numpy Documentation\n",
        "\n",
        "This brief overview has touched on many of the important things that you need to know about numpy, but is far from complete. Check out the [numpy reference](http://docs.scipy.org/doc/numpy/reference/) to find out much more about numpy.\n",
        "\n",
        "#Matplotlib\n",
        "\n",
        "Matplotlib is a plotting library. In this section give a brief introduction to the `matplotlib.pyplot` module, which provides a plotting system similar to that of MATLAB.\n",
        "\n",
        "##Plotting\n",
        "\n",
        "The most important function in matplotlib is `plot`, which allows you to plot 2D data. Here is a simple example:"
      ]
    },
    {
      "metadata": {
        "id": "KfjqxRT4JP2t",
        "colab": {
          "base_uri": "https://localhost:8080/",
          "height": 347
        },
        "outputId": "41e4bc44-df25-4d59-d371-ed70499e82bc"
      },
      "cell_type": "code",
      "source": [
        "import numpy as np\n",
        "import matplotlib.pyplot as plt\n",
        "\n",
        "# Compute the x and y coordinates for points on a sine curve\n",
        "x = np.arange(0, 3 * np.pi, 0.1)\n",
        "y = np.sin(x)\n",
        "\n",
        "# Plot the points using matplotlib\n",
        "plt.plot(x, y)\n",
        "plt.show()  # You must call plt.show() to make graphics appear."
      ],
      "execution_count": null,
      "outputs": [
        {
          "output_type": "display_data",
          "data": {
            "image/png": "[encoded data removed]",
            "text/plain": [
              "<matplotlib.figure.Figure at 0x7f4e50d717d0>"
            ]
          },
          "metadata": {
            "tags": []
          }
        }
      ]
    },
    {
      "cell_type": "code",
      "source": [],
      "metadata": {
        "id": "UayXI6KNKKqN"
      },
      "execution_count": null,
      "outputs": []
    },
    {
      "metadata": {
        "id": "6LxgDV5XJVRU"
      },
      "cell_type": "markdown",
      "source": [
        "With just a little bit of extra work we can easily plot multiple lines at once, and add a title, legend, and axis labels:"
      ]
    },
    {
      "metadata": {
        "id": "IVRdhmwQJZhD",
        "colab": {
          "base_uri": "https://localhost:8080/",
          "height": 376
        },
        "outputId": "4adfcf15-f29c-40da-8219-36f8eca08858"
      },
      "cell_type": "code",
      "source": [
        "import numpy as np\n",
        "import matplotlib.pyplot as plt\n",
        "\n",
        "# Compute the x and y coordinates for points on sine and cosine curves\n",
        "x = np.arange(0, 3 * np.pi, 0.1)\n",
        "y_sin = np.sin(x)\n",
        "y_cos = np.cos(x)\n",
        "\n",
        "# Plot the points using matplotlib\n",
        "plt.plot(x, y_sin)\n",
        "plt.plot(x, y_cos)\n",
        "plt.xlabel('x axis label')\n",
        "plt.ylabel('y axis label')\n",
        "plt.title('Sine and Cosine')\n",
        "plt.legend(['Sine', 'Cosine'])\n",
        "plt.show()"
      ],
      "execution_count": null,
      "outputs": [
        {
          "output_type": "display_data",
          "data": {
            "image/png": "[encoded data removed]",
            "text/plain": [
              "<matplotlib.figure.Figure at 0x7f4e504d9590>"
            ]
          },
          "metadata": {
            "tags": []
          }
        }
      ]
    },
    {
      "metadata": {
        "id": "UMBFUf92JfYY"
      },
      "cell_type": "markdown",
      "source": [
        "You can read much more about the `plot` function [in the documentation](http://matplotlib.org/api/pyplot_api.html#matplotlib.pyplot.plot).\n",
        "\n",
        "##Subplots\n",
        "\n",
        "You can plot different things in the same figure using the `subplot` function. Here is an example:"
      ]
    },
    {
      "metadata": {
        "id": "ckAH_ANMJ5yn",
        "colab": {
          "base_uri": "https://localhost:8080/",
          "height": 362
        },
        "outputId": "8b431f7c-a5a8-4302-8ebd-34fb312bbad5"
      },
      "cell_type": "code",
      "source": [
        "import numpy as np\n",
        "import matplotlib.pyplot as plt\n",
        "\n",
        "# Compute the x and y coordinates for points on sine and cosine curves\n",
        "x = np.arange(0, 3 * np.pi, 0.1)\n",
        "y_sin = np.sin(x)\n",
        "y_cos = np.cos(x)\n",
        "\n",
        "# Set up a subplot grid that has height 2 and width 1,\n",
        "# and set the first such subplot as active.\n",
        "plt.subplot(2, 1, 1)\n",
        "\n",
        "# Make the first plot\n",
        "plt.plot(x, y_sin)\n",
        "plt.title('Sine')\n",
        "\n",
        "# Set the second subplot as active, and make the second plot.\n",
        "plt.subplot(2, 1, 2)\n",
        "plt.plot(x, y_cos)\n",
        "plt.title('Cosine')\n",
        "\n",
        "# Show the figure.\n",
        "plt.show()"
      ],
      "execution_count": null,
      "outputs": [
        {
          "output_type": "display_data",
          "data": {
            "image/png": "[encoded data removed]",
            "text/plain": [
              "<matplotlib.figure.Figure at 0x7f4e504eb090>"
            ]
          },
          "metadata": {
            "tags": []
          }
        }
      ]
    },
    {
      "cell_type": "code",
      "source": [
        "import numpy as np\n",
        "\n",
        "array = np.random.random((5, 4))\n",
        "print(array)\n",
        "print(array[2:, 1:])"
      ],
      "metadata": {
        "id": "C5cUaS5TKMfm",
        "outputId": "573afd7e-9865-4b02-eaed-582454644c98",
        "colab": {
          "base_uri": "https://localhost:8080/"
        }
      },
      "execution_count": null,
      "outputs": [
        {
          "output_type": "stream",
          "name": "stdout",
          "text": [
            "[[0.03946771 0.17772451 0.35804598 0.24977343]\n",
            " [0.21346646 0.98684172 0.01333693 0.04387639]\n",
            " [0.78915724 0.68256259 0.86655066 0.56401796]\n",
            " [0.74585388 0.15484104 0.17428738 0.30932682]\n",
            " [0.04327981 0.4926917  0.9299635  0.22447662]]\n",
            "[[0.68256259 0.86655066 0.56401796]\n",
            " [0.15484104 0.17428738 0.30932682]\n",
            " [0.4926917  0.9299635  0.22447662]]\n"
          ]
        }
      ]
    },
    {
      "cell_type": "code",
      "source": [],
      "metadata": {
        "id": "dXzvVcDYOTzz"
      },
      "execution_count": null,
      "outputs": []
    },
    {
      "cell_type": "code",
      "source": [
        "def perfect (x):\n",
        "  sum = 0\n",
        "  for i in range(x + 1):\n",
        "    if i % x == 0:\n",
        "      sum += i\n",
        "\n",
        "  return sum == x\n",
        "\n",
        "print(perfect(28))"
      ],
      "metadata": {
        "id": "caoAJ4v8LKdR",
        "outputId": "3dd064ab-4f26-4e7e-f37c-2ed778ace3a0",
        "colab": {
          "base_uri": "https://localhost:8080/"
        }
      },
      "execution_count": null,
      "outputs": [
        {
          "output_type": "stream",
          "name": "stdout",
          "text": [
            "True\n"
          ]
        }
      ]
    },
    {
      "cell_type": "code",
      "source": [
        "class Example:\n",
        "  def __init__ (self, text):\n",
        "    text = text.lower()\n",
        "    text = text.replace(\",\", \"\").replace(\".\", \"\").replace(\"!\", \"\").replace(\"?\", \"\")\n",
        "\n",
        "    self.fmtSelf = text\n",
        "\n",
        "  def strLength(self):\n",
        "    return len(self.fmtSelf)\n",
        "\n",
        "test = Example(\",,,,!!!....???Morning!\")\n",
        "print(test.fmtSelf)\n",
        "print(test.strLength())"
      ],
      "metadata": {
        "id": "C8VpxO2xMAtN",
        "outputId": "1db6c67f-c9f9-4de0-a502-3a140ce5b38d",
        "colab": {
          "base_uri": "https://localhost:8080/"
        }
      },
      "execution_count": null,
      "outputs": [
        {
          "output_type": "stream",
          "name": "stdout",
          "text": [
            "morning\n",
            "7\n"
          ]
        }
      ]
    },
    {
      "metadata": {
        "id": "YSELflXHJ-6E"
      },
      "cell_type": "markdown",
      "source": [
        "You can read much more about the `subplot` function [in the documentation](http://matplotlib.org/api/pyplot_api.html#matplotlib.pyplot.subplot)."
      ]
    }
  ]
}